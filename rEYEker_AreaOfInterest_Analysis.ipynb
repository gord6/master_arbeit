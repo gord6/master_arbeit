{
 "cells": [
  {
   "cell_type": "markdown",
   "metadata": {},
   "source": [
    "# Areas of Interest Data Analysis"
   ]
  },
  {
   "cell_type": "code",
   "execution_count": 1,
   "metadata": {},
   "outputs": [],
   "source": [
    "# lib for dataframes\n",
    "import pandas as pd\n",
    "\n",
    "from scipy import stats\n",
    "\n",
    "from chord import Chord"
   ]
  },
  {
   "cell_type": "markdown",
   "metadata": {},
   "source": [
    "Config"
   ]
  },
  {
   "cell_type": "code",
   "execution_count": 2,
   "metadata": {},
   "outputs": [],
   "source": [
    "config_datasheet = r'./results/data_of_all_removed.xlsx'"
   ]
  },
  {
   "cell_type": "markdown",
   "metadata": {},
   "source": [
    "Import Dataframe"
   ]
  },
  {
   "cell_type": "code",
   "execution_count": 3,
   "metadata": {},
   "outputs": [],
   "source": [
    "df_array = []\n",
    "df = pd.read_excel(config_datasheet)"
   ]
  },
  {
   "cell_type": "markdown",
   "metadata": {},
   "source": [
    "Prepare Image Paths"
   ]
  },
  {
   "cell_type": "code",
   "execution_count": 4,
   "metadata": {},
   "outputs": [],
   "source": [
    "algo_name_array = df[\"Algorithm\"].unique()\n",
    "aoi_cat_path_array = []\n",
    "\n",
    "for algo_name in algo_name_array:\n",
    "    aoi = 'data/aoi_categorized/AOI_' + algo_name + '.xlsx'\n",
    "    aoi_cat_path_array.append(aoi)\n",
    "    df_array.append(df.loc[df[\"Algorithm\"]==algo_name])"
   ]
  },
  {
   "cell_type": "markdown",
   "metadata": {},
   "source": [
    "Load AOI to dataframe"
   ]
  },
  {
   "cell_type": "code",
   "execution_count": 5,
   "metadata": {},
   "outputs": [],
   "source": [
    "aoi_df_array = []\n",
    "for path in aoi_cat_path_array:\n",
    "    raw = pd.read_excel(path)\n",
    "    tmp_df = pd.DataFrame(raw)\n",
    "    aoi_df_array.append(tmp_df)"
   ]
  },
  {
   "cell_type": "markdown",
   "metadata": {},
   "source": [
    "Cast Data to Valid format"
   ]
  },
  {
   "cell_type": "code",
   "execution_count": 1,
   "metadata": {},
   "outputs": [],
   "source": [
    "#cast data to valid format\n",
    "def to_valid(string_points: str):\n",
    "    string_points = string_points.strip()\n",
    "    coordinate_str_array = string_points.split(\" \")\n",
    "    coordinates = []\n",
    "    for coordinate_str in coordinate_str_array:\n",
    "        coordinate = coordinate_str.split(\"-\")\n",
    "        coordinate = (int(coordinate[1]))\n",
    "        coordinates.append(coordinate) \n",
    "    return coordinates"
   ]
  },
  {
   "cell_type": "code",
   "execution_count": 2,
   "metadata": {},
   "outputs": [],
   "source": [
    "aoi_names = ['none', 'main', 'definition', 'pre calculation', 'if condition', 'if step', 'iteration condition', 'iteration step', 'return result']\n",
    "order = ['0', '1', '2', '3', '4', '5', '6', '7', '8']"
   ]
  },
  {
   "cell_type": "code",
   "execution_count": 3,
   "metadata": {},
   "outputs": [],
   "source": [
    "def is_in(df, y):\n",
    "    for _idx, row in df.iterrows():\n",
    "        if row[\"startHeight\"] <= y <= row[\"stopHeight\"]:\n",
    "            return row[\"Name\"]\n",
    "    return \"none\""
   ]
  },
  {
   "cell_type": "code",
   "execution_count": 4,
   "metadata": {},
   "outputs": [
    {
     "ename": "NameError",
     "evalue": "name 'df_array' is not defined",
     "output_type": "error",
     "traceback": [
      "\u001b[1;31m---------------------------------------------------------------------------\u001b[0m",
      "\u001b[1;31mNameError\u001b[0m                                 Traceback (most recent call last)",
      "\u001b[1;32m<ipython-input-4-9753d16ed504>\u001b[0m in \u001b[0;36m<module>\u001b[1;34m\u001b[0m\n\u001b[0;32m      2\u001b[0m \u001b[1;33m\u001b[0m\u001b[0m\n\u001b[0;32m      3\u001b[0m \u001b[0mrelation_tensor\u001b[0m \u001b[1;33m=\u001b[0m \u001b[1;33m[\u001b[0m\u001b[1;33m]\u001b[0m\u001b[1;33m\u001b[0m\u001b[1;33m\u001b[0m\u001b[0m\n\u001b[1;32m----> 4\u001b[1;33m \u001b[1;32mfor\u001b[0m \u001b[0midx\u001b[0m\u001b[1;33m,\u001b[0m \u001b[0mtmp_df\u001b[0m \u001b[1;32min\u001b[0m \u001b[0menumerate\u001b[0m\u001b[1;33m(\u001b[0m\u001b[0mdf_array\u001b[0m\u001b[1;33m)\u001b[0m\u001b[1;33m:\u001b[0m\u001b[1;33m\u001b[0m\u001b[1;33m\u001b[0m\u001b[0m\n\u001b[0m\u001b[0;32m      5\u001b[0m     \u001b[0mrelation\u001b[0m \u001b[1;33m=\u001b[0m \u001b[1;33m[\u001b[0m\u001b[1;33m]\u001b[0m\u001b[1;33m\u001b[0m\u001b[1;33m\u001b[0m\u001b[0m\n\u001b[0;32m      6\u001b[0m \u001b[1;33m\u001b[0m\u001b[0m\n",
      "\u001b[1;31mNameError\u001b[0m: name 'df_array' is not defined"
     ]
    }
   ],
   "source": [
    "cols = [\"startHeight\", \"stopHeight\", \"startWidth\", \"stopWidth\", \"Name\"]\n",
    "\n",
    "relation_tensor = []\n",
    "for idx, tmp_df in enumerate(df_array):\n",
    "    relation = []\n",
    "    \n",
    "    for i in range(len(aoi_names)):\n",
    "        relation.append([0]*len(aoi_names))\n",
    "    \n",
    "    \n",
    "    for row_idx, row in tmp_df.iterrows():\n",
    "        algo_name = row[\"Algorithm\"]\n",
    "        \n",
    "        aoi_df = aoi_df_array[algo_name_array.tolist().index(algo_name)]\n",
    "        click_data = row[\"ClickData\"] \n",
    "        click_data = to_valid(click_data)\n",
    "        labels = [is_in(aoi_df, coord) for coord in click_data]\n",
    "        \n",
    "        for i in range(len(labels)-1):\n",
    "            from_node = aoi_names.index(labels[i])\n",
    "            to_node = aoi_names.index(labels[i+1])\n",
    "            \n",
    "            relation[from_node][to_node] += 1\n",
    "    relation_tensor.append(relation)"
   ]
  },
  {
   "cell_type": "code",
   "execution_count": 10,
   "metadata": {},
   "outputs": [],
   "source": [
    "import numpy as np\n",
    "\n",
    "for matrix in relation_tensor:\n",
    "    for idx in range(len(matrix)):\n",
    "        matrix[idx][idx] = 0\n",
    "        \n",
    "tensor = [np.array(matrix)[1:, 1:].tolist() for matrix in relation_tensor]\n",
    "order = ['Main', 'Definition', 'Pre Calculation', 'If Condition', 'If Step', 'Iteration Condition', 'Iteration Step', 'Result']\n",
    "#order = ['1', '2', '3', '4', '5', '6', '7', '8']"
   ]
  },
  {
   "cell_type": "code",
   "execution_count": 11,
   "metadata": {},
   "outputs": [],
   "source": [
    "Chord(tensor[0], order, padding=0.1).to_html(\"tmp.html\")\n",
    "#Chord(tensor[1], order, padding=0.1).to_html(\"BI_general.html\")"
   ]
  },
  {
   "cell_type": "code",
   "execution_count": 5,
   "metadata": {},
   "outputs": [
    {
     "name": "stdout",
     "output_type": "stream",
     "text": [
      "7 5 0\n",
      "7 5 7\n",
      "5 5 7\n",
      "5 7 7\n"
     ]
    }
   ],
   "source": []
  }
 ],
 "metadata": {
  "kernelspec": {
   "display_name": "Python 3",
   "language": "python",
   "name": "python3"
  },
  "language_info": {
   "codemirror_mode": {
    "name": "ipython",
    "version": 3
   },
   "file_extension": ".py",
   "mimetype": "text/x-python",
   "name": "python",
   "nbconvert_exporter": "python",
   "pygments_lexer": "ipython3",
   "version": "3.8.8"
  }
 },
 "nbformat": 4,
 "nbformat_minor": 4
}
