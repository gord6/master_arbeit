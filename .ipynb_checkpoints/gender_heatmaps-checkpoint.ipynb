{
 "cells": [
  {
   "cell_type": "code",
   "execution_count": 1,
   "metadata": {},
   "outputs": [],
   "source": [
    "import pandas as pd\n",
    "import modules.rEYEkerAnalysis as rEYEker\n",
    "import modules.semanticClassifier as semCls\n",
    "import modules.clickSettings as clk"
   ]
  },
  {
   "cell_type": "code",
   "execution_count": 2,
   "metadata": {
    "scrolled": true
   },
   "outputs": [],
   "source": [
    "df = pd.read_excel('Book4.xlsx', skiprows=[1])\n",
    "#df.head(10)"
   ]
  },
  {
   "cell_type": "markdown",
   "metadata": {},
   "source": [
    "# Gender Stats"
   ]
  },
  {
   "cell_type": "code",
   "execution_count": 3,
   "metadata": {},
   "outputs": [
    {
     "data": {
      "text/plain": [
       "male      84\n",
       "female    22\n",
       "other      1\n",
       "Name: PD07, dtype: int64"
      ]
     },
     "execution_count": 3,
     "metadata": {},
     "output_type": "execute_result"
    }
   ],
   "source": [
    "pd07dict = {1:\"male\", 2:\"female\", 3:\"other\", -9:\"not answered\"}\n",
    "df['PD07'].value_counts().rename(index=pd07dict)"
   ]
  },
  {
   "cell_type": "markdown",
   "metadata": {},
   "source": [
    "# Utility"
   ]
  },
  {
   "cell_type": "code",
   "execution_count": 4,
   "metadata": {},
   "outputs": [],
   "source": [
    "def to_click_vector(click_str):\n",
    "    click_data = []\n",
    "    click_str = click_str.strip();\n",
    "    coordinates_str = click_str.split(\" \")\n",
    "    coordinates = []\n",
    "    for coordinate_str in coordinates_str:\n",
    "        coordinate = coordinate_str.split(\"-\")\n",
    "        coordinate = (int(coordinate[0]), int(coordinate[1]))\n",
    "        coordinates.append(coordinate)\n",
    "    click_data.append(coordinates)\n",
    "    \n",
    "    return click_data\n",
    "\n",
    "click_setting = clk.ClickSettings()\n",
    "#adjust to\n",
    "click_setting.minimal_width = 200\n",
    "click_setting.minimal_height = 10\n",
    "click_setting.grad_radius = 20\n",
    "\n",
    "def generate_heatmaps(image, clks, df, indexes, column_name):\n",
    "    heat_maps = []\n",
    "    for i in indexes:\n",
    "        click_str = df.at[i, column_name]\n",
    "        click_vector = to_click_vector(click_str)\n",
    "        data = click_vector\n",
    "        heat_map = rEYEker.draw_shape_heat_map(image, 0, len(data[0]), data[0], clks, should_copy=True)\n",
    "        heat_maps.append(heat_map)\n",
    "    return heat_maps;\n",
    "\n",
    "def display_all(heatmaps):\n",
    "    for heatmap in heatmaps:\n",
    "        rEYEker.display(heatmap, normal_size = True, axis_on=False)\n",
    "\n",
    "def save_all(heatmaps, df, path):\n",
    "    n = 0\n",
    "    for i in df.index:\n",
    "        rEYEker.save(heatmaps[n], path + \"_\" + str(df.at[i,'CASE']) + \".PNG\")\n",
    "        n += 1\n"
   ]
  },
  {
   "cell_type": "markdown",
   "metadata": {},
   "source": [
    "# Common Variables"
   ]
  },
  {
   "cell_type": "code",
   "execution_count": 5,
   "metadata": {},
   "outputs": [],
   "source": [
    "# analysis population samples\n",
    "participant = 'Participant'\n",
    "\n",
    "# approaches\n",
    "tr = 'TR' # top recursive\n",
    "br = 'BR' # bottom down recursive\n",
    "ti = 'TI' # top down iterative\n",
    "bi = 'BI' # bottom up iterative\n",
    "#algorithms\n",
    "bubble = 'bubblesort'\n",
    "factorial = 'factorial'\n",
    "fibonacci = 'fibonacci'\n",
    "rstring = 'rstring'\n",
    "#image paths\n",
    "bsort = \"images\\\\{}\\\\{}_BubbleSort.PNG\"\n",
    "fct = \"images\\\\{}\\\\{}_Factorial.PNG\"\n",
    "fib = \"images\\\\{}\\\\{}_Fibonacci.PNG\"\n",
    "rs = \"images\\\\{}\\\\{}_ReverseString.PNG\"\n"
   ]
  },
  {
   "cell_type": "markdown",
   "metadata": {},
   "source": [
    "# Female and Male Samples"
   ]
  },
  {
   "cell_type": "code",
   "execution_count": 6,
   "metadata": {},
   "outputs": [],
   "source": [
    "#df_female = df.loc[df['PD07'] == 2.0]\n",
    "#df_male = df.loc[df['PD07'] == 1.0]"
   ]
  },
  {
   "cell_type": "markdown",
   "metadata": {},
   "source": [
    "# TR18_01 ClickVector TopDownRecursive bubble sort"
   ]
  },
  {
   "cell_type": "code",
   "execution_count": null,
   "metadata": {
    "pycharm": {
     "is_executing": true
    }
   },
   "outputs": [],
   "source": [
    "col = tr + '18_01' \n",
    "df_tr_bsort = df.loc[df[col].notna()]\n",
    "\n",
    "image = rEYEker.load_image(bsort.format(tr,tr))\n",
    "\n",
    "heatmaps = generate_heatmaps(image, click_setting, df_tr_bsort, df_tr_bsort.index, col)\n"
   ]
  },
  {
   "cell_type": "code",
   "execution_count": null,
   "metadata": {
    "pycharm": {
     "is_executing": true
    }
   },
   "outputs": [],
   "source": [
    "%%capture\n",
    "save_all(heatmaps, df_tr_bsort_fem, \"images\\\\heatmaps\\\\bubblesort\\\\TR\\\\bubbleSort_{}_{}\".format(tr,participant))"
   ]
  },
  {
   "cell_type": "code",
   "execution_count": null,
   "metadata": {
    "pycharm": {
     "is_executing": true
    }
   },
   "outputs": [],
   "source": []
  },
  {
   "cell_type": "code",
   "execution_count": null,
   "metadata": {
    "pycharm": {
     "is_executing": true
    }
   },
   "outputs": [],
   "source": []
  },
  {
   "cell_type": "markdown",
   "metadata": {},
   "source": [
    "# TR19_01 ClickVector TopDownRecursive factorial"
   ]
  },
  {
   "cell_type": "code",
   "execution_count": null,
   "metadata": {
    "pycharm": {
     "is_executing": true
    }
   },
   "outputs": [],
   "source": [
    "col = tr + '19_01'\n",
    "df_tr_fct = df.loc[df[col].notna()]\n",
    "\n",
    "image = rEYEker.load_image(fct.format(tr,tr))\n",
    "\n",
    "heatmaps = generate_heatmaps(image, click_setting, df_tr_fct, df_tr_fct.index, col)\n"
   ]
  },
  {
   "cell_type": "code",
   "execution_count": null,
   "metadata": {
    "pycharm": {
     "is_executing": true
    }
   },
   "outputs": [],
   "source": [
    "%%capture\n",
    "save_all(heatmaps, df_tr_fct, \"images\\\\heatmaps\\\\factorial\\\\TR\\\\factorial_{}_{}\".format(tr,participant))"
   ]
  },
  {
   "cell_type": "code",
   "execution_count": null,
   "metadata": {
    "pycharm": {
     "is_executing": true
    }
   },
   "outputs": [],
   "source": []
  },
  {
   "cell_type": "code",
   "execution_count": null,
   "metadata": {
    "pycharm": {
     "is_executing": true
    }
   },
   "outputs": [],
   "source": []
  },
  {
   "cell_type": "markdown",
   "metadata": {},
   "source": [
    "# TR20_01 ClickVector TopDownRecursive fibonacci"
   ]
  },
  {
   "cell_type": "code",
   "execution_count": null,
   "metadata": {
    "pycharm": {
     "is_executing": true
    }
   },
   "outputs": [],
   "source": [
    "col = tr + '20_01'\n",
    "df_tr_fib = df.loc[df[col].notna()]\n",
    "\n",
    "image = rEYEker.load_image(fib.format(tr,tr))\n",
    "\n",
    "heatmaps = generate_heatmaps(image, click_setting, df_tr_fib, df_tr_fib.index, col)\n"
   ]
  },
  {
   "cell_type": "code",
   "execution_count": null,
   "metadata": {
    "pycharm": {
     "is_executing": true
    }
   },
   "outputs": [],
   "source": [
    "%%capture\n",
    "save_all(heatmaps, df_tr_fib, \"images\\\\heatmaps\\\\fibonacci\\\\TR\\\\fibonacci_{}_{}\".format(tr,participant))"
   ]
  },
  {
   "cell_type": "code",
   "execution_count": null,
   "metadata": {
    "pycharm": {
     "is_executing": true
    }
   },
   "outputs": [],
   "source": []
  },
  {
   "cell_type": "code",
   "execution_count": null,
   "metadata": {
    "pycharm": {
     "is_executing": true
    }
   },
   "outputs": [],
   "source": []
  },
  {
   "cell_type": "markdown",
   "metadata": {},
   "source": [
    "# TR21_01 ClickVector TopDownRecursive reverse string"
   ]
  },
  {
   "cell_type": "code",
   "execution_count": null,
   "metadata": {
    "pycharm": {
     "is_executing": true
    }
   },
   "outputs": [],
   "source": [
    "col = tr + '21_01'\n",
    "df_tr_rs = df.loc[df[col].notna()]\n",
    "\n",
    "image = rEYEker.load_image(rs.format(tr,tr))\n",
    "\n",
    "heatmaps = generate_heatmaps(image, click_setting, df_tr_rs, df_tr_rs.index, col)\n"
   ]
  },
  {
   "cell_type": "code",
   "execution_count": null,
   "metadata": {
    "pycharm": {
     "is_executing": true
    }
   },
   "outputs": [],
   "source": [
    "%%capture\n",
    "save_all(heatmaps, df_tr_rs, \"images\\\\heatmaps\\\\reversestring\\\\TR\\\\reverse_string_{}_{}\".format(tr,paticipant))"
   ]
  },
  {
   "cell_type": "code",
   "execution_count": null,
   "metadata": {
    "pycharm": {
     "is_executing": true
    }
   },
   "outputs": [],
   "source": []
  },
  {
   "cell_type": "code",
   "execution_count": null,
   "metadata": {
    "pycharm": {
     "is_executing": true
    }
   },
   "outputs": [],
   "source": []
  },
  {
   "cell_type": "markdown",
   "metadata": {},
   "source": [
    "# TI18_01 ClickVector TopDownIterative bubble sort"
   ]
  },
  {
   "cell_type": "code",
   "execution_count": null,
   "metadata": {
    "pycharm": {
     "is_executing": true
    }
   },
   "outputs": [],
   "source": [
    "col = ti + '18_01'\n",
    "df_ti_bsort = df.loc[df[col].notna()]\n",
    "\n",
    "image = rEYEker.load_image(bsort.format(ti,ti))\n",
    "\n",
    "heatmaps = generate_heatmaps(image, click_setting, df_ti_bsort, df_ti_bsort.index, col)\n"
   ]
  },
  {
   "cell_type": "code",
   "execution_count": null,
   "metadata": {
    "pycharm": {
     "is_executing": true
    }
   },
   "outputs": [],
   "source": [
    "%%capture\n",
    "save_all(heatmaps, df_ti_bsort, \"images\\\\heatmaps\\\\bubblesort\\\\TI\\\\bubbleSort_{}_{}\".format(ti,paticipant))"
   ]
  },
  {
   "cell_type": "code",
   "execution_count": null,
   "metadata": {
    "pycharm": {
     "is_executing": true
    }
   },
   "outputs": [],
   "source": []
  },
  {
   "cell_type": "code",
   "execution_count": null,
   "metadata": {
    "pycharm": {
     "is_executing": true
    }
   },
   "outputs": [],
   "source": []
  },
  {
   "cell_type": "markdown",
   "metadata": {},
   "source": [
    "# TI19_01 ClickVector TopDownIterative factorial"
   ]
  },
  {
   "cell_type": "code",
   "execution_count": null,
   "metadata": {
    "pycharm": {
     "is_executing": true
    }
   },
   "outputs": [],
   "source": [
    "col = ti + '19_01'\n",
    "df_ti_fct = df.loc[df[col].notna()]\n",
    "\n",
    "image = rEYEker.load_image(fct.format(ti,ti))\n",
    "\n",
    "heatmaps = generate_heatmaps(image, click_setting, df_ti_fct, df_ti_fct.index, col)\n"
   ]
  },
  {
   "cell_type": "code",
   "execution_count": null,
   "metadata": {
    "pycharm": {
     "is_executing": true
    }
   },
   "outputs": [],
   "source": [
    "%%capture\n",
    "save_all(heatmaps, df_ti_fct, \"images\\\\heatmaps\\\\factorial\\\\TI\\\\factorial_{}_{}\".format(ti,paticipant))"
   ]
  },
  {
   "cell_type": "code",
   "execution_count": null,
   "metadata": {
    "pycharm": {
     "is_executing": true
    }
   },
   "outputs": [],
   "source": []
  },
  {
   "cell_type": "code",
   "execution_count": null,
   "metadata": {
    "pycharm": {
     "is_executing": true
    }
   },
   "outputs": [],
   "source": []
  },
  {
   "cell_type": "markdown",
   "metadata": {},
   "source": [
    "# TI20_01 ClickVector TopDownIterative fibonacci"
   ]
  },
  {
   "cell_type": "code",
   "execution_count": null,
   "metadata": {
    "pycharm": {
     "is_executing": true
    }
   },
   "outputs": [],
   "source": [
    "col = ti + '20_01'\n",
    "df_ti_fib = df.loc[df[col].notna()]\n",
    "\n",
    "image = rEYEker.load_image(fib.format(ti,ti))\n",
    "\n",
    "heatmaps = generate_heatmaps(image, click_setting, df_ti_fib, df_ti_fib.index, col)\n"
   ]
  },
  {
   "cell_type": "code",
   "execution_count": null,
   "metadata": {
    "pycharm": {
     "is_executing": true
    }
   },
   "outputs": [],
   "source": [
    "%%capture\n",
    "save_all(heatmaps, df_ti_fib, \"images\\\\heatmaps\\\\fibonacci\\\\TI\\\\fibonacci_{}_{}\".format(ti,female))"
   ]
  },
  {
   "cell_type": "code",
   "execution_count": null,
   "metadata": {
    "pycharm": {
     "is_executing": true
    }
   },
   "outputs": [],
   "source": []
  },
  {
   "cell_type": "code",
   "execution_count": null,
   "metadata": {
    "pycharm": {
     "is_executing": true
    }
   },
   "outputs": [],
   "source": []
  },
  {
   "cell_type": "markdown",
   "metadata": {},
   "source": [
    "# TI21_01 ClickVector TopDownIterative reverse string"
   ]
  },
  {
   "cell_type": "code",
   "execution_count": null,
   "metadata": {
    "pycharm": {
     "is_executing": true
    }
   },
   "outputs": [],
   "source": [
    "col = ti + '21_01'\n",
    "df_ti_rs = df.loc[df[col].notna()]\n",
    "\n",
    "image = rEYEker.load_image(rs.format(ti,ti))\n",
    "\n",
    "heatmaps = generate_heatmaps(image, click_setting, df_ti_rs, df_ti_rs.index, col)\n"
   ]
  },
  {
   "cell_type": "code",
   "execution_count": null,
   "metadata": {
    "pycharm": {
     "is_executing": true
    }
   },
   "outputs": [],
   "source": [
    "%%capture\n",
    "save_all(heatmaps, df_ti_rs, \"images\\\\heatmaps\\\\reversestring\\\\TI\\\\reverse_string_{}_{}\".format(ti,female))"
   ]
  },
  {
   "cell_type": "code",
   "execution_count": null,
   "metadata": {
    "pycharm": {
     "is_executing": true
    }
   },
   "outputs": [],
   "source": []
  },
  {
   "cell_type": "code",
   "execution_count": null,
   "metadata": {
    "pycharm": {
     "is_executing": true
    }
   },
   "outputs": [],
   "source": []
  },
  {
   "cell_type": "markdown",
   "metadata": {},
   "source": [
    "# BR18_01 ClickVector BottomUpRecursive bubble sort"
   ]
  },
  {
   "cell_type": "code",
   "execution_count": null,
   "metadata": {
    "pycharm": {
     "is_executing": true
    }
   },
   "outputs": [],
   "source": [
    "col = br + '18_01'\n",
    "df_br_bsort = df.loc[df[col].notna()]\n",
    "\n",
    "\n",
    "image = rEYEker.load_image(bsort.format(br,br))\n",
    "\n",
    "heatmaps = generate_heatmaps(image, click_setting, df_br_bsort, df_br_bsort.index, col)\n"
   ]
  },
  {
   "cell_type": "code",
   "execution_count": null,
   "metadata": {
    "pycharm": {
     "is_executing": true
    }
   },
   "outputs": [],
   "source": [
    "%%capture\n",
    "save_all(heatmaps, df_br_bsort, \"images\\\\heatmaps\\\\bubbleSort_{}_{}\".format(br,female))"
   ]
  },
  {
   "cell_type": "code",
   "execution_count": null,
   "metadata": {
    "pycharm": {
     "is_executing": true
    }
   },
   "outputs": [],
   "source": [
    "df_br_bsort_male = df_male.loc[df_male[col].notna()]\n",
    "heatmaps = generate_heatmaps(image, click_setting, df_br_bsort_male, df_br_bsort_male.index, col)\n",
    "display_all(heatmaps)"
   ]
  },
  {
   "cell_type": "code",
   "execution_count": null,
   "metadata": {
    "pycharm": {
     "is_executing": true
    }
   },
   "outputs": [],
   "source": [
    "%%capture\n",
    "save_all(heatmaps, df_br_bsort_male, \"images\\\\heatmaps\\\\bubbleSort_{}_{}\".format(br,male))"
   ]
  },
  {
   "cell_type": "markdown",
   "metadata": {},
   "source": [
    "# BR19_01 ClickVector BottomUpRecursive factorial"
   ]
  },
  {
   "cell_type": "code",
   "execution_count": null,
   "metadata": {
    "pycharm": {
     "is_executing": true
    }
   },
   "outputs": [],
   "source": [
    "col = br + '19_01'\n",
    "df_br_fct_fem = df_female.loc[df_female[col].notna()]\n",
    "\n",
    "image = rEYEker.load_image(fct.format(br,br))\n",
    "\n",
    "heatmaps = generate_heatmaps(image, click_setting, df_br_fct_fem, df_br_fct_fem.index, col)\n",
    "display_all(heatmaps)"
   ]
  },
  {
   "cell_type": "code",
   "execution_count": null,
   "metadata": {
    "pycharm": {
     "is_executing": true
    }
   },
   "outputs": [],
   "source": [
    "%%capture\n",
    "save_all(heatmaps, df_br_fct_fem, \"images\\\\heatmaps\\\\factorial_{}_{}\".format(br,female))"
   ]
  },
  {
   "cell_type": "code",
   "execution_count": null,
   "metadata": {
    "pycharm": {
     "is_executing": true
    }
   },
   "outputs": [],
   "source": [
    "df_br_fct_male = df_male.loc[df_male[col].notna()]\n",
    "heatmaps = generate_heatmaps(image, click_setting, df_br_fct_male, df_br_fct_male.index, col)\n",
    "display_all(heatmaps)"
   ]
  },
  {
   "cell_type": "code",
   "execution_count": null,
   "metadata": {
    "pycharm": {
     "is_executing": true
    }
   },
   "outputs": [],
   "source": [
    "%%capture\n",
    "save_all(heatmaps, df_br_fct_male, \"images\\\\heatmaps\\\\factorial_{}_{}\".format(br,male))"
   ]
  },
  {
   "cell_type": "markdown",
   "metadata": {},
   "source": [
    "# BR20_01 ClickVector BottomUpRecursive fibonacci"
   ]
  },
  {
   "cell_type": "code",
   "execution_count": null,
   "metadata": {
    "pycharm": {
     "is_executing": true
    }
   },
   "outputs": [],
   "source": [
    "col = br + '20_01'\n",
    "df_br_fib_fem = df_female.loc[df_female[col].notna()]\n",
    "\n",
    "image = rEYEker.load_image(fib.format(br,br))\n",
    "\n",
    "heatmaps = generate_heatmaps(image, click_setting, df_br_fib_fem, df_br_fib_fem.index, col)\n",
    "display_all(heatmaps)"
   ]
  },
  {
   "cell_type": "code",
   "execution_count": null,
   "metadata": {
    "pycharm": {
     "is_executing": true
    }
   },
   "outputs": [],
   "source": [
    "%%capture\n",
    "save_all(heatmaps, df_br_fib_fem, \"images\\\\heatmaps\\\\fibonacci_{}_{}\".format(br,female))"
   ]
  },
  {
   "cell_type": "code",
   "execution_count": null,
   "metadata": {
    "pycharm": {
     "is_executing": true
    }
   },
   "outputs": [],
   "source": [
    "col = br + '20_01'\n",
    "df_br_fib_male = df_male.loc[df_male[col].notna()]\n",
    "heatmaps = generate_heatmaps(image, click_setting, df_br_fib_male, df_br_fib_male.index, col)\n",
    "display_all(heatmaps)"
   ]
  },
  {
   "cell_type": "code",
   "execution_count": null,
   "metadata": {
    "pycharm": {
     "is_executing": true
    }
   },
   "outputs": [],
   "source": [
    "%%capture\n",
    "save_all(heatmaps, df_br_fib_male, \"images\\\\heatmaps\\\\fibonacci_{}_{}\".format(br,male))"
   ]
  },
  {
   "cell_type": "markdown",
   "metadata": {},
   "source": [
    "# BR21_01 ClickVector BottomUpRecursive reverse string"
   ]
  },
  {
   "cell_type": "code",
   "execution_count": null,
   "metadata": {
    "pycharm": {
     "is_executing": true
    }
   },
   "outputs": [],
   "source": [
    "col = br + '21_01'\n",
    "df_br_rs_fem = df_female.loc[df_female[col].notna()]\n",
    "\n",
    "image = rEYEker.load_image(rs.format(br,br))\n",
    "\n",
    "heatmaps = generate_heatmaps(image, click_setting, df_br_rs_fem, df_br_rs_fem.index, col)\n",
    "display_all(heatmaps)"
   ]
  },
  {
   "cell_type": "code",
   "execution_count": null,
   "metadata": {
    "pycharm": {
     "is_executing": true
    }
   },
   "outputs": [],
   "source": [
    "%%capture\n",
    "save_all(heatmaps, df_br_rs_fem, \"images\\\\heatmaps\\\\reverse_string_{}_{}\".format(br,female))"
   ]
  },
  {
   "cell_type": "code",
   "execution_count": null,
   "metadata": {
    "pycharm": {
     "is_executing": true
    }
   },
   "outputs": [],
   "source": [
    "df_br_rs_male = df_male.loc[df_male[col].notna()]\n",
    "heatmaps = generate_heatmaps(image, click_setting, df_br_rs_male, df_br_rs_male.index, col)\n",
    "display_all(heatmaps)"
   ]
  },
  {
   "cell_type": "code",
   "execution_count": null,
   "metadata": {
    "pycharm": {
     "is_executing": true
    }
   },
   "outputs": [],
   "source": [
    "%%capture\n",
    "save_all(heatmaps, df_br_rs_male, \"images\\\\heatmaps\\\\reverse_string_{}_{}\".format(br,male))"
   ]
  },
  {
   "cell_type": "markdown",
   "metadata": {},
   "source": [
    "# BI18_01 ClickVector BottomUpIterative bubble sort"
   ]
  },
  {
   "cell_type": "code",
   "execution_count": null,
   "metadata": {
    "pycharm": {
     "is_executing": true
    }
   },
   "outputs": [],
   "source": [
    "col = bi + '18_01'\n",
    "df_bi_bsort_fem = df_female.loc[df_female[col].notna()]\n",
    "\n",
    "image = rEYEker.load_image(bsort.format(bi,bi))\n",
    "\n",
    "heatmaps = generate_heatmaps(image, click_setting, df_bi_bsort_fem, df_bi_bsort_fem.index, col)\n",
    "display_all(heatmaps)"
   ]
  },
  {
   "cell_type": "code",
   "execution_count": null,
   "metadata": {
    "pycharm": {
     "is_executing": true
    }
   },
   "outputs": [],
   "source": [
    "%%capture\n",
    "save_all(heatmaps, df_bi_bsort_fem, \"images\\\\heatmaps\\\\bubbleSort_{}_{}\".format(bi,female))"
   ]
  },
  {
   "cell_type": "code",
   "execution_count": null,
   "metadata": {
    "pycharm": {
     "is_executing": true
    }
   },
   "outputs": [],
   "source": [
    "df_bi_bsort_male = df_male.loc[df_male[col].notna()]\n",
    "heatmaps = generate_heatmaps(image, click_setting, df_bi_bsort_male, df_bi_bsort_male.index, col)\n",
    "display_all(heatmaps)"
   ]
  },
  {
   "cell_type": "code",
   "execution_count": null,
   "metadata": {
    "pycharm": {
     "is_executing": true
    }
   },
   "outputs": [],
   "source": [
    "%%capture\n",
    "save_all(heatmaps, df_bi_bsort_male, \"images\\\\heatmaps\\\\bubbleSort_{}_{}\".format(bi,male))"
   ]
  },
  {
   "cell_type": "markdown",
   "metadata": {},
   "source": [
    "# BI19_01 ClickVector BottomUpIterative factorial"
   ]
  },
  {
   "cell_type": "code",
   "execution_count": null,
   "metadata": {
    "pycharm": {
     "is_executing": true
    }
   },
   "outputs": [],
   "source": [
    "col = bi + '19_01'\n",
    "df_bi_fct_fem = df_female.loc[df_female[col].notna()]\n",
    "\n",
    "image = rEYEker.load_image(fct.format(bi,bi))\n",
    "\n",
    "heatmaps = generate_heatmaps(image, click_setting, df_bi_fct_fem, df_bi_fct_fem.index, col)\n",
    "display_all(heatmaps)"
   ]
  },
  {
   "cell_type": "code",
   "execution_count": null,
   "metadata": {
    "pycharm": {
     "is_executing": true
    }
   },
   "outputs": [],
   "source": [
    "%%capture\n",
    "save_all(heatmaps, df_bi_fct_fem, \"images\\\\heatmaps\\\\factorial_{}_{}\".format(bi,female))"
   ]
  },
  {
   "cell_type": "code",
   "execution_count": null,
   "metadata": {
    "pycharm": {
     "is_executing": true
    }
   },
   "outputs": [],
   "source": [
    "df_bi_fct_male = df_male.loc[df_male[col].notna()]\n",
    "heatmaps = generate_heatmaps(image, click_setting, df_bi_fct_male, df_bi_fct_male.index, col)\n",
    "display_all(heatmaps)"
   ]
  },
  {
   "cell_type": "code",
   "execution_count": null,
   "metadata": {
    "pycharm": {
     "is_executing": true
    }
   },
   "outputs": [],
   "source": [
    "%%capture\n",
    "save_all(heatmaps, df_bi_fct_male, \"images\\\\heatmaps\\\\factorial_{}_{}\".format(bi,male))"
   ]
  },
  {
   "cell_type": "markdown",
   "metadata": {},
   "source": [
    "# BI20_01 ClickVector BottomUpIterative fibonacci"
   ]
  },
  {
   "cell_type": "code",
   "execution_count": null,
   "metadata": {
    "pycharm": {
     "is_executing": true
    }
   },
   "outputs": [],
   "source": [
    "col = bi + '20_01'\n",
    "df_bi_fib_fem = df_female.loc[df_female[col].notna()]\n",
    "\n",
    "image = rEYEker.load_image(fib.format(bi,bi))\n",
    "\n",
    "heatmaps = generate_heatmaps(image, click_setting, df_bi_fib_fem, df_bi_fib_fem.index, col)\n",
    "display_all(heatmaps)"
   ]
  },
  {
   "cell_type": "code",
   "execution_count": null,
   "metadata": {
    "pycharm": {
     "is_executing": true
    }
   },
   "outputs": [],
   "source": [
    "%%capture\n",
    "save_all(heatmaps, df_bi_fib_fem, \"images\\\\heatmaps\\\\fibonacci_{}_{}\".format(bi,female))"
   ]
  },
  {
   "cell_type": "code",
   "execution_count": null,
   "metadata": {
    "pycharm": {
     "is_executing": true
    }
   },
   "outputs": [],
   "source": [
    "df_bi_fib_male = df_male.loc[df_male[col].notna()]\n",
    "heatmaps = generate_heatmaps(image, click_setting, df_bi_fib_male, df_bi_fib_male.index, col)\n",
    "display_all(heatmaps)"
   ]
  },
  {
   "cell_type": "code",
   "execution_count": null,
   "metadata": {
    "pycharm": {
     "is_executing": true
    }
   },
   "outputs": [],
   "source": [
    "%%capture\n",
    "save_all(heatmaps, df_bi_fib_male, \"images\\\\heatmaps\\\\fibonacci_{}_{}\".format(bi,male))"
   ]
  },
  {
   "cell_type": "markdown",
   "metadata": {},
   "source": [
    "# BI21_01 ClickVector TopDownIterative reverse string"
   ]
  },
  {
   "cell_type": "code",
   "execution_count": null,
   "metadata": {
    "pycharm": {
     "is_executing": true
    }
   },
   "outputs": [],
   "source": [
    "col = bi + '21_01'\n",
    "df_bi_rs_fem = df_female.loc[df_female[col].notna()]\n",
    "\n",
    "image = rEYEker.load_image(rs.format(bi,bi))\n",
    "\n",
    "heatmaps = generate_heatmaps(image, click_setting, df_bi_rs_fem, df_bi_rs_fem.index, col)\n",
    "display_all(heatmaps)"
   ]
  },
  {
   "cell_type": "code",
   "execution_count": null,
   "metadata": {
    "pycharm": {
     "is_executing": true
    }
   },
   "outputs": [],
   "source": [
    "%%capture\n",
    "save_all(heatmaps, df_bi_rs_fem, \"images\\\\heatmaps\\\\reverse_string_{}_{}\".format(bi,female))"
   ]
  },
  {
   "cell_type": "code",
   "execution_count": null,
   "metadata": {
    "pycharm": {
     "is_executing": true
    }
   },
   "outputs": [],
   "source": [
    "df_bi_rs_male = df_male.loc[df_male[col].notna()]\n",
    "heatmaps = generate_heatmaps(image, click_setting, df_bi_rs_male, df_bi_rs_male.index, col)\n",
    "display_all(heatmaps)"
   ]
  },
  {
   "cell_type": "code",
   "execution_count": null,
   "metadata": {
    "pycharm": {
     "is_executing": true
    }
   },
   "outputs": [],
   "source": [
    "%%capture\n",
    "save_all(heatmaps, df_bi_rs_male, \"images\\\\heatmaps\\\\reverse_string_{}_{}\".format(bi,male))"
   ]
  },
  {
   "cell_type": "code",
   "execution_count": null,
   "metadata": {
    "pycharm": {
     "is_executing": true
    }
   },
   "outputs": [],
   "source": []
  }
 ],
 "metadata": {
  "kernelspec": {
   "display_name": "Python 3",
   "language": "python",
   "name": "python3"
  },
  "language_info": {
   "codemirror_mode": {
    "name": "ipython",
    "version": 3
   },
   "file_extension": ".py",
   "mimetype": "text/x-python",
   "name": "python",
   "nbconvert_exporter": "python",
   "pygments_lexer": "ipython3",
   "version": "3.8.5"
  }
 },
 "nbformat": 4,
 "nbformat_minor": 5
}
