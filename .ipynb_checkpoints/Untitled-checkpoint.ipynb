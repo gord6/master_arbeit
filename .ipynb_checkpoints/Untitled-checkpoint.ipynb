{
 "cells": [
  {
   "cell_type": "code",
   "execution_count": 1,
   "id": "c9910a41-0e90-4286-b89f-ed4d34e6fe38",
   "metadata": {},
   "outputs": [],
   "source": [
    "import pandas as pd\n",
    "import seaborn as sns\n",
    "import numpy as np\n",
    "import matplotlib.pyplot as plt"
   ]
  },
  {
   "cell_type": "code",
   "execution_count": 112,
   "id": "78e49481-df09-4238-a0b1-10a4193ba606",
   "metadata": {},
   "outputs": [],
   "source": [
    "config_datasheet_pre = r'./results/Pretest_Programmieraufgaben.xlsx'\n",
    "config_datasheet_post = r'./results/Posttest_Programmieraufgaben.xlsx'"
   ]
  },
  {
   "cell_type": "code",
   "execution_count": 113,
   "id": "8a6dae2b-732c-4f34-a959-bd7fcf97dece",
   "metadata": {},
   "outputs": [],
   "source": [
    "raw_pre = pd.read_excel(config_datasheet_pre)\n",
    "raw_post = pd.read_excel(config_datasheet_post)\n",
    "df_pre = pd.DataFrame(raw_pre)\n",
    "df_post = pd.DataFrame(raw_post)"
   ]
  },
  {
   "cell_type": "code",
   "execution_count": 63,
   "id": "17761156-18b5-48e7-99e2-26a8cf501aaf",
   "metadata": {},
   "outputs": [
    {
     "name": "stdout",
     "output_type": "stream",
     "text": [
      "['1aMLsa' '1aTGsa' '1eASaa' '1nCWte' '1nUSüa' '2eTGer' '2nGAhe' '3rCHei'\n",
      " '4aRGür' '4iMVha' '4uCGer' '5nDFhi' '5nFKho' '5uHJei' '6aJGhh' '6aOGho'\n",
      " '6vEHhi' '8aRHui' '8lHHsu' '9aBWha' '9oMWun']\n"
     ]
    },
    {
     "data": {
      "image/png": "[encoded data removed]",
      "text/plain": [
       "<Figure size 432x288 with 1 Axes>"
      ]
     },
     "metadata": {
      "needs_background": "light"
     },
     "output_type": "display_data"
    }
   ],
   "source": [
    "bar_df = pd.DataFrame([],columns=[\"Maximales Produkt\", \"String Wiederholung\", \"Postaufgaben\"])\n",
    "\n",
    "\n",
    "unique_codes = df_post[\"Unique Code\"].unique()\n",
    "print(unique_codes)\n",
    "count = len(unique_codes)\n",
    "\n",
    "task1_errors = 0\n",
    "task2_errors = 0\n",
    "tasks_errors = 0\n",
    "\n",
    "for code in unique_codes:\n",
    "    task1_errors += float(df_post.loc[df_post[\"Unique Code\"] == code][\"Maximales Produkt\"])\n",
    "    task2_errors += float(df_post.loc[df_post[\"Unique Code\"] == code][\"String Wiederholung\"])\n",
    "    tasks_errors = task1_errors + task2_errors\n",
    "\n",
    "task1_errors /= count\n",
    "task2_errors /= count\n",
    "tasks_errors /= count\n",
    "\n",
    "bar_df = bar_df.append(pd.DataFrame([[task1_errors, task2_errors, tasks_errors]], columns=[\"Maximales Produkt\", \"String Wiederholung\", \"Postaufgaben\"]))\n",
    "\n",
    "                       \n",
    "#bar_df = bar_df.set_index('Algorithmus')\n",
    "ax = bar_df.plot.bar(ylabel='Anzahl Fehler', rot=290, xlabel='test',title=\"Die durchschnittliche Fehleranzahl im Pre- und Posttest im Vergleich\\n\")\n",
    "plt.tight_layout()\n",
    "ax.legend(loc=\"center left\", bbox_to_anchor=(1.0, 0.5))\n",
    "plt.savefig(\"results/behavioral/bar_programming_tasks_post.pdf\", bbox_inches='tight', pad_inches=0.01)\n"
   ]
  },
  {
   "cell_type": "code",
   "execution_count": 145,
   "id": "3a4d4ef1-7718-4696-99fe-b70c3dda882a",
   "metadata": {},
   "outputs": [
    {
     "data": {
      "text/html": [
       "<div>\n",
       "<style scoped>\n",
       "    .dataframe tbody tr th:only-of-type {\n",
       "        vertical-align: middle;\n",
       "    }\n",
       "\n",
       "    .dataframe tbody tr th {\n",
       "        vertical-align: top;\n",
       "    }\n",
       "\n",
       "    .dataframe thead th {\n",
       "        text-align: right;\n",
       "    }\n",
       "</style>\n",
       "<table border=\"1\" class=\"dataframe\">\n",
       "  <thead>\n",
       "    <tr style=\"text-align: right;\">\n",
       "      <th></th>\n",
       "      <th>Algorithmus</th>\n",
       "      <th>Fehler</th>\n",
       "    </tr>\n",
       "  </thead>\n",
       "  <tbody>\n",
       "    <tr>\n",
       "      <th>0</th>\n",
       "      <td>Kürzestes Wort</td>\n",
       "      <td>1.470588</td>\n",
       "    </tr>\n",
       "    <tr>\n",
       "      <th>0</th>\n",
       "      <td>Ungerade Anzahl</td>\n",
       "      <td>2.266667</td>\n",
       "    </tr>\n",
       "    <tr>\n",
       "      <th>0</th>\n",
       "      <td>Maximales Produkt</td>\n",
       "      <td>0.857143</td>\n",
       "    </tr>\n",
       "    <tr>\n",
       "      <th>0</th>\n",
       "      <td>String Wiederholung</td>\n",
       "      <td>0.285714</td>\n",
       "    </tr>\n",
       "    <tr>\n",
       "      <th>0</th>\n",
       "      <td>Insgesamt-Pre</td>\n",
       "      <td>3.737255</td>\n",
       "    </tr>\n",
       "    <tr>\n",
       "      <th>0</th>\n",
       "      <td>Insgesamt-Post</td>\n",
       "      <td>1.142857</td>\n",
       "    </tr>\n",
       "  </tbody>\n",
       "</table>\n",
       "</div>"
      ],
      "text/plain": [
       "           Algorithmus    Fehler\n",
       "0       Kürzestes Wort  1.470588\n",
       "0      Ungerade Anzahl  2.266667\n",
       "0    Maximales Produkt  0.857143\n",
       "0  String Wiederholung  0.285714\n",
       "0        Insgesamt-Pre  3.737255\n",
       "0       Insgesamt-Post  1.142857"
      ]
     },
     "metadata": {},
     "output_type": "display_data"
    },
    {
     "name": "stdout",
     "output_type": "stream",
     "text": [
      "3\n",
      "25\n",
      "27\n",
      "33\n"
     ]
    },
    {
     "ename": "IndexError",
     "evalue": "index 33 is out of bounds for axis 0 with size 29",
     "output_type": "error",
     "traceback": [
      "\u001b[1;31m---------------------------------------------------------------------------\u001b[0m",
      "\u001b[1;31mIndexError\u001b[0m                                Traceback (most recent call last)",
      "\u001b[1;32m<ipython-input-145-39359774e25d>\u001b[0m in \u001b[0;36m<module>\u001b[1;34m\u001b[0m\n\u001b[0;32m     53\u001b[0m     \u001b[1;32mif\u001b[0m \u001b[0mrow\u001b[0m\u001b[1;33m.\u001b[0m\u001b[0mProblem\u001b[0m \u001b[1;33m==\u001b[0m \u001b[0mfehler\u001b[0m\u001b[1;33m:\u001b[0m\u001b[1;33m\u001b[0m\u001b[1;33m\u001b[0m\u001b[0m\n\u001b[0;32m     54\u001b[0m         \u001b[0mprint\u001b[0m\u001b[1;33m(\u001b[0m\u001b[0m_idx\u001b[0m\u001b[1;33m)\u001b[0m\u001b[1;33m\u001b[0m\u001b[1;33m\u001b[0m\u001b[0m\n\u001b[1;32m---> 55\u001b[1;33m         \u001b[0mdf_pre\u001b[0m \u001b[1;33m=\u001b[0m \u001b[0mdf_pre\u001b[0m\u001b[1;33m.\u001b[0m\u001b[0mdrop\u001b[0m\u001b[1;33m(\u001b[0m\u001b[0mdf_pre\u001b[0m\u001b[1;33m.\u001b[0m\u001b[0mindex\u001b[0m\u001b[1;33m[\u001b[0m\u001b[0m_idx\u001b[0m\u001b[1;33m]\u001b[0m\u001b[1;33m)\u001b[0m\u001b[1;33m\u001b[0m\u001b[1;33m\u001b[0m\u001b[0m\n\u001b[0m\u001b[0;32m     56\u001b[0m \u001b[1;33m\u001b[0m\u001b[0m\n\u001b[0;32m     57\u001b[0m \u001b[0mdisplay\u001b[0m\u001b[1;33m(\u001b[0m\u001b[0mdf_pre\u001b[0m\u001b[1;33m)\u001b[0m\u001b[1;33m\u001b[0m\u001b[1;33m\u001b[0m\u001b[0m\n",
      "\u001b[1;32m~\\anaconda3\\lib\\site-packages\\pandas\\core\\indexes\\base.py\u001b[0m in \u001b[0;36m__getitem__\u001b[1;34m(self, key)\u001b[0m\n\u001b[0;32m   4295\u001b[0m         \u001b[1;32mif\u001b[0m \u001b[0mis_scalar\u001b[0m\u001b[1;33m(\u001b[0m\u001b[0mkey\u001b[0m\u001b[1;33m)\u001b[0m\u001b[1;33m:\u001b[0m\u001b[1;33m\u001b[0m\u001b[1;33m\u001b[0m\u001b[0m\n\u001b[0;32m   4296\u001b[0m             \u001b[0mkey\u001b[0m \u001b[1;33m=\u001b[0m \u001b[0mcom\u001b[0m\u001b[1;33m.\u001b[0m\u001b[0mcast_scalar_indexer\u001b[0m\u001b[1;33m(\u001b[0m\u001b[0mkey\u001b[0m\u001b[1;33m,\u001b[0m \u001b[0mwarn_float\u001b[0m\u001b[1;33m=\u001b[0m\u001b[1;32mTrue\u001b[0m\u001b[1;33m)\u001b[0m\u001b[1;33m\u001b[0m\u001b[1;33m\u001b[0m\u001b[0m\n\u001b[1;32m-> 4297\u001b[1;33m             \u001b[1;32mreturn\u001b[0m \u001b[0mgetitem\u001b[0m\u001b[1;33m(\u001b[0m\u001b[0mkey\u001b[0m\u001b[1;33m)\u001b[0m\u001b[1;33m\u001b[0m\u001b[1;33m\u001b[0m\u001b[0m\n\u001b[0m\u001b[0;32m   4298\u001b[0m \u001b[1;33m\u001b[0m\u001b[0m\n\u001b[0;32m   4299\u001b[0m         \u001b[1;32mif\u001b[0m \u001b[0misinstance\u001b[0m\u001b[1;33m(\u001b[0m\u001b[0mkey\u001b[0m\u001b[1;33m,\u001b[0m \u001b[0mslice\u001b[0m\u001b[1;33m)\u001b[0m\u001b[1;33m:\u001b[0m\u001b[1;33m\u001b[0m\u001b[1;33m\u001b[0m\u001b[0m\n",
      "\u001b[1;31mIndexError\u001b[0m: index 33 is out of bounds for axis 0 with size 29"
     ]
    },
    {
     "data": {
      "image/png": "[encoded data removed]",
      "text/plain": [
       "<Figure size 432x288 with 1 Axes>"
      ]
     },
     "metadata": {
      "needs_background": "light"
     },
     "output_type": "display_data"
    }
   ],
   "source": [
    "bar_df = pd.DataFrame([],columns=[\"Algorithmus\", \"Fehler\"])\n",
    "\n",
    "count = len(unique_codes)\n",
    "\n",
    "\n",
    "task_errors_pre = 0\n",
    "tasks_errors_pre = 0\n",
    "\n",
    "task_errors_post = 0\n",
    "tasks_errors_post = 0\n",
    "\n",
    "\n",
    "algo_names_pre = df_pre[\"Algorithmus\"].unique()\n",
    "algo_names_post = df_post[\"Algorithmus\"].unique()\n",
    "\n",
    "for name in algo_names_pre:\n",
    "    task_errors_pre = float(df_pre.loc[df_pre[\"Algorithmus\"] == name][\"Fehler\"].mean())\n",
    "    tasks_errors_pre += task_errors_pre\n",
    "    bar_df = bar_df.append(pd.DataFrame([[name, task_errors_pre]], columns=[\"Algorithmus\", \"Fehler\"]))\n",
    "\n",
    "\n",
    "for name in algo_names_post:\n",
    "    task_errors_post = float(df_post.loc[df_post[\"Algorithmus\"]==name][\"Fehler\"].mean())\n",
    "    tasks_errors_post += task_errors_post\n",
    "    bar_df = bar_df.append(pd.DataFrame([[name, task_errors_post]], columns=[\"Algorithmus\", \"Fehler\"]))\n",
    "\n",
    "bar_df = bar_df.append(pd.DataFrame([[\"Insgesamt-Pre\", tasks_errors_pre]], columns=[\"Algorithmus\", \"Fehler\"]))\n",
    "bar_df = bar_df.append(pd.DataFrame([[\"Insgesamt-Post\", tasks_errors_post]], columns=[\"Algorithmus\", \"Fehler\"]))\n",
    "\n",
    "display(bar_df)\n",
    "\n",
    "fehler = \"Aufgabe falsch verstanden\"\n",
    "liste = []\n",
    "\n",
    "                       \n",
    "bar_df = bar_df.set_index('Algorithmus')\n",
    "ax = bar_df.plot.bar(ylabel='Anzahl Fehler', rot=290,title=\"Die durchschnittliche Fehleranzahl im Pre- und Posttest im Vergleich\\n\")\n",
    "plt.tight_layout()\n",
    "ax.legend(loc=\"center left\", bbox_to_anchor=(1.0, 0.5))\n",
    "plt.savefig(\"results/behavioral/bar_programming_tasks_post.pdf\", bbox_inches='tight', pad_inches=0.01)\n",
    "            \n",
    "\n",
    "\n",
    "    \n",
    "df_tmp = df_pre.copy(deep=True)\n",
    "\n",
    "for _idx, row in df_tmp.iterrows():\n",
    "    if row.Problem == fehler:\n",
    "        liste.append(_idx)\n",
    "        \n",
    "display(df_pre)"
   ]
  },
  {
   "cell_type": "code",
   "execution_count": null,
   "id": "802f1fff-9c73-46c1-9dcf-93fd2660c6f6",
   "metadata": {},
   "outputs": [],
   "source": []
  },
  {
   "cell_type": "code",
   "execution_count": null,
   "id": "e2f4d7ce-b52d-4c8f-aec3-02de484dc24e",
   "metadata": {},
   "outputs": [],
   "source": []
  }
 ],
 "metadata": {
  "kernelspec": {
   "display_name": "Python 3",
   "language": "python",
   "name": "python3"
  },
  "language_info": {
   "codemirror_mode": {
    "name": "ipython",
    "version": 3
   },
   "file_extension": ".py",
   "mimetype": "text/x-python",
   "name": "python",
   "nbconvert_exporter": "python",
   "pygments_lexer": "ipython3",
   "version": "3.8.8"
  }
 },
 "nbformat": 4,
 "nbformat_minor": 5
}
