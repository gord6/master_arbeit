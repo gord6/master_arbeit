{
 "cells": [
  {
   "cell_type": "markdown",
   "metadata": {},
   "source": [
    "<h1> Data Analysis for REYeker</h1>"
   ]
  },
  {
   "cell_type": "code",
   "execution_count": 4,
   "metadata": {},
   "outputs": [],
   "source": [
    "# lib for dataframes\n",
    "import pandas as pd\n",
    "\n",
    "# lib for saving np images\n",
    "from PIL import Image\n",
    "\n",
    "# lib for plotting\n",
    "%matplotlib inline\n",
    "import matplotlib.pyplot as plt\n",
    "\n",
    "# lib for numerical computations\n",
    "import numpy as np\n",
    "\n",
    "# lib for crerating paths\n",
    "from pathlib import Path\n",
    "\n",
    "# REYeker lib\n",
    "import modules.rEYEkerAnalysis as rEYEker"
   ]
  },
  {
   "cell_type": "markdown",
   "metadata": {},
   "source": [
    "<h2>1. Configuration</h2>"
   ]
  },
  {
   "cell_type": "markdown",
   "metadata": {},
   "source": [
    "<h5>Database configuration </h5>"
   ]
  },
  {
   "cell_type": "code",
   "execution_count": 5,
   "metadata": {},
   "outputs": [],
   "source": [
    "# path to the datafile\n",
    "config_datasheet_path_pre = r'./results/data_of_all_removed.xlsx'\n",
    "config_datasheet_path_post = r'./results/data_of_all_removed_posttest.xlsx'\n",
    "compare_datasheet = \"results/behavioral/compare/compare.xlsx\"\n",
    "\n",
    "# columns with visual stimulus data\n",
    "config_visual_stimulus_variable = \"ClickData\"\n",
    "\n",
    "# columns with names of the algo\n",
    "config_algo_name_variable = \"Algorithm\"\n",
    "\n",
    "# columns with correctness value\n",
    "config_corectness_variable = \"Correctness\"\n",
    "\n",
    "# colums of response time\n",
    "config_response_time_variable = \"ResponseTime\""
   ]
  },
  {
   "cell_type": "markdown",
   "metadata": {},
   "source": [
    "<h5>Configuration for REYEker data </h5>"
   ]
  },
  {
   "cell_type": "code",
   "execution_count": 6,
   "metadata": {},
   "outputs": [],
   "source": [
    "# file for loading rEYEker settings\n",
    "config_reyeker_settings_path = \"data/used.json\""
   ]
  },
  {
   "cell_type": "markdown",
   "metadata": {},
   "source": [
    "<h5>Import the preprocessed dataframe</h5>"
   ]
  },
  {
   "cell_type": "code",
   "execution_count": 7,
   "metadata": {},
   "outputs": [
    {
     "name": "stdout",
     "output_type": "stream",
     "text": [
      "176 33 209\n",
      "168 41 209\n"
     ]
    }
   ],
   "source": [
    "df_compare = pd.read_excel(compare_datasheet)\n",
    "\n",
    "df_pre_tmp = pd.read_excel(config_datasheet_path_pre)\n",
    "df_post_tmp = pd.read_excel(config_datasheet_path_post)\n",
    "\n",
    "\n",
    "df_pre= pd.DataFrame()\n",
    "df_post = pd.DataFrame()\n",
    "\n",
    "df_pre_correct = pd.DataFrame()\n",
    "df_post_correct = pd.DataFrame()\n",
    "\n",
    "df_pre_false = pd.DataFrame()\n",
    "df_post_false = pd.DataFrame()\n",
    "\n",
    "unique_codes = df_compare[\"Unique Code\"].unique()\n",
    "\n",
    "for code in unique_codes:\n",
    "    tmp_pre_correct = df_pre_tmp.loc[(df_pre_tmp[\"Unique Code\"] == code) & (df_pre_tmp[\"Correctness\"] == True)]\n",
    "    tmp_pre_false = df_pre_tmp.loc[(df_pre_tmp[\"Unique Code\"] == code) & (df_pre_tmp[\"Correctness\"] == False)]\n",
    "    tmp_pre = df_pre_tmp.loc[df_pre_tmp[\"Unique Code\"]== code]\n",
    "    \n",
    "    tmp_post_correct = df_post_tmp.loc[(df_post_tmp[\"Unique Code\"] == code) & (df_post_tmp[\"Correctness\"] == True)]\n",
    "    tmp_post_false = df_post_tmp.loc[(df_post_tmp[\"Unique Code\"] == code) & (df_post_tmp[\"Correctness\"] == False)]\n",
    "    tmp_post = df_post_tmp.loc[df_post_tmp[\"Unique Code\"]== code]\n",
    "    \n",
    "    df_pre_correct = df_pre_correct.append(tmp_pre_correct)\n",
    "    df_pre_false = df_pre_false.append(tmp_pre_false)\n",
    "    df_pre = df_pre.append(tmp_pre)\n",
    "\n",
    "    df_post_correct = df_post_correct.append(tmp_post_correct)\n",
    "    df_post_false = df_post_false.append(tmp_post_false)\n",
    "    df_post = df_post.append(tmp_post)\n",
    "    \n",
    "    \n",
    "print(len(df_pre_correct), len(df_pre_false), len(df_pre))\n",
    "print(len(df_post_correct), len(df_post_false), len(df_post))"
   ]
  },
  {
   "cell_type": "code",
   "execution_count": 33,
   "metadata": {},
   "outputs": [],
   "source": [
    "algo_name_array_pre = df_pre[\"Algorithm\"].unique()\n",
    "algo_name_array_post = df_post[\"Algorithm\"].unique()\n",
    "\n",
    "df_array_pre = []\n",
    "df_array_pre_false = []\n",
    "df_array_pre_correct = []\n",
    "\n",
    "df_array_post = []\n",
    "df_array_post_false = []\n",
    "df_array_post_correct = []\n",
    "\n",
    "for algo_name in algo_name_array_pre:\n",
    "    algo_df = df_pre.loc[df_pre[config_algo_name_variable]==algo_name]\n",
    "    algo_df_false = df_pre_false.loc[df_pre_false[config_algo_name_variable]==algo_name]\n",
    "    algo_df_correct = df_pre_correct.loc[df_pre_correct[config_algo_name_variable]==algo_name]\n",
    "    \n",
    "    \n",
    "    df_array_pre.append(algo_df)\n",
    "    df_array_pre_false.append(algo_df_false)\n",
    "    df_array_pre_correct.append(algo_df_correct)\n",
    "\n",
    "\n",
    "for algo_name in algo_name_array_post:\n",
    "    algo_df = df_post.loc[df_post[config_algo_name_variable]==algo_name]\n",
    "    algo_df_false = df_post_false.loc[df_post_false[config_algo_name_variable]==algo_name]\n",
    "    algo_df_correct = df_post_correct.loc[df_post_correct[config_algo_name_variable]==algo_name]\n",
    "    \n",
    "    df_array_post.append(algo_df)\n",
    "    df_array_post_false.append(algo_df_false)\n",
    "    df_array_post_correct.append(algo_df_correct)\n"
   ]
  },
  {
   "cell_type": "code",
   "execution_count": 9,
   "metadata": {},
   "outputs": [
    {
     "name": "stdout",
     "output_type": "stream",
     "text": [
      "['images/Posttest/CommonChars.png', 'images/Posttest/IsPalindrome.png', 'images/Posttest/ReverseString.png', 'images/Posttest/ReverseArray.png', 'images/Posttest/BinarySearchStrings.png', 'images/Posttest/Multiples.png', 'images/Posttest/Power.png', 'images/Posttest/GetMiddle.png', 'images/Posttest/InsertionSort.png', 'images/Posttest/SquareRoot.png']\n"
     ]
    }
   ],
   "source": [
    "# data for loading the images\n",
    "image_path_array_pre = []\n",
    "image_path_array_post = []\n",
    "\n",
    "for algo_name in algo_name_array_pre:\n",
    "    image_path = 'images/Pretest/' + algo_name + '.png'\n",
    "    image_path_array_pre.append(image_path)\n",
    "    \n",
    "for algo_name in algo_name_array_post:\n",
    "    image_path = 'images/Posttest/' + algo_name + '.png'\n",
    "    image_path_array_post.append(image_path)\n",
    "    \n",
    "print(image_path_array_post)"
   ]
  },
  {
   "cell_type": "markdown",
   "metadata": {},
   "source": [
    "<h4>Import REYeker Settings</h4>"
   ]
  },
  {
   "cell_type": "code",
   "execution_count": 10,
   "metadata": {},
   "outputs": [],
   "source": [
    "(_data, _times, click_setting) = rEYEker.load_data_from_json(config_reyeker_settings_path)"
   ]
  },
  {
   "cell_type": "markdown",
   "metadata": {},
   "source": [
    "<h4>Import Images Settings</h4>"
   ]
  },
  {
   "cell_type": "code",
   "execution_count": 11,
   "metadata": {},
   "outputs": [],
   "source": [
    "image_array_pre = []\n",
    "image_array_post = []\n",
    "\n",
    "# read in every image\n",
    "for image_path in image_path_array_pre:\n",
    "    image = rEYEker.load_image(image_path)\n",
    "   \n",
    "    image_array_pre.append(image)\n",
    "    \n",
    "    \n",
    "for image_path in image_path_array_post:\n",
    "    image = rEYEker.load_image(image_path)\n",
    "    \n",
    "    image_array_post.append(image)\n"
   ]
  },
  {
   "cell_type": "markdown",
   "metadata": {},
   "source": [
    "<h4> Cast Data to Valid format</h4>"
   ]
  },
  {
   "cell_type": "markdown",
   "metadata": {},
   "source": [
    "Import the visual stimulus measured Data"
   ]
  },
  {
   "cell_type": "markdown",
   "metadata": {},
   "source": [
    "correct and false"
   ]
  },
  {
   "cell_type": "code",
   "execution_count": 12,
   "metadata": {},
   "outputs": [],
   "source": [
    "visual_stimulus_data_matrix_pre = []\n",
    "\n",
    "for idx, dataframe in enumerate(df_array_pre):\n",
    "    visual_stimulus_array = []\n",
    "\n",
    "    #iter over every row \n",
    "    for _idx, row in dataframe.iterrows():\n",
    "        data_str = row[config_visual_stimulus_variable]\n",
    "        data_str = data_str.strip()\n",
    "        coordinates_str = data_str.split(\" \")\n",
    "        coordinates = []\n",
    "       \n",
    "        # iter over every coordinate pair x-y\n",
    "        for coordinate_str in coordinates_str:\n",
    "            try:\n",
    "                coordinate = coordinate_str.split(\"-\")\n",
    "                coordinate = (int(coordinate[0]), int(coordinate[1]))\n",
    "                coordinates.append(coordinate)\n",
    "            except:\n",
    "                print(coordinate_str)\n",
    "            \n",
    "            \n",
    "        visual_stimulus_array.append(coordinates)\n",
    "        \n",
    "    visual_stimulus_data_matrix_pre.append(visual_stimulus_array)\n"
   ]
  },
  {
   "cell_type": "code",
   "execution_count": 38,
   "metadata": {},
   "outputs": [],
   "source": [
    "visual_stimulus_data_matrix_post = []\n",
    "\n",
    "\n",
    "for idx, dataframe in enumerate(df_array_post):\n",
    "    visual_stimulus_array_post = []\n",
    "\n",
    "    #iter over every row \n",
    "    for _idx, row in dataframe.iterrows():\n",
    "        data_str_post = row[config_visual_stimulus_variable]\n",
    "        data_str_post = data_str_post.strip()\n",
    "        coordinates_str_post = data_str_post.split(\" \")\n",
    "        coordinates_post = []\n",
    "       \n",
    "        # iter over every coordinate pair x-y\n",
    "        for coordinate_str_post in coordinates_str_post:\n",
    "            try:\n",
    "                coordinate_post = coordinate_str_post.split(\"-\")\n",
    "                coordinate_post = (int(coordinate_post[0]), int(coordinate_post[1]))\n",
    "                coordinates_post.append(coordinate_post)\n",
    "            except:\n",
    "                print(coordinate_str_post)\n",
    "            \n",
    "            \n",
    "        visual_stimulus_array_post.append(coordinates_post)\n",
    "        \n",
    "    visual_stimulus_data_matrix_post.append(visual_stimulus_array_post)"
   ]
  },
  {
   "cell_type": "markdown",
   "metadata": {},
   "source": [
    "correct"
   ]
  },
  {
   "cell_type": "code",
   "execution_count": 149,
   "metadata": {},
   "outputs": [],
   "source": [
    "visual_stimulus_data_matrix_pre_correct = []\n",
    "\n",
    "for idx, dataframe in enumerate(df_array_pre_correct):\n",
    "    visual_stimulus_array = []\n",
    "\n",
    "    #iter over every row \n",
    "    for _idx, row in dataframe.iterrows():\n",
    "        data_str = row[config_visual_stimulus_variable]\n",
    "        data_str = data_str.strip()\n",
    "        coordinates_str = data_str.split(\" \")\n",
    "        coordinates = []\n",
    "       \n",
    "        # iter over every coordinate pair x-y\n",
    "        for coordinate_str in coordinates_str:\n",
    "            try:\n",
    "                coordinate = coordinate_str.split(\"-\")\n",
    "                coordinate = (int(coordinate[0]), int(coordinate[1]))\n",
    "                coordinates.append(coordinate)\n",
    "            except:\n",
    "                print(coordinate_str)\n",
    "            \n",
    "            \n",
    "        visual_stimulus_array.append(coordinates)\n",
    "        \n",
    "    visual_stimulus_data_matrix_pre_correct.append(visual_stimulus_array)"
   ]
  },
  {
   "cell_type": "code",
   "execution_count": 150,
   "metadata": {},
   "outputs": [],
   "source": [
    "visual_stimulus_data_matrix_post_correct = []\n",
    "\n",
    "for idx, dataframe in enumerate(df_array_post_correct):\n",
    "    visual_stimulus_array = []\n",
    "\n",
    "    #iter over every row \n",
    "    for _idx, row in dataframe.iterrows():\n",
    "        data_str = row[config_visual_stimulus_variable]\n",
    "        data_str = data_str.strip()\n",
    "        coordinates_str = data_str.split(\" \")\n",
    "        coordinates = []\n",
    "       \n",
    "        # iter over every coordinate pair x-y\n",
    "        for coordinate_str in coordinates_str:\n",
    "            try:\n",
    "                coordinate = coordinate_str.split(\"-\")\n",
    "                coordinate = (int(coordinate[0]), int(coordinate[1]))\n",
    "                coordinates.append(coordinate)\n",
    "            except:\n",
    "                print(coordinate_str)\n",
    "            \n",
    "            \n",
    "        visual_stimulus_array.append(coordinates)\n",
    "        \n",
    "    visual_stimulus_data_matrix_post_correct.append(visual_stimulus_array)"
   ]
  },
  {
   "cell_type": "code",
   "execution_count": 53,
   "metadata": {},
   "outputs": [
    {
     "name": "stdout",
     "output_type": "stream",
     "text": [
      "76 53\n",
      "0 0\n",
      "0 0\n",
      "211 179\n",
      "0 0\n"
     ]
    }
   ],
   "source": [
    "common_chars_stimulus_pre = visual_stimulus_data_matrix_pre[0]\n",
    "common_chars_stimulus_post = visual_stimulus_data_matrix_post[0]\n",
    "\n",
    "reverse_array_stimulus_pre = visual_stimulus_data_matrix_pre[3]\n",
    "reverse_array_stimulus_post = visual_stimulus_data_matrix_post[3]\n",
    "\n",
    "binary_search_stimulus_pre = visual_stimulus_data_matrix_pre[4]\n",
    "binary_search_stimulus_pre = visual_stimulus_data_matrix_pre[4]\n",
    "\n",
    "multiples_stimulus_pre = visual_stimulus_data_matrix_pre[5]\n",
    "multiples_stimulus_post = visual_stimulus_data_matrix_post[5]\n",
    "\n",
    "insertion_sort_stimulus_pre = visual_stimulus_data_matrix_pre[8]\n",
    "insertion_sort_stimulus_pre = visual_stimulus_data_matrix_pre[8]\n",
    "\n",
    "\n",
    "\n",
    "fixation_count_pre = [0, 0, 0, 0, 0]\n",
    "fixation_count_post = [0, 0, 0, 0, 0]\n",
    "\n",
    "for stimulus_pre in common_chars_stimulus_pre:\n",
    "    for x, y in stimulus_pre:\n",
    "        if (x >= 45 and x <= 385) and (y >= 169 and y <= 228):\n",
    "            fixation_count_pre[0] += 1\n",
    "            \n",
    "for stimulus_post in common_chars_stimulus_post:\n",
    "    for x, y in stimulus_post:\n",
    "        #if (x >= 50 and x <= 136) and (y >= 169 and y <= 213):\n",
    "        if (x >= 45 and x <= 385) and (y >= 152 and y <= 234):\n",
    "            fixation_count_post[0] += 1\n",
    "\n",
    "for stimulus_pre in multiples_stimulus_pre:\n",
    "    for x, y in stimulus_pre:\n",
    "        if (x >= 45 and x <= 315) and (y >= 152 and y <= 234):\n",
    "            fixation_count_pre[3] += 1\n",
    "            \n",
    "for stimulus_post in multiples_stimulus_post:\n",
    "    for x, y in stimulus_post:\n",
    "        #if (x >= 50 and x <= 136) and (y >= 169 and y <= 213):\n",
    "        if (x >= 45 and x <= 315) and (y >= 152 and y <= 234):\n",
    "            fixation_count_post[3] += 1\n",
    "\n",
    "for i in range(len(fixation_count_pre)):\n",
    "    print(fixation_count_pre[i], fixation_count_post[i])"
   ]
  },
  {
   "cell_type": "markdown",
   "metadata": {},
   "source": [
    "false"
   ]
  },
  {
   "cell_type": "code",
   "execution_count": 19,
   "metadata": {},
   "outputs": [],
   "source": [
    "visual_stimulus_data_matrix_pre_false = []\n",
    "\n",
    "for idx, dataframe in enumerate(df_array_pre_false):\n",
    "    visual_stimulus_array = []\n",
    "\n",
    "    #iter over every row \n",
    "    for _idx, row in dataframe.iterrows():\n",
    "        data_str = row[config_visual_stimulus_variable]\n",
    "        data_str = data_str.strip()\n",
    "        coordinates_str = data_str.split(\" \")\n",
    "        coordinates = []\n",
    "       \n",
    "        # iter over every coordinate pair x-y\n",
    "        for coordinate_str in coordinates_str:\n",
    "            try:\n",
    "                coordinate = coordinate_str.split(\"-\")\n",
    "                coordinate = (int(coordinate[0]), int(coordinate[1]))\n",
    "                coordinates.append(coordinate)\n",
    "            except:\n",
    "                print(coordinate_str)\n",
    "            \n",
    "            \n",
    "        visual_stimulus_array.append(coordinates)\n",
    "        \n",
    "    visual_stimulus_data_matrix_pre_false.append(visual_stimulus_array)"
   ]
  },
  {
   "cell_type": "code",
   "execution_count": 152,
   "metadata": {},
   "outputs": [],
   "source": [
    "visual_stimulus_data_matrix_post_false = []\n",
    "\n",
    "for idx, dataframe in enumerate(df_array_post_false):\n",
    "    visual_stimulus_array = []\n",
    "\n",
    "    #iter over every row \n",
    "    for _idx, row in dataframe.iterrows():\n",
    "        data_str = row[config_visual_stimulus_variable]\n",
    "        data_str = data_str.strip()\n",
    "        coordinates_str = data_str.split(\" \")\n",
    "        coordinates = []\n",
    "       \n",
    "        # iter over every coordinate pair x-y\n",
    "        for coordinate_str in coordinates_str:\n",
    "            try:\n",
    "                coordinate = coordinate_str.split(\"-\")\n",
    "                coordinate = (int(coordinate[0]), int(coordinate[1]))\n",
    "                coordinates.append(coordinate)\n",
    "            except:\n",
    "                print(coordinate_str)\n",
    "            \n",
    "            \n",
    "        visual_stimulus_array.append(coordinates)\n",
    "        \n",
    "    visual_stimulus_data_matrix_post_false.append(visual_stimulus_array)"
   ]
  },
  {
   "cell_type": "markdown",
   "metadata": {},
   "source": [
    "<h4>Helper Functions</h4>"
   ]
  },
  {
   "cell_type": "code",
   "execution_count": 153,
   "metadata": {},
   "outputs": [],
   "source": [
    "def save_images(image_array, folder, image_name):\n",
    "    \"\"\"\n",
    "    :brief saves an array of images to a certain location incrementing the postfix by a number\n",
    "    :param image_array:        array of images (np.ndarray)\n",
    "    :param folder:     prefix of image/ folder location\n",
    "    :param image_name: prefix for the image\n",
    "    \"\"\"\n",
    "    \n",
    "    Path(folder).mkdir(parents=True, exist_ok=True)\n",
    "    \n",
    "    prefix = folder + image_name\n",
    "    \n",
    "    #TODO create folders if there are none present\n",
    "    for idx, data in enumerate(image_array):\n",
    "        data = data*255\n",
    "        data = np.uint8(data)\n",
    "        im = Image.fromarray(data)\n",
    "        im.save(prefix + str(idx) + '.png')\n",
    "    \n",
    "def is_in(value, tup):\n",
    "    return tup[0] <= value <= tup[1]\n",
    "\n",
    "def get_0_offset(number):\n",
    "    i = 0\n",
    "    number = int(number)\n",
    "    while number != 0:\n",
    "        number = int(number / 10)\n",
    "        i = i + 1\n",
    "    return i"
   ]
  },
  {
   "cell_type": "code",
   "execution_count": 31,
   "metadata": {},
   "outputs": [
    {
     "name": "stdout",
     "output_type": "stream",
     "text": [
      "[(98, 60), (105, 106), (356, 103), (98, 64), (322, 101), (146, 138), (383, 146), (133, 181), (171, 222), (139, 251), (138, 277), (120, 357), (120, 357), (141, 315), (126, 220), (138, 188), (187, 50), (159, 173), (297, 100), (187, 187), (155, 224), (165, 187), (195, 223), (196, 75), (150, 220), (121, 254), (156, 285), (179, 319), (179, 319), (144, 305), (212, 73), (180, 291), (141, 345)]\n",
      "406 397\n"
     ]
    }
   ],
   "source": [
    "test = visual_stimulus_data_matrix_pre[0][0]\n",
    "print(test)\n",
    "\n",
    "        \n",
    "#im = rEYEker.draw_shape_heat_map(image_array_pre[0], test[0], click_setting, should_copy=True)\n",
    "max_width = image_array_pre[0].shape[1]\n",
    "max_height = image_array_pre[0].shape[0]\n",
    "\n",
    "print(max_width, max_height)\n",
    "\n",
    "\n"
   ]
  },
  {
   "cell_type": "markdown",
   "metadata": {},
   "source": [
    "<h2>2. Create Single Heatmaps</h2>"
   ]
  },
  {
   "cell_type": "markdown",
   "metadata": {},
   "source": [
    "create heatmaps false"
   ]
  },
  {
   "cell_type": "code",
   "execution_count": 22,
   "metadata": {},
   "outputs": [
    {
     "name": "stdout",
     "output_type": "stream",
     "text": [
      "['CommonChars' 'ContainsSubstring' 'CountVowels' 'ReverseArray'\n",
      " 'BinarySearchStrings' 'Multiples' 'CrossSum' 'Swap' 'InsertionSort'\n",
      " 'GreatestCommonDivisor']\n",
      "\tGoing to process datatable #9 with 10 datasets: \n",
      "\t\tdataset #0 (up to 3): [0;\n",
      "STIMULUS [(182, 163), (182, 207), (122, 95), (102, 17), (110, 55), (147, 34), (147, 41), (140, 70), (137, 108), (226, 91), (205, 131), (195, 159), (186, 183), (144, 188), (142, 229), (127, 251), (118, 283), (129, 291), (156, 326), (144, 359), (172, 310), (180, 290), (179, 314), (181, 280), (166, 182), (181, 74), (202, 40), (199, 67), (191, 103), (186, 151), (186, 187), (185, 201), (177, 227), (167, 252), (153, 289), (178, 314), (144, 359), (204, 106), (195, 51), (191, 75), (202, 112), (202, 101), (198, 46), (191, 69), (185, 252), (166, 309), (196, 96), (195, 59), (192, 73)]\n",
      "1;\n",
      "STIMULUS [(220, 222), (220, 222), (211, 186), (80, 51), (108, 94), (104, 64), (96, 28), (77, 5), (128, 32), (164, 332), (150, 393), (122, 227), (171, 77), (171, 44), (166, 57), (162, 85), (218, 49), (217, 76), (215, 93), (220, 114), (215, 138), (207, 157), (206, 174), (204, 212), (198, 258), (191, 217), (184, 183), (184, 223), (160, 261), (148, 282), (148, 299), (150, 276), (124, 338), (136, 302), (142, 278), (156, 147), (149, 85), (140, 106), (139, 54), (118, 321), (112, 366), (128, 250), (133, 164), (124, 139), (119, 96), (99, 195), (120, 342), (175, 122), (176, 90), (164, 67)]\n"
     ]
    },
    {
     "ename": "KeyboardInterrupt",
     "evalue": "",
     "output_type": "error",
     "traceback": [
      "\u001b[1;31m---------------------------------------------------------------------------\u001b[0m",
      "\u001b[1;31mKeyboardInterrupt\u001b[0m                         Traceback (most recent call last)",
      "\u001b[1;32m<ipython-input-22-b367766bbeaa>\u001b[0m in \u001b[0;36m<module>\u001b[1;34m\u001b[0m\n\u001b[0;32m     14\u001b[0m         \u001b[0mprint\u001b[0m\u001b[1;33m(\u001b[0m\u001b[1;33m)\u001b[0m\u001b[1;33m\u001b[0m\u001b[1;33m\u001b[0m\u001b[0m\n\u001b[0;32m     15\u001b[0m         \u001b[0mprint\u001b[0m\u001b[1;33m(\u001b[0m\u001b[1;34m\"STIMULUS\"\u001b[0m\u001b[1;33m,\u001b[0m \u001b[0mstimulus_measurement\u001b[0m\u001b[1;33m)\u001b[0m\u001b[1;33m\u001b[0m\u001b[1;33m\u001b[0m\u001b[0m\n\u001b[1;32m---> 16\u001b[1;33m         \u001b[0mim\u001b[0m \u001b[1;33m=\u001b[0m \u001b[0mrEYEker\u001b[0m\u001b[1;33m.\u001b[0m\u001b[0mdraw_shape_heat_map\u001b[0m\u001b[1;33m(\u001b[0m\u001b[0mimage_array_pre\u001b[0m\u001b[1;33m[\u001b[0m\u001b[0mdataset_idx\u001b[0m\u001b[1;33m]\u001b[0m\u001b[1;33m,\u001b[0m \u001b[0mstimulus_measurement\u001b[0m\u001b[1;33m,\u001b[0m \u001b[0mclick_setting\u001b[0m\u001b[1;33m,\u001b[0m \u001b[0mshould_copy\u001b[0m\u001b[1;33m=\u001b[0m\u001b[1;32mTrue\u001b[0m\u001b[1;33m)\u001b[0m\u001b[1;33m\u001b[0m\u001b[1;33m\u001b[0m\u001b[0m\n\u001b[0m\u001b[0;32m     17\u001b[0m         \u001b[0mheatmap_array\u001b[0m\u001b[1;33m.\u001b[0m\u001b[0mappend\u001b[0m\u001b[1;33m(\u001b[0m\u001b[0mim\u001b[0m\u001b[1;33m)\u001b[0m\u001b[1;33m\u001b[0m\u001b[1;33m\u001b[0m\u001b[0m\n\u001b[0;32m     18\u001b[0m \u001b[1;33m\u001b[0m\u001b[0m\n",
      "\u001b[1;32m~\\Documents\\GitHub\\master_arbeit\\modules\\rEYEkerAnalysis.py\u001b[0m in \u001b[0;36mdraw_shape_heat_map\u001b[1;34m(image, coordinates, click_settings, min_idx, max_idx, time_stamps, should_copy)\u001b[0m\n\u001b[0;32m    297\u001b[0m     \u001b[0mmax_idx\u001b[0m \u001b[1;33m=\u001b[0m \u001b[0mutils\u001b[0m\u001b[1;33m.\u001b[0m\u001b[0mclamp\u001b[0m\u001b[1;33m(\u001b[0m\u001b[0mmax_idx\u001b[0m\u001b[1;33m,\u001b[0m \u001b[1;36m1\u001b[0m\u001b[1;33m,\u001b[0m \u001b[0mlen\u001b[0m\u001b[1;33m(\u001b[0m\u001b[0mcoordinates\u001b[0m\u001b[1;33m)\u001b[0m\u001b[1;33m)\u001b[0m\u001b[1;33m\u001b[0m\u001b[1;33m\u001b[0m\u001b[0m\n\u001b[0;32m    298\u001b[0m \u001b[1;33m\u001b[0m\u001b[0m\n\u001b[1;32m--> 299\u001b[1;33m     \u001b[0mhmh\u001b[0m\u001b[1;33m.\u001b[0m\u001b[0mdraw_shape_heat_map\u001b[0m\u001b[1;33m(\u001b[0m\u001b[0mim\u001b[0m\u001b[1;33m,\u001b[0m \u001b[0mmin_idx\u001b[0m\u001b[1;33m,\u001b[0m \u001b[0mmax_idx\u001b[0m\u001b[1;33m,\u001b[0m \u001b[0mcoordinates\u001b[0m\u001b[1;33m,\u001b[0m \u001b[0mclick_settings\u001b[0m\u001b[1;33m,\u001b[0m \u001b[0mtime_stamps\u001b[0m\u001b[1;33m)\u001b[0m\u001b[1;33m\u001b[0m\u001b[1;33m\u001b[0m\u001b[0m\n\u001b[0m\u001b[0;32m    300\u001b[0m \u001b[1;33m\u001b[0m\u001b[0m\n\u001b[0;32m    301\u001b[0m     \u001b[1;32mreturn\u001b[0m \u001b[0mim\u001b[0m\u001b[1;33m\u001b[0m\u001b[1;33m\u001b[0m\u001b[0m\n",
      "\u001b[1;32m~\\Documents\\GitHub\\master_arbeit\\modules\\HeatmapHelpers.py\u001b[0m in \u001b[0;36mdraw_shape_heat_map\u001b[1;34m(image, min_idx, max_idx, coordinates, click_settings, time_stamps)\u001b[0m\n\u001b[0;32m    409\u001b[0m         \u001b[1;32mfor\u001b[0m \u001b[0mi\u001b[0m \u001b[1;32min\u001b[0m \u001b[0mrange\u001b[0m\u001b[1;33m(\u001b[0m\u001b[0mmin_idx\u001b[0m\u001b[1;33m,\u001b[0m \u001b[0mmax_idx\u001b[0m\u001b[1;33m)\u001b[0m\u001b[1;33m:\u001b[0m\u001b[1;33m\u001b[0m\u001b[1;33m\u001b[0m\u001b[0m\n\u001b[0;32m    410\u001b[0m             \u001b[0mtime\u001b[0m \u001b[1;33m=\u001b[0m \u001b[0mget_time\u001b[0m\u001b[1;33m(\u001b[0m\u001b[0mi\u001b[0m\u001b[1;33m,\u001b[0m \u001b[0mtime_stamps\u001b[0m\u001b[1;33m)\u001b[0m\u001b[1;33m\u001b[0m\u001b[1;33m\u001b[0m\u001b[0m\n\u001b[1;32m--> 411\u001b[1;33m             fill_for_rectangle(heat_values, coordinates[i][0], coordinates[i][1], click_settings, max_width, max_height,\n\u001b[0m\u001b[0;32m    412\u001b[0m                                time)\n\u001b[0;32m    413\u001b[0m     \u001b[1;32melif\u001b[0m \u001b[0mclick_settings\u001b[0m\u001b[1;33m.\u001b[0m\u001b[0muse_circle\u001b[0m\u001b[1;33m:\u001b[0m\u001b[1;33m\u001b[0m\u001b[1;33m\u001b[0m\u001b[0m\n",
      "\u001b[1;32m~\\Documents\\GitHub\\master_arbeit\\modules\\HeatmapHelpers.py\u001b[0m in \u001b[0;36mfill_for_rectangle\u001b[1;34m(heat_values, x, y, click_settings, max_width, max_height, time)\u001b[0m\n\u001b[0;32m    152\u001b[0m     \u001b[0my_max\u001b[0m \u001b[1;33m=\u001b[0m \u001b[0mmin\u001b[0m\u001b[1;33m(\u001b[0m\u001b[0my\u001b[0m \u001b[1;33m+\u001b[0m \u001b[0mclick_settings\u001b[0m\u001b[1;33m.\u001b[0m\u001b[0mminimal_height\u001b[0m \u001b[1;33m+\u001b[0m \u001b[0mclick_settings\u001b[0m\u001b[1;33m.\u001b[0m\u001b[0mgrad_radius\u001b[0m\u001b[1;33m,\u001b[0m \u001b[0mmax_height\u001b[0m\u001b[1;33m)\u001b[0m\u001b[1;33m\u001b[0m\u001b[1;33m\u001b[0m\u001b[0m\n\u001b[0;32m    153\u001b[0m \u001b[1;33m\u001b[0m\u001b[0m\n\u001b[1;32m--> 154\u001b[1;33m     fill_rectangle_helper(x_min, x_max, y_min, y_max, minimal_x_rect, maximal_x_rect, minimal_y_rect, maximal_y_rect,\n\u001b[0m\u001b[0;32m    155\u001b[0m                           \u001b[0mclick_settings\u001b[0m\u001b[1;33m.\u001b[0m\u001b[0mminimal_width\u001b[0m\u001b[1;33m,\u001b[0m \u001b[0mclick_settings\u001b[0m\u001b[1;33m.\u001b[0m\u001b[0mminimal_height\u001b[0m\u001b[1;33m,\u001b[0m \u001b[0mclick_settings\u001b[0m\u001b[1;33m.\u001b[0m\u001b[0mgrad_radius\u001b[0m\u001b[1;33m,\u001b[0m\u001b[1;33m\u001b[0m\u001b[1;33m\u001b[0m\u001b[0m\n\u001b[0;32m    156\u001b[0m                           x, y, heat_values, time, max_width)\n",
      "\u001b[1;32m~\\Documents\\GitHub\\master_arbeit\\modules\\HeatmapHelpers.py\u001b[0m in \u001b[0;36mfill_rectangle_helper\u001b[1;34m(x_min, x_max, y_min, y_max, minimal_x_rect, maximal_x_rect, minimal_y_rect, maximal_y_rect, minimal_width, minimal_height, grad_radius, x, y, heat_values, time, max_width)\u001b[0m\n\u001b[0;32m    116\u001b[0m             \u001b[1;32melse\u001b[0m\u001b[1;33m:\u001b[0m\u001b[1;33m\u001b[0m\u001b[1;33m\u001b[0m\u001b[0m\n\u001b[0;32m    117\u001b[0m                 \u001b[0my_distance\u001b[0m \u001b[1;33m=\u001b[0m \u001b[0mmath\u001b[0m\u001b[1;33m.\u001b[0m\u001b[0msqrt\u001b[0m\u001b[1;33m(\u001b[0m\u001b[0mmath\u001b[0m\u001b[1;33m.\u001b[0m\u001b[0mpow\u001b[0m\u001b[1;33m(\u001b[0m\u001b[0my\u001b[0m \u001b[1;33m-\u001b[0m \u001b[0mj\u001b[0m\u001b[1;33m,\u001b[0m \u001b[1;36m2.0\u001b[0m\u001b[1;33m)\u001b[0m\u001b[1;33m)\u001b[0m\u001b[1;33m\u001b[0m\u001b[1;33m\u001b[0m\u001b[0m\n\u001b[1;32m--> 118\u001b[1;33m                 \u001b[0mx_distance\u001b[0m \u001b[1;33m=\u001b[0m \u001b[0mmath\u001b[0m\u001b[1;33m.\u001b[0m\u001b[0msqrt\u001b[0m\u001b[1;33m(\u001b[0m\u001b[0mmath\u001b[0m\u001b[1;33m.\u001b[0m\u001b[0mpow\u001b[0m\u001b[1;33m(\u001b[0m\u001b[0mx\u001b[0m \u001b[1;33m-\u001b[0m \u001b[0mi\u001b[0m\u001b[1;33m,\u001b[0m \u001b[1;36m2.0\u001b[0m\u001b[1;33m)\u001b[0m\u001b[1;33m)\u001b[0m\u001b[1;33m\u001b[0m\u001b[1;33m\u001b[0m\u001b[0m\n\u001b[0m\u001b[0;32m    119\u001b[0m \u001b[1;33m\u001b[0m\u001b[0m\n\u001b[0;32m    120\u001b[0m                 \u001b[0mx_distance_norm\u001b[0m \u001b[1;33m=\u001b[0m \u001b[0mmax\u001b[0m\u001b[1;33m(\u001b[0m\u001b[1;36m0.0\u001b[0m\u001b[1;33m,\u001b[0m \u001b[0mx_distance\u001b[0m \u001b[1;33m-\u001b[0m \u001b[0mminimal_width\u001b[0m\u001b[1;33m)\u001b[0m\u001b[1;33m\u001b[0m\u001b[1;33m\u001b[0m\u001b[0m\n",
      "\u001b[1;31mKeyboardInterrupt\u001b[0m: "
     ]
    }
   ],
   "source": [
    "heatmap_matrix_pre_false = []\n",
    "print(algo_name_array_pre)\n",
    "print(\"\\tGoing to process datatable #\" + str(idx) + \" with \" + str(len(visual_stimulus_data_matrix_pre_false)) + \" datasets: \")\n",
    "\n",
    "# iterate over all the datasets\n",
    "for dataset_idx, stimulus_dataset in enumerate(visual_stimulus_data_matrix_pre_false):\n",
    "    \n",
    "    print(\"\\t\\tdataset #\" + str(dataset_idx) + \" (up to \"+ str(len(stimulus_dataset)) + \"): [\", end='')\n",
    "    heatmap_array = []\n",
    "\n",
    "    # iterate over all the measurements of the dataset\n",
    "    for visual_idx, stimulus_measurement in enumerate(stimulus_dataset):\n",
    "        print(str(visual_idx), end=\";\")\n",
    "        print()\n",
    "        print(\"STIMULUS\", stimulus_measurement)\n",
    "        im = rEYEker.draw_shape_heat_map(image_array_pre[dataset_idx], stimulus_measurement, click_setting, should_copy=True)\n",
    "        heatmap_array.append(im)\n",
    "   \n",
    "    print(\"]\")\n",
    "    heatmap_matrix_pre_false.append(heatmap_array)"
   ]
  },
  {
   "cell_type": "code",
   "execution_count": 155,
   "metadata": {},
   "outputs": [
    {
     "name": "stdout",
     "output_type": "stream",
     "text": [
      "\tGoing to process datatable #9 with 10 datasets: \n",
      "\t\tdataset #0 (up to 3): [0;1;2;]\n",
      "\t\tdataset #1 (up to 0): []\n",
      "\t\tdataset #2 (up to 2): [0;1;]\n",
      "\t\tdataset #3 (up to 2): [0;1;]\n",
      "\t\tdataset #4 (up to 6): [0;1;2;3;4;5;]\n",
      "\t\tdataset #5 (up to 12): [0;1;2;3;4;5;6;7;8;9;10;11;]\n",
      "\t\tdataset #6 (up to 2): [0;1;]\n",
      "\t\tdataset #7 (up to 11): [0;1;2;3;4;5;6;7;8;9;10;]\n",
      "\t\tdataset #8 (up to 0): []\n",
      "\t\tdataset #9 (up to 3): [0;1;2;]\n"
     ]
    }
   ],
   "source": [
    "heatmap_matrix_post_false = []\n",
    "print(\"\\tGoing to process datatable #\" + str(idx) + \" with \" + str(len(visual_stimulus_data_matrix_post_false)) + \" datasets: \")\n",
    "\n",
    "# iterate over all the datasets\n",
    "for dataset_idx, stimulus_dataset in enumerate(visual_stimulus_data_matrix_post_false):\n",
    "    \n",
    "    print(\"\\t\\tdataset #\" + str(dataset_idx) + \" (up to \"+ str(len(stimulus_dataset)) + \"): [\", end='')\n",
    "    heatmap_array = []\n",
    "\n",
    "    # iterate over all the measurements of the dataset\n",
    "    for visual_idx, stimulus_measurement in enumerate(stimulus_dataset):\n",
    "        print(str(visual_idx), end=\";\")\n",
    "        \n",
    "        im = rEYEker.draw_shape_heat_map(image_array_pre[dataset_idx], stimulus_measurement, click_setting, should_copy=True)\n",
    "        heatmap_array.append(im)\n",
    "   \n",
    "    print(\"]\")\n",
    "    heatmap_matrix_post_false.append(heatmap_array)"
   ]
  },
  {
   "cell_type": "markdown",
   "metadata": {},
   "source": [
    "create heatmaps correct"
   ]
  },
  {
   "cell_type": "code",
   "execution_count": 156,
   "metadata": {},
   "outputs": [
    {
     "name": "stdout",
     "output_type": "stream",
     "text": [
      "\tGoing to process datatable #9 with 10 datasets: \n",
      "\t\tdataset #0 (up to 18): [0;1;2;3;4;5;6;7;8;9;10;11;12;13;14;15;16;17;]\n",
      "\t\tdataset #1 (up to 18): [0;1;2;3;4;5;6;7;8;9;10;11;12;13;14;15;16;17;]\n",
      "\t\tdataset #2 (up to 21): [0;1;2;3;4;5;6;7;8;9;10;11;12;13;14;15;16;17;18;19;20;]\n",
      "\t\tdataset #3 (up to 17): [0;1;2;3;4;5;6;7;8;9;10;11;12;13;14;15;16;]\n",
      "\t\tdataset #4 (up to 15): [0;1;2;3;4;5;6;7;8;9;10;11;12;13;14;]\n",
      "\t\tdataset #5 (up to 11): [0;1;2;3;4;5;6;7;8;9;10;]\n",
      "\t\tdataset #6 (up to 19): [0;1;2;3;4;5;6;7;8;9;10;11;12;13;14;15;16;17;18;]\n",
      "\t\tdataset #7 (up to 19): [0;1;2;3;4;5;6;7;8;9;10;11;12;13;14;15;16;17;18;]\n",
      "\t\tdataset #8 (up to 19): [0;1;2;3;4;5;6;7;8;9;10;11;12;13;14;15;16;17;18;]\n",
      "\t\tdataset #9 (up to 19): [0;1;2;3;4;5;6;7;8;9;10;11;12;13;14;15;16;17;18;]\n"
     ]
    }
   ],
   "source": [
    "heatmap_matrix_pre_correct = []\n",
    "print(\"\\tGoing to process datatable #\" + str(idx) + \" with \" + str(len(visual_stimulus_data_matrix_pre_correct)) + \" datasets: \")\n",
    "\n",
    "# iterate over all the datasets\n",
    "for dataset_idx, stimulus_dataset in enumerate(visual_stimulus_data_matrix_pre_correct):\n",
    "    \n",
    "    print(\"\\t\\tdataset #\" + str(dataset_idx) + \" (up to \"+ str(len(stimulus_dataset)) + \"): [\", end='')\n",
    "    heatmap_array = []\n",
    "\n",
    "    # iterate over all the measurements of the dataset\n",
    "    for visual_idx, stimulus_measurement in enumerate(stimulus_dataset):\n",
    "        print(str(visual_idx), end=\";\")\n",
    "        \n",
    "        im = rEYEker.draw_shape_heat_map(image_array_pre[dataset_idx], stimulus_measurement, click_setting, should_copy=True)\n",
    "        heatmap_array.append(im)\n",
    "   \n",
    "    print(\"]\")\n",
    "    heatmap_matrix_pre_correct.append(heatmap_array)"
   ]
  },
  {
   "cell_type": "code",
   "execution_count": 157,
   "metadata": {},
   "outputs": [
    {
     "name": "stdout",
     "output_type": "stream",
     "text": [
      "\tGoing to process datatable #9 with 10 datasets: \n",
      "\t\tdataset #0 (up to 18): [0;1;2;3;4;5;6;7;8;9;10;11;12;13;14;15;16;17;]\n",
      "\t\tdataset #1 (up to 21): [0;1;2;3;4;5;6;7;8;9;10;11;12;13;14;15;16;17;18;19;20;]\n",
      "\t\tdataset #2 (up to 19): [0;1;2;3;4;5;6;7;8;9;10;11;12;13;14;15;16;17;18;]\n",
      "\t\tdataset #3 (up to 19): [0;1;2;3;4;5;6;7;8;9;10;11;12;13;14;15;16;17;18;]\n",
      "\t\tdataset #4 (up to 14): [0;1;2;3;4;5;6;7;8;9;10;11;12;13;]\n",
      "\t\tdataset #5 (up to 9): [0;1;2;3;4;5;6;7;8;]\n",
      "\t\tdataset #6 (up to 19): [0;1;2;3;4;5;6;7;8;9;10;11;12;13;14;15;16;17;18;]\n",
      "\t\tdataset #7 (up to 10): [0;1;2;3;4;5;6;7;8;9;]\n",
      "\t\tdataset #8 (up to 21): [0;1;2;3;4;5;6;7;8;9;10;11;12;13;14;15;16;17;18;19;20;]\n",
      "\t\tdataset #9 (up to 18): [0;1;2;3;4;5;6;7;8;9;10;11;12;13;14;15;16;17;]\n"
     ]
    }
   ],
   "source": [
    "heatmap_matrix_post_correct = []\n",
    "print(\"\\tGoing to process datatable #\" + str(idx) + \" with \" + str(len(visual_stimulus_data_matrix_post_correct)) + \" datasets: \")\n",
    "\n",
    "# iterate over all the datasets\n",
    "for dataset_idx, stimulus_dataset in enumerate(visual_stimulus_data_matrix_post_correct):\n",
    "    \n",
    "    print(\"\\t\\tdataset #\" + str(dataset_idx) + \" (up to \"+ str(len(stimulus_dataset)) + \"): [\", end='')\n",
    "    heatmap_array = []\n",
    "\n",
    "    # iterate over all the measurements of the dataset\n",
    "    for visual_idx, stimulus_measurement in enumerate(stimulus_dataset):\n",
    "        print(str(visual_idx), end=\";\")\n",
    "        \n",
    "        im = rEYEker.draw_shape_heat_map(image_array_pre[dataset_idx], stimulus_measurement, click_setting, should_copy=True)\n",
    "        heatmap_array.append(im)\n",
    "   \n",
    "    print(\"]\")\n",
    "    heatmap_matrix_post_correct.append(heatmap_array)"
   ]
  },
  {
   "cell_type": "markdown",
   "metadata": {},
   "source": [
    "create heatmaps"
   ]
  },
  {
   "cell_type": "code",
   "execution_count": 158,
   "metadata": {},
   "outputs": [
    {
     "name": "stdout",
     "output_type": "stream",
     "text": [
      "\tGoing to process datatable #9 with 10 datasets: \n",
      "\t\tdataset #0 (up to 21): [0;1;2;3;4;5;6;7;8;9;10;11;12;13;14;15;16;17;18;19;20;]\n",
      "\t\tdataset #1 (up to 21): [0;1;2;3;4;5;6;7;8;9;10;11;12;13;14;15;16;17;18;19;20;]\n",
      "\t\tdataset #2 (up to 21): [0;1;2;3;4;5;6;7;8;9;10;11;12;13;14;15;16;17;18;19;20;]\n",
      "\t\tdataset #3 (up to 21): [0;1;2;3;4;5;6;7;8;9;10;11;12;13;14;15;16;17;18;19;20;]\n",
      "\t\tdataset #4 (up to 20): [0;1;2;3;4;5;6;7;8;9;10;11;12;13;14;15;16;17;18;19;]\n",
      "\t\tdataset #5 (up to 21): [0;1;2;3;4;5;6;7;8;9;10;11;12;13;14;15;16;17;18;19;20;]\n",
      "\t\tdataset #6 (up to 21): [0;1;2;3;4;5;6;7;8;9;10;11;12;13;14;15;16;17;18;19;20;]\n",
      "\t\tdataset #7 (up to 21): [0;1;2;3;4;5;6;7;8;9;10;11;12;13;14;15;16;17;18;19;20;]\n",
      "\t\tdataset #8 (up to 21): [0;1;2;3;4;5;6;7;8;9;10;11;12;13;14;15;16;17;18;19;20;]\n",
      "\t\tdataset #9 (up to 21): [0;1;2;3;4;5;6;7;8;9;10;11;12;13;14;15;16;17;18;19;20;]\n"
     ]
    }
   ],
   "source": [
    "heatmap_matrix = []\n",
    "print(\"\\tGoing to process datatable #\" + str(idx) + \" with \" + str(len(visual_stimulus_data_matrix_pre)) + \" datasets: \")\n",
    "\n",
    "# iterate over all the datasets\n",
    "for dataset_idx, stimulus_dataset in enumerate(visual_stimulus_data_matrix_pre):\n",
    "    \n",
    "    print(\"\\t\\tdataset #\" + str(dataset_idx) + \" (up to \"+ str(len(stimulus_dataset)) + \"): [\", end='')\n",
    "    heatmap_array = []\n",
    "\n",
    "    # iterate over all the measurements of the dataset\n",
    "    for visual_idx, stimulus_measurement in enumerate(stimulus_dataset):\n",
    "        print(str(visual_idx), end=\";\")\n",
    "        \n",
    "        im = rEYEker.draw_shape_heat_map(image_array_pre[dataset_idx], stimulus_measurement, click_setting, should_copy=True)\n",
    "        heatmap_array.append(im)\n",
    "   \n",
    "    print(\"]\")\n",
    "    heatmap_matrix.append(heatmap_array)"
   ]
  },
  {
   "cell_type": "code",
   "execution_count": 159,
   "metadata": {},
   "outputs": [
    {
     "name": "stdout",
     "output_type": "stream",
     "text": [
      "\tGoing to process datatable #9 with 10 datasets: \n",
      "\t\tdataset #0 (up to 21): [0;1;2;3;4;5;6;7;8;9;10;11;12;13;14;15;16;17;18;19;20;]\n",
      "\t\tdataset #1 (up to 21): [0;1;2;3;4;5;6;7;8;9;10;11;12;13;14;15;16;17;18;19;20;]\n",
      "\t\tdataset #2 (up to 21): [0;1;2;3;4;5;6;7;8;9;10;11;12;13;14;15;16;17;18;19;20;]\n",
      "\t\tdataset #3 (up to 21): [0;1;2;3;4;5;6;7;8;9;10;11;12;13;14;15;16;17;18;19;20;]\n",
      "\t\tdataset #4 (up to 20): [0;1;2;3;4;5;6;7;8;9;10;11;12;13;14;15;16;17;18;19;]\n",
      "\t\tdataset #5 (up to 21): [0;1;2;3;4;5;6;7;8;9;10;11;12;13;14;15;16;17;18;19;20;]\n",
      "\t\tdataset #6 (up to 21): [0;1;2;3;4;5;6;7;8;9;10;11;12;13;14;15;16;17;18;19;20;]\n",
      "\t\tdataset #7 (up to 21): [0;1;2;3;4;5;6;7;8;9;10;11;12;13;14;15;16;17;18;19;20;]\n",
      "\t\tdataset #8 (up to 21): [0;1;2;3;4;5;6;7;8;9;10;11;12;13;14;15;16;17;18;19;20;]\n",
      "\t\tdataset #9 (up to 21): [0;1;2;3;4;5;6;7;8;9;10;11;12;13;14;15;16;17;18;19;20;]\n"
     ]
    }
   ],
   "source": [
    "heatmap_matrix_post = []\n",
    "print(\"\\tGoing to process datatable #\" + str(idx) + \" with \" + str(len(visual_stimulus_data_matrix_post)) + \" datasets: \")\n",
    "\n",
    "\n",
    "\n",
    "#iterate over all the datasets\n",
    "for dataset_idx, stimulus_dataset in enumerate(visual_stimulus_data_matrix_post):\n",
    "    \n",
    "    print(\"\\t\\tdataset #\" + str(dataset_idx) + \" (up to \"+ str(len(stimulus_dataset)) + \"): [\", end='')\n",
    "    heatmap_array_post = []\n",
    "    \n",
    "    # iterate over all the measurements of the dataset\n",
    "    for visual_idx, stimulus_measurement in enumerate(stimulus_dataset):\n",
    "        \n",
    "        print(str(visual_idx), end=\";\")\n",
    "       \n",
    "        im = rEYEker.draw_shape_heat_map(image_array_post[dataset_idx], stimulus_measurement, click_setting, should_copy=True)\n",
    "     \n",
    "        heatmap_array_post.append(im)\n",
    "   \n",
    "    print(\"]\")\n",
    "    heatmap_matrix_post.append(heatmap_array)"
   ]
  },
  {
   "cell_type": "markdown",
   "metadata": {},
   "source": [
    "\n",
    "save Heatmaps"
   ]
  },
  {
   "cell_type": "code",
   "execution_count": 160,
   "metadata": {},
   "outputs": [
    {
     "name": "stdout",
     "output_type": "stream",
     "text": [
      "Writing to:./results/heatmaps/pretest/CommonChars/\n",
      "Writing to:./results/heatmaps/pretest/ContainsSubstring/\n",
      "Writing to:./results/heatmaps/pretest/CountVowels/\n",
      "Writing to:./results/heatmaps/pretest/ReverseArray/\n",
      "Writing to:./results/heatmaps/pretest/BinarySearchStrings/\n",
      "Writing to:./results/heatmaps/pretest/Multiples/\n",
      "Writing to:./results/heatmaps/pretest/CrossSum/\n",
      "Writing to:./results/heatmaps/pretest/Swap/\n",
      "Writing to:./results/heatmaps/pretest/InsertionSort/\n",
      "Writing to:./results/heatmaps/pretest/GreatestCommonDivisor/\n"
     ]
    }
   ],
   "source": [
    "for idx, heatmap_array in enumerate(heatmap_matrix):\n",
    "    path = \"./results/heatmaps/pretest/\" + str(algo_name_array_pre[idx]) + \"/\"\n",
    "    print(\"Writing to:\" + path)\n",
    "    save_images(heatmap_array, path, algo_name_array_pre[idx] + \"_\")\n"
   ]
  },
  {
   "cell_type": "code",
   "execution_count": 165,
   "metadata": {},
   "outputs": [
    {
     "name": "stdout",
     "output_type": "stream",
     "text": [
      "Writing to:./results/heatmaps/pretest/false/CommonChars/\n",
      "Writing to:./results/heatmaps/pretest/false/ContainsSubstring/\n",
      "Writing to:./results/heatmaps/pretest/false/CountVowels/\n",
      "Writing to:./results/heatmaps/pretest/false/ReverseArray/\n",
      "Writing to:./results/heatmaps/pretest/false/BinarySearchStrings/\n",
      "Writing to:./results/heatmaps/pretest/false/Multiples/\n",
      "Writing to:./results/heatmaps/pretest/false/CrossSum/\n",
      "Writing to:./results/heatmaps/pretest/false/Swap/\n",
      "Writing to:./results/heatmaps/pretest/false/InsertionSort/\n",
      "Writing to:./results/heatmaps/pretest/false/GreatestCommonDivisor/\n"
     ]
    }
   ],
   "source": [
    "for idx, heatmap_array in enumerate(heatmap_matrix_pre_false):\n",
    "    path = \"./results/heatmaps/pretest/false/\" + str(algo_name_array_pre[idx]) + \"/\"\n",
    "    print(\"Writing to:\" + path)\n",
    "    save_images(heatmap_array, path, algo_name_array_pre[idx] + \"_\")"
   ]
  },
  {
   "cell_type": "code",
   "execution_count": 164,
   "metadata": {},
   "outputs": [
    {
     "name": "stdout",
     "output_type": "stream",
     "text": [
      "Writing to:./results/heatmaps/pretest/correct/CommonChars/\n",
      "Writing to:./results/heatmaps/pretest/correct/ContainsSubstring/\n",
      "Writing to:./results/heatmaps/pretest/correct/CountVowels/\n",
      "Writing to:./results/heatmaps/pretest/correct/ReverseArray/\n",
      "Writing to:./results/heatmaps/pretest/correct/BinarySearchStrings/\n",
      "Writing to:./results/heatmaps/pretest/correct/Multiples/\n",
      "Writing to:./results/heatmaps/pretest/correct/CrossSum/\n",
      "Writing to:./results/heatmaps/pretest/correct/Swap/\n",
      "Writing to:./results/heatmaps/pretest/correct/InsertionSort/\n",
      "Writing to:./results/heatmaps/pretest/correct/GreatestCommonDivisor/\n"
     ]
    }
   ],
   "source": [
    "for idx, heatmap_array in enumerate(heatmap_matrix_pre_correct):\n",
    "    path = \"./results/heatmaps/pretest/correct/\" + str(algo_name_array_pre[idx]) + \"/\"\n",
    "    print(\"Writing to:\" + path)\n",
    "    save_images(heatmap_array, path, algo_name_array_pre[idx] + \"_\")"
   ]
  },
  {
   "cell_type": "code",
   "execution_count": 166,
   "metadata": {},
   "outputs": [
    {
     "name": "stdout",
     "output_type": "stream",
     "text": [
      "Writing to:./results/heatmaps/posttest/CommonChars/\n",
      "Writing to:./results/heatmaps/posttest/IsPalindrome/\n",
      "Writing to:./results/heatmaps/posttest/ReverseString/\n",
      "Writing to:./results/heatmaps/posttest/ReverseArray/\n",
      "Writing to:./results/heatmaps/posttest/BinarySearchStrings/\n",
      "Writing to:./results/heatmaps/posttest/Multiples/\n",
      "Writing to:./results/heatmaps/posttest/Power/\n",
      "Writing to:./results/heatmaps/posttest/GetMiddle/\n",
      "Writing to:./results/heatmaps/posttest/InsertionSort/\n",
      "Writing to:./results/heatmaps/posttest/SquareRoot/\n"
     ]
    }
   ],
   "source": [
    "for idx, heatmap_array in enumerate(heatmap_matrix_post):\n",
    "    path = \"./results/heatmaps/posttest/\" + str(algo_name_array_post[idx]) + \"/\"\n",
    "    print(\"Writing to:\" + path)\n",
    "    save_images(heatmap_array, path, algo_name_array_post[idx] + \"_\")"
   ]
  },
  {
   "cell_type": "code",
   "execution_count": 167,
   "metadata": {},
   "outputs": [
    {
     "name": "stdout",
     "output_type": "stream",
     "text": [
      "Writing to:./results/heatmaps/posttest/false/CommonChars/\n",
      "Writing to:./results/heatmaps/posttest/false/ContainsSubstring/\n",
      "Writing to:./results/heatmaps/posttest/false/CountVowels/\n",
      "Writing to:./results/heatmaps/posttest/false/ReverseArray/\n",
      "Writing to:./results/heatmaps/posttest/false/BinarySearchStrings/\n",
      "Writing to:./results/heatmaps/posttest/false/Multiples/\n",
      "Writing to:./results/heatmaps/posttest/false/CrossSum/\n",
      "Writing to:./results/heatmaps/posttest/false/Swap/\n",
      "Writing to:./results/heatmaps/posttest/false/InsertionSort/\n",
      "Writing to:./results/heatmaps/posttest/false/GreatestCommonDivisor/\n"
     ]
    }
   ],
   "source": [
    "for idx, heatmap_array in enumerate(heatmap_matrix_post_false):\n",
    "    path = \"./results/heatmaps/posttest/false/\" + str(algo_name_array_pre[idx]) + \"/\"\n",
    "    print(\"Writing to:\" + path)\n",
    "    save_images(heatmap_array, path, algo_name_array_pre[idx] + \"_\")"
   ]
  },
  {
   "cell_type": "code",
   "execution_count": 168,
   "metadata": {},
   "outputs": [
    {
     "name": "stdout",
     "output_type": "stream",
     "text": [
      "Writing to:./results/heatmaps/posttest/correct/CommonChars/\n",
      "Writing to:./results/heatmaps/posttest/correct/ContainsSubstring/\n",
      "Writing to:./results/heatmaps/posttest/correct/CountVowels/\n",
      "Writing to:./results/heatmaps/posttest/correct/ReverseArray/\n",
      "Writing to:./results/heatmaps/posttest/correct/BinarySearchStrings/\n",
      "Writing to:./results/heatmaps/posttest/correct/Multiples/\n",
      "Writing to:./results/heatmaps/posttest/correct/CrossSum/\n",
      "Writing to:./results/heatmaps/posttest/correct/Swap/\n",
      "Writing to:./results/heatmaps/posttest/correct/InsertionSort/\n",
      "Writing to:./results/heatmaps/posttest/correct/GreatestCommonDivisor/\n"
     ]
    }
   ],
   "source": [
    "for idx, heatmap_array in enumerate(heatmap_matrix_post_correct):\n",
    "    path = \"./results/heatmaps/posttest/correct/\" + str(algo_name_array_pre[idx]) + \"/\"\n",
    "    print(\"Writing to:\" + path)\n",
    "    save_images(heatmap_array, path, algo_name_array_pre[idx] + \"_\")"
   ]
  },
  {
   "cell_type": "markdown",
   "metadata": {},
   "source": [
    "<h2>3. Create Average Heatmaps</h2>"
   ]
  },
  {
   "cell_type": "markdown",
   "metadata": {},
   "source": [
    "create pretest heatmaps"
   ]
  },
  {
   "cell_type": "code",
   "execution_count": 169,
   "metadata": {
    "tags": []
   },
   "outputs": [
    {
     "name": "stdout",
     "output_type": "stream",
     "text": [
      "#0#1#2#3#4#5#6#7#8#9"
     ]
    }
   ],
   "source": [
    "heatmap_array = []\n",
    "mask_array = []\n",
    "shape_array = []\n",
    "\n",
    "# iterate over all the datasets\n",
    "for idx, stimulus_dataset in enumerate(visual_stimulus_data_matrix_pre):\n",
    "    print(\"#\" + str(idx), end=\"\")\n",
    "    image = image_array_pre[idx]\n",
    "    shape_array.append(image.shape)\n",
    "    im, mask = rEYEker.draw_average_shape_heat_map_rel(image, stimulus_dataset, click_setting, 1.0, 0.0, None, should_copy=True)\n",
    "    heatmap_array.append(im)\n",
    "    mask_array.append(mask)\n"
   ]
  },
  {
   "cell_type": "code",
   "execution_count": 170,
   "metadata": {
    "tags": []
   },
   "outputs": [
    {
     "name": "stdout",
     "output_type": "stream",
     "text": [
      "Writing to:./results/averageHeatMaps/pretest/\n",
      "Writing to:./results/averageHeatMaps/pretest/\n",
      "Writing to:./results/averageHeatMaps/pretest/\n",
      "Writing to:./results/averageHeatMaps/pretest/\n",
      "Writing to:./results/averageHeatMaps/pretest/\n",
      "Writing to:./results/averageHeatMaps/pretest/\n",
      "Writing to:./results/averageHeatMaps/pretest/\n",
      "Writing to:./results/averageHeatMaps/pretest/\n",
      "Writing to:./results/averageHeatMaps/pretest/\n",
      "Writing to:./results/averageHeatMaps/pretest/\n"
     ]
    }
   ],
   "source": [
    "for idx, heatmap in enumerate(heatmap_array):\n",
    "    #path = \"./results/\" + str(algo_name_aray[algo_idx]) + \"/heatmaps/average_heatmap/\"\n",
    "    path = \"./results/averageHeatMaps/pretest/\"\n",
    "    print(\"Writing to:\" + path)\n",
    "    save_images([heatmap], path, algo_name_array_pre[idx] + \"-Pretest\")"
   ]
  },
  {
   "cell_type": "code",
   "execution_count": 171,
   "metadata": {},
   "outputs": [
    {
     "name": "stdout",
     "output_type": "stream",
     "text": [
      "#0#1#2#3#4#5#6#7#8#9"
     ]
    }
   ],
   "source": [
    "heatmap_array = []\n",
    "mask_array = []\n",
    "shape_array = []\n",
    "\n",
    "indizes = []\n",
    "\n",
    "# iterate over all the datasets\n",
    "for idx, stimulus_dataset in enumerate(visual_stimulus_data_matrix_pre_false):        \n",
    "    print(\"#\" + str(idx), end=\"\")\n",
    "    image = image_array_pre[idx]\n",
    "    shape_array.append(image.shape)\n",
    "    if len(stimulus_dataset) == 0:\n",
    "        indizes.append(idx)\n",
    "        continue\n",
    "    im, mask = rEYEker.draw_average_shape_heat_map_rel(image, stimulus_dataset, click_setting, 1.0, 0.0, None, should_copy=True)\n",
    "    heatmap_array.append(im)\n",
    "    mask_array.append(mask)\n",
    "    "
   ]
  },
  {
   "cell_type": "code",
   "execution_count": 172,
   "metadata": {},
   "outputs": [],
   "source": [
    "counter = 0\n",
    "\n",
    "for idx, heatmap in enumerate(heatmap_array):\n",
    "    if idx in indizes:\n",
    "        counter += 1\n",
    "    image_idx = idx + counter\n",
    "    #path = \"./results/\" + str(algo_name_aray[algo_idx]) + \"/heatmaps/average_heatmap/\"\n",
    "    path = \"./results/averageHeatMaps/pretest/false/\"\n",
    "    #print(\"Writing to:\" + path)\n",
    "    save_images([heatmap], path, algo_name_array_pre[image_idx] + \"-pretest-false\")"
   ]
  },
  {
   "cell_type": "code",
   "execution_count": 173,
   "metadata": {},
   "outputs": [
    {
     "name": "stdout",
     "output_type": "stream",
     "text": [
      "#0#1#2#3#4#5#6#7#8#9"
     ]
    }
   ],
   "source": [
    "heatmap_array = []\n",
    "mask_array = []\n",
    "shape_array = []\n",
    "\n",
    "# iterate over all the datasets\n",
    "for idx, stimulus_dataset in enumerate(visual_stimulus_data_matrix_pre_correct):\n",
    "    print(\"#\" + str(idx), end=\"\")\n",
    "    image = image_array_pre[idx]\n",
    "    shape_array.append(image.shape)\n",
    "    im, mask = rEYEker.draw_average_shape_heat_map_rel(image, stimulus_dataset, click_setting, 1.0, 0.0, None, should_copy=True)\n",
    "    heatmap_array.append(im)\n",
    "    mask_array.append(mask)\n",
    "    \n"
   ]
  },
  {
   "cell_type": "code",
   "execution_count": 174,
   "metadata": {},
   "outputs": [
    {
     "name": "stdout",
     "output_type": "stream",
     "text": [
      "Writing to:./results/averageHeatMaps/pretest/correct/\n",
      "Writing to:./results/averageHeatMaps/pretest/correct/\n",
      "Writing to:./results/averageHeatMaps/pretest/correct/\n",
      "Writing to:./results/averageHeatMaps/pretest/correct/\n",
      "Writing to:./results/averageHeatMaps/pretest/correct/\n",
      "Writing to:./results/averageHeatMaps/pretest/correct/\n",
      "Writing to:./results/averageHeatMaps/pretest/correct/\n",
      "Writing to:./results/averageHeatMaps/pretest/correct/\n",
      "Writing to:./results/averageHeatMaps/pretest/correct/\n",
      "Writing to:./results/averageHeatMaps/pretest/correct/\n"
     ]
    }
   ],
   "source": [
    "for idx, heatmap in enumerate(heatmap_array):\n",
    "    #path = \"./results/\" + str(algo_name_aray[algo_idx]) + \"/heatmaps/average_heatmap/\"\n",
    "    path = \"./results/averageHeatMaps/pretest/correct/\"\n",
    "    print(\"Writing to:\" + path)\n",
    "    save_images([heatmap], path, algo_name_array_pre[idx] + \"-Pretest-correct\")"
   ]
  },
  {
   "cell_type": "markdown",
   "metadata": {},
   "source": [
    "save pretest heatmaps"
   ]
  },
  {
   "cell_type": "markdown",
   "metadata": {},
   "source": [
    "create posttest heatmaps"
   ]
  },
  {
   "cell_type": "code",
   "execution_count": 175,
   "metadata": {},
   "outputs": [
    {
     "name": "stdout",
     "output_type": "stream",
     "text": [
      "#0#1#2#3#4#5#6#7#8#9"
     ]
    }
   ],
   "source": [
    "heatmap_array = []\n",
    "mask_array = []\n",
    "shape_array = []\n",
    "\n",
    "# iterate over all the datasets\n",
    "for idx, stimulus_dataset in enumerate(visual_stimulus_data_matrix_post):\n",
    "    print(\"#\" + str(idx), end=\"\")\n",
    "    image = image_array_post[idx]\n",
    "    shape_array.append(image.shape)\n",
    "    im, mask = rEYEker.draw_average_shape_heat_map_rel(image, stimulus_dataset, click_setting, 1.0, 0.0, None, should_copy=True)\n",
    "    heatmap_array.append(im)\n",
    "    mask_array.append(mask)\n",
    "    "
   ]
  },
  {
   "cell_type": "markdown",
   "metadata": {},
   "source": [
    "save posttest heatmaps"
   ]
  },
  {
   "cell_type": "code",
   "execution_count": 176,
   "metadata": {},
   "outputs": [
    {
     "name": "stdout",
     "output_type": "stream",
     "text": [
      "./results/averageHeatMaps/posttest/\n",
      "./results/averageHeatMaps/posttest/\n",
      "./results/averageHeatMaps/posttest/\n",
      "./results/averageHeatMaps/posttest/\n",
      "./results/averageHeatMaps/posttest/\n",
      "./results/averageHeatMaps/posttest/\n",
      "./results/averageHeatMaps/posttest/\n",
      "./results/averageHeatMaps/posttest/\n",
      "./results/averageHeatMaps/posttest/\n",
      "./results/averageHeatMaps/posttest/\n"
     ]
    }
   ],
   "source": [
    "for idx, heatmap in enumerate(heatmap_array):\n",
    "    #path = \"./results/\" + str(algo_name_aray[algo_idx]) + \"/heatmaps/average_heatmap/\"\n",
    "    path = \"./results/averageHeatMaps/posttest/\"\n",
    "    print(path)\n",
    "    save_images([heatmap], path, algo_name_array_post[idx] + \"-Posttest\")"
   ]
  },
  {
   "cell_type": "code",
   "execution_count": 177,
   "metadata": {},
   "outputs": [
    {
     "name": "stdout",
     "output_type": "stream",
     "text": [
      "#0#1#2#3#4#5#6#7#8#9"
     ]
    }
   ],
   "source": [
    "heatmap_array = []\n",
    "mask_array = []\n",
    "shape_array = []\n",
    "\n",
    "indizes = []\n",
    "\n",
    "# iterate over all the datasets\n",
    "for idx, stimulus_dataset in enumerate(visual_stimulus_data_matrix_post_false):        \n",
    "    print(\"#\" + str(idx), end=\"\")\n",
    "    image = image_array_post[idx]\n",
    "    shape_array.append(image.shape)\n",
    "    if len(stimulus_dataset) == 0:\n",
    "        indizes.append(idx)\n",
    "        continue\n",
    "    im, mask = rEYEker.draw_average_shape_heat_map_rel(image, stimulus_dataset, click_setting, 1.0, 0.0, None, should_copy=True)\n",
    "    heatmap_array.append(im)\n",
    "    mask_array.append(mask)"
   ]
  },
  {
   "cell_type": "code",
   "execution_count": 178,
   "metadata": {},
   "outputs": [
    {
     "name": "stdout",
     "output_type": "stream",
     "text": [
      "0\n",
      "Writing to:./results/averageHeatMaps/posttest/false/ CommonChars\n",
      "1\n",
      "Writing to:./results/averageHeatMaps/posttest/false/ ReverseString\n",
      "2\n",
      "Writing to:./results/averageHeatMaps/posttest/false/ ReverseArray\n",
      "3\n",
      "Writing to:./results/averageHeatMaps/posttest/false/ BinarySearchStrings\n",
      "4\n",
      "Writing to:./results/averageHeatMaps/posttest/false/ Multiples\n",
      "5\n",
      "Writing to:./results/averageHeatMaps/posttest/false/ Power\n",
      "6\n",
      "Writing to:./results/averageHeatMaps/posttest/false/ GetMiddle\n",
      "7\n",
      "Writing to:./results/averageHeatMaps/posttest/false/ SquareRoot\n"
     ]
    }
   ],
   "source": [
    "counter = 0\n",
    "image_idx = 0\n",
    "\n",
    "for idx, heatmap in enumerate(heatmap_array):\n",
    "    image_idx = idx + counter\n",
    "    print(idx)\n",
    "    #CommonChars 86.36363636363636\n",
    "    #IsPalindrome 100.0\n",
    "    #ReverseString 90.9090909090909\n",
    "    #ReverseArray 90.9090909090909\n",
    "    #BinarySearchStrings 72.72727272727273\n",
    "    #Multiples 45.45454545454545\n",
    "    #Power 90.9090909090909\n",
    "    #GetMiddle 50.0\n",
    "    #InsertionSort 100.0\n",
    "    #SquareRoot 86.36363636363636\n",
    "    #print(algo_name_array_post[idx], algo_name_array_post[image_idx])\n",
    "    if image_idx in indizes:\n",
    "        counter += 1\n",
    "        image_idx += 1\n",
    "    path = \"./results/averageHeatMaps/posttest/false/\"\n",
    "    print(\"Writing to:\" + path, algo_name_array_post[image_idx])\n",
    "    save_images([heatmap], path, algo_name_array_post[image_idx] + \"-posttest-false\")"
   ]
  },
  {
   "cell_type": "code",
   "execution_count": 179,
   "metadata": {},
   "outputs": [
    {
     "name": "stdout",
     "output_type": "stream",
     "text": [
      "#0#1#2#3#4#5#6#7#8#9"
     ]
    }
   ],
   "source": [
    "heatmap_array = []\n",
    "mask_array = []\n",
    "shape_array = []\n",
    "\n",
    "# iterate over all the datasets\n",
    "for idx, stimulus_dataset in enumerate(visual_stimulus_data_matrix_post_correct):        \n",
    "    print(\"#\" + str(idx), end=\"\")\n",
    "    image = image_array_post[idx]\n",
    "    shape_array.append(image.shape)\n",
    "    im, mask = rEYEker.draw_average_shape_heat_map_rel(image, stimulus_dataset, click_setting, 1.0, 0.0, None, should_copy=True)\n",
    "    heatmap_array.append(im)\n",
    "    mask_array.append(mask)"
   ]
  },
  {
   "cell_type": "code",
   "execution_count": 180,
   "metadata": {},
   "outputs": [
    {
     "name": "stdout",
     "output_type": "stream",
     "text": [
      "Writing to:./results/averageHeatMaps/posttest/correct/\n",
      "Writing to:./results/averageHeatMaps/posttest/correct/\n",
      "Writing to:./results/averageHeatMaps/posttest/correct/\n",
      "Writing to:./results/averageHeatMaps/posttest/correct/\n",
      "Writing to:./results/averageHeatMaps/posttest/correct/\n",
      "Writing to:./results/averageHeatMaps/posttest/correct/\n",
      "Writing to:./results/averageHeatMaps/posttest/correct/\n",
      "Writing to:./results/averageHeatMaps/posttest/correct/\n",
      "Writing to:./results/averageHeatMaps/posttest/correct/\n",
      "Writing to:./results/averageHeatMaps/posttest/correct/\n"
     ]
    }
   ],
   "source": [
    "for idx, heatmap in enumerate(heatmap_array):\n",
    "    #path = \"./results/\" + str(algo_name_aray[algo_idx]) + \"/heatmaps/average_heatmap/\"\n",
    "    path = \"./results/averageHeatMaps/posttest/correct/\"\n",
    "    print(\"Writing to:\" + path)\n",
    "    save_images([heatmap], path, algo_name_array_post[idx] + \"-Posttest-correct\")"
   ]
  },
  {
   "cell_type": "markdown",
   "metadata": {},
   "source": [
    "<h2>4. Create Sequence diagramms</h2>"
   ]
  },
  {
   "cell_type": "markdown",
   "metadata": {},
   "source": [
    "create sequence diagrams"
   ]
  },
  {
   "cell_type": "code",
   "execution_count": 134,
   "metadata": {},
   "outputs": [
    {
     "name": "stdout",
     "output_type": "stream",
     "text": [
      "\t\tdataset #0 (up to 21): [0;1;2;3;4;5;6;7;8;9;10;11;12;13;14;15;16;17;18;19;20;]\n",
      "\t\tdataset #1 (up to 21): [0;1;2;3;4;5;6;7;8;9;10;11;12;13;14;15;16;17;18;19;20;]\n",
      "\t\tdataset #2 (up to 21): [0;1;2;3;4;5;6;7;8;9;10;11;12;13;14;15;16;17;18;19;20;]\n",
      "\t\tdataset #3 (up to 21): [0;1;2;3;4;5;6;7;8;9;10;11;12;13;14;15;16;17;18;19;20;]\n",
      "\t\tdataset #4 (up to 20): [0;1;2;3;4;5;6;7;W.I.P.:to many clicks for dataset 4 datset 7\n",
      "8;W.I.P.:to many clicks for dataset 4 datset 8\n",
      "9;10;11;12;13;14;15;16;17;18;19;]\n",
      "\t\tdataset #5 (up to 21): [0;1;2;3;4;5;6;7;8;9;10;11;12;13;14;15;16;17;18;19;20;]\n",
      "\t\tdataset #6 (up to 21): [0;1;2;3;4;5;6;7;8;9;10;11;12;13;14;15;16;17;18;19;20;]\n",
      "\t\tdataset #7 (up to 21): [0;1;2;3;4;5;6;7;8;9;10;11;12;13;14;15;16;17;18;19;20;]\n",
      "\t\tdataset #8 (up to 21): [0;1;2;3;4;5;6;7;8;9;10;11;12;13;14;15;16;17;18;19;20;]\n",
      "\t\tdataset #9 (up to 21): [0;1;2;3;4;5;6;7;8;W.I.P.:to many clicks for dataset 9 datset 8\n",
      "9;10;11;12;13;14;15;16;17;18;19;20;]\n"
     ]
    }
   ],
   "source": [
    "sequence_diagrams_matrix = []\n",
    "    \n",
    "# iterate over all the datasets\n",
    "for dataset_idx, stimulus_dataset in enumerate(visual_stimulus_data_matrix_pre):\n",
    "    sequence_diagram_array = []\n",
    "    print(\"\\t\\tdataset #\" + str(dataset_idx) + \" (up to \"+ str(len(stimulus_dataset)) + \"): [\", end='')\n",
    "\n",
    "    # iterate over all the measurements of the dataset\n",
    "    for visual_idx, stimulus_measurement in enumerate(stimulus_dataset):\n",
    "        print(str(visual_idx), end=\";\")\n",
    "        im = image_array_pre[dataset_idx]\n",
    "        try:\n",
    "            im = rEYEker.draw_vertical_line_diagram(im, stimulus_measurement, should_copy=True)\n",
    "            sequence_diagram_array.append(im)\n",
    "            \n",
    "        except:\n",
    "            #TODO\n",
    "            sequence_diagram_array.append(im.copy())\n",
    "            print(\"W.I.P.:\", end='')\n",
    "            print(\"to many clicks for dataset \" + str(dataset_idx) + \" datset \" + str(visual_idx))\n",
    "            \n",
    "    print(\"]\")\n",
    "    sequence_diagrams_matrix.append(sequence_diagram_array)"
   ]
  },
  {
   "cell_type": "markdown",
   "metadata": {},
   "source": [
    "save sequence diagrams"
   ]
  },
  {
   "cell_type": "code",
   "execution_count": 136,
   "metadata": {},
   "outputs": [
    {
     "name": "stdout",
     "output_type": "stream",
     "text": [
      "Writing to:./results/sequence_diagrams/pretest/CommonChars/\n",
      "Writing to:./results/sequence_diagrams/pretest/ContainsSubstring/\n",
      "Writing to:./results/sequence_diagrams/pretest/CountVowels/\n",
      "Writing to:./results/sequence_diagrams/pretest/ReverseArray/\n",
      "Writing to:./results/sequence_diagrams/pretest/BinarySearchStrings/\n",
      "Writing to:./results/sequence_diagrams/pretest/Multiples/\n",
      "Writing to:./results/sequence_diagrams/pretest/CrossSum/\n",
      "Writing to:./results/sequence_diagrams/pretest/Swap/\n",
      "Writing to:./results/sequence_diagrams/pretest/InsertionSort/\n",
      "Writing to:./results/sequence_diagrams/pretest/GreatestCommonDivisor/\n"
     ]
    }
   ],
   "source": [
    "for idx, sequence_diagram_array in enumerate(sequence_diagrams_matrix):\n",
    "    path = \"./results/sequence_diagrams/pretest/\" +  str(algo_name_array_pre[idx]) + \"/\"\n",
    "    print(\"Writing to:\" + path)\n",
    "    save_images(sequence_diagram_array, path, algo_name_array_pre[idx])"
   ]
  },
  {
   "cell_type": "code",
   "execution_count": 138,
   "metadata": {},
   "outputs": [
    {
     "name": "stdout",
     "output_type": "stream",
     "text": [
      "\t\tdataset #0 (up to 21): [0;1;2;3;4;to many clicks for dataset 0 dataset 4\n",
      "5;6;7;to many clicks for dataset 0 dataset 7\n",
      "8;9;10;11;12;13;14;to many clicks for dataset 0 dataset 14\n",
      "15;16;17;18;19;to many clicks for dataset 0 dataset 19\n",
      "20;to many clicks for dataset 0 dataset 20\n",
      "]\n",
      "\t\tdataset #1 (up to 21): [0;1;2;3;4;5;6;7;8;9;10;11;12;13;14;15;16;17;18;19;20;]\n",
      "\t\tdataset #2 (up to 21): [0;1;2;3;4;5;6;7;8;9;10;11;12;13;14;15;16;17;18;19;20;]\n",
      "\t\tdataset #3 (up to 21): [0;1;2;3;4;5;6;7;8;9;10;11;12;13;14;15;16;17;18;19;20;]\n",
      "\t\tdataset #4 (up to 20): [0;1;2;3;4;5;6;7;8;9;10;11;12;13;14;15;16;17;18;19;]\n",
      "\t\tdataset #5 (up to 21): [0;1;2;3;4;5;6;7;8;9;10;11;12;13;14;15;16;17;18;19;20;]\n",
      "\t\tdataset #6 (up to 21): [0;1;to many clicks for dataset 6 dataset 1\n",
      "2;3;4;5;6;7;8;9;10;11;12;13;14;15;16;17;18;19;20;]\n",
      "\t\tdataset #7 (up to 21): [0;to many clicks for dataset 7 dataset 0\n",
      "1;to many clicks for dataset 7 dataset 1\n",
      "2;to many clicks for dataset 7 dataset 2\n",
      "3;to many clicks for dataset 7 dataset 3\n",
      "4;to many clicks for dataset 7 dataset 4\n",
      "5;to many clicks for dataset 7 dataset 5\n",
      "6;to many clicks for dataset 7 dataset 6\n",
      "7;to many clicks for dataset 7 dataset 7\n",
      "8;to many clicks for dataset 7 dataset 8\n",
      "9;to many clicks for dataset 7 dataset 9\n",
      "10;to many clicks for dataset 7 dataset 10\n",
      "11;to many clicks for dataset 7 dataset 11\n",
      "12;to many clicks for dataset 7 dataset 12\n",
      "13;to many clicks for dataset 7 dataset 13\n",
      "14;to many clicks for dataset 7 dataset 14\n",
      "15;to many clicks for dataset 7 dataset 15\n",
      "16;to many clicks for dataset 7 dataset 16\n",
      "17;to many clicks for dataset 7 dataset 17\n",
      "18;to many clicks for dataset 7 dataset 18\n",
      "19;to many clicks for dataset 7 dataset 19\n",
      "20;to many clicks for dataset 7 dataset 20\n",
      "]\n",
      "\t\tdataset #8 (up to 21): [0;1;2;3;4;5;6;7;8;9;10;11;12;13;14;15;16;17;18;19;20;]\n",
      "\t\tdataset #9 (up to 21): [0;1;2;3;4;5;6;7;8;9;10;11;12;13;14;15;16;17;18;19;20;]\n"
     ]
    }
   ],
   "source": [
    "sequence_diagrams_matrix = []\n",
    "    \n",
    "# iterate over all the datasets\n",
    "for dataset_idx, stimulus_dataset in enumerate(visual_stimulus_data_matrix_post):\n",
    "    sequence_diagram_array = []\n",
    "    print(\"\\t\\tdataset #\" + str(dataset_idx) + \" (up to \"+ str(len(stimulus_dataset)) + \"): [\", end='')\n",
    "\n",
    "    # iterate over all the measurements of the dataset\n",
    "    for visual_idx, stimulus_measurement in enumerate(stimulus_dataset):\n",
    "        print(str(visual_idx), end=\";\")\n",
    "        im = image_array_pre[dataset_idx]\n",
    "        try:\n",
    "            im = rEYEker.draw_vertical_line_diagram(im, stimulus_measurement, should_copy=True)\n",
    "            sequence_diagram_array.append(im)\n",
    "            \n",
    "        except:\n",
    "            #TODO\n",
    "            sequence_diagram_array.append(im.copy())\n",
    "            #print(\"W.I.P.:\", end='')\n",
    "            print(\"to many clicks for dataset \" + str(dataset_idx) + \" dataset \" + str(visual_idx))\n",
    "            \n",
    "    print(\"]\")\n",
    "    sequence_diagrams_matrix.append(sequence_diagram_array)"
   ]
  },
  {
   "cell_type": "code",
   "execution_count": null,
   "metadata": {},
   "outputs": [],
   "source": []
  }
 ],
 "metadata": {
  "kernelspec": {
   "display_name": "Python 3",
   "language": "python",
   "name": "python3"
  },
  "language_info": {
   "codemirror_mode": {
    "name": "ipython",
    "version": 3
   },
   "file_extension": ".py",
   "mimetype": "text/x-python",
   "name": "python",
   "nbconvert_exporter": "python",
   "pygments_lexer": "ipython3",
   "version": "3.8.8"
  }
 },
 "nbformat": 4,
 "nbformat_minor": 4
}
