{
 "cells": [
  {
   "cell_type": "markdown",
   "metadata": {},
   "source": [
    "imports"
   ]
  },
  {
   "cell_type": "code",
   "execution_count": 90,
   "metadata": {},
   "outputs": [],
   "source": [
    "import pandas as pd\n",
    "import seaborn as sns\n",
    "import numpy as np"
   ]
  },
  {
   "cell_type": "markdown",
   "metadata": {},
   "source": [
    "config"
   ]
  },
  {
   "cell_type": "code",
   "execution_count": 96,
   "metadata": {},
   "outputs": [],
   "source": [
    "config_pretest_datasheet = r'./results/preprocessed.xlsx'\n",
    "config_posttest_datasheet = r'./results/preprocessed_posttest.xlsx'\n",
    "config_pretest_points = r'./results/points_pretest.xlsx'\n",
    "config_posttest_points = r'./results/points_posttest.xlsx'"
   ]
  },
  {
   "cell_type": "markdown",
   "metadata": {},
   "source": [
    "import df"
   ]
  },
  {
   "cell_type": "code",
   "execution_count": 117,
   "metadata": {},
   "outputs": [],
   "source": [
    "raw_pre = pd.read_excel(config_pretest_datasheet)\n",
    "raw_post = pd.read_excel(config_posttest_datasheet)\n",
    "raw_pre_points = pd.read_excel(config_pretest_points)\n",
    "raw_post_points = pd.read_excel(config_posttest_points)\n",
    "df_pre = pd.DataFrame(raw_pre)\n",
    "df_post = pd.DataFrame(raw_post)\n",
    "df_pre_points = pd.DataFrame(raw_pre_points)\n",
    "df_post_points = pd.DataFrame(raw_post_points)"
   ]
  },
  {
   "cell_type": "markdown",
   "metadata": {},
   "source": [
    "remove outliers"
   ]
  },
  {
   "cell_type": "markdown",
   "metadata": {},
   "source": [
    "create result"
   ]
  },
  {
   "cell_type": "code",
   "execution_count": 133,
   "metadata": {},
   "outputs": [
    {
     "name": "stdout",
     "output_type": "stream",
     "text": [
      "22\n",
      "52\n"
     ]
    },
    {
     "data": {
      "text/plain": [
       "[F_onewayResult(statistic=3.5987653941377857, pvalue=0.06183339580394601),\n",
       " F_onewayResult(statistic=1.9934681986747178, pvalue=0.16228608218429932),\n",
       " F_onewayResult(statistic=4.893478893145908, pvalue=0.03013149605399145),\n",
       " F_onewayResult(statistic=8.704886408679561, pvalue=0.004279481974351873),\n",
       " F_onewayResult(statistic=3.0239215642584707, pvalue=0.08631895257542425),\n",
       " F_onewayResult(statistic=0.951600682142897, pvalue=0.3325783679339265),\n",
       " F_onewayResult(statistic=6.032650513647951, pvalue=0.016456895005435224),\n",
       " F_onewayResult(statistic=18.29300994282886, pvalue=5.730498021923023e-05),\n",
       " F_onewayResult(statistic=0.3642088940371038, pvalue=0.54807455503206),\n",
       " F_onewayResult(statistic=7.043022710793575, pvalue=0.009813414306213169)]"
      ]
     },
     "execution_count": 133,
     "metadata": {},
     "output_type": "execute_result"
    }
   ],
   "source": [
    "from scipy.stats import f_oneway\n",
    "\n",
    "response_times_pre = [[] for _ in range(10)]\n",
    "response_times_post = [[] for _ in range(10)]\n",
    "\n",
    "algo_names_pre = df_pre[\"Algorithm\"].dropna().unique()\n",
    "students_pre = df_pre[\"Unique Code\"].dropna().unique()\n",
    "\n",
    "algo_names_post = df_post[\"Algorithm\"].dropna().unique()\n",
    "students_post = df_post[\"Unique Code\"].dropna().unique()\n",
    "\n",
    "print(len(students_post))\n",
    "print(len(students_pre))\n",
    "\n",
    "number_pre = len(students_pre)\n",
    "number_post = len(students_post)\n",
    "\n",
    "for i in range(len(algo_names_pre)):\n",
    "    for j in range(len(students_pre)):\n",
    "        response_times_pre[i].append(df_pre.iloc[(i*number_pre)+j][2])\n",
    "\n",
    "for i in range(len(algo_names_post)):\n",
    "    for j in range(len(students_post)):\n",
    "        response_times_post[i].append(df_post.iloc[(i*number_post)+j][1])\n",
    "        \n",
    "response_times_pre[9] = response_times_pre[9][:-1]\n",
    "\n",
    "result_list = []\n",
    "for i in range(10):\n",
    "    result_list.append(f_oneway(response_times_pre[i], response_times_post[i]))\n",
    "\n",
    "result_list"
   ]
  },
  {
   "cell_type": "code",
   "execution_count": 136,
   "metadata": {},
   "outputs": [
    {
     "data": {
      "text/plain": [
       "F_onewayResult(statistic=0.5940594059405941, pvalue=0.44538258022942345)"
      ]
     },
     "execution_count": 136,
     "metadata": {},
     "output_type": "execute_result"
    }
   ],
   "source": [
    "students_pre = df_pre_points[\"Unique Code\"].dropna().unique()\n",
    "students_post = df_post_points[\"Unique Code\"].dropna().unique()\n",
    "\n",
    "students_participated = []\n",
    "\n",
    "for i in range(len(students_pre)):\n",
    "    if students_pre[i]  in students_post:\n",
    "        students_participated.append(students_pre[i])\n",
    "        \n",
    "points_pre_list = []\n",
    "points_post_list = []\n",
    "\n",
    "for student in students_participated:\n",
    "    tmp_pre = df_pre_points.loc[df_pre_points[\"Unique Code\"] == student]\n",
    "    tmp_post = df_post_points.loc[df_post_points[\"Unique Code\"] == student]\n",
    "    \n",
    "    points_pre_list.append(tmp_pre[\"Points\"].values[0])\n",
    "    points_post_list.append(tmp_post[\"Points\"].values[0])\n",
    "    \n",
    "\n",
    "f_oneway(points_pre_list, points_post_list)"
   ]
  },
  {
   "cell_type": "code",
   "execution_count": null,
   "metadata": {},
   "outputs": [],
   "source": []
  }
 ],
 "metadata": {
  "kernelspec": {
   "display_name": "Python 3",
   "language": "python",
   "name": "python3"
  },
  "language_info": {
   "codemirror_mode": {
    "name": "ipython",
    "version": 3
   },
   "file_extension": ".py",
   "mimetype": "text/x-python",
   "name": "python",
   "nbconvert_exporter": "python",
   "pygments_lexer": "ipython3",
   "version": "3.8.8"
  }
 },
 "nbformat": 4,
 "nbformat_minor": 4
}
