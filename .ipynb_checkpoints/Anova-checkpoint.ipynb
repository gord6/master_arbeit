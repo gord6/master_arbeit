{
 "cells": [
  {
   "cell_type": "markdown",
   "metadata": {},
   "source": [
    "imports"
   ]
  },
  {
   "cell_type": "code",
   "execution_count": 1,
   "metadata": {},
   "outputs": [],
   "source": [
    "import pandas as pd\n",
    "import seaborn as sns\n",
    "import numpy as np"
   ]
  },
  {
   "cell_type": "markdown",
   "metadata": {},
   "source": [
    "config"
   ]
  },
  {
   "cell_type": "code",
   "execution_count": 2,
   "metadata": {},
   "outputs": [],
   "source": [
    "config_pretest_datasheet = r'./results/preprocessed/preprocessed_pretest.xlsx'\n",
    "config_posttest_datasheet = r'./results/preprocessed/preprocessed_posttest.xlsx'\n",
    "config_pretest_points = r'./results/points_pretest.xlsx'\n",
    "config_posttest_points = r'./results/points_posttest.xlsx'"
   ]
  },
  {
   "cell_type": "markdown",
   "metadata": {},
   "source": [
    "import df"
   ]
  },
  {
   "cell_type": "code",
   "execution_count": 3,
   "metadata": {},
   "outputs": [],
   "source": [
    "raw_pre = pd.read_excel(config_pretest_datasheet)\n",
    "raw_post = pd.read_excel(config_posttest_datasheet)\n",
    "raw_pre_points = pd.read_excel(config_pretest_points)\n",
    "raw_post_points = pd.read_excel(config_posttest_points)\n",
    "df_pre = pd.DataFrame(raw_pre)\n",
    "df_post = pd.DataFrame(raw_post)\n",
    "df_pre_points = pd.DataFrame(raw_pre_points)\n",
    "df_post_points = pd.DataFrame(raw_post_points)"
   ]
  },
  {
   "cell_type": "code",
   "execution_count": 4,
   "metadata": {},
   "outputs": [],
   "source": [
    "df_pre[\"Correctness\"] = df_pre[\"Correctness\"].astype(bool)"
   ]
  },
  {
   "cell_type": "markdown",
   "metadata": {},
   "source": [
    "remove outliers"
   ]
  },
  {
   "cell_type": "markdown",
   "metadata": {},
   "source": [
    "create result"
   ]
  },
  {
   "cell_type": "code",
   "execution_count": 15,
   "metadata": {},
   "outputs": [],
   "source": [
    "from scipy.stats import f_oneway\n",
    "\n",
    "response_times_pre = [[] for _ in range(10)]\n",
    "response_times_post = [[] for _ in range(10)]\n",
    "\n",
    "algo_names_pre = df_pre[\"Algorithm\"].dropna().unique()\n",
    "students_pre = df_pre[\"Unique Code\"].dropna().unique()\n",
    "\n",
    "algo_names_post = df_post[\"Algorithm\"].dropna().unique()\n",
    "students_post = df_post[\"Unique Code\"].dropna().unique()\n",
    "\n",
    "#print(len(students_post), len(algo_names_post))\n",
    "#print(len(students_pre), len(algo_names_pre))\n",
    "\n",
    "number_pre = len(students_pre)\n",
    "number_post = len(students_post)\n",
    "\n",
    "\n",
    "for i in range(len(algo_names_pre)):\n",
    "    for student in students_pre:\n",
    "        tmp_pre = df_pre.loc[(df_pre[\"Unique Code\"] == student) & (df_pre[\"Algorithm\"] == algo_names_pre[i])]\n",
    "        #print(student, tmp_pre[\"Unique Code\"].values, tmp_pre[\"ResponseTime\"].values)\n",
    "        response_times_pre[i].append(tmp_pre[\"ResponseTime\"].values[0])\n",
    "        #print(len(response_times_pre[i]))\n",
    "\n",
    "\n",
    "for i in range(len(algo_names_post)):\n",
    "    for student in students_post:\n",
    "        tmp_post = df_post.loc[(df_post[\"Unique Code\"] == student) & (df_post[\"Algorithm\"] == algo_names_post[i])]\n",
    "        #print(tmp_post)\n",
    "        response_times_post[i].append(tmp_post[\"ResponseTime\"].values[0])\n"
   ]
  },
  {
   "cell_type": "code",
   "execution_count": 48,
   "metadata": {},
   "outputs": [
    {
     "name": "stdout",
     "output_type": "stream",
     "text": [
      "['2nGAhe', '6aOGho', '1aTGsa', '6aJGhh', '8aRHui', '5dHSfo', '1aMLsa', '5nDFhi', '9aBWha', '1eASaa', '6vEHhi', '8lHHsu', '9oMWun', '4aRGür', '2eTGer', '1nCWte', '3rCHei', '4uCGer', '5uHJei', '5nFKho', '4iMVha']\n",
      "               0\n",
      "count  21.000000\n",
      "mean    8.428571\n",
      "std     1.028175\n",
      "min     6.000000\n",
      "25%     8.000000\n",
      "50%     8.000000\n",
      "75%     9.000000\n",
      "max    10.000000                0\n",
      "count  21.000000\n",
      "mean    8.142857\n",
      "std     1.458962\n",
      "min     5.000000\n",
      "25%     7.000000\n",
      "50%     8.000000\n",
      "75%     9.000000\n",
      "max    10.000000\n",
      "21 21\n",
      "V 0    1.057143\n",
      "dtype: float64 0    2.128571\n",
      "dtype: float64\n",
      "0    0.226383\n",
      "dtype: float64\n"
     ]
    }
   ],
   "source": [
    "students_pre = df_pre_points[\"Unique Code\"].dropna().unique()\n",
    "students_post = df_post_points[\"Unique Code\"].dropna().unique()\n",
    "\n",
    "students_participated = []\n",
    "\n",
    "for i in range(len(students_pre)):\n",
    "    if students_pre[i]  in students_post:\n",
    "        students_participated.append(students_pre[i])\n",
    "        \n",
    "points_pre_list = []\n",
    "points_post_list = []\n",
    "\n",
    "print(students_participated)\n",
    "\n",
    "for student in students_participated:\n",
    "    tmp_pre = df_pre_points.loc[df_pre_points[\"Unique Code\"] == student]\n",
    "    tmp_post = df_post_points.loc[df_post_points[\"Unique Code\"] == student]\n",
    "    \n",
    "    points_pre_list.append(tmp_pre[\"Points\"].values[0])\n",
    "    points_post_list.append(tmp_post[\"Points\"].values[0])\n",
    "    \n",
    "\n",
    "df_points_pre = pd.DataFrame(points_pre_list)\n",
    "df_points_post = pd.DataFrame(points_post_list)\n",
    "\n",
    "print(df_points_pre.describe(), df_points_post.describe())\n",
    "\n",
    "print(len(df_points_pre), len(df_points_post))\n",
    "def cohen_d(group1, group2):\n",
    "    diff = group1.mean() - group2.mean()\n",
    "    \n",
    "    n1, n2 = len(group1), len(group2)\n",
    "    var1, var2 = group1.var(), group2.var()\n",
    "    \n",
    "    print(\"V\", var1, var2)\n",
    "\n",
    "    pooled_var = (n1*var1 + n2*var2) / (n1+n2)\n",
    "    \n",
    "    d = diff /np.sqrt(pooled_var)\n",
    "    return d\n",
    "\n",
    "\n",
    "\n",
    "print(cohen_d(df_points_pre, df_points_post))"
   ]
  },
  {
   "cell_type": "code",
   "execution_count": 39,
   "metadata": {},
   "outputs": [
    {
     "name": "stdout",
     "output_type": "stream",
     "text": [
      "21\n",
      "21\n",
      "177 171\n",
      "8.428571428571429\n",
      "8.142857142857142\n",
      "8 8\n",
      "1.2247448713915892\n",
      "0.0\n"
     ]
    }
   ],
   "source": [
    "from statistics import mean, stdev\n",
    "from math import sqrt\n",
    "\n",
    "print(len(points_pre_list))\n",
    "print(len(points_post_list))\n",
    "\n",
    "sum_pre = sum(points_pre_list)\n",
    "sum_post = sum(points_post_list)\n",
    "print(sum_pre, sum_post)\n",
    "\n",
    "#pooled_standard_deviation = sqrt((group_1.std()**2 + group_2.std()**2)/2 )\n",
    "\n",
    "#cohens_d = difference_in_means / pooled_standard_deviation \n",
    "\n",
    "print(mean(points_pre_list), mean(points_post_list))\n",
    "print(sqrt((stdev(points_pre_list) ** 2 + stdev(points_post_list) ** 2) / 2))\n",
    "\n",
    "cohens_d = (mean(points_pre_list) - mean(points_post_list)) / (sqrt((stdev(points_pre_list) ** 2 + stdev(points_post_list) ** 2) / 2))\n",
    "\n",
    "print(cohens_d)"
   ]
  },
  {
   "cell_type": "code",
   "execution_count": 65,
   "metadata": {},
   "outputs": [
    {
     "data": {
      "text/plain": [
       "Ttest_relResult(statistic=1.280154250903222, pvalue=0.24127831637972255)"
      ]
     },
     "execution_count": 65,
     "metadata": {},
     "output_type": "execute_result"
    }
   ],
   "source": [
    "df_describe[\"Pre\"] = df_points_pre.describe()\n",
    "df_describe[\"Post\"] = df_points_post.describe()\n",
    "\n",
    "#df_describe = df_describe.drop(columns=0)\n",
    "\n",
    "from scipy import stats\n",
    "stats.shapiro(df_describe[\"Pre\"])\n",
    "stats.shapiro(df_describe[\"Post\"])\n",
    "\n",
    "stats.ttest_rel(df_describe[\"Pre\"], df_describe[\"Post\"])"
   ]
  },
  {
   "cell_type": "code",
   "execution_count": 72,
   "metadata": {},
   "outputs": [
    {
     "data": {
      "text/plain": [
       "MannwhitneyuResult(statistic=33.5, pvalue=0.9159268884334132)"
      ]
     },
     "execution_count": 72,
     "metadata": {},
     "output_type": "execute_result"
    }
   ],
   "source": [
    "import scipy.stats as stats\n",
    "\n",
    "stats.mannwhitneyu(df_describe[\"Pre\"], df_describe[\"Post\"], alternative=\"two-sided\")"
   ]
  },
  {
   "cell_type": "code",
   "execution_count": 226,
   "metadata": {},
   "outputs": [
    {
     "ename": "IndexError",
     "evalue": "single positional indexer is out-of-bounds",
     "output_type": "error",
     "traceback": [
      "\u001b[1;31m---------------------------------------------------------------------------\u001b[0m",
      "\u001b[1;31mIndexError\u001b[0m                                Traceback (most recent call last)",
      "\u001b[1;32m<ipython-input-226-ce4eda119990>\u001b[0m in \u001b[0;36m<module>\u001b[1;34m\u001b[0m\n\u001b[0;32m     16\u001b[0m \u001b[1;32mfor\u001b[0m \u001b[0mi\u001b[0m \u001b[1;32min\u001b[0m \u001b[0mrange\u001b[0m\u001b[1;33m(\u001b[0m\u001b[0mlen\u001b[0m\u001b[1;33m(\u001b[0m\u001b[0malgo_names_pre\u001b[0m\u001b[1;33m)\u001b[0m\u001b[1;33m)\u001b[0m\u001b[1;33m:\u001b[0m\u001b[1;33m\u001b[0m\u001b[1;33m\u001b[0m\u001b[0m\n\u001b[0;32m     17\u001b[0m     \u001b[1;32mfor\u001b[0m \u001b[0mj\u001b[0m \u001b[1;32min\u001b[0m \u001b[0mrange\u001b[0m\u001b[1;33m(\u001b[0m\u001b[0mlen\u001b[0m\u001b[1;33m(\u001b[0m\u001b[0mstudents_pre\u001b[0m\u001b[1;33m)\u001b[0m\u001b[1;33m)\u001b[0m\u001b[1;33m:\u001b[0m\u001b[1;33m\u001b[0m\u001b[1;33m\u001b[0m\u001b[0m\n\u001b[1;32m---> 18\u001b[1;33m         \u001b[0mcorrectness_pre\u001b[0m\u001b[1;33m[\u001b[0m\u001b[0mi\u001b[0m\u001b[1;33m]\u001b[0m\u001b[1;33m.\u001b[0m\u001b[0mappend\u001b[0m\u001b[1;33m(\u001b[0m\u001b[0mdf_pre\u001b[0m\u001b[1;33m.\u001b[0m\u001b[0miloc\u001b[0m\u001b[1;33m[\u001b[0m\u001b[1;33m(\u001b[0m\u001b[0mi\u001b[0m\u001b[1;33m*\u001b[0m\u001b[0mnumber_pre\u001b[0m\u001b[1;33m)\u001b[0m\u001b[1;33m+\u001b[0m\u001b[0mj\u001b[0m\u001b[1;33m]\u001b[0m\u001b[1;33m[\u001b[0m\u001b[1;36m4\u001b[0m\u001b[1;33m]\u001b[0m\u001b[1;33m)\u001b[0m\u001b[1;33m\u001b[0m\u001b[1;33m\u001b[0m\u001b[0m\n\u001b[0m\u001b[0;32m     19\u001b[0m \u001b[1;33m\u001b[0m\u001b[0m\n\u001b[0;32m     20\u001b[0m \u001b[1;32mfor\u001b[0m \u001b[0mi\u001b[0m \u001b[1;32min\u001b[0m \u001b[0mrange\u001b[0m\u001b[1;33m(\u001b[0m\u001b[0mlen\u001b[0m\u001b[1;33m(\u001b[0m\u001b[0malgo_names_post\u001b[0m\u001b[1;33m)\u001b[0m\u001b[1;33m)\u001b[0m\u001b[1;33m:\u001b[0m\u001b[1;33m\u001b[0m\u001b[1;33m\u001b[0m\u001b[0m\n",
      "\u001b[1;32m~\\anaconda3\\lib\\site-packages\\pandas\\core\\indexing.py\u001b[0m in \u001b[0;36m__getitem__\u001b[1;34m(self, key)\u001b[0m\n\u001b[0;32m    893\u001b[0m \u001b[1;33m\u001b[0m\u001b[0m\n\u001b[0;32m    894\u001b[0m             \u001b[0mmaybe_callable\u001b[0m \u001b[1;33m=\u001b[0m \u001b[0mcom\u001b[0m\u001b[1;33m.\u001b[0m\u001b[0mapply_if_callable\u001b[0m\u001b[1;33m(\u001b[0m\u001b[0mkey\u001b[0m\u001b[1;33m,\u001b[0m \u001b[0mself\u001b[0m\u001b[1;33m.\u001b[0m\u001b[0mobj\u001b[0m\u001b[1;33m)\u001b[0m\u001b[1;33m\u001b[0m\u001b[1;33m\u001b[0m\u001b[0m\n\u001b[1;32m--> 895\u001b[1;33m             \u001b[1;32mreturn\u001b[0m \u001b[0mself\u001b[0m\u001b[1;33m.\u001b[0m\u001b[0m_getitem_axis\u001b[0m\u001b[1;33m(\u001b[0m\u001b[0mmaybe_callable\u001b[0m\u001b[1;33m,\u001b[0m \u001b[0maxis\u001b[0m\u001b[1;33m=\u001b[0m\u001b[0maxis\u001b[0m\u001b[1;33m)\u001b[0m\u001b[1;33m\u001b[0m\u001b[1;33m\u001b[0m\u001b[0m\n\u001b[0m\u001b[0;32m    896\u001b[0m \u001b[1;33m\u001b[0m\u001b[0m\n\u001b[0;32m    897\u001b[0m     \u001b[1;32mdef\u001b[0m \u001b[0m_is_scalar_access\u001b[0m\u001b[1;33m(\u001b[0m\u001b[0mself\u001b[0m\u001b[1;33m,\u001b[0m \u001b[0mkey\u001b[0m\u001b[1;33m:\u001b[0m \u001b[0mTuple\u001b[0m\u001b[1;33m)\u001b[0m\u001b[1;33m:\u001b[0m\u001b[1;33m\u001b[0m\u001b[1;33m\u001b[0m\u001b[0m\n",
      "\u001b[1;32m~\\anaconda3\\lib\\site-packages\\pandas\\core\\indexing.py\u001b[0m in \u001b[0;36m_getitem_axis\u001b[1;34m(self, key, axis)\u001b[0m\n\u001b[0;32m   1499\u001b[0m \u001b[1;33m\u001b[0m\u001b[0m\n\u001b[0;32m   1500\u001b[0m             \u001b[1;31m# validate the location\u001b[0m\u001b[1;33m\u001b[0m\u001b[1;33m\u001b[0m\u001b[1;33m\u001b[0m\u001b[0m\n\u001b[1;32m-> 1501\u001b[1;33m             \u001b[0mself\u001b[0m\u001b[1;33m.\u001b[0m\u001b[0m_validate_integer\u001b[0m\u001b[1;33m(\u001b[0m\u001b[0mkey\u001b[0m\u001b[1;33m,\u001b[0m \u001b[0maxis\u001b[0m\u001b[1;33m)\u001b[0m\u001b[1;33m\u001b[0m\u001b[1;33m\u001b[0m\u001b[0m\n\u001b[0m\u001b[0;32m   1502\u001b[0m \u001b[1;33m\u001b[0m\u001b[0m\n\u001b[0;32m   1503\u001b[0m             \u001b[1;32mreturn\u001b[0m \u001b[0mself\u001b[0m\u001b[1;33m.\u001b[0m\u001b[0mobj\u001b[0m\u001b[1;33m.\u001b[0m\u001b[0m_ixs\u001b[0m\u001b[1;33m(\u001b[0m\u001b[0mkey\u001b[0m\u001b[1;33m,\u001b[0m \u001b[0maxis\u001b[0m\u001b[1;33m=\u001b[0m\u001b[0maxis\u001b[0m\u001b[1;33m)\u001b[0m\u001b[1;33m\u001b[0m\u001b[1;33m\u001b[0m\u001b[0m\n",
      "\u001b[1;32m~\\anaconda3\\lib\\site-packages\\pandas\\core\\indexing.py\u001b[0m in \u001b[0;36m_validate_integer\u001b[1;34m(self, key, axis)\u001b[0m\n\u001b[0;32m   1442\u001b[0m         \u001b[0mlen_axis\u001b[0m \u001b[1;33m=\u001b[0m \u001b[0mlen\u001b[0m\u001b[1;33m(\u001b[0m\u001b[0mself\u001b[0m\u001b[1;33m.\u001b[0m\u001b[0mobj\u001b[0m\u001b[1;33m.\u001b[0m\u001b[0m_get_axis\u001b[0m\u001b[1;33m(\u001b[0m\u001b[0maxis\u001b[0m\u001b[1;33m)\u001b[0m\u001b[1;33m)\u001b[0m\u001b[1;33m\u001b[0m\u001b[1;33m\u001b[0m\u001b[0m\n\u001b[0;32m   1443\u001b[0m         \u001b[1;32mif\u001b[0m \u001b[0mkey\u001b[0m \u001b[1;33m>=\u001b[0m \u001b[0mlen_axis\u001b[0m \u001b[1;32mor\u001b[0m \u001b[0mkey\u001b[0m \u001b[1;33m<\u001b[0m \u001b[1;33m-\u001b[0m\u001b[0mlen_axis\u001b[0m\u001b[1;33m:\u001b[0m\u001b[1;33m\u001b[0m\u001b[1;33m\u001b[0m\u001b[0m\n\u001b[1;32m-> 1444\u001b[1;33m             \u001b[1;32mraise\u001b[0m \u001b[0mIndexError\u001b[0m\u001b[1;33m(\u001b[0m\u001b[1;34m\"single positional indexer is out-of-bounds\"\u001b[0m\u001b[1;33m)\u001b[0m\u001b[1;33m\u001b[0m\u001b[1;33m\u001b[0m\u001b[0m\n\u001b[0m\u001b[0;32m   1445\u001b[0m \u001b[1;33m\u001b[0m\u001b[0m\n\u001b[0;32m   1446\u001b[0m     \u001b[1;31m# -------------------------------------------------------------------\u001b[0m\u001b[1;33m\u001b[0m\u001b[1;33m\u001b[0m\u001b[1;33m\u001b[0m\u001b[0m\n",
      "\u001b[1;31mIndexError\u001b[0m: single positional indexer is out-of-bounds"
     ]
    }
   ],
   "source": [
    "from scipy.stats import f_oneway\n",
    "\n",
    "correctness_pre = [[] for _ in range(10)]\n",
    "correctness_post = [[] for _ in range(10)]\n",
    "\n",
    "algo_names_pre = df_pre[\"Algorithm\"].dropna().unique()\n",
    "students_pre = df_pre[\"Unique Code\"].dropna().unique()\n",
    "\n",
    "algo_names_post = df_post[\"Algorithm\"].dropna().unique()\n",
    "students_post = df_post[\"Unique Code\"].dropna().unique()\n",
    "\n",
    "number_pre = len(students_pre)\n",
    "number_post = len(students_post)\n",
    "\n",
    "\n",
    "for i in range(len(algo_names_pre)):\n",
    "    for j in range(len(students_pre)):\n",
    "        correctness_pre[i].append(df_pre.iloc[(i*number_pre)+j][4])\n",
    "\n",
    "for i in range(len(algo_names_post)):\n",
    "    for j in range(len(students_post)):\n",
    "        correctness_post[i].append(df_post.iloc[(i*number_post)+j][4])\n",
    "        \n",
    "correctness_pre[9] = correctness_pre[9][:-1]\n",
    "\n",
    "result_list = []\n",
    "for i in range(10):\n",
    "    result_list.append(f_oneway(correctness_pre[i], correctness_post[i]))\n",
    "\n",
    "result_list"
   ]
  },
  {
   "cell_type": "code",
   "execution_count": 197,
   "metadata": {},
   "outputs": [
    {
     "name": "stdout",
     "output_type": "stream",
     "text": [
      "[False, True, True, True, True, True, False, True, True, True, True, True, True, True, True, False, True, True, False, False, True, False, True, True, True, True, True, True, True, True, False, True, True, True, True, False, True, True, True, False, False, True, True, False, True, True, True, False, True, False, True, False]\n"
     ]
    }
   ],
   "source": [
    "from scipy.stats import f_oneway\n",
    "\n",
    "correctness_pre_common_chars = []\n",
    "correctness_post_common_chars = []\n",
    "\n",
    "students_pre = df_pre[\"Unique Code\"].dropna().unique()\n",
    "\n",
    "students_post = df_post[\"Unique Code\"].dropna().unique()\n",
    "\n",
    "number_pre = len(students_pre)\n",
    "number_post = len(students_post)\n",
    "\n",
    "for i in range(len(students_pre)):\n",
    "    #print(df_pre.iloc[j][0], df_pre.iloc[j][3], df_pre.iloc[j][5])\n",
    "    correctness_pre_common_chars.append(df_pre.iloc[i][5])\n",
    "    \n",
    "\n",
    "print(correctness_pre_common_chars)\n",
    "        \n"
   ]
  },
  {
   "cell_type": "code",
   "execution_count": null,
   "metadata": {},
   "outputs": [],
   "source": []
  }
 ],
 "metadata": {
  "kernelspec": {
   "display_name": "Python 3",
   "language": "python",
   "name": "python3"
  },
  "language_info": {
   "codemirror_mode": {
    "name": "ipython",
    "version": 3
   },
   "file_extension": ".py",
   "mimetype": "text/x-python",
   "name": "python",
   "nbconvert_exporter": "python",
   "pygments_lexer": "ipython3",
   "version": "3.8.8"
  }
 },
 "nbformat": 4,
 "nbformat_minor": 4
}
