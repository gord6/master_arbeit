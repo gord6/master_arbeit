{
 "cells": [
  {
   "cell_type": "code",
   "execution_count": 2,
   "metadata": {},
   "outputs": [],
   "source": [
    "import pandas as pd\n",
    "import numpy as np\n",
    "import re"
   ]
  },
  {
   "cell_type": "code",
   "execution_count": 3,
   "metadata": {},
   "outputs": [],
   "source": [
    "config_profession = \"GQ01\"\n",
    "\n",
    "config_unique_code_variable = \"PD14_01\"\n",
    "\n",
    "config_learning_years = \"GQ03_03\"\n",
    "\n",
    "config_answer_variables = ['PT03_01', 'PT08_01', 'PT13_01', 'PT18_01', 'PT23_01','PT28_01', 'PT33_01', 'PT38_01', 'PT43_01', 'PT48_01']\n",
    "\n",
    "config_difficulty_variables = ['PT04', 'PT09', 'PT14', 'PT19', 'PT24', 'PT30', 'PT34', 'PT39', 'PT44', 'PT49']\n",
    "\n",
    "config_time_variables = ['TIME006','TIME008','TIME010','TIME012', 'TIME014','TIME016','TIME018','TIME020','TIME022', 'TIME024']\n",
    "\n",
    "config_click_variables = ['PT01_01', 'PT06_01', 'PT11_01', 'PT16_01', 'PT21_01','PT26_01', 'PT31_01', 'PT36_01', 'PT41_01', 'PT46_01']\n",
    "\n",
    "\n",
    "config_datasheet = r'./data/raw/pretest.xlsx'\n",
    "compare_datasheet = \"results/behavioral/compare/compare.xlsx\""
   ]
  },
  {
   "cell_type": "code",
   "execution_count": 70,
   "metadata": {},
   "outputs": [
    {
     "data": {
      "text/plain": [
       "2     4\n",
       "3    11\n",
       "4     5\n",
       "5     1\n",
       "Name: C, dtype: int64"
      ]
     },
     "metadata": {},
     "output_type": "display_data"
    },
    {
     "name": "stdout",
     "output_type": "stream",
     "text": [
      "5.25\n"
     ]
    },
    {
     "data": {
      "text/plain": [
       "4.193248541803041"
      ]
     },
     "metadata": {},
     "output_type": "display_data"
    },
    {
     "data": {
      "text/plain": [
       "0    1\n",
       "1    5\n",
       "2    5\n",
       "3    4\n",
       "4    3\n",
       "6    2\n",
       "8    1\n",
       "Name: Programmieren lernen, dtype: int64"
      ]
     },
     "metadata": {},
     "output_type": "display_data"
    },
    {
     "data": {
      "text/plain": [
       "3.0"
      ]
     },
     "metadata": {},
     "output_type": "display_data"
    },
    {
     "data": {
      "text/plain": [
       "1.7320508075688772"
      ]
     },
     "metadata": {},
     "output_type": "display_data"
    },
    {
     "data": {
      "text/plain": [
       "array(['1aMLsa', '1aTGsa', '1eASaa', '1nCWte', '1nUSüa', '2eTGer',\n",
       "       '2nGAhe', '3rCHei', '4aRGür', '4iMVha', '4uCGer', '5nDFhi',\n",
       "       '5nFKho', '5uHJei', '6aJGhh', '6aOGho', '6vEHhi', '8aRHui',\n",
       "       '8lHHsu', '9aBWha', '9oMWun'], dtype=object)"
      ]
     },
     "metadata": {},
     "output_type": "display_data"
    },
    {
     "data": {
      "text/plain": [
       "2    16\n",
       "3     3\n",
       "4     1\n",
       "7     1\n",
       "Name: Fachsemester, dtype: int64"
      ]
     },
     "metadata": {},
     "output_type": "display_data"
    }
   ],
   "source": [
    "raw = pd.read_excel(config_datasheet)\n",
    "raw_compare = pd.read_excel(compare_datasheet)\n",
    "df = pd.DataFrame(raw)\n",
    "df_compare = pd.DataFrame(raw_compare)\n",
    "\n",
    "unique_codes = df_compare[\"Unique Code\"].unique()\n",
    "\n",
    "df = df[['PD14_01', 'PD07', 'PD08_01', 'GQ01','GQ03_01', 'GQ03_03', 'GQ05', 'GQ09', 'GQ10', 'GQ11', 'GQ06_01', 'GQ12_01', 'GQ13_01']]\n",
    "\n",
    "df = df.rename(columns={\"PD14_01\": \"Unique Code\", \"PD07\": \"Gender\", \"PD08_01\": \"Alter\", \"GQ01\":\"Beruf\", \n",
    "                        \"GQ03_01\": \"Programmieren lernen\", \"GQ03_03\" : \"Beruflich programmieren\", \"GQ05\": \"Java\",\n",
    "                        \"GQ09\" : \"C++\", \"GQ10\" : \"C\", \"GQ11\" : \"Python\", \"GQ06_01\" : \"Andere Sprache\", \"GQ12_01\" : \"Studiengang\", \"GQ13_01\" : \"Fachsemester\"})\n",
    "\n",
    "df.loc[df['Gender'] == 1, 'Gender'] = 'männlich'\n",
    "df.loc[df['Gender'] == 2, 'Gender'] = 'weiblich'\n",
    "\n",
    "df.loc[df['Beruf'] == 1, 'Beruf'] = 'Bachelor'\n",
    "df.loc[df['Beruf'] == 2, 'Beruf'] = 'Master'\n",
    "df.loc[df['Beruf'] == 5, 'Beruf'] = 'Anderes'\n",
    "\n",
    "df.loc[df['Fachsemester'] == '2. Fachsemester', 'Fachsemester'] = 2\n",
    "df.loc[df['Fachsemester'] == '2. Fachsemester/ 4. Semester', 'Fachsemester'] = 2\n",
    "\n",
    "\n",
    "df = df[df['Unique Code'].isin(unique_codes)]\n",
    "\n",
    "course = df['Studiengang'].value_counts().sort_index()\n",
    "gender = df['Gender'].value_counts().sort_index()\n",
    "profession = df['Beruf'].value_counts().sort_index()\n",
    "learning_experience = df['Programmieren lernen'].value_counts().sort_index()\n",
    "professional_experience = df['Beruflich programmieren'].value_counts().sort_index()\n",
    "semester = df['Fachsemester'].value_counts()\n",
    "java_experience = df['Java'].value_counts().sort_index()\n",
    "cpp_experience = df['C++'].value_counts().sort_index()\n",
    "c_experience = df['C'].value_counts().sort_index()\n",
    "python_experience = df['Python'].value_counts().sort_index()\n",
    "\n",
    "display(c_experience)\n",
    "print(c_experience.mean(axis = 0))\n",
    "\n",
    "display(c_experience.std())\n",
    "\n",
    "\n",
    "tmp = [course, gender, profession, learning_experience, \n",
    "       professional_experience, semester, java_experience,\n",
    "      cpp_experience, c_experience, python_experience]\n",
    "\n",
    "\n",
    "\n",
    "tmp_df = pd.DataFrame(tmp)\n",
    "tmp_df.to_excel(\"results/test.xlsx\")\n",
    "\n",
    "display(learning_experience)\n",
    "display(learning_experience.mean())\n",
    "display(learning_experience.std())\n",
    "display(unique_codes)\n",
    "from scipy.stats import ttest_ind\n",
    "\n",
    "df.to_excel(\"results/teilnehmer.xlsx\")\n",
    "\n",
    "mean = float(df[\"Programmieren lernen\"].mean())\n",
    "stddev = float(df[\"Programmieren lernen\"].std())\n",
    "\n",
    "mean_java = float(df[\"Java\"].mean())\n",
    "stddev_java = float(df[\"Java\"].std())\n",
    "\n",
    "mean_professional = float(df[\"Beruflich programmieren\"].mean())\n",
    "stddev_professional = float(df[\"Beruflich programmieren\"].std())\n",
    "\n",
    "display(semester)"
   ]
  },
  {
   "cell_type": "markdown",
   "metadata": {},
   "source": [
    "## "
   ]
  }
 ],
 "metadata": {
  "kernelspec": {
   "display_name": "Python 3",
   "language": "python",
   "name": "python3"
  },
  "language_info": {
   "codemirror_mode": {
    "name": "ipython",
    "version": 3
   },
   "file_extension": ".py",
   "mimetype": "text/x-python",
   "name": "python",
   "nbconvert_exporter": "python",
   "pygments_lexer": "ipython3",
   "version": "3.8.8"
  }
 },
 "nbformat": 4,
 "nbformat_minor": 4
}
