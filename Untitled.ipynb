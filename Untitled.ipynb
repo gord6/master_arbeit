{
 "cells": [
  {
   "cell_type": "code",
   "execution_count": 2,
   "id": "c9910a41-0e90-4286-b89f-ed4d34e6fe38",
   "metadata": {},
   "outputs": [],
   "source": [
    "import pandas as pd\n",
    "import seaborn as sns\n",
    "import numpy as np\n",
    "import matplotlib.pyplot as plt"
   ]
  },
  {
   "cell_type": "code",
   "execution_count": 98,
   "id": "78e49481-df09-4238-a0b1-10a4193ba606",
   "metadata": {},
   "outputs": [],
   "source": [
    "config_datasheet_pre = r'./results/Pretest_Programmieraufgaben.xlsx'\n",
    "config_datasheet_post = r'./results/Posttest_Programmieraufgaben.xlsx'"
   ]
  },
  {
   "cell_type": "code",
   "execution_count": 99,
   "id": "8a6dae2b-732c-4f34-a959-bd7fcf97dece",
   "metadata": {},
   "outputs": [],
   "source": [
    "raw_pre = pd.read_excel(config_datasheet_pre)\n",
    "raw_post = pd.read_excel(config_datasheet_post)\n",
    "df_pre = pd.DataFrame(raw_pre)\n",
    "df_post = pd.DataFrame(raw_post)"
   ]
  },
  {
   "cell_type": "code",
   "execution_count": 79,
   "id": "17761156-18b5-48e7-99e2-26a8cf501aaf",
   "metadata": {},
   "outputs": [
    {
     "name": "stdout",
     "output_type": "stream",
     "text": [
      "['1aMLsa' '1aTGsa' '1eASaa' '1nCWte' '1nUSüa' '2eTGer' '2nGAhe' '3rCHei'\n",
      " '4aRGür' '4iMVha' '4uCGer' '5nDFhi' '5nFKho' '5uHJei' '6aJGhh' '6aOGho'\n",
      " '6vEHhi' '8aRHui' '8lHHsu' '9aBWha' '9oMWun']\n"
     ]
    },
    {
     "ename": "KeyError",
     "evalue": "'Maximales Produkt'",
     "output_type": "error",
     "traceback": [
      "\u001b[1;31m---------------------------------------------------------------------------\u001b[0m",
      "\u001b[1;31mKeyError\u001b[0m                                  Traceback (most recent call last)",
      "\u001b[1;32m~\\anaconda3\\lib\\site-packages\\pandas\\core\\indexes\\base.py\u001b[0m in \u001b[0;36mget_loc\u001b[1;34m(self, key, method, tolerance)\u001b[0m\n\u001b[0;32m   3079\u001b[0m             \u001b[1;32mtry\u001b[0m\u001b[1;33m:\u001b[0m\u001b[1;33m\u001b[0m\u001b[1;33m\u001b[0m\u001b[0m\n\u001b[1;32m-> 3080\u001b[1;33m                 \u001b[1;32mreturn\u001b[0m \u001b[0mself\u001b[0m\u001b[1;33m.\u001b[0m\u001b[0m_engine\u001b[0m\u001b[1;33m.\u001b[0m\u001b[0mget_loc\u001b[0m\u001b[1;33m(\u001b[0m\u001b[0mcasted_key\u001b[0m\u001b[1;33m)\u001b[0m\u001b[1;33m\u001b[0m\u001b[1;33m\u001b[0m\u001b[0m\n\u001b[0m\u001b[0;32m   3081\u001b[0m             \u001b[1;32mexcept\u001b[0m \u001b[0mKeyError\u001b[0m \u001b[1;32mas\u001b[0m \u001b[0merr\u001b[0m\u001b[1;33m:\u001b[0m\u001b[1;33m\u001b[0m\u001b[1;33m\u001b[0m\u001b[0m\n",
      "\u001b[1;32mpandas\\_libs\\index.pyx\u001b[0m in \u001b[0;36mpandas._libs.index.IndexEngine.get_loc\u001b[1;34m()\u001b[0m\n",
      "\u001b[1;32mpandas\\_libs\\index.pyx\u001b[0m in \u001b[0;36mpandas._libs.index.IndexEngine.get_loc\u001b[1;34m()\u001b[0m\n",
      "\u001b[1;32mpandas\\_libs\\hashtable_class_helper.pxi\u001b[0m in \u001b[0;36mpandas._libs.hashtable.PyObjectHashTable.get_item\u001b[1;34m()\u001b[0m\n",
      "\u001b[1;32mpandas\\_libs\\hashtable_class_helper.pxi\u001b[0m in \u001b[0;36mpandas._libs.hashtable.PyObjectHashTable.get_item\u001b[1;34m()\u001b[0m\n",
      "\u001b[1;31mKeyError\u001b[0m: 'Maximales Produkt'",
      "\nThe above exception was the direct cause of the following exception:\n",
      "\u001b[1;31mKeyError\u001b[0m                                  Traceback (most recent call last)",
      "\u001b[1;32m<ipython-input-79-764abb6ff83f>\u001b[0m in \u001b[0;36m<module>\u001b[1;34m\u001b[0m\n\u001b[0;32m     11\u001b[0m \u001b[1;33m\u001b[0m\u001b[0m\n\u001b[0;32m     12\u001b[0m \u001b[1;32mfor\u001b[0m \u001b[0mcode\u001b[0m \u001b[1;32min\u001b[0m \u001b[0munique_codes\u001b[0m\u001b[1;33m:\u001b[0m\u001b[1;33m\u001b[0m\u001b[1;33m\u001b[0m\u001b[0m\n\u001b[1;32m---> 13\u001b[1;33m     \u001b[0mtask1_errors\u001b[0m \u001b[1;33m+=\u001b[0m \u001b[0mfloat\u001b[0m\u001b[1;33m(\u001b[0m\u001b[0mdf_post\u001b[0m\u001b[1;33m.\u001b[0m\u001b[0mloc\u001b[0m\u001b[1;33m[\u001b[0m\u001b[0mdf_post\u001b[0m\u001b[1;33m[\u001b[0m\u001b[1;34m\"Unique Code\"\u001b[0m\u001b[1;33m]\u001b[0m \u001b[1;33m==\u001b[0m \u001b[0mcode\u001b[0m\u001b[1;33m]\u001b[0m\u001b[1;33m[\u001b[0m\u001b[1;34m\"Maximales Produkt\"\u001b[0m\u001b[1;33m]\u001b[0m\u001b[1;33m)\u001b[0m\u001b[1;33m\u001b[0m\u001b[1;33m\u001b[0m\u001b[0m\n\u001b[0m\u001b[0;32m     14\u001b[0m     \u001b[0mtask2_errors\u001b[0m \u001b[1;33m+=\u001b[0m \u001b[0mfloat\u001b[0m\u001b[1;33m(\u001b[0m\u001b[0mdf_post\u001b[0m\u001b[1;33m.\u001b[0m\u001b[0mloc\u001b[0m\u001b[1;33m[\u001b[0m\u001b[0mdf_post\u001b[0m\u001b[1;33m[\u001b[0m\u001b[1;34m\"Unique Code\"\u001b[0m\u001b[1;33m]\u001b[0m \u001b[1;33m==\u001b[0m \u001b[0mcode\u001b[0m\u001b[1;33m]\u001b[0m\u001b[1;33m[\u001b[0m\u001b[1;34m\"String Wiederholung\"\u001b[0m\u001b[1;33m]\u001b[0m\u001b[1;33m)\u001b[0m\u001b[1;33m\u001b[0m\u001b[1;33m\u001b[0m\u001b[0m\n\u001b[0;32m     15\u001b[0m     \u001b[0mtasks_errors\u001b[0m \u001b[1;33m=\u001b[0m \u001b[0mtask1_errors\u001b[0m \u001b[1;33m+\u001b[0m \u001b[0mtask2_errors\u001b[0m\u001b[1;33m\u001b[0m\u001b[1;33m\u001b[0m\u001b[0m\n",
      "\u001b[1;32m~\\anaconda3\\lib\\site-packages\\pandas\\core\\frame.py\u001b[0m in \u001b[0;36m__getitem__\u001b[1;34m(self, key)\u001b[0m\n\u001b[0;32m   3022\u001b[0m             \u001b[1;32mif\u001b[0m \u001b[0mself\u001b[0m\u001b[1;33m.\u001b[0m\u001b[0mcolumns\u001b[0m\u001b[1;33m.\u001b[0m\u001b[0mnlevels\u001b[0m \u001b[1;33m>\u001b[0m \u001b[1;36m1\u001b[0m\u001b[1;33m:\u001b[0m\u001b[1;33m\u001b[0m\u001b[1;33m\u001b[0m\u001b[0m\n\u001b[0;32m   3023\u001b[0m                 \u001b[1;32mreturn\u001b[0m \u001b[0mself\u001b[0m\u001b[1;33m.\u001b[0m\u001b[0m_getitem_multilevel\u001b[0m\u001b[1;33m(\u001b[0m\u001b[0mkey\u001b[0m\u001b[1;33m)\u001b[0m\u001b[1;33m\u001b[0m\u001b[1;33m\u001b[0m\u001b[0m\n\u001b[1;32m-> 3024\u001b[1;33m             \u001b[0mindexer\u001b[0m \u001b[1;33m=\u001b[0m \u001b[0mself\u001b[0m\u001b[1;33m.\u001b[0m\u001b[0mcolumns\u001b[0m\u001b[1;33m.\u001b[0m\u001b[0mget_loc\u001b[0m\u001b[1;33m(\u001b[0m\u001b[0mkey\u001b[0m\u001b[1;33m)\u001b[0m\u001b[1;33m\u001b[0m\u001b[1;33m\u001b[0m\u001b[0m\n\u001b[0m\u001b[0;32m   3025\u001b[0m             \u001b[1;32mif\u001b[0m \u001b[0mis_integer\u001b[0m\u001b[1;33m(\u001b[0m\u001b[0mindexer\u001b[0m\u001b[1;33m)\u001b[0m\u001b[1;33m:\u001b[0m\u001b[1;33m\u001b[0m\u001b[1;33m\u001b[0m\u001b[0m\n\u001b[0;32m   3026\u001b[0m                 \u001b[0mindexer\u001b[0m \u001b[1;33m=\u001b[0m \u001b[1;33m[\u001b[0m\u001b[0mindexer\u001b[0m\u001b[1;33m]\u001b[0m\u001b[1;33m\u001b[0m\u001b[1;33m\u001b[0m\u001b[0m\n",
      "\u001b[1;32m~\\anaconda3\\lib\\site-packages\\pandas\\core\\indexes\\base.py\u001b[0m in \u001b[0;36mget_loc\u001b[1;34m(self, key, method, tolerance)\u001b[0m\n\u001b[0;32m   3080\u001b[0m                 \u001b[1;32mreturn\u001b[0m \u001b[0mself\u001b[0m\u001b[1;33m.\u001b[0m\u001b[0m_engine\u001b[0m\u001b[1;33m.\u001b[0m\u001b[0mget_loc\u001b[0m\u001b[1;33m(\u001b[0m\u001b[0mcasted_key\u001b[0m\u001b[1;33m)\u001b[0m\u001b[1;33m\u001b[0m\u001b[1;33m\u001b[0m\u001b[0m\n\u001b[0;32m   3081\u001b[0m             \u001b[1;32mexcept\u001b[0m \u001b[0mKeyError\u001b[0m \u001b[1;32mas\u001b[0m \u001b[0merr\u001b[0m\u001b[1;33m:\u001b[0m\u001b[1;33m\u001b[0m\u001b[1;33m\u001b[0m\u001b[0m\n\u001b[1;32m-> 3082\u001b[1;33m                 \u001b[1;32mraise\u001b[0m \u001b[0mKeyError\u001b[0m\u001b[1;33m(\u001b[0m\u001b[0mkey\u001b[0m\u001b[1;33m)\u001b[0m \u001b[1;32mfrom\u001b[0m \u001b[0merr\u001b[0m\u001b[1;33m\u001b[0m\u001b[1;33m\u001b[0m\u001b[0m\n\u001b[0m\u001b[0;32m   3083\u001b[0m \u001b[1;33m\u001b[0m\u001b[0m\n\u001b[0;32m   3084\u001b[0m         \u001b[1;32mif\u001b[0m \u001b[0mtolerance\u001b[0m \u001b[1;32mis\u001b[0m \u001b[1;32mnot\u001b[0m \u001b[1;32mNone\u001b[0m\u001b[1;33m:\u001b[0m\u001b[1;33m\u001b[0m\u001b[1;33m\u001b[0m\u001b[0m\n",
      "\u001b[1;31mKeyError\u001b[0m: 'Maximales Produkt'"
     ]
    }
   ],
   "source": [
    "bar_df = pd.DataFrame([],columns=[\"Maximales Produkt\", \"String Wiederholung\", \"Postaufgaben\"])\n",
    "\n",
    "\n",
    "unique_codes = df_post[\"Unique Code\"].unique()\n",
    "print(unique_codes)\n",
    "count = len(unique_codes)\n",
    "\n",
    "task1_errors = 0\n",
    "task2_errors = 0\n",
    "tasks_errors = 0\n",
    "\n",
    "for code in unique_codes:\n",
    "    task1_errors += float(df_post.loc[df_post[\"Unique Code\"] == code][\"Maximales Produkt\"])\n",
    "    task2_errors += float(df_post.loc[df_post[\"Unique Code\"] == code][\"String Wiederholung\"])\n",
    "    tasks_errors = task1_errors + task2_errors\n",
    "\n",
    "task1_errors /= count\n",
    "task2_errors /= count\n",
    "tasks_errors /= count\n",
    "\n",
    "bar_df = bar_df.append(pd.DataFrame([[task1_errors, task2_errors, tasks_errors]], columns=[\"Maximales Produkt\", \"String Wiederholung\", \"Postaufgaben\"]))\n",
    "\n",
    "                       \n",
    "#bar_df = bar_df.set_index('Algorithmus')\n",
    "ax = bar_df.plot.bar(ylabel='Anzahl Fehler', rot=290, xlabel='test',title=\"Die durchschnittliche Fehleranzahl im Pre- und Posttest im Vergleich\\n\")\n",
    "plt.tight_layout()\n",
    "ax.legend(loc=\"center left\", bbox_to_anchor=(1.0, 0.5))\n",
    "plt.savefig(\"results/behavioral/bar_programming_tasks_post.pdf\", bbox_inches='tight', pad_inches=0.01)\n"
   ]
  },
  {
   "cell_type": "code",
   "execution_count": 105,
   "id": "3a4d4ef1-7718-4696-99fe-b70c3dda882a",
   "metadata": {},
   "outputs": [
    {
     "name": "stdout",
     "output_type": "stream",
     "text": [
      "count      21.000000\n",
      "mean     1116.714286\n",
      "std       460.602339\n",
      "min       391.000000\n",
      "25%       754.000000\n",
      "50%      1025.000000\n",
      "75%      1469.000000\n",
      "max      2094.000000\n",
      "Name: Zeit, dtype: float64\n",
      "6 31\n",
      "34 54\n",
      "Pre 48.0 17.190476190476147\n",
      "Post 18.0 36.71428571428578\n"
     ]
    },
    {
     "data": {
      "image/png": "[encoded data removed]",
      "text/plain": [
       "<Figure size 432x288 with 1 Axes>"
      ]
     },
     "metadata": {
      "needs_background": "light"
     },
     "output_type": "display_data"
    }
   ],
   "source": [
    "bar_df = pd.DataFrame([],columns=[\"Algorithmus\", \"Fehler\"])\n",
    "\n",
    "count = len(unique_codes)\n",
    "\n",
    "\n",
    "task_errors_pre = 0\n",
    "tasks_errors_pre = 0\n",
    "time_pre = 0\n",
    "\n",
    "task_errors_post = 0\n",
    "tasks_errors_post = 0\n",
    "time_post = 0\n",
    "\n",
    "algo_names_pre = df_pre[\"Algorithmus\"].unique()\n",
    "algo_names_post = df_post[\"Algorithmus\"].unique()\n",
    "\n",
    "\n",
    "\n",
    "time_pre = float(df_pre.loc[df_pre[\"Algorithmus\"]==\"Kürzestes Wort\"][\"Zeit\"].mean())\n",
    "time_post = float(df_post.loc[df_post[\"Algorithmus\"]==\"Maximales Produkt\"][\"Zeit\"].mean())\n",
    "\n",
    "time_post_quick = df_post.loc[df_post[\"Algorithmus\"]==\"Maximales Produkt\"][\"Zeit\"].describe()\n",
    "\n",
    "print(time_post_quick)\n",
    "\n",
    "sec_pre = time_pre%60 \n",
    "sec_post = time_post%60\n",
    "\n",
    "print(391//60, 391%60)\n",
    "print(2094//60, 2094%60)\n",
    "\n",
    "\n",
    "print(\"Pre\", time_pre//60, sec_pre)\n",
    "print(\"Post\", time_post//60, sec_post)\n",
    "\n",
    "for name in algo_names_pre:\n",
    "    task_errors_pre = float(df_pre.loc[df_pre[\"Algorithmus\"] == name][\"Fehler\"].mean())\n",
    "    tasks_errors_pre += task_errors_pre\n",
    "    bar_df = bar_df.append(pd.DataFrame([[name, task_errors_pre]], columns=[\"Algorithmus\", \"Fehler\"]))\n",
    "\n",
    "for name in algo_names_post:\n",
    "    task_errors_post = float(df_post.loc[df_post[\"Algorithmus\"]==name][\"Fehler\"].mean())\n",
    "    tasks_errors_post += task_errors_post\n",
    "    bar_df = bar_df.append(pd.DataFrame([[name, task_errors_post]], columns=[\"Algorithmus\", \"Fehler\"]))\n",
    "\n",
    "bar_df = bar_df.append(pd.DataFrame([[\"Insgesamt-Pre\", tasks_errors_pre]], columns=[\"Algorithmus\", \"Fehler\"]))\n",
    "bar_df = bar_df.append(pd.DataFrame([[\"Insgesamt-Post\", tasks_errors_post]], columns=[\"Algorithmus\", \"Fehler\"]))\n",
    "\n",
    "\n",
    "fehler = \"Aufgabe falsch verstanden\"\n",
    "liste = []\n",
    "\n",
    "                       \n",
    "bar_df = bar_df.set_index('Algorithmus')\n",
    "ax = bar_df.plot.bar(ylabel='Anzahl Fehler', rot=290,title=\"Die durchschnittliche Fehleranzahl im Pre- und Posttest im Vergleich\\n\")\n",
    "plt.tight_layout()\n",
    "ax.legend(loc=\"center left\", bbox_to_anchor=(1.0, 0.5))\n",
    "plt.savefig(\"results/behavioral/bar_programming_tasks_post.pdf\", bbox_inches='tight', pad_inches=0.01)"
   ]
  },
  {
   "cell_type": "code",
   "execution_count": null,
   "id": "802f1fff-9c73-46c1-9dcf-93fd2660c6f6",
   "metadata": {},
   "outputs": [],
   "source": [
    "\n"
   ]
  },
  {
   "cell_type": "code",
   "execution_count": null,
   "id": "e2f4d7ce-b52d-4c8f-aec3-02de484dc24e",
   "metadata": {},
   "outputs": [],
   "source": []
  }
 ],
 "metadata": {
  "kernelspec": {
   "display_name": "Python 3",
   "language": "python",
   "name": "python3"
  },
  "language_info": {
   "codemirror_mode": {
    "name": "ipython",
    "version": 3
   },
   "file_extension": ".py",
   "mimetype": "text/x-python",
   "name": "python",
   "nbconvert_exporter": "python",
   "pygments_lexer": "ipython3",
   "version": "3.8.8"
  }
 },
 "nbformat": 4,
 "nbformat_minor": 5
}
