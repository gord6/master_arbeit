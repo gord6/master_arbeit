{
 "cells": [
  {
   "cell_type": "code",
   "execution_count": 12,
   "metadata": {},
   "outputs": [],
   "source": [
    "import pandas as pd\n",
    "import numpy as np\n",
    "import re"
   ]
  },
  {
   "cell_type": "code",
   "execution_count": 13,
   "metadata": {},
   "outputs": [],
   "source": [
    "config_datasheet = './Studiengaenge.xls'\n"
   ]
  },
  {
   "cell_type": "code",
   "execution_count": 26,
   "metadata": {},
   "outputs": [
    {
     "name": "stdout",
     "output_type": "stream",
     "text": [
      "Bachelor Biomedizinische Technik\n",
      "Bachelor Informatik\n",
      "Bachelor MINT: Mathematik, Informatik und Naturwissenschaften mit Anwendungen in der Technik\n",
      "Bachelor Informatik und Kommunikationswissenschaften\n",
      "Master Informatik für Geistes- und Sozialwissenschaftler\n",
      "Bachelor Angewandte Informatik\n",
      "Bachelor Automobilinformatik\n",
      "Bachelor Wirtschaftsinformatik\n",
      "Master Web Engineering\n",
      "Bachelor Wirtschaftsingenieurwesen\n",
      "nan\n",
      "Bachelor Mathematik\n",
      "Diplom Mathematik\n",
      "Master Informatik für Geistes- und Sozialwissenschaftler;Master Psychologie\n",
      "Bachelor Mathematik;Bachelor Physik\n",
      "Master Informatik für Geistes- und Sozialwissenschaftler;Master Pädagogik mit Schwerpunkt Lernkulturen\n",
      "Master Angewandte Informatik\n",
      "Master Soziologie mit Schwerpunkt gesellschaftlicher Zusammenhalt und Konfliktbewältigung;Master Informatik für Geistes- und Sozialwissenschaftler\n",
      "Master Biomedizinische Technik\n"
     ]
    }
   ],
   "source": [
    "raw = pd.read_excel(config_datasheet)\n",
    "\n",
    "df = pd.DataFrame(raw)\n",
    "studiengaenge = df[\"Studiengang\"].unique()\n",
    "\n",
    "\n",
    "for study in studiengaenge:\n",
    "    print(study)"
   ]
  },
  {
   "cell_type": "markdown",
   "metadata": {},
   "source": [
    "## "
   ]
  }
 ],
 "metadata": {
  "kernelspec": {
   "display_name": "Python 3",
   "language": "python",
   "name": "python3"
  },
  "language_info": {
   "codemirror_mode": {
    "name": "ipython",
    "version": 3
   },
   "file_extension": ".py",
   "mimetype": "text/x-python",
   "name": "python",
   "nbconvert_exporter": "python",
   "pygments_lexer": "ipython3",
   "version": "3.8.8"
  }
 },
 "nbformat": 4,
 "nbformat_minor": 4
}
