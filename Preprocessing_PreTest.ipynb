{
 "cells": [
  {
   "cell_type": "code",
   "execution_count": 2,
   "metadata": {},
   "outputs": [],
   "source": [
    "import pandas as pd\n",
    "import numpy as np\n",
    "import re"
   ]
  },
  {
   "cell_type": "code",
   "execution_count": 3,
   "metadata": {},
   "outputs": [],
   "source": [
    "config_algo_names = ['CommonChars', 'ContainsSubstring', 'CountVowels','ReverseArray', 'BinarySearchStrings', 'Multiples','CrossSum', 'Swap',  'InsertionSort','GreatestCommonDivisor']\n",
    "\n",
    "config_unique_code_variable = \"PD14_01\"\n",
    "\n",
    "config_answer_variables = ['PT03_01', 'PT08_01', 'PT13_01', 'PT18_01', 'PT23_01','PT28_01', 'PT33_01', 'PT38_01', 'PT43_01', 'PT48_01']\n",
    "\n",
    "config_difficulty_variables = ['PT04', 'PT09', 'PT14', 'PT19', 'PT24', 'PT30', 'PT34', 'PT39', 'PT44', 'PT49']\n",
    "\n",
    "config_time_variables = ['TIME006','TIME008','TIME010','TIME012', 'TIME014','TIME016','TIME018','TIME020','TIME022', 'TIME024']\n",
    "\n",
    "config_click_variables = ['PT01_01', 'PT06_01', 'PT11_01', 'PT16_01', 'PT21_01','PT26_01', 'PT31_01', 'PT36_01', 'PT41_01', 'PT46_01']\n",
    "\n",
    "config_correctness_variables = ['^1$', '^(?i)true$', '^4$', '^210461$', '^1$', \n",
    "                                '^32$', '^8$', '^42$', '^12578$', '^4$']\n",
    "\n",
    "config_datasheet = r'./data/raw/pretest.xlsx'"
   ]
  },
  {
   "cell_type": "code",
   "execution_count": 4,
   "metadata": {},
   "outputs": [],
   "source": [
    "raw = pd.read_excel(config_datasheet)\n",
    "df = pd.DataFrame(raw)\n",
    "df = df.dropna()\n",
    "\n",
    "\n",
    "from scipy.stats import ttest_ind\n"
   ]
  },
  {
   "cell_type": "code",
   "execution_count": 5,
   "metadata": {},
   "outputs": [],
   "source": [
    "df_matrix = []\n",
    "raw = pd.read_excel(config_datasheet)\n",
    "\n",
    "# load data\n",
    "for row, _stuff in enumerate(config_algo_names):\n",
    "    df_array = []\n",
    "    df = pd.DataFrame(raw, columns = [config_unique_code_variable,\n",
    "                                      config_answer_variables[row],\n",
    "                                      config_correctness_variables[row],\n",
    "                                      config_difficulty_variables[row],\n",
    "                                      config_time_variables[row],\n",
    "                                      config_click_variables[row],])\n",
    "    #df = df.dropna()\n",
    "    df_array.append(df)\n",
    "    df_matrix.append(df_array)"
   ]
  },
  {
   "cell_type": "code",
   "execution_count": 6,
   "metadata": {},
   "outputs": [
    {
     "name": "stderr",
     "output_type": "stream",
     "text": [
      "<ipython-input-6-d9e73b27499c>:35: DeprecationWarning: Flags not at the start of the expression '^(?i)true$'\n",
      "  correctness = bool(re.match(config_correctness_variables[row_idx], str(answer)))\n"
     ]
    }
   ],
   "source": [
    "cols = [\"unique_code\", \"response_time\", \"correctness\", \"difficulty\", \"flag\", \"algo_name\", \"click_data\"]\n",
    "\n",
    "df_tmp = pd.DataFrame(columns=cols)\n",
    "\n",
    "\n",
    "for row_idx, df_row in enumerate(df_matrix):\n",
    "    algo_name = config_algo_names[row_idx]\n",
    "    for col, df in enumerate(df_row): \n",
    "        \n",
    "        for index, row in df.iterrows():\n",
    "            unique_code = row[\"PD14_01\"]\n",
    "            response_time = int(row[config_time_variables[row_idx]])\n",
    "            \n",
    "            if row_idx == 3:\n",
    "                answer = str(row[config_answer_variables[row_idx]])\n",
    "                rep = {\"{\": \"\", \"+\": \"\", \" \":\"\", \",\":\"\", \"[\":\"\", \"]\":\"\", \"}\":\"\"} # define desired replacements here\n",
    "\n",
    "                rep = dict((re.escape(k), v) for k, v in rep.items()) \n",
    "                pattern = re.compile(\"|\".join(rep.keys()))\n",
    "                answer = pattern.sub(lambda m: rep[re.escape(m.group(0))], answer)\n",
    "            elif row_idx == 8:\n",
    "                answer = str(row[config_answer_variables[row_idx]])\n",
    "                rep = {\"{\": \"\", \"+\": \"\", \" \":\"\", \",\":\"\", \"[\":\"\", \"]\":\"\", \"}\":\"\"} # define desired replacements here\n",
    "                rep = dict((re.escape(k), v) for k, v in rep.items()) \n",
    "                pattern = re.compile(\"|\".join(rep.keys()))\n",
    "                answer = pattern.sub(lambda m: rep[re.escape(m.group(0))], answer)\n",
    "            else:\n",
    "                answer = row[config_answer_variables[row_idx]]\n",
    "            \n",
    "            difficulty = row[config_difficulty_variables[row_idx]]\n",
    "            click_data = row[config_click_variables[row_idx]]\n",
    "            flag = \"\"\n",
    "            \n",
    "            correctness = bool(re.match(config_correctness_variables[row_idx], str(answer)))\n",
    "            data = pd.DataFrame([[unique_code, response_time, correctness, difficulty, flag, algo_name, click_data]], columns=cols)\n",
    "                  \n",
    "            df_tmp = df_tmp.append(data)\n",
    "            \n",
    "display(df_tmp)\n",
    "#7nKTra Swap manuell richtig\n",
    "#5iOPrl GGT manuell richtig"
   ]
  },
  {
   "cell_type": "code",
   "execution_count": 9,
   "metadata": {},
   "outputs": [
    {
     "name": "stdout",
     "output_type": "stream",
     "text": [
      "52\n"
     ]
    }
   ],
   "source": [
    "import statsmodels.api as sm\n",
    "from statsmodels.formula.api import ols\n",
    "cols = [\"Unique Code\", \"ResponseTime\", \"Algorithm\", \"Flag\", \"Correctness\", \"Difficulty\", \"ClickData\"]\n",
    "\n",
    "def fill(list_data, dataframe):\n",
    "    for idx, row in dataframe.iterrows():\n",
    "        response_time = row[\"response_time\"]\n",
    "        algorithm = row[\"algo_name\"]\n",
    "        flag = row[\"flag\"]\n",
    "        click_data = row[\"click_data\"]\n",
    "        correctness = row[\"correctness\"]\n",
    "        difficulty = row[\"difficulty\"]\n",
    "        unique_code = row[\"unique_code\"]\n",
    "        list_data.append([unique_code, response_time, algorithm, flag, correctness, difficulty, click_data])\n",
    "\n",
    "data = []\n",
    "fill(data, df_tmp)\n",
    "df = pd.DataFrame(data, columns=cols)\n",
    "df.to_excel(\"./results/preprocessed/preprocessed_pretest.xlsx\", index=False)\n",
    "\n",
    "tmp = df[\"Unique Code\"].unique()\n",
    "print(len(tmp))"
   ]
  },
  {
   "cell_type": "code",
   "execution_count": null,
   "metadata": {},
   "outputs": [],
   "source": []
  }
 ],
 "metadata": {
  "kernelspec": {
   "display_name": "Python 3",
   "language": "python",
   "name": "python3"
  },
  "language_info": {
   "codemirror_mode": {
    "name": "ipython",
    "version": 3
   },
   "file_extension": ".py",
   "mimetype": "text/x-python",
   "name": "python",
   "nbconvert_exporter": "python",
   "pygments_lexer": "ipython3",
   "version": "3.8.8"
  }
 },
 "nbformat": 4,
 "nbformat_minor": 4
}
