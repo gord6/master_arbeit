{
 "cells": [
  {
   "cell_type": "markdown",
   "metadata": {},
   "source": [
    "<h1> Data Analysis for REYeker</h1>"
   ]
  },
  {
   "cell_type": "code",
   "execution_count": 18,
   "metadata": {},
   "outputs": [],
   "source": [
    "# lib for dataframes\n",
    "import pandas as pd\n",
    "\n",
    "# lib for saving np images\n",
    "from PIL import Image\n",
    "\n",
    "# lib for plotting\n",
    "%matplotlib inline\n",
    "import matplotlib.pyplot as plt\n",
    "\n",
    "# lib for numerical computations\n",
    "import numpy as np\n",
    "\n",
    "# lib for crerating paths\n",
    "from pathlib import Path\n",
    "\n",
    "# REYeker lib\n",
    "import modules.rEYEkerAnalysis as rEYEker"
   ]
  },
  {
   "cell_type": "markdown",
   "metadata": {},
   "source": [
    "<h2>1. Configuration</h2>"
   ]
  },
  {
   "cell_type": "markdown",
   "metadata": {},
   "source": [
    "<h5>Database configuration </h5>"
   ]
  },
  {
   "cell_type": "code",
   "execution_count": 19,
   "metadata": {},
   "outputs": [],
   "source": [
    "# path to the datafile\n",
    "config_datasheet_path = r'./results/data_of_all_removed.xlsx'\n",
    "\n",
    "# columns with visual stimulus data\n",
    "config_visual_stimulus_variable = \"ClickData\"\n",
    "\n",
    "# columns with names of the algo\n",
    "config_algo_name_variable = \"Algorithm\"\n",
    "\n",
    "# columns with correctness value\n",
    "config_corectness_variable = \"Correctness\"\n",
    "\n",
    "# colums of response time\n",
    "config_response_time_variable = \"ResponseTime\""
   ]
  },
  {
   "cell_type": "markdown",
   "metadata": {},
   "source": [
    "<h5>Configuration for REYEker data </h5>"
   ]
  },
  {
   "cell_type": "code",
   "execution_count": 20,
   "metadata": {},
   "outputs": [],
   "source": [
    "# file for loading rEYEker settings\n",
    "config_reyeker_settings_path = \"data/used.json\""
   ]
  },
  {
   "cell_type": "markdown",
   "metadata": {},
   "source": [
    "<h5>Import the preprocessed dataframe</h5>"
   ]
  },
  {
   "cell_type": "code",
   "execution_count": 21,
   "metadata": {},
   "outputs": [],
   "source": [
    "df = pd.read_excel(config_datasheet_path)\n",
    "algo_name_array = df[\"Algorithm\"].unique()\n",
    "\n",
    "df_array = []\n",
    "\n",
    "for algo_name in algo_name_array:\n",
    "    algo_df = df.loc[df[config_algo_name_variable]==algo_name]\n",
    "    df_array.append(algo_df)"
   ]
  },
  {
   "cell_type": "code",
   "execution_count": 22,
   "metadata": {},
   "outputs": [],
   "source": [
    "# data for loading the images\n",
    "image_path_array = []\n",
    "\n",
    "for algo_name in algo_name_array:\n",
    "    image_path = 'images/' + algo_name + '.png'\n",
    "\n",
    "    image_path_array.append(image_path)\n"
   ]
  },
  {
   "cell_type": "markdown",
   "metadata": {},
   "source": [
    "<h4>Import REYeker Settings</h4>"
   ]
  },
  {
   "cell_type": "code",
   "execution_count": 23,
   "metadata": {},
   "outputs": [],
   "source": [
    "(_data, _times, click_setting) = rEYEker.load_data_from_json(config_reyeker_settings_path)"
   ]
  },
  {
   "cell_type": "markdown",
   "metadata": {},
   "source": [
    "<h4>Import Images Settings</h4>"
   ]
  },
  {
   "cell_type": "code",
   "execution_count": 24,
   "metadata": {},
   "outputs": [
    {
     "name": "stdout",
     "output_type": "stream",
     "text": [
      "images/CommonChars.png\n",
      "images/ContainsSubstring.png\n",
      "images/CountVowels.png\n",
      "images/ReverseArray.png\n",
      "images/BinarySearchStrings.png\n",
      "images/Multiples.png\n",
      "images/CrossSum.png\n",
      "images/Swap.png\n",
      "images/InsertionSort.png\n",
      "images/GreatestCommonDivisor.png\n"
     ]
    }
   ],
   "source": [
    "image_array = []\n",
    "\n",
    "# read in every image\n",
    "for image_path in image_path_array:\n",
    "    print(image_path)\n",
    "    image = rEYEker.load_image(image_path)\n",
    "   \n",
    "    image_array.append(image)"
   ]
  },
  {
   "cell_type": "markdown",
   "metadata": {},
   "source": [
    "<h4> Cast Data to Valid format</h4>"
   ]
  },
  {
   "cell_type": "markdown",
   "metadata": {},
   "source": [
    "Import the visual stimulus measured Data"
   ]
  },
  {
   "cell_type": "code",
   "execution_count": 25,
   "metadata": {},
   "outputs": [],
   "source": [
    "visual_stimulus_data_matrix = []\n",
    "\n",
    "for idx, dataframe in enumerate(df_array):\n",
    "    visual_stimulus_array = []\n",
    "\n",
    "    #iter over every row \n",
    "    for _idx, row in dataframe.iterrows():\n",
    "        data_str = row[config_visual_stimulus_variable]\n",
    "        data_str = data_str.strip()\n",
    "        coordinates_str = data_str.split(\" \")\n",
    "        coordinates = []\n",
    "       \n",
    "        # iter over every coordinate pair x-y\n",
    "        for coordinate_str in coordinates_str:\n",
    "            try:\n",
    "                coordinate = coordinate_str.split(\"-\")\n",
    "                coordinate = (int(coordinate[0]), int(coordinate[1]))\n",
    "                coordinates.append(coordinate)\n",
    "            except:\n",
    "                print(coordinate_str)\n",
    "            \n",
    "            \n",
    "        visual_stimulus_array.append(coordinates)\n",
    "        \n",
    "    visual_stimulus_data_matrix.append(visual_stimulus_array)\n"
   ]
  },
  {
   "cell_type": "markdown",
   "metadata": {},
   "source": [
    "<h4>Helper Functions</h4>"
   ]
  },
  {
   "cell_type": "code",
   "execution_count": 28,
   "metadata": {},
   "outputs": [],
   "source": [
    "def save_images(image_array, folder, image_name):\n",
    "    \"\"\"\n",
    "    :brief saves an array of images to a certain location incrementing the postfix by a number\n",
    "    :param image_array:        array of images (np.ndarray)\n",
    "    :param folder:     prefix of image/ folder location\n",
    "    :param image_name: prefix for the image\n",
    "    \"\"\"\n",
    "    \n",
    "    Path(folder).mkdir(parents=True, exist_ok=True)\n",
    "    \n",
    "    prefix = folder + image_name\n",
    "    \n",
    "    #TODO create folders if there are none present\n",
    "    for idx, data in enumerate(image_array):\n",
    "        data = data*255\n",
    "        data = np.uint8(data)\n",
    "        im = Image.fromarray(data)\n",
    "        im.save(prefix + str(idx) + '.png')\n",
    "    \n",
    "def is_in(value, tup):\n",
    "    return tup[0] <= value <= tup[1]\n",
    "\n",
    "def get_0_offset(number):\n",
    "    i = 0\n",
    "    number = int(number)\n",
    "    while number != 0:\n",
    "        number = int(number / 10)\n",
    "        i = i + 1\n",
    "    return i"
   ]
  },
  {
   "cell_type": "markdown",
   "metadata": {},
   "source": [
    "<h2>2. Create Single Heatmaps</h2>"
   ]
  },
  {
   "cell_type": "markdown",
   "metadata": {},
   "source": [
    "create heatmaps"
   ]
  },
  {
   "cell_type": "code",
   "execution_count": 29,
   "metadata": {},
   "outputs": [
    {
     "name": "stdout",
     "output_type": "stream",
     "text": [
      "\tGoing to process datatable #9 with 10 datasets: \n",
      "\t\tdataset #0 (up to 49): [0;1;2;3;4;5;6;"
     ]
    },
    {
     "ename": "KeyboardInterrupt",
     "evalue": "",
     "output_type": "error",
     "traceback": [
      "\u001b[1;31m---------------------------------------------------------------------------\u001b[0m",
      "\u001b[1;31mKeyboardInterrupt\u001b[0m                         Traceback (most recent call last)",
      "\u001b[1;32m<ipython-input-29-1a9aa453f1ac>\u001b[0m in \u001b[0;36m<module>\u001b[1;34m\u001b[0m\n\u001b[0;32m     13\u001b[0m         \u001b[0mprint\u001b[0m\u001b[1;33m(\u001b[0m\u001b[0mstr\u001b[0m\u001b[1;33m(\u001b[0m\u001b[0mvisual_idx\u001b[0m\u001b[1;33m)\u001b[0m\u001b[1;33m,\u001b[0m \u001b[0mend\u001b[0m\u001b[1;33m=\u001b[0m\u001b[1;34m\";\"\u001b[0m\u001b[1;33m)\u001b[0m\u001b[1;33m\u001b[0m\u001b[1;33m\u001b[0m\u001b[0m\n\u001b[0;32m     14\u001b[0m \u001b[1;33m\u001b[0m\u001b[0m\n\u001b[1;32m---> 15\u001b[1;33m         \u001b[0mim\u001b[0m \u001b[1;33m=\u001b[0m \u001b[0mrEYEker\u001b[0m\u001b[1;33m.\u001b[0m\u001b[0mdraw_shape_heat_map\u001b[0m\u001b[1;33m(\u001b[0m\u001b[0mimage_array\u001b[0m\u001b[1;33m[\u001b[0m\u001b[0mdataset_idx\u001b[0m\u001b[1;33m]\u001b[0m\u001b[1;33m,\u001b[0m \u001b[0mstimulus_measurement\u001b[0m\u001b[1;33m,\u001b[0m \u001b[0mclick_setting\u001b[0m\u001b[1;33m,\u001b[0m \u001b[0mshould_copy\u001b[0m\u001b[1;33m=\u001b[0m\u001b[1;32mTrue\u001b[0m\u001b[1;33m)\u001b[0m\u001b[1;33m\u001b[0m\u001b[1;33m\u001b[0m\u001b[0m\n\u001b[0m\u001b[0;32m     16\u001b[0m         \u001b[0mheatmap_array\u001b[0m\u001b[1;33m.\u001b[0m\u001b[0mappend\u001b[0m\u001b[1;33m(\u001b[0m\u001b[0mim\u001b[0m\u001b[1;33m)\u001b[0m\u001b[1;33m\u001b[0m\u001b[1;33m\u001b[0m\u001b[0m\n\u001b[0;32m     17\u001b[0m \u001b[1;33m\u001b[0m\u001b[0m\n",
      "\u001b[1;32m~\\Documents\\GitHub\\master_arbeit\\modules\\rEYEkerAnalysis.py\u001b[0m in \u001b[0;36mdraw_shape_heat_map\u001b[1;34m(image, coordinates, click_settings, min_idx, max_idx, time_stamps, should_copy)\u001b[0m\n\u001b[0;32m    297\u001b[0m     \u001b[0mmax_idx\u001b[0m \u001b[1;33m=\u001b[0m \u001b[0mutils\u001b[0m\u001b[1;33m.\u001b[0m\u001b[0mclamp\u001b[0m\u001b[1;33m(\u001b[0m\u001b[0mmax_idx\u001b[0m\u001b[1;33m,\u001b[0m \u001b[1;36m1\u001b[0m\u001b[1;33m,\u001b[0m \u001b[0mlen\u001b[0m\u001b[1;33m(\u001b[0m\u001b[0mcoordinates\u001b[0m\u001b[1;33m)\u001b[0m\u001b[1;33m)\u001b[0m\u001b[1;33m\u001b[0m\u001b[1;33m\u001b[0m\u001b[0m\n\u001b[0;32m    298\u001b[0m \u001b[1;33m\u001b[0m\u001b[0m\n\u001b[1;32m--> 299\u001b[1;33m     \u001b[0mhmh\u001b[0m\u001b[1;33m.\u001b[0m\u001b[0mdraw_shape_heat_map\u001b[0m\u001b[1;33m(\u001b[0m\u001b[0mim\u001b[0m\u001b[1;33m,\u001b[0m \u001b[0mmin_idx\u001b[0m\u001b[1;33m,\u001b[0m \u001b[0mmax_idx\u001b[0m\u001b[1;33m,\u001b[0m \u001b[0mcoordinates\u001b[0m\u001b[1;33m,\u001b[0m \u001b[0mclick_settings\u001b[0m\u001b[1;33m,\u001b[0m \u001b[0mtime_stamps\u001b[0m\u001b[1;33m)\u001b[0m\u001b[1;33m\u001b[0m\u001b[1;33m\u001b[0m\u001b[0m\n\u001b[0m\u001b[0;32m    300\u001b[0m \u001b[1;33m\u001b[0m\u001b[0m\n\u001b[0;32m    301\u001b[0m     \u001b[1;32mreturn\u001b[0m \u001b[0mim\u001b[0m\u001b[1;33m\u001b[0m\u001b[1;33m\u001b[0m\u001b[0m\n",
      "\u001b[1;32m~\\Documents\\GitHub\\master_arbeit\\modules\\HeatmapHelpers.py\u001b[0m in \u001b[0;36mdraw_shape_heat_map\u001b[1;34m(image, min_idx, max_idx, coordinates, click_settings, time_stamps)\u001b[0m\n\u001b[0;32m    409\u001b[0m         \u001b[1;32mfor\u001b[0m \u001b[0mi\u001b[0m \u001b[1;32min\u001b[0m \u001b[0mrange\u001b[0m\u001b[1;33m(\u001b[0m\u001b[0mmin_idx\u001b[0m\u001b[1;33m,\u001b[0m \u001b[0mmax_idx\u001b[0m\u001b[1;33m)\u001b[0m\u001b[1;33m:\u001b[0m\u001b[1;33m\u001b[0m\u001b[1;33m\u001b[0m\u001b[0m\n\u001b[0;32m    410\u001b[0m             \u001b[0mtime\u001b[0m \u001b[1;33m=\u001b[0m \u001b[0mget_time\u001b[0m\u001b[1;33m(\u001b[0m\u001b[0mi\u001b[0m\u001b[1;33m,\u001b[0m \u001b[0mtime_stamps\u001b[0m\u001b[1;33m)\u001b[0m\u001b[1;33m\u001b[0m\u001b[1;33m\u001b[0m\u001b[0m\n\u001b[1;32m--> 411\u001b[1;33m             fill_for_rectangle(heat_values, coordinates[i][0], coordinates[i][1], click_settings, max_width, max_height,\n\u001b[0m\u001b[0;32m    412\u001b[0m                                time)\n\u001b[0;32m    413\u001b[0m     \u001b[1;32melif\u001b[0m \u001b[0mclick_settings\u001b[0m\u001b[1;33m.\u001b[0m\u001b[0muse_circle\u001b[0m\u001b[1;33m:\u001b[0m\u001b[1;33m\u001b[0m\u001b[1;33m\u001b[0m\u001b[0m\n",
      "\u001b[1;32m~\\Documents\\GitHub\\master_arbeit\\modules\\HeatmapHelpers.py\u001b[0m in \u001b[0;36mfill_for_rectangle\u001b[1;34m(heat_values, x, y, click_settings, max_width, max_height, time)\u001b[0m\n\u001b[0;32m    152\u001b[0m     \u001b[0my_max\u001b[0m \u001b[1;33m=\u001b[0m \u001b[0mmin\u001b[0m\u001b[1;33m(\u001b[0m\u001b[0my\u001b[0m \u001b[1;33m+\u001b[0m \u001b[0mclick_settings\u001b[0m\u001b[1;33m.\u001b[0m\u001b[0mminimal_height\u001b[0m \u001b[1;33m+\u001b[0m \u001b[0mclick_settings\u001b[0m\u001b[1;33m.\u001b[0m\u001b[0mgrad_radius\u001b[0m\u001b[1;33m,\u001b[0m \u001b[0mmax_height\u001b[0m\u001b[1;33m)\u001b[0m\u001b[1;33m\u001b[0m\u001b[1;33m\u001b[0m\u001b[0m\n\u001b[0;32m    153\u001b[0m \u001b[1;33m\u001b[0m\u001b[0m\n\u001b[1;32m--> 154\u001b[1;33m     fill_rectangle_helper(x_min, x_max, y_min, y_max, minimal_x_rect, maximal_x_rect, minimal_y_rect, maximal_y_rect,\n\u001b[0m\u001b[0;32m    155\u001b[0m                           \u001b[0mclick_settings\u001b[0m\u001b[1;33m.\u001b[0m\u001b[0mminimal_width\u001b[0m\u001b[1;33m,\u001b[0m \u001b[0mclick_settings\u001b[0m\u001b[1;33m.\u001b[0m\u001b[0mminimal_height\u001b[0m\u001b[1;33m,\u001b[0m \u001b[0mclick_settings\u001b[0m\u001b[1;33m.\u001b[0m\u001b[0mgrad_radius\u001b[0m\u001b[1;33m,\u001b[0m\u001b[1;33m\u001b[0m\u001b[1;33m\u001b[0m\u001b[0m\n\u001b[0;32m    156\u001b[0m                           x, y, heat_values, time, max_width)\n",
      "\u001b[1;32m~\\Documents\\GitHub\\master_arbeit\\modules\\HeatmapHelpers.py\u001b[0m in \u001b[0;36mfill_rectangle_helper\u001b[1;34m(x_min, x_max, y_min, y_max, minimal_x_rect, maximal_x_rect, minimal_y_rect, maximal_y_rect, minimal_width, minimal_height, grad_radius, x, y, heat_values, time, max_width)\u001b[0m\n\u001b[0;32m    122\u001b[0m \u001b[1;33m\u001b[0m\u001b[0m\n\u001b[0;32m    123\u001b[0m                 \u001b[0my_distance_norm\u001b[0m \u001b[1;33m=\u001b[0m \u001b[0mmax\u001b[0m\u001b[1;33m(\u001b[0m\u001b[1;36m0.0\u001b[0m\u001b[1;33m,\u001b[0m \u001b[0my_distance\u001b[0m \u001b[1;33m-\u001b[0m \u001b[0mminimal_height\u001b[0m\u001b[1;33m)\u001b[0m\u001b[1;33m\u001b[0m\u001b[1;33m\u001b[0m\u001b[0m\n\u001b[1;32m--> 124\u001b[1;33m                 \u001b[0my_distance_norm\u001b[0m \u001b[1;33m=\u001b[0m \u001b[0mmax\u001b[0m\u001b[1;33m(\u001b[0m\u001b[1;36m0.0\u001b[0m\u001b[1;33m,\u001b[0m \u001b[0my_distance_norm\u001b[0m \u001b[1;33m/\u001b[0m \u001b[0mgrad_radius\u001b[0m\u001b[1;33m)\u001b[0m\u001b[1;33m\u001b[0m\u001b[1;33m\u001b[0m\u001b[0m\n\u001b[0m\u001b[0;32m    125\u001b[0m \u001b[1;33m\u001b[0m\u001b[0m\n\u001b[0;32m    126\u001b[0m                 \u001b[0mdistance\u001b[0m \u001b[1;33m=\u001b[0m \u001b[0mmin\u001b[0m\u001b[1;33m(\u001b[0m\u001b[1;36m1.0\u001b[0m\u001b[1;33m,\u001b[0m \u001b[0mx_distance_norm\u001b[0m \u001b[1;33m+\u001b[0m \u001b[0my_distance_norm\u001b[0m\u001b[1;33m)\u001b[0m\u001b[1;33m\u001b[0m\u001b[1;33m\u001b[0m\u001b[0m\n",
      "\u001b[1;31mKeyboardInterrupt\u001b[0m: "
     ]
    }
   ],
   "source": [
    "heatmap_matrix = []\n",
    "print(\"\\tGoing to process datatable #\" + str(idx) + \" with \" + str(len(visual_stimulus_data_matrix)) + \" datasets: \")\n",
    "\n",
    "# iterate over all the datasets\n",
    "for dataset_idx, stimulus_dataset in enumerate(visual_stimulus_data_matrix):\n",
    "    \n",
    "    print(\"\\t\\tdataset #\" + str(dataset_idx) + \" (up to \"+ str(len(stimulus_dataset)) + \"): [\", end='')\n",
    "    heatmap_array = []\n",
    "\n",
    "    # iterate over all the measurements of the dataset\n",
    "    for visual_idx, stimulus_measurement in enumerate(stimulus_dataset):\n",
    "        \n",
    "        print(str(visual_idx), end=\";\")\n",
    "        \n",
    "        im = rEYEker.draw_shape_heat_map(image_array[dataset_idx], stimulus_measurement, click_setting, should_copy=True)\n",
    "        heatmap_array.append(im)\n",
    "   \n",
    "    print(\"]\")\n",
    "    heatmaps_matrix.append(heatmap_array)"
   ]
  },
  {
   "cell_type": "markdown",
   "metadata": {},
   "source": [
    "\n",
    "save Heatmaps"
   ]
  },
  {
   "cell_type": "code",
   "execution_count": 13,
   "metadata": {},
   "outputs": [
    {
     "name": "stdout",
     "output_type": "stream",
     "text": [
      "Writing to:./results/BinarySearch/heatmaps/heatmaps/BR/\n",
      "Writing to:./results/BinarySearch/heatmaps/heatmaps/BI/\n",
      "Writing to:./results/BinarySearch/heatmaps/heatmaps/TR/\n",
      "Writing to:./results/BinarySearch/heatmaps/heatmaps/TI/\n",
      "Writing to:./results/BubbleSort/heatmaps/heatmaps/BR/\n",
      "Writing to:./results/BubbleSort/heatmaps/heatmaps/BI/\n",
      "Writing to:./results/BubbleSort/heatmaps/heatmaps/TR/\n",
      "Writing to:./results/BubbleSort/heatmaps/heatmaps/TI/\n",
      "Writing to:./results/Factorial/heatmaps/heatmaps/BR/\n",
      "Writing to:./results/Factorial/heatmaps/heatmaps/BI/\n",
      "Writing to:./results/Factorial/heatmaps/heatmaps/TR/\n",
      "Writing to:./results/Factorial/heatmaps/heatmaps/TI/\n",
      "Writing to:./results/Fibonacci/heatmaps/heatmaps/BR/\n",
      "Writing to:./results/Fibonacci/heatmaps/heatmaps/BI/\n",
      "Writing to:./results/Fibonacci/heatmaps/heatmaps/TR/\n",
      "Writing to:./results/Fibonacci/heatmaps/heatmaps/TI/\n",
      "Writing to:./results/IntegerBinary/heatmaps/heatmaps/BR/\n",
      "Writing to:./results/IntegerBinary/heatmaps/heatmaps/BI/\n",
      "Writing to:./results/IntegerBinary/heatmaps/heatmaps/TR/\n",
      "Writing to:./results/IntegerBinary/heatmaps/heatmaps/TI/\n",
      "Writing to:./results/MultiplyMatrix/heatmaps/heatmaps/BR/\n",
      "Writing to:./results/MultiplyMatrix/heatmaps/heatmaps/BI/\n",
      "Writing to:./results/MultiplyMatrix/heatmaps/heatmaps/TR/\n",
      "Writing to:./results/MultiplyMatrix/heatmaps/heatmaps/TI/\n",
      "Writing to:./results/PrimeFactors/heatmaps/heatmaps/BR/\n",
      "Writing to:./results/PrimeFactors/heatmaps/heatmaps/BI/\n",
      "Writing to:./results/PrimeFactors/heatmaps/heatmaps/TR/\n",
      "Writing to:./results/PrimeFactors/heatmaps/heatmaps/TI/\n",
      "Writing to:./results/ReverseString/heatmaps/heatmaps/BR/\n",
      "Writing to:./results/ReverseString/heatmaps/heatmaps/BI/\n",
      "Writing to:./results/ReverseString/heatmaps/heatmaps/TR/\n",
      "Writing to:./results/ReverseString/heatmaps/heatmaps/TI/\n"
     ]
    }
   ],
   "source": [
    "for idx, heatmap_array in enumerate(heatmaps_matrix):\n",
    "    path = \"./results/\" + str(algo_name_array[algo_idx]) + \"/heatmaps/heatmaps/\"\n",
    "    print(\"Writing to:\" + path)\n",
    "    save_images(heatmap_array, path, \"\")"
   ]
  },
  {
   "cell_type": "markdown",
   "metadata": {},
   "source": [
    "<h2>3. Create Average Heatmaps</h2>"
   ]
  },
  {
   "cell_type": "markdown",
   "metadata": {},
   "source": [
    "create heatmaps"
   ]
  },
  {
   "cell_type": "code",
   "execution_count": 31,
   "metadata": {},
   "outputs": [
    {
     "name": "stdout",
     "output_type": "stream",
     "text": [
      "#0#1"
     ]
    },
    {
     "ename": "KeyboardInterrupt",
     "evalue": "",
     "output_type": "error",
     "traceback": [
      "\u001b[1;31m---------------------------------------------------------------------------\u001b[0m",
      "\u001b[1;31mKeyboardInterrupt\u001b[0m                         Traceback (most recent call last)",
      "\u001b[1;32m<ipython-input-31-b15f11f3d517>\u001b[0m in \u001b[0;36m<module>\u001b[1;34m\u001b[0m\n\u001b[0;32m      8\u001b[0m     \u001b[0mimage\u001b[0m \u001b[1;33m=\u001b[0m \u001b[0mimage_array\u001b[0m\u001b[1;33m[\u001b[0m\u001b[0midx\u001b[0m\u001b[1;33m]\u001b[0m\u001b[1;33m\u001b[0m\u001b[1;33m\u001b[0m\u001b[0m\n\u001b[0;32m      9\u001b[0m     \u001b[0mshape_array\u001b[0m\u001b[1;33m.\u001b[0m\u001b[0mappend\u001b[0m\u001b[1;33m(\u001b[0m\u001b[0mimage\u001b[0m\u001b[1;33m.\u001b[0m\u001b[0mshape\u001b[0m\u001b[1;33m)\u001b[0m\u001b[1;33m\u001b[0m\u001b[1;33m\u001b[0m\u001b[0m\n\u001b[1;32m---> 10\u001b[1;33m     \u001b[0mim\u001b[0m\u001b[1;33m,\u001b[0m \u001b[0mmask\u001b[0m \u001b[1;33m=\u001b[0m \u001b[0mrEYEker\u001b[0m\u001b[1;33m.\u001b[0m\u001b[0mdraw_average_shape_heat_map_rel\u001b[0m\u001b[1;33m(\u001b[0m\u001b[0mimage\u001b[0m\u001b[1;33m,\u001b[0m \u001b[0mstimulus_dataset\u001b[0m\u001b[1;33m,\u001b[0m \u001b[0mclick_setting\u001b[0m\u001b[1;33m,\u001b[0m \u001b[1;36m1.0\u001b[0m\u001b[1;33m,\u001b[0m \u001b[1;36m0.0\u001b[0m\u001b[1;33m,\u001b[0m \u001b[1;32mNone\u001b[0m\u001b[1;33m,\u001b[0m \u001b[0mshould_copy\u001b[0m\u001b[1;33m=\u001b[0m\u001b[1;32mTrue\u001b[0m\u001b[1;33m)\u001b[0m\u001b[1;33m\u001b[0m\u001b[1;33m\u001b[0m\u001b[0m\n\u001b[0m\u001b[0;32m     11\u001b[0m     \u001b[0mheatmap_array\u001b[0m\u001b[1;33m.\u001b[0m\u001b[0mappend\u001b[0m\u001b[1;33m(\u001b[0m\u001b[0mim\u001b[0m\u001b[1;33m)\u001b[0m\u001b[1;33m\u001b[0m\u001b[1;33m\u001b[0m\u001b[0m\n\u001b[0;32m     12\u001b[0m     \u001b[0mmask_array\u001b[0m\u001b[1;33m.\u001b[0m\u001b[0mappend\u001b[0m\u001b[1;33m(\u001b[0m\u001b[0mmask\u001b[0m\u001b[1;33m)\u001b[0m\u001b[1;33m\u001b[0m\u001b[1;33m\u001b[0m\u001b[0m\n",
      "\u001b[1;32m~\\Documents\\GitHub\\master_arbeit\\modules\\rEYEkerAnalysis.py\u001b[0m in \u001b[0;36mdraw_average_shape_heat_map_rel\u001b[1;34m(image, coordinates_array, click_settings, upper, lower, time_stamps_array, should_copy)\u001b[0m\n\u001b[0;32m    272\u001b[0m     \"\"\"\n\u001b[0;32m    273\u001b[0m     \u001b[0mim\u001b[0m \u001b[1;33m=\u001b[0m \u001b[0mutils\u001b[0m\u001b[1;33m.\u001b[0m\u001b[0mshallow_or_deep\u001b[0m\u001b[1;33m(\u001b[0m\u001b[0mimage\u001b[0m\u001b[1;33m,\u001b[0m \u001b[0mshould_copy\u001b[0m\u001b[1;33m)\u001b[0m\u001b[1;33m\u001b[0m\u001b[1;33m\u001b[0m\u001b[0m\n\u001b[1;32m--> 274\u001b[1;33m     \u001b[0mheatmask\u001b[0m \u001b[1;33m=\u001b[0m \u001b[0mhmh\u001b[0m\u001b[1;33m.\u001b[0m\u001b[0mdraw_average_heat_map_rel\u001b[0m\u001b[1;33m(\u001b[0m\u001b[0mim\u001b[0m\u001b[1;33m,\u001b[0m \u001b[0mcoordinates_array\u001b[0m\u001b[1;33m,\u001b[0m \u001b[0mclick_settings\u001b[0m\u001b[1;33m,\u001b[0m \u001b[0mtime_stamps_array\u001b[0m\u001b[1;33m,\u001b[0m \u001b[0mupper\u001b[0m\u001b[1;33m,\u001b[0m \u001b[0mlower\u001b[0m\u001b[1;33m)\u001b[0m\u001b[1;33m\u001b[0m\u001b[1;33m\u001b[0m\u001b[0m\n\u001b[0m\u001b[0;32m    275\u001b[0m     \u001b[1;32mreturn\u001b[0m \u001b[0mim\u001b[0m\u001b[1;33m,\u001b[0m \u001b[0mheatmask\u001b[0m\u001b[1;33m\u001b[0m\u001b[1;33m\u001b[0m\u001b[0m\n\u001b[0;32m    276\u001b[0m \u001b[1;33m\u001b[0m\u001b[0m\n",
      "\u001b[1;32m~\\Documents\\GitHub\\master_arbeit\\modules\\HeatmapHelpers.py\u001b[0m in \u001b[0;36mdraw_average_heat_map_rel\u001b[1;34m(image, coordinates_array, click_settings, time_stamps_array, upper, lower)\u001b[0m\n\u001b[0;32m    351\u001b[0m             \u001b[1;32mfor\u001b[0m \u001b[0mi\u001b[0m \u001b[1;32min\u001b[0m \u001b[0mrange\u001b[0m\u001b[1;33m(\u001b[0m\u001b[0mmin_idx\u001b[0m\u001b[1;33m,\u001b[0m \u001b[0mmax_idx\u001b[0m\u001b[1;33m)\u001b[0m\u001b[1;33m:\u001b[0m\u001b[1;33m\u001b[0m\u001b[1;33m\u001b[0m\u001b[0m\n\u001b[0;32m    352\u001b[0m                 \u001b[0mtime\u001b[0m \u001b[1;33m=\u001b[0m \u001b[0mget_time\u001b[0m\u001b[1;33m(\u001b[0m\u001b[0mi\u001b[0m\u001b[1;33m,\u001b[0m \u001b[0mtime_stamps\u001b[0m\u001b[1;33m)\u001b[0m\u001b[1;33m\u001b[0m\u001b[1;33m\u001b[0m\u001b[0m\n\u001b[1;32m--> 353\u001b[1;33m                 fill_for_rectangle(heat_values, coordinates[i][0], coordinates[i][1], click_settings, max_width,\n\u001b[0m\u001b[0;32m    354\u001b[0m                                    \u001b[0mmax_height\u001b[0m\u001b[1;33m,\u001b[0m\u001b[1;33m\u001b[0m\u001b[1;33m\u001b[0m\u001b[0m\n\u001b[0;32m    355\u001b[0m                                    time)\n",
      "\u001b[1;32m~\\Documents\\GitHub\\master_arbeit\\modules\\HeatmapHelpers.py\u001b[0m in \u001b[0;36mfill_for_rectangle\u001b[1;34m(heat_values, x, y, click_settings, max_width, max_height, time)\u001b[0m\n\u001b[0;32m    152\u001b[0m     \u001b[0my_max\u001b[0m \u001b[1;33m=\u001b[0m \u001b[0mmin\u001b[0m\u001b[1;33m(\u001b[0m\u001b[0my\u001b[0m \u001b[1;33m+\u001b[0m \u001b[0mclick_settings\u001b[0m\u001b[1;33m.\u001b[0m\u001b[0mminimal_height\u001b[0m \u001b[1;33m+\u001b[0m \u001b[0mclick_settings\u001b[0m\u001b[1;33m.\u001b[0m\u001b[0mgrad_radius\u001b[0m\u001b[1;33m,\u001b[0m \u001b[0mmax_height\u001b[0m\u001b[1;33m)\u001b[0m\u001b[1;33m\u001b[0m\u001b[1;33m\u001b[0m\u001b[0m\n\u001b[0;32m    153\u001b[0m \u001b[1;33m\u001b[0m\u001b[0m\n\u001b[1;32m--> 154\u001b[1;33m     fill_rectangle_helper(x_min, x_max, y_min, y_max, minimal_x_rect, maximal_x_rect, minimal_y_rect, maximal_y_rect,\n\u001b[0m\u001b[0;32m    155\u001b[0m                           \u001b[0mclick_settings\u001b[0m\u001b[1;33m.\u001b[0m\u001b[0mminimal_width\u001b[0m\u001b[1;33m,\u001b[0m \u001b[0mclick_settings\u001b[0m\u001b[1;33m.\u001b[0m\u001b[0mminimal_height\u001b[0m\u001b[1;33m,\u001b[0m \u001b[0mclick_settings\u001b[0m\u001b[1;33m.\u001b[0m\u001b[0mgrad_radius\u001b[0m\u001b[1;33m,\u001b[0m\u001b[1;33m\u001b[0m\u001b[1;33m\u001b[0m\u001b[0m\n\u001b[0;32m    156\u001b[0m                           x, y, heat_values, time, max_width)\n",
      "\u001b[1;32m~\\Documents\\GitHub\\master_arbeit\\modules\\HeatmapHelpers.py\u001b[0m in \u001b[0;36mfill_rectangle_helper\u001b[1;34m(x_min, x_max, y_min, y_max, minimal_x_rect, maximal_x_rect, minimal_y_rect, maximal_y_rect, minimal_width, minimal_height, grad_radius, x, y, heat_values, time, max_width)\u001b[0m\n\u001b[0;32m    113\u001b[0m             \u001b[0midx\u001b[0m \u001b[1;33m=\u001b[0m \u001b[0mto_index\u001b[0m\u001b[1;33m(\u001b[0m\u001b[0mi\u001b[0m\u001b[1;33m,\u001b[0m \u001b[0mj\u001b[0m\u001b[1;33m,\u001b[0m \u001b[0mmax_width\u001b[0m\u001b[1;33m)\u001b[0m\u001b[1;33m\u001b[0m\u001b[1;33m\u001b[0m\u001b[0m\n\u001b[0;32m    114\u001b[0m             \u001b[1;32mif\u001b[0m \u001b[0mminimal_x_rect\u001b[0m \u001b[1;33m<=\u001b[0m \u001b[0mi\u001b[0m \u001b[1;33m<=\u001b[0m \u001b[0mmaximal_x_rect\u001b[0m \u001b[1;32mand\u001b[0m \u001b[0mminimal_y_rect\u001b[0m \u001b[1;33m<=\u001b[0m \u001b[0mj\u001b[0m \u001b[1;33m<=\u001b[0m \u001b[0mmaximal_y_rect\u001b[0m\u001b[1;33m:\u001b[0m\u001b[1;33m\u001b[0m\u001b[1;33m\u001b[0m\u001b[0m\n\u001b[1;32m--> 115\u001b[1;33m                 \u001b[0mheat_values\u001b[0m\u001b[1;33m[\u001b[0m\u001b[0midx\u001b[0m\u001b[1;33m]\u001b[0m \u001b[1;33m+=\u001b[0m \u001b[0mtime\u001b[0m\u001b[1;33m\u001b[0m\u001b[1;33m\u001b[0m\u001b[0m\n\u001b[0m\u001b[0;32m    116\u001b[0m             \u001b[1;32melse\u001b[0m\u001b[1;33m:\u001b[0m\u001b[1;33m\u001b[0m\u001b[1;33m\u001b[0m\u001b[0m\n\u001b[0;32m    117\u001b[0m                 \u001b[0my_distance\u001b[0m \u001b[1;33m=\u001b[0m \u001b[0mmath\u001b[0m\u001b[1;33m.\u001b[0m\u001b[0msqrt\u001b[0m\u001b[1;33m(\u001b[0m\u001b[0mmath\u001b[0m\u001b[1;33m.\u001b[0m\u001b[0mpow\u001b[0m\u001b[1;33m(\u001b[0m\u001b[0my\u001b[0m \u001b[1;33m-\u001b[0m \u001b[0mj\u001b[0m\u001b[1;33m,\u001b[0m \u001b[1;36m2.0\u001b[0m\u001b[1;33m)\u001b[0m\u001b[1;33m)\u001b[0m\u001b[1;33m\u001b[0m\u001b[1;33m\u001b[0m\u001b[0m\n",
      "\u001b[1;31mKeyboardInterrupt\u001b[0m: "
     ]
    }
   ],
   "source": [
    "heatmap_array = []\n",
    "mask_array = []\n",
    "shape_array = []\n",
    "\n",
    "# iterate over all the datasets\n",
    "for idx, stimulus_dataset in enumerate(visual_stimulus_data_matrix):\n",
    "    print(\"#\" + str(idx), end=\"\")\n",
    "    image = image_array[idx]\n",
    "    shape_array.append(image.shape)\n",
    "    im, mask = rEYEker.draw_average_shape_heat_map_rel(image, stimulus_dataset, click_setting, 1.0, 0.0, None, should_copy=True)\n",
    "    heatmap_array.append(im)\n",
    "    mask_array.append(mask)\n",
    "    \n",
    "print()"
   ]
  },
  {
   "cell_type": "markdown",
   "metadata": {},
   "source": [
    "save heatmaps"
   ]
  },
  {
   "cell_type": "code",
   "execution_count": 33,
   "metadata": {},
   "outputs": [
    {
     "name": "stdout",
     "output_type": "stream",
     "text": [
      "Writing to:./results/averageHeatMaps/\n"
     ]
    }
   ],
   "source": [
    "for idx, heatmap in enumerate(heatmap_array):\n",
    "    #path = \"./results/\" + str(algo_name_aray[algo_idx]) + \"/heatmaps/average_heatmap/\"\n",
    "    path = \"./results/averageHeatMaps/\"\n",
    "    print(\"Writing to:\" + path)\n",
    "    save_images([heatmap], path, algo_name_array[idx])"
   ]
  },
  {
   "cell_type": "markdown",
   "metadata": {},
   "source": [
    "<h2>4. Create Sequence diagramms</h2>"
   ]
  },
  {
   "cell_type": "markdown",
   "metadata": {},
   "source": [
    "create sequence diagrams"
   ]
  },
  {
   "cell_type": "code",
   "execution_count": 16,
   "metadata": {},
   "outputs": [
    {
     "name": "stdout",
     "output_type": "stream",
     "text": [
      "Going to process 8 datatables: \n",
      "\tGoing to process datatable #3 with 4 datasets: \n",
      "\t\tdataset #0 (up to 5): [0;1;2;3;4;]\n",
      "\t\tdataset #1 (up to 2): [0;1;]\n",
      "\t\tdataset #2 (up to 3): [0;1;2;]\n",
      "\t\tdataset #3 (up to 8): [0;1;2;3;4;5;6;7;]\n",
      "\tGoing to process datatable #3 with 4 datasets: \n",
      "\t\tdataset #0 (up to 12): [0;1;2;3;4;5;6;7;8;9;10;11;]\n",
      "\t\tdataset #1 (up to 7): [0;1;2;3;4;5;6;]\n",
      "\t\tdataset #2 (up to 5): [0;1;2;3;4;]\n",
      "\t\tdataset #3 (up to 14): [0;1;2;3;4;5;6;7;8;9;10;11;12;13;]\n",
      "\tGoing to process datatable #3 with 4 datasets: \n",
      "\t\tdataset #0 (up to 17): [0;1;2;3;4;5;6;7;8;9;10;11;12;13;14;15;16;]\n",
      "\t\tdataset #1 (up to 25): [0;1;2;3;4;5;6;7;8;9;10;11;12;13;14;15;16;17;18;19;20;21;22;23;24;]\n",
      "\t\tdataset #2 (up to 24): [0;1;2;3;4;5;6;7;8;9;10;11;12;13;14;15;16;17;18;19;20;21;22;23;]\n",
      "\t\tdataset #3 (up to 16): [0;1;2;3;4;5;6;7;8;9;10;11;12;13;14;15;]\n",
      "\tGoing to process datatable #3 with 4 datasets: \n",
      "\t\tdataset #0 (up to 12): [0;1;2;3;4;5;6;7;8;9;10;11;]\n",
      "\t\tdataset #1 (up to 17): [0;1;2;3;4;5;6;7;8;9;10;11;12;13;14;15;16;]\n",
      "\t\tdataset #2 (up to 14): [0;1;2;3;4;5;6;7;8;9;10;11;12;13;]\n",
      "\t\tdataset #3 (up to 20): [0;1;2;3;4;5;6;7;8;9;10;11;12;13;14;15;16;17;18;19;]\n",
      "\tGoing to process datatable #3 with 4 datasets: \n",
      "\t\tdataset #0 (up to 6): [0;1;2;3;4;5;]\n",
      "\t\tdataset #1 (up to 6): [0;1;2;3;4;5;]\n",
      "\t\tdataset #2 (up to 11): [0;1;2;3;4;5;6;7;8;9;10;]\n",
      "\t\tdataset #3 (up to 12): [0;1;2;3;4;5;6;7;8;9;10;11;]\n",
      "\tGoing to process datatable #3 with 4 datasets: \n",
      "\t\tdataset #0 (up to 4): [0;1;2;3;]\n",
      "\t\tdataset #1 (up to 6): [0;1;2;3;4;5;]\n",
      "\t\tdataset #2 (up to 3): [0;1;2;]\n",
      "\t\tdataset #3 (up to 3): [0;1;2;]\n",
      "\tGoing to process datatable #3 with 4 datasets: \n",
      "\t\tdataset #0 (up to 3): [0;1;2;]\n",
      "\t\tdataset #1 (up to 2): [0;1;]\n",
      "\t\tdataset #2 (up to 4): [0;1;2;3;]\n",
      "\t\tdataset #3 (up to 5): [0;1;2;3;4;]\n",
      "\tGoing to process datatable #3 with 4 datasets: \n",
      "\t\tdataset #0 (up to 13): [0;1;2;3;4;5;6;7;8;9;10;11;12;]\n",
      "\t\tdataset #1 (up to 17): [0;1;2;3;4;5;6;7;8;9;10;11;12;13;14;15;16;]\n",
      "\t\tdataset #2 (up to 10): [0;1;2;3;4;5;6;7;8;9;]\n",
      "\t\tdataset #3 (up to 22): [0;1;2;3;4;5;6;7;8;9;10;11;12;13;14;15;16;17;18;19;20;21;]\n"
     ]
    }
   ],
   "source": [
    "sequence_diagrams_tensor = []\n",
    "\n",
    "print(\"Going to process \" + str(len(visual_stimulus_data_tensor)) + \" datatables: \")\n",
    "for algo_idx, visual_stimulus_data_matrix in enumerate(visual_stimulus_data_tensor):\n",
    "    sequence_diagrams_matrix = []\n",
    "    print(\"\\tGoing to process datatable #\" + str(idx) + \" with \" + str(len(visual_stimulus_data_matrix)) + \" datasets: \")\n",
    "    \n",
    "    # iterate over all the datasets\n",
    "    for dataset_idx, stimulus_dataset in enumerate(visual_stimulus_data_matrix):\n",
    "        sequence_diagram_array = []\n",
    "        print(\"\\t\\tdataset #\" + str(dataset_idx) + \" (up to \"+ str(len(stimulus_dataset)) + \"): [\", end='')\n",
    "    \n",
    "        # iterate over all the measurements of the dataset\n",
    "        for visual_idx, stimulus_measurement in enumerate(stimulus_dataset):\n",
    "            print(str(visual_idx), end=\";\")\n",
    "            im = image_tensor[algo_idx][dataset_idx]\n",
    "            try:\n",
    "                im = rEYEker.draw_vertical_line_diagram(im, stimulus_measurement, should_copy=True)\n",
    "                sequence_diagram_array.append(im)\n",
    "                \n",
    "            except:\n",
    "                #TODO\n",
    "                sequence_diagram_array.append(im.copy())\n",
    "                #print(\"W.I.P.:\", end='')\n",
    "                #print(\"to many clicks for dataset \" + str(dataset_idx) + \" datset \" + str(visual_idx))\n",
    "                \n",
    "        print(\"]\")\n",
    "        sequence_diagrams_matrix.append(sequence_diagram_array)\n",
    "    sequence_diagrams_tensor.append(sequence_diagrams_matrix)"
   ]
  },
  {
   "cell_type": "markdown",
   "metadata": {},
   "source": [
    "save sequence diagrams"
   ]
  },
  {
   "cell_type": "code",
   "execution_count": 17,
   "metadata": {},
   "outputs": [
    {
     "name": "stdout",
     "output_type": "stream",
     "text": [
      "Writing to:./results/BinarySearch/sequence_diagrams/BR/\n",
      "Writing to:./results/BinarySearch/sequence_diagrams/BI/\n",
      "Writing to:./results/BinarySearch/sequence_diagrams/TR/\n",
      "Writing to:./results/BinarySearch/sequence_diagrams/TI/\n",
      "Writing to:./results/BubbleSort/sequence_diagrams/BR/\n",
      "Writing to:./results/BubbleSort/sequence_diagrams/BI/\n",
      "Writing to:./results/BubbleSort/sequence_diagrams/TR/\n",
      "Writing to:./results/BubbleSort/sequence_diagrams/TI/\n",
      "Writing to:./results/Factorial/sequence_diagrams/BR/\n",
      "Writing to:./results/Factorial/sequence_diagrams/BI/\n",
      "Writing to:./results/Factorial/sequence_diagrams/TR/\n",
      "Writing to:./results/Factorial/sequence_diagrams/TI/\n",
      "Writing to:./results/Fibonacci/sequence_diagrams/BR/\n",
      "Writing to:./results/Fibonacci/sequence_diagrams/BI/\n",
      "Writing to:./results/Fibonacci/sequence_diagrams/TR/\n",
      "Writing to:./results/Fibonacci/sequence_diagrams/TI/\n",
      "Writing to:./results/IntegerBinary/sequence_diagrams/BR/\n",
      "Writing to:./results/IntegerBinary/sequence_diagrams/BI/\n",
      "Writing to:./results/IntegerBinary/sequence_diagrams/TR/\n",
      "Writing to:./results/IntegerBinary/sequence_diagrams/TI/\n",
      "Writing to:./results/MultiplyMatrix/sequence_diagrams/BR/\n",
      "Writing to:./results/MultiplyMatrix/sequence_diagrams/BI/\n",
      "Writing to:./results/MultiplyMatrix/sequence_diagrams/TR/\n",
      "Writing to:./results/MultiplyMatrix/sequence_diagrams/TI/\n",
      "Writing to:./results/PrimeFactors/sequence_diagrams/BR/\n",
      "Writing to:./results/PrimeFactors/sequence_diagrams/BI/\n",
      "Writing to:./results/PrimeFactors/sequence_diagrams/TR/\n",
      "Writing to:./results/PrimeFactors/sequence_diagrams/TI/\n",
      "Writing to:./results/ReverseString/sequence_diagrams/BR/\n",
      "Writing to:./results/ReverseString/sequence_diagrams/BI/\n",
      "Writing to:./results/ReverseString/sequence_diagrams/TR/\n",
      "Writing to:./results/ReverseString/sequence_diagrams/TI/\n"
     ]
    }
   ],
   "source": [
    "for algo_idx, sequence_diagrams_matrix in enumerate(sequence_diagrams_tensor):\n",
    "    for idx, sequence_diagram_array in enumerate(sequence_diagrams_matrix):\n",
    "        path = \"./results/\" + str(algo_name_array[algo_idx]) + \"/sequence_diagrams/\" +  config_folder_prefix_array[idx]\n",
    "        print(\"Writing to:\" + path)\n",
    "        save_images(sequence_diagram_array, path, config_image_prefix_tensor[algo_idx][idx])"
   ]
  },
  {
   "cell_type": "markdown",
   "metadata": {},
   "source": [
    "# AOI categorization"
   ]
  },
  {
   "cell_type": "code",
   "execution_count": 62,
   "metadata": {},
   "outputs": [],
   "source": [
    "config_prefix = ['BR', 'BI', 'TR', 'TI']\n",
    "aoi_cat_path_matrix = []\n",
    "\n",
    "for algo_name in algo_name_array:\n",
    "    aoi_array =[\n",
    "        'data/aoi_categorized/AOI_BR_' + algo_name + '.xlsx',\n",
    "        'data/aoi_categorized/AOI_BI_' + algo_name + '.xlsx',\n",
    "        'data/aoi_categorized/AOI_TR_' + algo_name + '.xlsx',\n",
    "        'data/aoi_categorized/AOI_TI_' + algo_name + '.xlsx',\n",
    "    ]\n",
    "    aoi_cat_path_matrix.append(aoi_array)\n",
    "    \n",
    "aoi_df_matrix = []\n",
    "for path_array in aoi_cat_path_matrix:\n",
    "    aoi_df_array = []\n",
    "    for path in path_array:\n",
    "        raw = pd.read_excel(path)\n",
    "        tmp_df = pd.DataFrame(raw)\n",
    "        aoi_df_array.append(tmp_df)\n",
    "    aoi_df_matrix.append(aoi_df_array) \n",
    "    \n",
    "def is_in(df, y):\n",
    "    for _idx, row in df.iterrows():\n",
    "        if row[\"startHeight\"] <= y <= row[\"stopHeight\"]:\n",
    "            return row[\"Name\"]\n",
    "    return \"none\"\n",
    "\n",
    "iterative = ['none', 'main', 'Iterative definition', 'Pre calculation', 'Iteration Condition', 'Iteration Step', 'Return Result']\n",
    "recursive = ['none','main', 'Recursive definition', 'Pre calculation', 'Recursive Condition', 'Recursive Step', 'Return Result']\n",
    "order = ['0', '1', '2', '3', '4', '5', '6']"
   ]
  },
  {
   "cell_type": "code",
   "execution_count": 106,
   "metadata": {},
   "outputs": [
    {
     "name": "stdout",
     "output_type": "stream",
     "text": [
      "0\n",
      "1\n",
      "2\n",
      "3\n",
      "4\n",
      "5\n",
      "6\n",
      "7\n",
      "8\n",
      "9\n",
      "10\n",
      "11\n",
      "12\n",
      "13\n",
      "14\n",
      "15\n",
      "16\n",
      "17\n",
      "18\n",
      "19\n",
      "20\n",
      "21\n",
      "22\n",
      "23\n",
      "24\n",
      "25\n",
      "26\n",
      "27\n",
      "28\n",
      "29\n",
      "30\n",
      "31\n"
     ]
    }
   ],
   "source": [
    "mask_array = []\n",
    "for mask_2d in mask_tensor:\n",
    "    for mask_1d in mask_2d:\n",
    "        mask_array.append(mask_1d)\n",
    "        \n",
    "aoi_df_array = []\n",
    "for aoi_df_1d in aoi_df_matrix:\n",
    "    for df in aoi_df_1d:\n",
    "        aoi_df_array.append(df)\n",
    "\n",
    "algo_df = pd.DataFrame([], columns=[\"Comprehension\", \"Programming\", \"Algorithm\"])\n",
    "for algo in algo_name_array:\n",
    "    for idx, prefix in enumerate(config_prefix):\n",
    "        comprehension = \"BU\"\n",
    "        if idx >= 2:\n",
    "            comprehension = \"TD\"\n",
    "        \n",
    "        programming = \"R\"\n",
    "        if idx%2==1:\n",
    "            programming = \"I\"\n",
    "        \n",
    "        algo_df = algo_df.append(pd.DataFrame(\n",
    "            [[comprehension, programming, algo]],\n",
    "            columns=[\"Comprehension\", \"Programming\", \"Algorithm\"]))\n",
    "algo_df = algo_df.reset_index()\n",
    "algo_df = algo_df.drop(\"index\", axis=1)\n",
    "    \n",
    "additional = iterative.copy()\n",
    "for element in recursive:\n",
    "    additional.append(element)\n",
    "\n",
    "additional = list(set(additional))\n",
    "for element in additional:\n",
    "    algo_df.insert(loc=3, column=element, value=0)\n",
    "\n",
    "for idx, mask in enumerate(mask_array):\n",
    "    height = shape_array[idx][0]\n",
    "    width = shape_array[idx][1]\n",
    "    aoi_df = aoi_df_array[idx]\n",
    "    print(idx)\n",
    "    for h in range(height):\n",
    "        for w in range(width):\n",
    "            mask_idx = h*width+w\n",
    "            if mask[mask_idx] != 0:\n",
    "                name = is_in(aoi_df, h)\n",
    "                algo_df.at[idx, name] += 1\n"
   ]
  },
  {
   "cell_type": "code",
   "execution_count": 129,
   "metadata": {},
   "outputs": [
    {
     "name": "stdout",
     "output_type": "stream",
     "text": [
      "['BinarySearch', 'BU', 'R', 'main', 'Recursive Step', 'Pre calculation', 'Recursive Condition']\n",
      "['BinarySearch', 'BU', 'I', 'main']\n",
      "['BinarySearch', 'TD', 'R', 'main']\n",
      "['BinarySearch', 'TD', 'I', 'Iteration Condition', 'main', 'Pre calculation', 'Iteration Step']\n",
      "['BubbleSort', 'BU', 'R', 'main']\n",
      "['BubbleSort', 'BU', 'I', 'main']\n",
      "['BubbleSort', 'TD', 'R', 'main']\n",
      "['BubbleSort', 'TD', 'I', 'Iteration Condition', 'main', 'Iteration Step']\n",
      "['Factorial', 'BU', 'R', 'main', 'Recursive Step', 'Recursive definition']\n",
      "['Factorial', 'BU', 'I', 'Iteration Condition', 'Iterative definition', 'Pre calculation']\n",
      "['Factorial', 'TD', 'R', 'main', 'Recursive Step', 'Recursive definition']\n",
      "['Factorial', 'TD', 'I', 'Iteration Condition', 'Iterative definition', 'Pre calculation']\n",
      "['Fibonacci', 'BU', 'R', 'none', 'Recursive Step']\n",
      "['Fibonacci', 'BU', 'I', 'Iteration Condition', 'Pre calculation', 'Iteration Step']\n",
      "['Fibonacci', 'TD', 'R', 'Recursive Step']\n",
      "['Fibonacci', 'TD', 'I', 'Iteration Condition', 'Iterative definition', 'Pre calculation', 'Iteration Step']\n",
      "['IntegerBinary', 'BU', 'R', 'Recursive Step', 'Return Result']\n",
      "['IntegerBinary', 'BU', 'I', 'Iteration Condition', 'Return Result', 'Pre calculation', 'Iteration Step']\n",
      "['IntegerBinary', 'TD', 'R', 'Recursive Step', 'Return Result']\n",
      "['IntegerBinary', 'TD', 'I', 'Iteration Condition', 'Pre calculation', 'Iteration Step']\n",
      "['MultiplyMatrix', 'BU', 'R', 'main', 'none', 'Recursive Step', 'Pre calculation', 'Recursive definition']\n",
      "['MultiplyMatrix', 'BU', 'I', 'Iteration Condition', 'Iteration Step']\n",
      "['MultiplyMatrix', 'TD', 'R', 'main', 'Recursive Step', 'Pre calculation']\n",
      "['MultiplyMatrix', 'TD', 'I', 'Iteration Condition', 'main', 'Iteration Step']\n",
      "['PrimeFactors', 'BU', 'R', 'none', 'Recursive Step', 'Return Result', 'Pre calculation']\n",
      "['PrimeFactors', 'BU', 'I', 'Iteration Condition', 'Iteration Step']\n",
      "['PrimeFactors', 'TD', 'R', 'none', 'Recursive Step', 'Return Result', 'Pre calculation']\n",
      "['PrimeFactors', 'TD', 'I', 'Iteration Condition', 'main', 'Iteration Step']\n",
      "['ReverseString', 'BU', 'R', 'main', 'none', 'Recursive Step']\n",
      "['ReverseString', 'BU', 'I', 'Iteration Condition', 'Iteration Step']\n",
      "['ReverseString', 'TD', 'R', 'main', 'none', 'Recursive Step']\n",
      "['ReverseString', 'TD', 'I', 'Iteration Condition', 'Iteration Step']\n"
     ]
    }
   ],
   "source": [
    "#algo_df = algo_df.reset_index()\n",
    "pattern = []\n",
    "for idx, row in algo_df.iterrows():\n",
    "    algo_pattern = [row[\"Algorithm\"], row[\"Comprehension\"], row[\"Programming\"]]\n",
    "    for element in additional:\n",
    "        if row[element] >= 500:\n",
    "            algo_pattern.append(element)\n",
    "    pattern.append(algo_pattern)  \n",
    "    \n",
    "for data in pattern:\n",
    "    print(str(data))"
   ]
  },
  {
   "cell_type": "code",
   "execution_count": null,
   "metadata": {},
   "outputs": [],
   "source": []
  }
 ],
 "metadata": {
  "kernelspec": {
   "display_name": "Python 3",
   "language": "python",
   "name": "python3"
  },
  "language_info": {
   "codemirror_mode": {
    "name": "ipython",
    "version": 3
   },
   "file_extension": ".py",
   "mimetype": "text/x-python",
   "name": "python",
   "nbconvert_exporter": "python",
   "pygments_lexer": "ipython3",
   "version": "3.8.8"
  }
 },
 "nbformat": 4,
 "nbformat_minor": 4
}
