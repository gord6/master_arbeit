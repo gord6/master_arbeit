{
 "cells": [
  {
   "cell_type": "code",
   "execution_count": 2,
   "id": "d08b9829-6507-4a47-bbe0-8e0703690050",
   "metadata": {},
   "outputs": [],
   "source": [
    "import pandas as pd\n",
    "import re\n",
    "import numpy as np\n",
    "import matplotlib.pyplot as plt\n",
    "import seaborn as sns\n"
   ]
  },
  {
   "cell_type": "code",
   "execution_count": 3,
   "id": "54de9dbd-aa3a-46d2-ad3b-35076adfd83c",
   "metadata": {},
   "outputs": [],
   "source": [
    "config_datasheet = r'./data/raw/Klausur.xlsx'\n",
    "code_datasheet = r'./results/behavioral/compare/compare.xlsx'"
   ]
  },
  {
   "cell_type": "code",
   "execution_count": 4,
   "id": "13fb5e3c-a2e3-4e10-b125-036c951f043b",
   "metadata": {},
   "outputs": [],
   "source": [
    "raw = pd.read_excel(config_datasheet)\n",
    "df = pd.DataFrame(raw)"
   ]
  },
  {
   "cell_type": "code",
   "execution_count": 10,
   "id": "a8572085-3a19-47a9-8480-4e6a658363e5",
   "metadata": {},
   "outputs": [
    {
     "name": "stdout",
     "output_type": "stream",
     "text": [
      "      U-val alternative     p-val       RBC      CLES\n",
      "MWU  1100.5   two-sided  0.007409 -0.395688  0.697844\n"
     ]
    },
    {
     "data": {
      "text/html": [
       "<div>\n",
       "<style scoped>\n",
       "    .dataframe tbody tr th:only-of-type {\n",
       "        vertical-align: middle;\n",
       "    }\n",
       "\n",
       "    .dataframe tbody tr th {\n",
       "        vertical-align: top;\n",
       "    }\n",
       "\n",
       "    .dataframe thead th {\n",
       "        text-align: right;\n",
       "    }\n",
       "</style>\n",
       "<table border=\"1\" class=\"dataframe\">\n",
       "  <thead>\n",
       "    <tr style=\"text-align: right;\">\n",
       "      <th></th>\n",
       "      <th>Gruppe</th>\n",
       "      <th>Klausurergebnis</th>\n",
       "      <th>Klausurergebnis2</th>\n",
       "      <th>MWU</th>\n",
       "      <th>Cliff's Delta</th>\n",
       "    </tr>\n",
       "  </thead>\n",
       "  <tbody>\n",
       "    <tr>\n",
       "      <th>0</th>\n",
       "      <td>Klausur</td>\n",
       "      <td>64.51</td>\n",
       "      <td>76.42</td>\n",
       "      <td>0.01</td>\n",
       "      <td>0.4</td>\n",
       "    </tr>\n",
       "  </tbody>\n",
       "</table>\n",
       "</div>"
      ],
      "text/plain": [
       "    Gruppe  Klausurergebnis  Klausurergebnis2   MWU  Cliff's Delta\n",
       "0  Klausur            64.51             76.42  0.01            0.4"
      ]
     },
     "metadata": {},
     "output_type": "display_data"
    }
   ],
   "source": [
    "nachname = [\"Habermann\", \"Gütter\", \"Pötschke\", \"Progscha\", \"Schmidt\", \"Pfeifer\", \"Schadli\", \"Kühn\", \"Heyne\",\n",
    "           \"Wenzel\", \"Jeong\", \"Stumm\", \"Dymek\", \"Knobloch\", \"Pönisch\", \"Schaftner\", \"Schöbel\", \"Meyer\", \"Jeromin\"]\n",
    "\n",
    "vorname = [\"Tim\", \"Friedrich\", \"Katrin\", \"Simon\", \"Benjamin\", \"Robert Oliver\", \"Andreas\", \"Fränzi\", \"Louis\",\n",
    "          \"Kristian\", \"Jiyun\", \"Constantin Hartmut\", \"Martin\", \"Philip\", \"Justin\", \"Sandra\", \"Richard\", \"Niclas\", \"Mathis\"]\n",
    "nichtmitgeschrieben = [\"Schwarz, Melina\", \"Warias, Yannic\"]\n",
    "\n",
    "\n",
    "teilnehmer = pd.DataFrame()\n",
    "\n",
    "for i in range(len(nachname)):\n",
    "    teilnehmer = teilnehmer.append(df.loc[(df[\"Vorname\"] == vorname[i]) & (df[\"Nachname\"] == nachname[i])])\n",
    "\n",
    "noten = []\n",
    "punkte = []\n",
    "\n",
    "tmp = df.loc[~((df.Nachname.isin(teilnehmer['Nachname']))&(df.Vorname.isin(teilnehmer['Vorname']))),:]\n",
    "\n",
    "klausur_remove_not_passed = df.loc[df[\"Note\"]== 5.0]\n",
    "\n",
    "klausur_removed = df.loc[~((df.Note.isin(klausur_remove_not_passed['Note']))),:]\n",
    "\n",
    "\n",
    "\n",
    "#print(df[\"Note\"].value_counts())\n",
    "#print(tmp[\"Note\"].count())\n",
    "#print(tmp[\"Note\"].value_counts())\n",
    "\n",
    "\n",
    "\n",
    "\n",
    "#print(\"Alle   \", round(df[\"Note\"].mean(), 2), round(df[\"Punkte\"].mean(), 2))\n",
    "#print(\"Syntax \", round(teilnehmer[\"Note\"].mean(), 2), round(teilnehmer[\"Punkte\"].mean(), 2))\n",
    "#print(\"Ohne   \", round(tmp[\"Note\"].mean(), 2), round(tmp[\"Punkte\"].mean(), 2))\n",
    "#print(\"Removed\", round(klausur_removed[\"Note\"].mean(), 2), round(klausur_removed[\"Punkte\"].mean(), 2))\n",
    "\n",
    "#print(df[\"Note\"])\n",
    "    \n",
    "import scipy.stats as stats\n",
    "\n",
    "from pingouin import mwu\n",
    "\n",
    "\n",
    "\n",
    "#ttest <.05 = signifikant \n",
    "\n",
    "#print(stats.shapiro(teilnehmer[\"Punkte\"]), stats.shapiro(tmp[\"Punkte\"].dropna()))\n",
    "#print(stats.ttest_ind(teilnehmer[\"Punkte\"], tmp[\"Punkte\"].dropna()))\n",
    "\n",
    "from cliffs_delta import cliffs_delta\n",
    "\n",
    "mwu_punkte = mwu(teilnehmer[\"Punkte\"], tmp[\"Punkte\"].dropna())\n",
    "\n",
    "print(mwu_punkte)\n",
    "cliffs_delta_punkte = cliffs_delta(teilnehmer[\"Punkte\"], tmp[\"Punkte\"].dropna())\n",
    "#5.0 Teilnehmer entfernen\n",
    "#Tabelle teilen\n",
    "\n",
    "\n",
    "\n",
    "klausur_df = pd.DataFrame([[\"Klausur\", round(tmp[\"Punkte\"].mean(), 2), round(teilnehmer[\"Punkte\"].mean(), 2), round(mwu_punkte[\"p-val\"][0], 2), round(cliffs_delta_punkte[0], 2)]], \n",
    "                         columns=[\"Gruppe\", \"Klausurergebnis\", \"Klausurergebnis2\", \"MWU\", \"Cliff's Delta\"])\n",
    "\n",
    "display(klausur_df)\n",
    "\n",
    "import os \n",
    "with open(\n",
    "    os.path.join(os.getcwd(),\"klausurergebnisse.tex\"), \"w\"\n",
    ") as tf:\n",
    "    tf.write(klausur_df\n",
    "             .to_latex(\n",
    "             index=False,\n",
    "             caption=\"Klausurergebnisse: Punkte\",\n",
    "                 escape=False,\n",
    "                 column_format=\"cccccc\",\n",
    "             ))\n"
   ]
  },
  {
   "cell_type": "code",
   "execution_count": 52,
   "id": "9d66f52c-10a0-41cd-ba8a-3224cd5ceff8",
   "metadata": {},
   "outputs": [
    {
     "data": {
      "text/html": [
       "<div>\n",
       "<style scoped>\n",
       "    .dataframe tbody tr th:only-of-type {\n",
       "        vertical-align: middle;\n",
       "    }\n",
       "\n",
       "    .dataframe tbody tr th {\n",
       "        vertical-align: top;\n",
       "    }\n",
       "\n",
       "    .dataframe thead th {\n",
       "        text-align: right;\n",
       "    }\n",
       "</style>\n",
       "<table border=\"1\" class=\"dataframe\">\n",
       "  <thead>\n",
       "    <tr style=\"text-align: right;\">\n",
       "      <th></th>\n",
       "      <th>Gruppen</th>\n",
       "      <th>Punkte</th>\n",
       "    </tr>\n",
       "  </thead>\n",
       "  <tbody>\n",
       "    <tr>\n",
       "      <th>0</th>\n",
       "      <td>Testgruppe</td>\n",
       "      <td>76.420000</td>\n",
       "    </tr>\n",
       "    <tr>\n",
       "      <th>0</th>\n",
       "      <td>Kontrollgruppe</td>\n",
       "      <td>64.512048</td>\n",
       "    </tr>\n",
       "  </tbody>\n",
       "</table>\n",
       "</div>"
      ],
      "text/plain": [
       "          Gruppen     Punkte\n",
       "0      Testgruppe  76.420000\n",
       "0  Kontrollgruppe  64.512048"
      ]
     },
     "metadata": {},
     "output_type": "display_data"
    },
    {
     "name": "stdout",
     "output_type": "stream",
     "text": [
      "count    19.000000\n",
      "mean     76.421053\n",
      "std      12.928503\n",
      "min      54.500000\n",
      "25%      70.750000\n",
      "50%      75.500000\n",
      "75%      84.250000\n",
      "max      97.000000\n",
      "Name: Punkte, dtype: float64\n",
      "75.5\n"
     ]
    },
    {
     "ename": "PermissionError",
     "evalue": "[Errno 13] Permission denied: 'results/behavioral/Klausur.pdf'",
     "output_type": "error",
     "traceback": [
      "\u001b[1;31m---------------------------------------------------------------------------\u001b[0m",
      "\u001b[1;31mPermissionError\u001b[0m                           Traceback (most recent call last)",
      "\u001b[1;32m<ipython-input-52-d7b3f22b8026>\u001b[0m in \u001b[0;36m<module>\u001b[1;34m\u001b[0m\n\u001b[0;32m     24\u001b[0m \u001b[0max\u001b[0m\u001b[1;33m.\u001b[0m\u001b[0myaxis\u001b[0m\u001b[1;33m.\u001b[0m\u001b[0mset_ticks\u001b[0m\u001b[1;33m(\u001b[0m\u001b[0mnp\u001b[0m\u001b[1;33m.\u001b[0m\u001b[0marange\u001b[0m\u001b[1;33m(\u001b[0m\u001b[1;36m0\u001b[0m\u001b[1;33m,\u001b[0m \u001b[1;36m125\u001b[0m\u001b[1;33m,\u001b[0m \u001b[1;36m25\u001b[0m\u001b[1;33m)\u001b[0m\u001b[1;33m)\u001b[0m\u001b[1;33m\u001b[0m\u001b[1;33m\u001b[0m\u001b[0m\n\u001b[0;32m     25\u001b[0m \u001b[0max\u001b[0m\u001b[1;33m.\u001b[0m\u001b[0mlegend\u001b[0m\u001b[1;33m(\u001b[0m\u001b[0mloc\u001b[0m\u001b[1;33m=\u001b[0m\u001b[1;34m\"center left\"\u001b[0m\u001b[1;33m,\u001b[0m \u001b[0mbbox_to_anchor\u001b[0m\u001b[1;33m=\u001b[0m\u001b[1;33m(\u001b[0m\u001b[1;36m1.0\u001b[0m\u001b[1;33m,\u001b[0m \u001b[1;36m0.5\u001b[0m\u001b[1;33m)\u001b[0m\u001b[1;33m)\u001b[0m\u001b[1;33m\u001b[0m\u001b[1;33m\u001b[0m\u001b[0m\n\u001b[1;32m---> 26\u001b[1;33m \u001b[0mplt\u001b[0m\u001b[1;33m.\u001b[0m\u001b[0msavefig\u001b[0m\u001b[1;33m(\u001b[0m\u001b[1;34m\"results/behavioral/Klausur.pdf\"\u001b[0m\u001b[1;33m,\u001b[0m \u001b[0mbbox_inches\u001b[0m\u001b[1;33m=\u001b[0m\u001b[1;34m'tight'\u001b[0m\u001b[1;33m,\u001b[0m \u001b[0mpad_inches\u001b[0m\u001b[1;33m=\u001b[0m\u001b[1;36m0.01\u001b[0m\u001b[1;33m)\u001b[0m\u001b[1;33m\u001b[0m\u001b[1;33m\u001b[0m\u001b[0m\n\u001b[0m",
      "\u001b[1;32m~\\anaconda3\\lib\\site-packages\\matplotlib\\pyplot.py\u001b[0m in \u001b[0;36msavefig\u001b[1;34m(*args, **kwargs)\u001b[0m\n\u001b[0;32m    857\u001b[0m \u001b[1;32mdef\u001b[0m \u001b[0msavefig\u001b[0m\u001b[1;33m(\u001b[0m\u001b[1;33m*\u001b[0m\u001b[0margs\u001b[0m\u001b[1;33m,\u001b[0m \u001b[1;33m**\u001b[0m\u001b[0mkwargs\u001b[0m\u001b[1;33m)\u001b[0m\u001b[1;33m:\u001b[0m\u001b[1;33m\u001b[0m\u001b[1;33m\u001b[0m\u001b[0m\n\u001b[0;32m    858\u001b[0m     \u001b[0mfig\u001b[0m \u001b[1;33m=\u001b[0m \u001b[0mgcf\u001b[0m\u001b[1;33m(\u001b[0m\u001b[1;33m)\u001b[0m\u001b[1;33m\u001b[0m\u001b[1;33m\u001b[0m\u001b[0m\n\u001b[1;32m--> 859\u001b[1;33m     \u001b[0mres\u001b[0m \u001b[1;33m=\u001b[0m \u001b[0mfig\u001b[0m\u001b[1;33m.\u001b[0m\u001b[0msavefig\u001b[0m\u001b[1;33m(\u001b[0m\u001b[1;33m*\u001b[0m\u001b[0margs\u001b[0m\u001b[1;33m,\u001b[0m \u001b[1;33m**\u001b[0m\u001b[0mkwargs\u001b[0m\u001b[1;33m)\u001b[0m\u001b[1;33m\u001b[0m\u001b[1;33m\u001b[0m\u001b[0m\n\u001b[0m\u001b[0;32m    860\u001b[0m     \u001b[0mfig\u001b[0m\u001b[1;33m.\u001b[0m\u001b[0mcanvas\u001b[0m\u001b[1;33m.\u001b[0m\u001b[0mdraw_idle\u001b[0m\u001b[1;33m(\u001b[0m\u001b[1;33m)\u001b[0m   \u001b[1;31m# need this if 'transparent=True' to reset colors\u001b[0m\u001b[1;33m\u001b[0m\u001b[1;33m\u001b[0m\u001b[0m\n\u001b[0;32m    861\u001b[0m     \u001b[1;32mreturn\u001b[0m \u001b[0mres\u001b[0m\u001b[1;33m\u001b[0m\u001b[1;33m\u001b[0m\u001b[0m\n",
      "\u001b[1;32m~\\anaconda3\\lib\\site-packages\\matplotlib\\figure.py\u001b[0m in \u001b[0;36msavefig\u001b[1;34m(self, fname, transparent, **kwargs)\u001b[0m\n\u001b[0;32m   2309\u001b[0m                 \u001b[0mpatch\u001b[0m\u001b[1;33m.\u001b[0m\u001b[0mset_edgecolor\u001b[0m\u001b[1;33m(\u001b[0m\u001b[1;34m'none'\u001b[0m\u001b[1;33m)\u001b[0m\u001b[1;33m\u001b[0m\u001b[1;33m\u001b[0m\u001b[0m\n\u001b[0;32m   2310\u001b[0m \u001b[1;33m\u001b[0m\u001b[0m\n\u001b[1;32m-> 2311\u001b[1;33m         \u001b[0mself\u001b[0m\u001b[1;33m.\u001b[0m\u001b[0mcanvas\u001b[0m\u001b[1;33m.\u001b[0m\u001b[0mprint_figure\u001b[0m\u001b[1;33m(\u001b[0m\u001b[0mfname\u001b[0m\u001b[1;33m,\u001b[0m \u001b[1;33m**\u001b[0m\u001b[0mkwargs\u001b[0m\u001b[1;33m)\u001b[0m\u001b[1;33m\u001b[0m\u001b[1;33m\u001b[0m\u001b[0m\n\u001b[0m\u001b[0;32m   2312\u001b[0m \u001b[1;33m\u001b[0m\u001b[0m\n\u001b[0;32m   2313\u001b[0m         \u001b[1;32mif\u001b[0m \u001b[0mtransparent\u001b[0m\u001b[1;33m:\u001b[0m\u001b[1;33m\u001b[0m\u001b[1;33m\u001b[0m\u001b[0m\n",
      "\u001b[1;32m~\\anaconda3\\lib\\site-packages\\matplotlib\\backend_bases.py\u001b[0m in \u001b[0;36mprint_figure\u001b[1;34m(self, filename, dpi, facecolor, edgecolor, orientation, format, bbox_inches, pad_inches, bbox_extra_artists, backend, **kwargs)\u001b[0m\n\u001b[0;32m   2208\u001b[0m \u001b[1;33m\u001b[0m\u001b[0m\n\u001b[0;32m   2209\u001b[0m             \u001b[1;32mtry\u001b[0m\u001b[1;33m:\u001b[0m\u001b[1;33m\u001b[0m\u001b[1;33m\u001b[0m\u001b[0m\n\u001b[1;32m-> 2210\u001b[1;33m                 result = print_method(\n\u001b[0m\u001b[0;32m   2211\u001b[0m                     \u001b[0mfilename\u001b[0m\u001b[1;33m,\u001b[0m\u001b[1;33m\u001b[0m\u001b[1;33m\u001b[0m\u001b[0m\n\u001b[0;32m   2212\u001b[0m                     \u001b[0mdpi\u001b[0m\u001b[1;33m=\u001b[0m\u001b[0mdpi\u001b[0m\u001b[1;33m,\u001b[0m\u001b[1;33m\u001b[0m\u001b[1;33m\u001b[0m\u001b[0m\n",
      "\u001b[1;32m~\\anaconda3\\lib\\site-packages\\matplotlib\\backend_bases.py\u001b[0m in \u001b[0;36mwrapper\u001b[1;34m(*args, **kwargs)\u001b[0m\n\u001b[0;32m   1637\u001b[0m             \u001b[0mkwargs\u001b[0m\u001b[1;33m.\u001b[0m\u001b[0mpop\u001b[0m\u001b[1;33m(\u001b[0m\u001b[0marg\u001b[0m\u001b[1;33m)\u001b[0m\u001b[1;33m\u001b[0m\u001b[1;33m\u001b[0m\u001b[0m\n\u001b[0;32m   1638\u001b[0m \u001b[1;33m\u001b[0m\u001b[0m\n\u001b[1;32m-> 1639\u001b[1;33m         \u001b[1;32mreturn\u001b[0m \u001b[0mfunc\u001b[0m\u001b[1;33m(\u001b[0m\u001b[1;33m*\u001b[0m\u001b[0margs\u001b[0m\u001b[1;33m,\u001b[0m \u001b[1;33m**\u001b[0m\u001b[0mkwargs\u001b[0m\u001b[1;33m)\u001b[0m\u001b[1;33m\u001b[0m\u001b[1;33m\u001b[0m\u001b[0m\n\u001b[0m\u001b[0;32m   1640\u001b[0m \u001b[1;33m\u001b[0m\u001b[0m\n\u001b[0;32m   1641\u001b[0m     \u001b[1;32mreturn\u001b[0m \u001b[0mwrapper\u001b[0m\u001b[1;33m\u001b[0m\u001b[1;33m\u001b[0m\u001b[0m\n",
      "\u001b[1;32m~\\anaconda3\\lib\\site-packages\\matplotlib\\backends\\backend_pdf.py\u001b[0m in \u001b[0;36mprint_pdf\u001b[1;34m(self, filename, dpi, bbox_inches_restore, metadata)\u001b[0m\n\u001b[0;32m   2584\u001b[0m             \u001b[0mfile\u001b[0m \u001b[1;33m=\u001b[0m \u001b[0mfilename\u001b[0m\u001b[1;33m.\u001b[0m\u001b[0m_file\u001b[0m\u001b[1;33m\u001b[0m\u001b[1;33m\u001b[0m\u001b[0m\n\u001b[0;32m   2585\u001b[0m         \u001b[1;32melse\u001b[0m\u001b[1;33m:\u001b[0m\u001b[1;33m\u001b[0m\u001b[1;33m\u001b[0m\u001b[0m\n\u001b[1;32m-> 2586\u001b[1;33m             \u001b[0mfile\u001b[0m \u001b[1;33m=\u001b[0m \u001b[0mPdfFile\u001b[0m\u001b[1;33m(\u001b[0m\u001b[0mfilename\u001b[0m\u001b[1;33m,\u001b[0m \u001b[0mmetadata\u001b[0m\u001b[1;33m=\u001b[0m\u001b[0mmetadata\u001b[0m\u001b[1;33m)\u001b[0m\u001b[1;33m\u001b[0m\u001b[1;33m\u001b[0m\u001b[0m\n\u001b[0m\u001b[0;32m   2587\u001b[0m         \u001b[1;32mtry\u001b[0m\u001b[1;33m:\u001b[0m\u001b[1;33m\u001b[0m\u001b[1;33m\u001b[0m\u001b[0m\n\u001b[0;32m   2588\u001b[0m             \u001b[0mfile\u001b[0m\u001b[1;33m.\u001b[0m\u001b[0mnewPage\u001b[0m\u001b[1;33m(\u001b[0m\u001b[0mwidth\u001b[0m\u001b[1;33m,\u001b[0m \u001b[0mheight\u001b[0m\u001b[1;33m)\u001b[0m\u001b[1;33m\u001b[0m\u001b[1;33m\u001b[0m\u001b[0m\n",
      "\u001b[1;32m~\\anaconda3\\lib\\site-packages\\matplotlib\\backends\\backend_pdf.py\u001b[0m in \u001b[0;36m__init__\u001b[1;34m(self, filename, metadata)\u001b[0m\n\u001b[0;32m    560\u001b[0m         \u001b[0mself\u001b[0m\u001b[1;33m.\u001b[0m\u001b[0moriginal_file_like\u001b[0m \u001b[1;33m=\u001b[0m \u001b[1;32mNone\u001b[0m\u001b[1;33m\u001b[0m\u001b[1;33m\u001b[0m\u001b[0m\n\u001b[0;32m    561\u001b[0m         \u001b[0mself\u001b[0m\u001b[1;33m.\u001b[0m\u001b[0mtell_base\u001b[0m \u001b[1;33m=\u001b[0m \u001b[1;36m0\u001b[0m\u001b[1;33m\u001b[0m\u001b[1;33m\u001b[0m\u001b[0m\n\u001b[1;32m--> 562\u001b[1;33m         \u001b[0mfh\u001b[0m\u001b[1;33m,\u001b[0m \u001b[0mopened\u001b[0m \u001b[1;33m=\u001b[0m \u001b[0mcbook\u001b[0m\u001b[1;33m.\u001b[0m\u001b[0mto_filehandle\u001b[0m\u001b[1;33m(\u001b[0m\u001b[0mfilename\u001b[0m\u001b[1;33m,\u001b[0m \u001b[1;34m\"wb\"\u001b[0m\u001b[1;33m,\u001b[0m \u001b[0mreturn_opened\u001b[0m\u001b[1;33m=\u001b[0m\u001b[1;32mTrue\u001b[0m\u001b[1;33m)\u001b[0m\u001b[1;33m\u001b[0m\u001b[1;33m\u001b[0m\u001b[0m\n\u001b[0m\u001b[0;32m    563\u001b[0m         \u001b[1;32mif\u001b[0m \u001b[1;32mnot\u001b[0m \u001b[0mopened\u001b[0m\u001b[1;33m:\u001b[0m\u001b[1;33m\u001b[0m\u001b[1;33m\u001b[0m\u001b[0m\n\u001b[0;32m    564\u001b[0m             \u001b[1;32mtry\u001b[0m\u001b[1;33m:\u001b[0m\u001b[1;33m\u001b[0m\u001b[1;33m\u001b[0m\u001b[0m\n",
      "\u001b[1;32m~\\anaconda3\\lib\\site-packages\\matplotlib\\cbook\\__init__.py\u001b[0m in \u001b[0;36mto_filehandle\u001b[1;34m(fname, flag, return_opened, encoding)\u001b[0m\n\u001b[0;32m    406\u001b[0m             \u001b[0mfh\u001b[0m \u001b[1;33m=\u001b[0m \u001b[0mbz2\u001b[0m\u001b[1;33m.\u001b[0m\u001b[0mBZ2File\u001b[0m\u001b[1;33m(\u001b[0m\u001b[0mfname\u001b[0m\u001b[1;33m,\u001b[0m \u001b[0mflag\u001b[0m\u001b[1;33m)\u001b[0m\u001b[1;33m\u001b[0m\u001b[1;33m\u001b[0m\u001b[0m\n\u001b[0;32m    407\u001b[0m         \u001b[1;32melse\u001b[0m\u001b[1;33m:\u001b[0m\u001b[1;33m\u001b[0m\u001b[1;33m\u001b[0m\u001b[0m\n\u001b[1;32m--> 408\u001b[1;33m             \u001b[0mfh\u001b[0m \u001b[1;33m=\u001b[0m \u001b[0mopen\u001b[0m\u001b[1;33m(\u001b[0m\u001b[0mfname\u001b[0m\u001b[1;33m,\u001b[0m \u001b[0mflag\u001b[0m\u001b[1;33m,\u001b[0m \u001b[0mencoding\u001b[0m\u001b[1;33m=\u001b[0m\u001b[0mencoding\u001b[0m\u001b[1;33m)\u001b[0m\u001b[1;33m\u001b[0m\u001b[1;33m\u001b[0m\u001b[0m\n\u001b[0m\u001b[0;32m    409\u001b[0m         \u001b[0mopened\u001b[0m \u001b[1;33m=\u001b[0m \u001b[1;32mTrue\u001b[0m\u001b[1;33m\u001b[0m\u001b[1;33m\u001b[0m\u001b[0m\n\u001b[0;32m    410\u001b[0m     \u001b[1;32melif\u001b[0m \u001b[0mhasattr\u001b[0m\u001b[1;33m(\u001b[0m\u001b[0mfname\u001b[0m\u001b[1;33m,\u001b[0m \u001b[1;34m'seek'\u001b[0m\u001b[1;33m)\u001b[0m\u001b[1;33m:\u001b[0m\u001b[1;33m\u001b[0m\u001b[1;33m\u001b[0m\u001b[0m\n",
      "\u001b[1;31mPermissionError\u001b[0m: [Errno 13] Permission denied: 'results/behavioral/Klausur.pdf'"
     ]
    },
    {
     "data": {
      "image/png": "[encoded data removed]",
      "text/plain": [
       "<Figure size 432x288 with 1 Axes>"
      ]
     },
     "metadata": {
      "needs_background": "light"
     },
     "output_type": "display_data"
    }
   ],
   "source": [
    "bar_df = pd.DataFrame([],columns=[\"Gruppen\", \"Punkte\"])\n",
    "\n",
    "\n",
    "teilnehmer_note = teilnehmer[\"Note\"].mean()\n",
    "teilnehmer_punkte = round(teilnehmer[\"Punkte\"].mean(), 2)\n",
    "\n",
    "nicht_teilnehmer_note = tmp[\"Note\"].mean()\n",
    "nicht_teilnehmer_punkte = tmp[\"Punkte\"].mean()\n",
    "\n",
    "\n",
    "#bar_df = bar_df.append(pd.DataFrame([[teilnehmer_punkte, nicht_teilnehmer_punkte]], columns=[\"Kontrollgruppe\", \"Testgruppe\"]))\n",
    "bar_df = bar_df.append(pd.DataFrame([[teilnehmer_punkte, \"Testgruppe\"]], columns=[\"Punkte\", \"Gruppen\"]))\n",
    "bar_df = bar_df.append(pd.DataFrame([[nicht_teilnehmer_punkte, \"Kontrollgruppe\"]], columns=[\"Punkte\", \"Gruppen\"]))\n",
    "\n",
    "display(bar_df)\n",
    "\n",
    "\n",
    "print(teilnehmer[\"Punkte\"].dropna().describe())\n",
    "\n",
    "print(teilnehmer[\"Punkte\"].dropna().median())\n",
    "\n",
    "bar_df = bar_df.set_index('Gruppen')\n",
    "ax = bar_df.plot.bar(ylabel='Punkte', rot=0)\n",
    "ax.yaxis.set_ticks(np.arange(0, 125, 25))\n",
    "ax.legend(loc=\"center left\", bbox_to_anchor=(1.0, 0.5))\n",
    "plt.savefig(\"results/behavioral/Klausur.pdf\", bbox_inches='tight', pad_inches=0.01)"
   ]
  },
  {
   "cell_type": "code",
   "execution_count": 7,
   "id": "0c5d072c-56e0-4ec3-90fb-35b7e7b95162",
   "metadata": {},
   "outputs": [
    {
     "name": "stdout",
     "output_type": "stream",
     "text": [
      "21    72.0\n",
      "20    76.5\n",
      "63    56.0\n",
      "64    80.0\n",
      "78    54.5\n",
      "59    90.0\n",
      "73    72.5\n",
      "40    75.5\n",
      "27    69.5\n",
      "97    81.0\n",
      "30    55.5\n",
      "90    87.5\n",
      "14    74.5\n",
      "34    94.5\n",
      "61    97.0\n",
      "74    95.5\n",
      "79    65.5\n",
      "52    79.5\n",
      "31    75.0\n",
      "Name: Punkte, dtype: float64\n",
      "3      62.5\n",
      "4      66.5\n",
      "5      62.5\n",
      "6      73.0\n",
      "7      53.0\n",
      "       ... \n",
      "100    65.0\n",
      "101    67.5\n",
      "102    76.5\n",
      "103    50.5\n",
      "104    92.5\n",
      "Name: Punkte, Length: 83, dtype: float64\n"
     ]
    },
    {
     "data": {
      "text/plain": [
       "(0.39568801521876984, 'medium')"
      ]
     },
     "execution_count": 7,
     "metadata": {},
     "output_type": "execute_result"
    }
   ],
   "source": [
    "from cliffs_delta import cliffs_delta\n",
    "\n",
    "print(teilnehmer[\"Punkte\"])\n",
    "\n",
    "\n",
    "print(tmp[\"Punkte\"].dropna())\n",
    "\n",
    "cliffs_delta(teilnehmer[\"Punkte\"], tmp[\"Punkte\"].dropna())\n"
   ]
  },
  {
   "cell_type": "code",
   "execution_count": 8,
   "id": "1a4c3327-02de-4a81-8fd8-4f8c964e64eb",
   "metadata": {},
   "outputs": [
    {
     "name": "stdout",
     "output_type": "stream",
     "text": [
      "     Punkte          Gruppe\n",
      "3      62.5  Kontrollgruppe\n",
      "4      66.5  Kontrollgruppe\n",
      "5      62.5  Kontrollgruppe\n",
      "6      73.0  Kontrollgruppe\n",
      "7      53.0  Kontrollgruppe\n",
      "..      ...             ...\n",
      "100    65.0  Kontrollgruppe\n",
      "101    67.5  Kontrollgruppe\n",
      "102    76.5  Kontrollgruppe\n",
      "103    50.5  Kontrollgruppe\n",
      "104    92.5  Kontrollgruppe\n",
      "\n",
      "[83 rows x 2 columns]\n"
     ]
    }
   ],
   "source": [
    "cliffs_delta(teilnehmer[\"Punkte\"], tmp[\"Punkte\"].dropna())\n",
    "\n",
    "\n",
    "teilnehmer_box = pd.DataFrame(teilnehmer[\"Punkte\"], columns=[\"Punkte\"])\n",
    "teilnehmer_box[\"Gruppe\"] = \"Testgruppe\"\n",
    "\n",
    "\n",
    "rest_box = pd.DataFrame(tmp[\"Punkte\"].dropna(), columns=[\"Punkte\"])\n",
    "rest_box[\"Gruppe\"] = \"Kontrollgruppe\"\n",
    "\n",
    "print(rest_box)\n",
    "\n",
    "zusammen = [teilnehmer_box, rest_box]\n",
    "\n",
    "klausur_plot = pd.concat(zusammen)\n",
    "\n",
    "\n",
    "#test_df = pd.DataFrame(data=d)\n",
    "#print(test_df)\n"
   ]
  },
  {
   "cell_type": "code",
   "execution_count": 54,
   "id": "f5b27634-7104-4c81-8621-39945552fa88",
   "metadata": {},
   "outputs": [
    {
     "data": {
      "image/png": "[encoded data removed]",
      "text/plain": [
       "<Figure size 432x288 with 1 Axes>"
      ]
     },
     "metadata": {
      "needs_background": "light"
     },
     "output_type": "display_data"
    }
   ],
   "source": [
    "ax = sns.boxplot(x=\"Gruppe\", y=\"Punkte\", data=klausur_plot)\n",
    "ax.set_xticklabels(ax.get_xticklabels())\n",
    "plt.ylim(0, 120)\n",
    "\n",
    "ax.set_xlabel(\"\")\n",
    "\n",
    "plt.tight_layout()\n",
    "plt.savefig(\"results/behavioral/klausur_boxplot.pdf\", bbox_inches='tight', pad_inches=0.01)"
   ]
  },
  {
   "cell_type": "code",
   "execution_count": 43,
   "id": "077b2ff5-2415-4264-966e-a8003d7c092b",
   "metadata": {},
   "outputs": [
    {
     "data": {
      "text/plain": [
       "(array([0., 0., 0., 0., 0., 3., 2., 9., 2., 3.]),\n",
       " array([  5.5 ,  14.95,  24.4 ,  33.85,  43.3 ,  52.75,  62.2 ,  71.65,\n",
       "         81.1 ,  90.55, 100.  ]),\n",
       " <BarContainer object of 10 artists>)"
      ]
     },
     "execution_count": 43,
     "metadata": {},
     "output_type": "execute_result"
    },
    {
     "data": {
      "image/png": "[encoded data removed]",
      "text/plain": [
       "<Figure size 432x288 with 1 Axes>"
      ]
     },
     "metadata": {
      "needs_background": "light"
     },
     "output_type": "display_data"
    }
   ],
   "source": [
    "bins=np.histogram(np.hstack((tmp[\"Punkte\"].dropna(),teilnehmer[\"Punkte\"])), bins=10)[1] #get the bin edges\n",
    "plt.hist(tmp[\"Punkte\"], bins)\n",
    "plt.hist(teilnehmer[\"Punkte\"], bins)\n"
   ]
  },
  {
   "cell_type": "code",
   "execution_count": 48,
   "id": "d77ca4ce-c41c-46a2-af97-ef595dcb8175",
   "metadata": {},
   "outputs": [
    {
     "ename": "AttributeError",
     "evalue": "'AxesSubplot' object has no attribute 'groupby'",
     "output_type": "error",
     "traceback": [
      "\u001b[1;31m---------------------------------------------------------------------------\u001b[0m",
      "\u001b[1;31mAttributeError\u001b[0m                            Traceback (most recent call last)",
      "\u001b[1;32m<ipython-input-48-e0e1c1da1213>\u001b[0m in \u001b[0;36m<module>\u001b[1;34m\u001b[0m\n\u001b[1;32m----> 1\u001b[1;33m \u001b[0max\u001b[0m\u001b[1;33m.\u001b[0m\u001b[0mgroupby\u001b[0m\u001b[1;33m(\u001b[0m\u001b[1;34m\"Punkte\"\u001b[0m\u001b[1;33m)\u001b[0m\u001b[1;33m.\u001b[0m\u001b[0mdistance\u001b[0m\u001b[1;33m.\u001b[0m\u001b[0mdescribe\u001b[0m\u001b[1;33m(\u001b[0m\u001b[1;33m)\u001b[0m\u001b[1;33m.\u001b[0m\u001b[0munstack\u001b[0m\u001b[1;33m(\u001b[0m\u001b[1;33m)\u001b[0m\u001b[1;33m\u001b[0m\u001b[1;33m\u001b[0m\u001b[0m\n\u001b[0m\u001b[0;32m      2\u001b[0m \u001b[1;33m\u001b[0m\u001b[0m\n\u001b[0;32m      3\u001b[0m \u001b[1;33m\u001b[0m\u001b[0m\n\u001b[0;32m      4\u001b[0m \u001b[0mplt\u001b[0m\u001b[1;33m.\u001b[0m\u001b[0mshow\u001b[0m\u001b[1;33m(\u001b[0m\u001b[1;33m)\u001b[0m\u001b[1;33m\u001b[0m\u001b[1;33m\u001b[0m\u001b[0m\n",
      "\u001b[1;31mAttributeError\u001b[0m: 'AxesSubplot' object has no attribute 'groupby'"
     ]
    }
   ],
   "source": [
    "\n",
    "\n",
    "ax.groupby(\"Punkte\").distance.describe().unstack()\n",
    "\n",
    "\n",
    "plt.show()"
   ]
  },
  {
   "cell_type": "code",
   "execution_count": 11,
   "id": "e64fecdf-bd77-4a81-86d8-5ad0b343f1dc",
   "metadata": {},
   "outputs": [
    {
     "data": {
      "image/png": "[encoded data removed]",
      "text/plain": [
       "<Figure size 432x288 with 1 Axes>"
      ]
     },
     "metadata": {
      "needs_background": "light"
     },
     "output_type": "display_data"
    }
   ],
   "source": [
    "ax = sns.violinplot(x=\"Gruppe\", y=\"Punkte\", data=klausur_plot)\n",
    "ax.set_xticklabels(ax.get_xticklabels())\n",
    "plt.ylim(0, 120)\n",
    "\n",
    "\n",
    "plt.tight_layout()\n",
    "plt.savefig(\"results/behavioral/klausur_violinplot.pdf\", bbox_inches='tight', pad_inches=0.01)"
   ]
  },
  {
   "cell_type": "code",
   "execution_count": 18,
   "id": "0e5bd039-4573-4b7d-91b4-dddd67705a84",
   "metadata": {},
   "outputs": [
    {
     "name": "stdout",
     "output_type": "stream",
     "text": [
      "MEDIAN 75.5\n",
      "MEDIAN 66.5\n"
     ]
    }
   ],
   "source": [
    "from researchpy import ttest\n",
    "\n",
    "d = {'Testgruppe': teilnehmer[\"Punkte\"], 'Kontrollgruppe': tmp[\"Punkte\"].dropna()}\n",
    "\n",
    "\n",
    "#print(\"MEDIAN\", np.median(correctness_same_list_pre))\n",
    "#print(\"MEDIAN\", np.median(correctness_same_list_post))\n",
    "\n",
    "print(\"MEDIAN\", np.median(teilnehmer[\"Punkte\"]))\n",
    "print(\"MEDIAN\", np.median(tmp[\"Punkte\"].dropna()))\n",
    "test_df = pd.DataFrame(data=d)"
   ]
  },
  {
   "cell_type": "code",
   "execution_count": null,
   "id": "773d18b8-20db-42d1-b88a-71d5a3b49a4b",
   "metadata": {},
   "outputs": [],
   "source": []
  }
 ],
 "metadata": {
  "kernelspec": {
   "display_name": "Python 3",
   "language": "python",
   "name": "python3"
  },
  "language_info": {
   "codemirror_mode": {
    "name": "ipython",
    "version": 3
   },
   "file_extension": ".py",
   "mimetype": "text/x-python",
   "name": "python",
   "nbconvert_exporter": "python",
   "pygments_lexer": "ipython3",
   "version": "3.8.8"
  }
 },
 "nbformat": 4,
 "nbformat_minor": 5
}
