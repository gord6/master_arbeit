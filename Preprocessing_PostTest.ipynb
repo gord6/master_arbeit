{
 "cells": [
  {
   "cell_type": "code",
   "execution_count": 19,
   "metadata": {},
   "outputs": [],
   "source": [
    "import pandas as pd\n",
    "import re\n",
    "import numpy as np"
   ]
  },
  {
   "cell_type": "code",
   "execution_count": 46,
   "metadata": {},
   "outputs": [],
   "source": [
    "config_algo_names = ['CommonChars', 'IsPalindrome', 'ReverseString','ReverseArray', 'BinarySearchStrings',\n",
    "                     'Multiples','Power', 'GetMiddle',  'InsertionSort','SquareRoot']\n",
    "\n",
    "config_unique_code_variable = \"PD16_01\"\n",
    "\n",
    "config_answer_variables = ['PO03_01', 'PO08_01', 'PO13_01', 'PO18_01', 'PO23_01',\n",
    "                           'PO28_01', 'PO33_01', 'PO38_01', 'PO43_01', 'PO48_01']\n",
    "\n",
    "config_difficulty_variables = ['PO04', 'PO09', 'PO14', 'PO19', 'PO24',\n",
    "                               'PO30', 'PO34', 'PO39', 'PO44', 'PO49']\n",
    "\n",
    "config_time_variables = ['TIME002','TIME004','TIME006','TIME008', 'TIME010',\n",
    "                         'TIME012','TIME014','TIME016','TIME018', 'TIME020']\n",
    "\n",
    "config_click_variables = ['PO01_01', 'PO06_01', 'PO11_01', 'PO16_01', 'PO21_01',\n",
    "                            'PO26_01', 'PO31_01', 'PO36_01', 'PO41_01', 'PO46_01']\n",
    "\n",
    "config_correctness_variables = ['^5$', '^(?i)true$', '^olleH$', '^13294$', '^2$', \n",
    "                                '^32$', '^16$', '^rm$', '^13479$', '^1357$']\n",
    "\n",
    "config_datasheet = r'./posttest.xlsx'"
   ]
  },
  {
   "cell_type": "code",
   "execution_count": 47,
   "metadata": {},
   "outputs": [],
   "source": [
    "raw = pd.read_excel(config_datasheet)\n",
    "df = pd.DataFrame(raw)\n",
    "df = df.dropna()\n",
    "\n",
    "from scipy.stats import ttest_ind\n"
   ]
  },
  {
   "cell_type": "code",
   "execution_count": 48,
   "metadata": {},
   "outputs": [],
   "source": [
    "df_matrix = []\n",
    "raw = pd.read_excel(config_datasheet)\n",
    "\n",
    "# load data\n",
    "for row, _stuff in enumerate(config_algo_names):\n",
    "    df_array = []\n",
    "    df = pd.DataFrame(raw, columns = [config_unique_code_variable,\n",
    "                                      config_answer_variables[row],\n",
    "                                      config_correctness_variables[row],\n",
    "                                      config_difficulty_variables[row],\n",
    "                                      config_time_variables[row],\n",
    "                                      config_click_variables[row],])\n",
    "    #df = df.dropna()\n",
    "    df_array.append(df)\n",
    "    df_matrix.append(df_array)"
   ]
  },
  {
   "cell_type": "code",
   "execution_count": 63,
   "metadata": {},
   "outputs": [],
   "source": [
    "cols = [\"unique_code\", \"response_time\", \"correctness\", \"difficulty\", \"flag\", \"algo_name\", \"click_data\"]\n",
    "\n",
    "df_tmp = pd.DataFrame(columns=cols)\n",
    "\n",
    "for row_idx, df_row in enumerate(df_matrix):\n",
    "    algo_name = config_algo_names[row_idx]\n",
    "    for col, df in enumerate(df_row): \n",
    "        for index, row in df.iterrows():\n",
    "            unique_code = row[\"PD16_01\"]\n",
    "            response_time = int(row[config_time_variables[row_idx]])\n",
    "            answer = row[config_answer_variables[row_idx]]\n",
    "            difficulty = row[config_difficulty_variables[row_idx]]\n",
    "            click_data = row[config_click_variables[row_idx]]\n",
    "            \n",
    "            if row_idx == 3:\n",
    "                answer = str(row[config_answer_variables[row_idx]])\n",
    "                rep = {\"{\": \"\", \"+\": \"\", \" \":\"\", \",\":\"\", \"[\":\"\", \"]\":\"\", \"}\":\"\"} # define desired replacements here\n",
    "                rep = dict((re.escape(k), v) for k, v in rep.items()) \n",
    "                pattern = re.compile(\"|\".join(rep.keys()))\n",
    "                answer = pattern.sub(lambda m: rep[re.escape(m.group(0))], answer)\n",
    "            elif row_idx == 8:\n",
    "                answer = str(row[config_answer_variables[row_idx]])\n",
    "                rep = {\"{\": \"\", \"+\": \"\", \" \":\"\", \",\":\"\", \"[\":\"\", \"]\":\"\", \"}\":\"\"} # define desired replacements here\n",
    "                rep = dict((re.escape(k), v) for k, v in rep.items()) \n",
    "                pattern = re.compile(\"|\".join(rep.keys()))\n",
    "                answer = pattern.sub(lambda m: rep[re.escape(m.group(0))], answer)\n",
    "            elif row_idx == 9:\n",
    "                answer = str(row[config_answer_variables[row_idx]])\n",
    "                rep = {\".0\": \"\", \" \":\"\", \",\":\"\"} # define desired replacements here\n",
    "                rep = dict((re.escape(k), v) for k, v in rep.items()) \n",
    "                pattern = re.compile(\"|\".join(rep.keys()))\n",
    "                answer = pattern.sub(lambda m: rep[re.escape(m.group(0))], answer)\n",
    "            else:\n",
    "                answer = row[config_answer_variables[row_idx]]\n",
    "                \n",
    "            correctness = bool(re.match(config_correctness_variables[row_idx], str(answer)))\n",
    "\n",
    "            flag = \"\"\n",
    "            data = pd.DataFrame([[unique_code, response_time, correctness, difficulty, flag, algo_name, click_data]], columns=cols)\n",
    "                  \n",
    "            df_tmp = df_tmp.append(data)\n"
   ]
  },
  {
   "cell_type": "code",
   "execution_count": 64,
   "metadata": {},
   "outputs": [],
   "source": [
    "import statsmodels.api as sm\n",
    "from statsmodels.formula.api import ols\n",
    "cols = [\"Unique Code\", \"ResponseTime\", \"Algorithm\", \"Flag\", \"Correctness\", \"Difficulty\", \"ClickData\"]\n",
    "\n",
    "def fill(list_data, dataframe):\n",
    "    for idx, row in dataframe.iterrows():\n",
    "        response_time = row[\"response_time\"]\n",
    "        algorithm = row[\"algo_name\"]\n",
    "        flag = row[\"flag\"]\n",
    "        click_data = row[\"click_data\"]\n",
    "        correctness = row[\"correctness\"]\n",
    "        difficulty = row[\"difficulty\"]\n",
    "        unique_code = row[\"unique_code\"]\n",
    "        list_data.append([unique_code, response_time, algorithm, flag, correctness, difficulty, click_data])\n",
    "\n",
    "data = []\n",
    "fill(data, df_tmp)\n",
    "df = pd.DataFrame(data, columns=cols)\n",
    "df.to_excel(\"./results/preprocessed_posttest.xlsx\", index=False)"
   ]
  },
  {
   "cell_type": "code",
   "execution_count": null,
   "metadata": {},
   "outputs": [],
   "source": []
  }
 ],
 "metadata": {
  "kernelspec": {
   "display_name": "Python 3",
   "language": "python",
   "name": "python3"
  },
  "language_info": {
   "codemirror_mode": {
    "name": "ipython",
    "version": 3
   },
   "file_extension": ".py",
   "mimetype": "text/x-python",
   "name": "python",
   "nbconvert_exporter": "python",
   "pygments_lexer": "ipython3",
   "version": "3.8.8"
  }
 },
 "nbformat": 4,
 "nbformat_minor": 4
}
