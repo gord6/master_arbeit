{
 "cells": [
  {
   "cell_type": "code",
   "execution_count": 4,
   "metadata": {},
   "outputs": [],
   "source": [
    "import pandas as pd\n",
    "\n",
    "import numpy as np\n",
    "\n",
    "import re"
   ]
  },
  {
   "cell_type": "code",
   "execution_count": 5,
   "metadata": {},
   "outputs": [],
   "source": [
    "\n",
    "config_algo_names = ['CommonChars', 'ContainsSubstring', 'CountVowels','ReverseArray', 'BinarySearchStrings', 'Multiples','CrossSum', 'Swap',  'InsertionSort','GreatestCommonDivisor']\n",
    "\n",
    "config_id_variable = \"CASE\"\n",
    "\n",
    "config_unique_code_variable = \"PD14_01\"\n",
    "\n",
    "config_answer_variables = ['PT03_01', 'PT08_01', 'PT13_01', 'PT18_01', 'PT23_01','PT28_01', 'PT33_01', 'PT38_01', 'PT43_01', 'PT48_01']\n",
    "\n",
    "config_time_variables = ['TIME006','TIME008','TIME010','TIME012', 'TIME014','TIME016','TIME018','TIME020','TIME022', 'TIME024']\n",
    "\n",
    "config_click_variables = ['PT01_01', 'PT06_01', 'PT11_01', 'PT16_01', 'PT21_01','PT26_01', 'PT31_01', 'PT36_01', 'PT41_01', 'PT46_01']\n",
    "\n",
    "\n",
    "\n",
    "config_datasheet = r'./pretest.xlsx'"
   ]
  },
  {
   "cell_type": "code",
   "execution_count": 6,
   "metadata": {},
   "outputs": [],
   "source": [
    "raw = pd.read_excel(config_datasheet)\n",
    "df = pd.DataFrame(raw)\n",
    "df = df.dropna()\n",
    "\n",
    "from scipy.stats import ttest_ind"
   ]
  },
  {
   "cell_type": "code",
   "execution_count": 7,
   "metadata": {},
   "outputs": [],
   "source": [
    "df_matrix = []\n",
    "raw = pd.read_excel(config_datasheet)\n",
    "\n",
    "# load data\n",
    "for row, _stuff in enumerate(config_algo_names):\n",
    "    df_array = []\n",
    "    df = pd.DataFrame(raw, columns = [config_id_variable,\n",
    "                                      config_unique_code_variable,\n",
    "                                      config_answer_variables[row], \n",
    "                                      config_time_variables[row],\n",
    "                                      config_click_variables[row],])\n",
    "    df = df.dropna()\n",
    "    df_array.append(df)\n",
    "    df_matrix.append(df_array)"
   ]
  },
  {
   "cell_type": "code",
   "execution_count": 8,
   "metadata": {},
   "outputs": [],
   "source": [
    "cols = [\"id\", \"unique_code\", \"response_time\", \"correctness\", \"flag\", \"algo_name\", \"click_data\"]\n",
    "\n",
    "df_tmp = pd.DataFrame(columns=cols)\n",
    "\n",
    "for row_idx, df_row in enumerate(df_matrix):\n",
    "    algo_name = config_algo_names[row_idx]\n",
    "    for col, df in enumerate(df_row): \n",
    "        \n",
    "        for index, row in df.iterrows():\n",
    "            id_value =  row[\"CASE\"]\n",
    "            unique_code = row[\"PD14_01\"]\n",
    "            response_time = int(row[config_time_variables[row_idx]])\n",
    "            answer = row[config_answer_variables[row_idx]]\n",
    "            click_data = row[config_click_variables[row_idx]]\n",
    "                \n",
    "            flag = \"\"\n",
    "            correctness = \"\"\n",
    "            data = pd.DataFrame([[id_value, unique_code, response_time, correctness, flag, algo_name, click_data]], columns=cols)\n",
    "                  \n",
    "            df_tmp = df_tmp.append(data)\n"
   ]
  },
  {
   "cell_type": "code",
   "execution_count": 9,
   "metadata": {},
   "outputs": [],
   "source": [
    "import statsmodels.api as sm\n",
    "from statsmodels.formula.api import ols\n",
    "cols = [\"Subject\",\"Unique Code\", \"ResponseTime\", \"Algorithm\", \"Flag\", \"Correctness\", \"ClickData\"]\n",
    "\n",
    "def fill(list_data, dataframe):\n",
    "    for idx, row in dataframe.iterrows():\n",
    "        response_time = row[\"response_time\"]\n",
    "        algorithm = row[\"algo_name\"]\n",
    "        flag = row[\"flag\"]\n",
    "        click_data = row[\"click_data\"]\n",
    "        correctness = row[\"correctness\"]\n",
    "        id = row[\"id\"]\n",
    "        unique_code = row[\"unique_code\"]\n",
    "        list_data.append([id, unique_code, response_time, algorithm, flag, correctness, click_data])\n",
    "\n",
    "data = []\n",
    "fill(data, df_tmp)\n",
    "df = pd.DataFrame(data, columns=cols)\n",
    "df.to_excel(\"./results/preprocessed.xlsx\", index=False)"
   ]
  },
  {
   "cell_type": "code",
   "execution_count": null,
   "metadata": {},
   "outputs": [],
   "source": []
  },
  {
   "cell_type": "code",
   "execution_count": null,
   "metadata": {},
   "outputs": [],
   "source": []
  },
  {
   "cell_type": "code",
   "execution_count": null,
   "metadata": {},
   "outputs": [],
   "source": []
  }
 ],
 "metadata": {
  "kernelspec": {
   "display_name": "Python 3",
   "language": "python",
   "name": "python3"
  },
  "language_info": {
   "codemirror_mode": {
    "name": "ipython",
    "version": 3
   },
   "file_extension": ".py",
   "mimetype": "text/x-python",
   "name": "python",
   "nbconvert_exporter": "python",
   "pygments_lexer": "ipython3",
   "version": "3.8.8"
  }
 },
 "nbformat": 4,
 "nbformat_minor": 4
}
