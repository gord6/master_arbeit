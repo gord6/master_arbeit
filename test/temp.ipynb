{
 "cells": [
  {
   "cell_type": "code",
   "execution_count": 69,
   "id": "fcbf79bc-3af7-445f-bb64-b027313a5c5a",
   "metadata": {},
   "outputs": [],
   "source": [
    "import pandas as pd\n",
    "\n",
    "import numpy as np\n",
    "\n",
    "import matplotlib.pyplot as plt"
   ]
  },
  {
   "cell_type": "code",
   "execution_count": 70,
   "id": "ccd0c5d4-509c-439d-91d5-217e78f09c6d",
   "metadata": {},
   "outputs": [],
   "source": [
    "config_datasheet = r'./test.xlsx'"
   ]
  },
  {
   "cell_type": "code",
   "execution_count": 71,
   "id": "7ee147ba-f370-4137-9bb7-f74b3e7c81fc",
   "metadata": {},
   "outputs": [],
   "source": [
    "raw = pd.read_excel(config_datasheet)\n",
    "data = pd.DataFrame(raw)"
   ]
  },
  {
   "cell_type": "code",
   "execution_count": 73,
   "id": "6a5948b2-ccfd-47ad-a17a-0231feea487b",
   "metadata": {},
   "outputs": [
    {
     "data": {
      "image/png": "[encoded data removed]",
      "text/plain": [
       "<Figure size 432x288 with 1 Axes>"
      ]
     },
     "metadata": {
      "needs_background": "light"
     },
     "output_type": "display_data"
    }
   ],
   "source": [
    "cols = [\"Name\", \"Durchschnitt\"]\n",
    "bar_df = pd.DataFrame([],columns=cols)\n",
    "\n",
    "aufgaben = data[\"Aufgabe\"].unique()\n",
    "namen = data[\"Name\"].unique()\n",
    "\n",
    "for name in names:\n",
    "    mean = float(data.loc[data[\"Name\"] == name][\"Punkte\"].mean()) * 100\n",
    "    bar_df = bar_df.append(pd.DataFrame([[name, mean]], columns=cols))\n",
    "    \n",
    "ax = bar_df.plot.bar(rot=290, x='Name', y='Durchschnitt')\n",
    "plt.tight_layout()\n",
    "ax.legend(loc=\"center left\", bbox_to_anchor=(1.0, 0.5))\n",
    "plt.savefig(\"results/behavioral/test_test.pdf\", bbox_inches='tight', pad_inches=0.01)\n"
   ]
  },
  {
   "cell_type": "code",
   "execution_count": null,
   "id": "f5dcf58c-7608-4f41-a272-3bccdfdbc985",
   "metadata": {},
   "outputs": [],
   "source": []
  },
  {
   "cell_type": "code",
   "execution_count": null,
   "id": "fba33781-27e6-439b-b663-6fabda7da6c7",
   "metadata": {},
   "outputs": [],
   "source": []
  }
 ],
 "metadata": {
  "kernelspec": {
   "display_name": "Python 3",
   "language": "python",
   "name": "python3"
  },
  "language_info": {
   "codemirror_mode": {
    "name": "ipython",
    "version": 3
   },
   "file_extension": ".py",
   "mimetype": "text/x-python",
   "name": "python",
   "nbconvert_exporter": "python",
   "pygments_lexer": "ipython3",
   "version": "3.8.8"
  }
 },
 "nbformat": 4,
 "nbformat_minor": 5
}
