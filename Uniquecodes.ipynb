{
 "cells": [
  {
   "cell_type": "code",
   "execution_count": 4,
   "id": "7386ee05-948b-450d-8d25-518d8b04930a",
   "metadata": {},
   "outputs": [],
   "source": [
    "import pandas as pd"
   ]
  },
  {
   "cell_type": "code",
   "execution_count": 5,
   "id": "9da48a8b-d482-4434-84c9-2091703416b9",
   "metadata": {},
   "outputs": [],
   "source": [
    "config_pre_datasheet = r'./results/preprocessed_pretest.xlsx'\n",
    "config_post_datasheet = r'./results/preprocessed_posttest.xlsx'"
   ]
  },
  {
   "cell_type": "code",
   "execution_count": 6,
   "id": "8d6a8907-0a98-4368-86e3-4e6dbaded6ae",
   "metadata": {},
   "outputs": [],
   "source": [
    "raw_pre = pd.read_excel(config_pre_datasheet)\n",
    "raw_post = pd.read_excel(config_post_datasheet)\n",
    "\n",
    "df_pre = pd.DataFrame(raw_pre)\n",
    "df_post = pd.DataFrame(raw_post)"
   ]
  },
  {
   "cell_type": "code",
   "execution_count": 9,
   "id": "541eb422-c685-4fe1-865f-0877392733ad",
   "metadata": {},
   "outputs": [],
   "source": [
    "tmp_pre = pd.DataFrame(columns=[])\n",
    "tmp_post = pd.DataFrame(columns=[])\n",
    "\n",
    "codes_pre = df_pre[\"Unique Code\"].unique()\n",
    "codes_post = df_post[\"Unique Code\"].unique()\n",
    "\n",
    "counter = 0\n",
    "\n",
    "unique_code_pre_list = []\n",
    "point_pre_list = []\n",
    "max_point_pre_list = []\n",
    "\n",
    "for code in codes_pre:\n",
    "    tmp = df_pre.loc[df_pre[\"Unique Code\"]== code][\"Correctness\"]\n",
    "    for t in tmp:\n",
    "        if t == True:\n",
    "            counter += 1\n",
    "    unique_code_pre_list.append(code)\n",
    "    point_pre_list.append(counter)\n",
    "    max_point_pre_list.append(10)\n",
    "    counter = 0\n",
    "\n",
    "unique_code_post_list = []\n",
    "point_post_list = []\n",
    "max_point_post_list = []\n",
    "\n",
    "for code in codes_post:\n",
    "    tmp = df_post.loc[df_post[\"Unique Code\"]== code][\"Correctness\"]\n",
    "    for t in tmp:\n",
    "        if t == True:\n",
    "            counter += 1\n",
    "    unique_code_post_list.append(code)\n",
    "    point_post_list.append(counter)\n",
    "    max_point_post_list.append(10)\n",
    "    counter = 0\n",
    "\n",
    "tmp_pre['Unique Code'] = unique_code_pre_list\n",
    "tmp_pre['Punkte-Pretest-SoSci-Survey'] = point_pre_list\n",
    "tmp_pre['Max Punkte-Pretest-SoSci-Survey'] = max_point_pre_list\n",
    "\n",
    "tmp_post['Unique Code'] = unique_code_post_list\n",
    "tmp_post['Punkte-Posttest-SoSci-Survey'] = point_post_list\n",
    "tmp_post[\"Max Punkte-Posttest-SoSci-Survey\"] = max_point_post_list\n"
   ]
  },
  {
   "cell_type": "code",
   "execution_count": null,
   "id": "bd51fae4-19b0-46bd-9659-72357b9e75dc",
   "metadata": {},
   "outputs": [],
   "source": []
  }
 ],
 "metadata": {
  "kernelspec": {
   "display_name": "Python 3",
   "language": "python",
   "name": "python3"
  },
  "language_info": {
   "codemirror_mode": {
    "name": "ipython",
    "version": 3
   },
   "file_extension": ".py",
   "mimetype": "text/x-python",
   "name": "python",
   "nbconvert_exporter": "python",
   "pygments_lexer": "ipython3",
   "version": "3.8.8"
  }
 },
 "nbformat": 4,
 "nbformat_minor": 5
}
