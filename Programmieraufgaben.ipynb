{
 "cells": [
  {
   "cell_type": "code",
   "execution_count": 2,
   "id": "c9910a41-0e90-4286-b89f-ed4d34e6fe38",
   "metadata": {},
   "outputs": [],
   "source": [
    "import pandas as pd\n",
    "import seaborn as sns\n",
    "import numpy as np\n",
    "import matplotlib.pyplot as plt"
   ]
  },
  {
   "cell_type": "code",
   "execution_count": 3,
   "id": "78e49481-df09-4238-a0b1-10a4193ba606",
   "metadata": {},
   "outputs": [],
   "source": [
    "config_datasheet_pre = r'./results/Pretest_Programmieraufgaben - Kopie (2).xlsx'\n",
    "config_datasheet_post = r'./results/Posttest_Programmieraufgaben - Kopie.xlsx'"
   ]
  },
  {
   "cell_type": "code",
   "execution_count": 4,
   "id": "8a6dae2b-732c-4f34-a959-bd7fcf97dece",
   "metadata": {},
   "outputs": [],
   "source": [
    "raw_pre = pd.read_excel(config_datasheet_pre)\n",
    "raw_post = pd.read_excel(config_datasheet_post)\n",
    "df_pre = pd.DataFrame(raw_pre)\n",
    "df_post = pd.DataFrame(raw_post)"
   ]
  },
  {
   "cell_type": "code",
   "execution_count": 5,
   "id": "17761156-18b5-48e7-99e2-26a8cf501aaf",
   "metadata": {},
   "outputs": [
    {
     "name": "stdout",
     "output_type": "stream",
     "text": [
      "['1aMLsa' '1aTGsa' '1eASaa' '1nCWte' '1nUSüa' '2eTGer' '2nGAhe' '3rCHei'\n",
      " '4aRGür' '4iMVha' '4uCGer' '5nDFhi' '5nFKho' '5uHJei' '6aJGhh' '6aOGho'\n",
      " '6vEHhi' '8aRHui' '8lHHsu' '9aBWha' '9oMWun']\n"
     ]
    },
    {
     "ename": "KeyError",
     "evalue": "'Fehler'",
     "output_type": "error",
     "traceback": [
      "\u001b[1;31m---------------------------------------------------------------------------\u001b[0m",
      "\u001b[1;31mKeyError\u001b[0m                                  Traceback (most recent call last)",
      "\u001b[1;32m~\\anaconda3\\lib\\site-packages\\pandas\\core\\indexes\\base.py\u001b[0m in \u001b[0;36mget_loc\u001b[1;34m(self, key, method, tolerance)\u001b[0m\n\u001b[0;32m   3079\u001b[0m             \u001b[1;32mtry\u001b[0m\u001b[1;33m:\u001b[0m\u001b[1;33m\u001b[0m\u001b[1;33m\u001b[0m\u001b[0m\n\u001b[1;32m-> 3080\u001b[1;33m                 \u001b[1;32mreturn\u001b[0m \u001b[0mself\u001b[0m\u001b[1;33m.\u001b[0m\u001b[0m_engine\u001b[0m\u001b[1;33m.\u001b[0m\u001b[0mget_loc\u001b[0m\u001b[1;33m(\u001b[0m\u001b[0mcasted_key\u001b[0m\u001b[1;33m)\u001b[0m\u001b[1;33m\u001b[0m\u001b[1;33m\u001b[0m\u001b[0m\n\u001b[0m\u001b[0;32m   3081\u001b[0m             \u001b[1;32mexcept\u001b[0m \u001b[0mKeyError\u001b[0m \u001b[1;32mas\u001b[0m \u001b[0merr\u001b[0m\u001b[1;33m:\u001b[0m\u001b[1;33m\u001b[0m\u001b[1;33m\u001b[0m\u001b[0m\n",
      "\u001b[1;32mpandas\\_libs\\index.pyx\u001b[0m in \u001b[0;36mpandas._libs.index.IndexEngine.get_loc\u001b[1;34m()\u001b[0m\n",
      "\u001b[1;32mpandas\\_libs\\index.pyx\u001b[0m in \u001b[0;36mpandas._libs.index.IndexEngine.get_loc\u001b[1;34m()\u001b[0m\n",
      "\u001b[1;32mpandas\\_libs\\hashtable_class_helper.pxi\u001b[0m in \u001b[0;36mpandas._libs.hashtable.PyObjectHashTable.get_item\u001b[1;34m()\u001b[0m\n",
      "\u001b[1;32mpandas\\_libs\\hashtable_class_helper.pxi\u001b[0m in \u001b[0;36mpandas._libs.hashtable.PyObjectHashTable.get_item\u001b[1;34m()\u001b[0m\n",
      "\u001b[1;31mKeyError\u001b[0m: 'Fehler'",
      "\nThe above exception was the direct cause of the following exception:\n",
      "\u001b[1;31mKeyError\u001b[0m                                  Traceback (most recent call last)",
      "\u001b[1;32m<ipython-input-5-98b3403323bc>\u001b[0m in \u001b[0;36m<module>\u001b[1;34m\u001b[0m\n\u001b[0;32m     16\u001b[0m     \u001b[0mtask1_errors\u001b[0m \u001b[1;33m+=\u001b[0m \u001b[0mfloat\u001b[0m\u001b[1;33m(\u001b[0m\u001b[0mdf_post\u001b[0m\u001b[1;33m.\u001b[0m\u001b[0mloc\u001b[0m\u001b[1;33m[\u001b[0m\u001b[1;33m(\u001b[0m\u001b[0mdf_post\u001b[0m\u001b[1;33m[\u001b[0m\u001b[1;34m\"Unique Code\"\u001b[0m\u001b[1;33m]\u001b[0m \u001b[1;33m==\u001b[0m \u001b[0mcode\u001b[0m\u001b[1;33m)\u001b[0m \u001b[1;33m&\u001b[0m \u001b[1;33m(\u001b[0m\u001b[0mdf_post\u001b[0m\u001b[1;33m[\u001b[0m\u001b[1;34m\"Algorithmus\"\u001b[0m\u001b[1;33m]\u001b[0m \u001b[1;33m==\u001b[0m \u001b[1;34m\"Maximales Produkt\"\u001b[0m\u001b[1;33m)\u001b[0m\u001b[1;33m]\u001b[0m\u001b[1;33m[\u001b[0m\u001b[1;34m\"syntaktische Fehler\"\u001b[0m\u001b[1;33m]\u001b[0m\u001b[1;33m)\u001b[0m\u001b[1;33m\u001b[0m\u001b[1;33m\u001b[0m\u001b[0m\n\u001b[0;32m     17\u001b[0m \u001b[1;33m\u001b[0m\u001b[0m\n\u001b[1;32m---> 18\u001b[1;33m     \u001b[0mtask2_errors\u001b[0m \u001b[1;33m+=\u001b[0m \u001b[0mfloat\u001b[0m\u001b[1;33m(\u001b[0m\u001b[0mdf_post\u001b[0m\u001b[1;33m.\u001b[0m\u001b[0mloc\u001b[0m\u001b[1;33m[\u001b[0m\u001b[1;33m(\u001b[0m\u001b[0mdf_post\u001b[0m\u001b[1;33m[\u001b[0m\u001b[1;34m\"Unique Code\"\u001b[0m\u001b[1;33m]\u001b[0m \u001b[1;33m==\u001b[0m \u001b[0mcode\u001b[0m\u001b[1;33m)\u001b[0m \u001b[1;33m&\u001b[0m \u001b[1;33m(\u001b[0m\u001b[0mdf_post\u001b[0m\u001b[1;33m[\u001b[0m\u001b[1;34m\"Algorithmus\"\u001b[0m\u001b[1;33m]\u001b[0m \u001b[1;33m==\u001b[0m \u001b[1;34m\"String Wiederholung\"\u001b[0m\u001b[1;33m)\u001b[0m\u001b[1;33m]\u001b[0m\u001b[1;33m[\u001b[0m\u001b[1;34m\"Fehler\"\u001b[0m\u001b[1;33m]\u001b[0m\u001b[1;33m)\u001b[0m\u001b[1;33m\u001b[0m\u001b[1;33m\u001b[0m\u001b[0m\n\u001b[0m\u001b[0;32m     19\u001b[0m     \u001b[0mtasks_errors\u001b[0m \u001b[1;33m=\u001b[0m \u001b[0mtask1_errors\u001b[0m \u001b[1;33m+\u001b[0m \u001b[0mtask2_errors\u001b[0m\u001b[1;33m\u001b[0m\u001b[1;33m\u001b[0m\u001b[0m\n\u001b[0;32m     20\u001b[0m \u001b[1;33m\u001b[0m\u001b[0m\n",
      "\u001b[1;32m~\\anaconda3\\lib\\site-packages\\pandas\\core\\frame.py\u001b[0m in \u001b[0;36m__getitem__\u001b[1;34m(self, key)\u001b[0m\n\u001b[0;32m   3022\u001b[0m             \u001b[1;32mif\u001b[0m \u001b[0mself\u001b[0m\u001b[1;33m.\u001b[0m\u001b[0mcolumns\u001b[0m\u001b[1;33m.\u001b[0m\u001b[0mnlevels\u001b[0m \u001b[1;33m>\u001b[0m \u001b[1;36m1\u001b[0m\u001b[1;33m:\u001b[0m\u001b[1;33m\u001b[0m\u001b[1;33m\u001b[0m\u001b[0m\n\u001b[0;32m   3023\u001b[0m                 \u001b[1;32mreturn\u001b[0m \u001b[0mself\u001b[0m\u001b[1;33m.\u001b[0m\u001b[0m_getitem_multilevel\u001b[0m\u001b[1;33m(\u001b[0m\u001b[0mkey\u001b[0m\u001b[1;33m)\u001b[0m\u001b[1;33m\u001b[0m\u001b[1;33m\u001b[0m\u001b[0m\n\u001b[1;32m-> 3024\u001b[1;33m             \u001b[0mindexer\u001b[0m \u001b[1;33m=\u001b[0m \u001b[0mself\u001b[0m\u001b[1;33m.\u001b[0m\u001b[0mcolumns\u001b[0m\u001b[1;33m.\u001b[0m\u001b[0mget_loc\u001b[0m\u001b[1;33m(\u001b[0m\u001b[0mkey\u001b[0m\u001b[1;33m)\u001b[0m\u001b[1;33m\u001b[0m\u001b[1;33m\u001b[0m\u001b[0m\n\u001b[0m\u001b[0;32m   3025\u001b[0m             \u001b[1;32mif\u001b[0m \u001b[0mis_integer\u001b[0m\u001b[1;33m(\u001b[0m\u001b[0mindexer\u001b[0m\u001b[1;33m)\u001b[0m\u001b[1;33m:\u001b[0m\u001b[1;33m\u001b[0m\u001b[1;33m\u001b[0m\u001b[0m\n\u001b[0;32m   3026\u001b[0m                 \u001b[0mindexer\u001b[0m \u001b[1;33m=\u001b[0m \u001b[1;33m[\u001b[0m\u001b[0mindexer\u001b[0m\u001b[1;33m]\u001b[0m\u001b[1;33m\u001b[0m\u001b[1;33m\u001b[0m\u001b[0m\n",
      "\u001b[1;32m~\\anaconda3\\lib\\site-packages\\pandas\\core\\indexes\\base.py\u001b[0m in \u001b[0;36mget_loc\u001b[1;34m(self, key, method, tolerance)\u001b[0m\n\u001b[0;32m   3080\u001b[0m                 \u001b[1;32mreturn\u001b[0m \u001b[0mself\u001b[0m\u001b[1;33m.\u001b[0m\u001b[0m_engine\u001b[0m\u001b[1;33m.\u001b[0m\u001b[0mget_loc\u001b[0m\u001b[1;33m(\u001b[0m\u001b[0mcasted_key\u001b[0m\u001b[1;33m)\u001b[0m\u001b[1;33m\u001b[0m\u001b[1;33m\u001b[0m\u001b[0m\n\u001b[0;32m   3081\u001b[0m             \u001b[1;32mexcept\u001b[0m \u001b[0mKeyError\u001b[0m \u001b[1;32mas\u001b[0m \u001b[0merr\u001b[0m\u001b[1;33m:\u001b[0m\u001b[1;33m\u001b[0m\u001b[1;33m\u001b[0m\u001b[0m\n\u001b[1;32m-> 3082\u001b[1;33m                 \u001b[1;32mraise\u001b[0m \u001b[0mKeyError\u001b[0m\u001b[1;33m(\u001b[0m\u001b[0mkey\u001b[0m\u001b[1;33m)\u001b[0m \u001b[1;32mfrom\u001b[0m \u001b[0merr\u001b[0m\u001b[1;33m\u001b[0m\u001b[1;33m\u001b[0m\u001b[0m\n\u001b[0m\u001b[0;32m   3083\u001b[0m \u001b[1;33m\u001b[0m\u001b[0m\n\u001b[0;32m   3084\u001b[0m         \u001b[1;32mif\u001b[0m \u001b[0mtolerance\u001b[0m \u001b[1;32mis\u001b[0m \u001b[1;32mnot\u001b[0m \u001b[1;32mNone\u001b[0m\u001b[1;33m:\u001b[0m\u001b[1;33m\u001b[0m\u001b[1;33m\u001b[0m\u001b[0m\n",
      "\u001b[1;31mKeyError\u001b[0m: 'Fehler'"
     ]
    }
   ],
   "source": [
    "bar_df = pd.DataFrame([],columns=[\"Maximales Produkt\", \"String Wiederholung\", \"Postaufgaben\"])\n",
    "\n",
    "algo_names_pre = df_pre[\"Algorithmus\"].unique()\n",
    "tmp = df_post[\"Algorithmus\"].unique()\n",
    "algo_names_post = [tmp[1], tmp[0]]\n",
    "unique_codes = df_post[\"Unique Code\"].unique()\n",
    "print(unique_codes)\n",
    "count = len(unique_codes)\n",
    "\n",
    "task1_errors = 0\n",
    "task2_errors = 0\n",
    "tasks_errors = 0\n",
    "\n",
    "for code in unique_codes:\n",
    "    task1_errors += float(df_post.loc[(df_post[\"Unique Code\"] == code) & (df_post[\"Algorithmus\"] == \"Maximales Produkt\")][\"syntaktische Fehler\"])\n",
    "    task1_errors += float(df_post.loc[(df_post[\"Unique Code\"] == code) & (df_post[\"Algorithmus\"] == \"Maximales Produkt\")][\"syntaktische Fehler\"])\n",
    "\n",
    "    task2_errors += float(df_post.loc[(df_post[\"Unique Code\"] == code) & (df_post[\"Algorithmus\"] == \"String Wiederholung\")][\"Fehler\"])\n",
    "    tasks_errors = task1_errors + task2_errors\n",
    "\n",
    "task1_errors /= count\n",
    "task2_errors /= count\n",
    "tasks_errors /= count\n",
    "\n",
    "print(tasks_errors)\n",
    "\n",
    "bar_df = bar_df.append(pd.DataFrame([[task1_errors, task2_errors, tasks_errors]], columns=[\"Maximales Produkt\", \"String Wiederholung\", \"Postaufgaben\"]))\n",
    "\n",
    "                       \n",
    "#bar_df = bar_df.set_index('Algorithmus')\n",
    "ax = bar_df.plot.bar(ylabel='Anzahl Fehler', rot=290, xlabel='test',title=\"Die durchschnittliche Fehleranzahl im Pre- und Posttest im Vergleich\\n\")\n",
    "plt.tight_layout()\n",
    "ax.legend(loc=\"center left\", bbox_to_anchor=(1.0, 0.5))\n",
    "plt.savefig(\"results/behavioral/bar_programming_tasks_post.pdf\", bbox_inches='tight', pad_inches=0.01)\n"
   ]
  },
  {
   "cell_type": "code",
   "execution_count": 83,
   "id": "3a4d4ef1-7718-4696-99fe-b70c3dda882a",
   "metadata": {},
   "outputs": [
    {
     "name": "stdout",
     "output_type": "stream",
     "text": [
      "STD 2487.8440389029133\n",
      "STD 460.6023385586685\n",
      "['Kürzestes Wort' 'Ungerade Anzahl']\n",
      "P1 1.6315344807587615\n",
      "P2 1.841324574993825\n",
      "Pre 2.968886275067759\n",
      "P3 0.6436503043467892\n",
      "P4 0.9102589898327995\n",
      "Post 1.1526367287968176\n",
      "PRE 0.9047619047619048 2.380952380952381 3.2857142857142856\n",
      "POST 0.2857142857142857 0.8571428571428571 1.1428571428571428\n",
      "3.2857142857142856\n"
     ]
    },
    {
     "data": {
      "image/png": "[encoded data removed]",
      "text/plain": [
       "<Figure size 432x288 with 1 Axes>"
      ]
     },
     "metadata": {
      "needs_background": "light"
     },
     "output_type": "display_data"
    }
   ],
   "source": [
    "bar_df = pd.DataFrame([],columns=[\"Programmieraufgaben\", \"Fehler-syntaktisch\", \"Fehler-semantisch\", \"Fehler-insgesamt\"])\n",
    "\n",
    "count = len(unique_codes)\n",
    "\n",
    "\n",
    "task_errors_pre = 0\n",
    "tasks_errors_pre = 0\n",
    "tasks_errors_syntax_pre = 0\n",
    "tasks_errors_semantik_pre = 0\n",
    "time_pre = 0\n",
    "\n",
    "task_errors_post = 0\n",
    "tasks_errors_post = 0\n",
    "tasks_errors_syntax_post = 0\n",
    "tasks_errors_semantik_post = 0\n",
    "time_post = 0\n",
    "\n",
    "#zeit std\n",
    "pre_list = []\n",
    "post_list = []\n",
    "\n",
    "pre_list.extend(df_pre.loc[df_pre[\"Algorithmus\"]==\"Kürzestes Wort\"][\"Zeit\"])\n",
    "post_list.extend(df_post.loc[df_post[\"Algorithmus\"]==\"Maximales Produkt\"][\"Zeit\"])\n",
    "import statistics\n",
    "print(\"STD\", statistics.stdev(pre_list))\n",
    "print(\"STD\", statistics.stdev(post_list))\n",
    "\n",
    "print(algo_names_pre)\n",
    "\n",
    "time_pre = float(df_pre.loc[df_pre[\"Algorithmus\"]==\"Kürzestes Wort\"][\"Zeit\"].mean())    \n",
    "time_post = float(df_post.loc[df_post[\"Algorithmus\"]==\"Maximales Produkt\"][\"Zeit\"].mean())\n",
    "\n",
    "#time_post_quick = df_post.loc[df_post[\"Algorithmus\"]==\"Maximales Produkt\"][\"Zeit\"].describe()\n",
    "\n",
    "#std 41 \n",
    "# 28 sek\n",
    "\n",
    "#std 7min 41sek\n",
    "\n",
    "sec_pre = time_pre%60 \n",
    "sec_post = time_post%60\n",
    "\n",
    "m_pre, s_pre = divmod(time_pre, 60)\n",
    "m_post, s_post = divmod(time_post, 60)\n",
    "\n",
    "\n",
    "\n",
    "     \n",
    "df_pre.dropna(axis='columns')\n",
    "\n",
    "p1_sy = []\n",
    "p1_se = []\n",
    "p1_error = []\n",
    "p2_sy = []\n",
    "p2_se = []\n",
    "p2_error = []\n",
    "\n",
    "pre_error_list = []\n",
    "\n",
    "p3_sy = []\n",
    "p3_se = []\n",
    "p3_error = []\n",
    "p4_sy = []\n",
    "p4_se = []\n",
    "p4_error = []\n",
    "\n",
    "post_error_list = []\n",
    "\n",
    "\n",
    "for i in range(len(algo_names_pre)):    \n",
    "    task_errors_syntax_pre = float(df_pre.loc[df_pre[\"Algorithmus\"] == algo_names_pre[i]][\"syntaktische Fehler\"].mean()) \n",
    "    task_errors_semantik_pre = float(df_pre.loc[df_pre[\"Algorithmus\"] == algo_names_pre[i]][\"semantische Fehler\"].mean())\n",
    "    \n",
    "    task_error = task_errors_syntax_pre + task_errors_semantik_pre\n",
    "    \n",
    "    \n",
    "    \n",
    "    if i == 0:\n",
    "        p1_sy.extend(df_pre.loc[df_pre[\"Algorithmus\"] == algo_names_pre[0]][\"syntaktische Fehler\"])\n",
    "        p1_se.extend(df_pre.loc[df_pre[\"Algorithmus\"]==algo_names_pre[0]][\"semantische Fehler\"])\n",
    "        \n",
    "    if i == 1:\n",
    "        p2_sy.extend(df_pre.loc[df_pre[\"Algorithmus\"] == algo_names_pre[1]][\"syntaktische Fehler\"])\n",
    "        p2_se.extend(df_pre.loc[df_pre[\"Algorithmus\"]== algo_names_pre[1]][\"semantische Fehler\"])\n",
    "\n",
    "\n",
    "    \n",
    "    tasks_errors_syntax_pre += task_errors_syntax_pre\n",
    "    tasks_errors_semantik_pre += task_errors_semantik_pre\n",
    "    tasks_errors_pre += task_error\n",
    "    \n",
    "        \n",
    "    bar_df = bar_df.append(pd.DataFrame([[\"P\" + str(i+1), task_errors_syntax_pre, task_errors_semantik_pre, task_error]], columns=[\"Programmieraufgaben\", \"Fehler-syntaktisch\", \n",
    "                                                                                      \"Fehler-semantisch\", \"Fehler-insgesamt\"]))\n",
    "\n",
    "    \n",
    "p1_error = [sum(x) for x in zip(p1_sy, p1_se)]\n",
    "p2_error = [sum(x) for x in zip(p2_sy, p2_se)]\n",
    "\n",
    "\n",
    "print(\"P1\", statistics.stdev(p1_error))\n",
    "print(\"P2\", statistics.stdev(p2_error))\n",
    "\n",
    "pre_error = [sum(x) for x in zip(p1_error, p2_error)]\n",
    "print(\"Pre\" ,statistics.stdev(pre_error))\n",
    "\n",
    "for i in range(len(algo_names_post)):\n",
    "    task_errors_syntax_post = float(df_post.loc[df_post[\"Algorithmus\"] == algo_names_post[i]][\"syntaktische Fehler\"].mean()) \n",
    "    task_errors_semantik_post = float(df_post.loc[df_post[\"Algorithmus\"] == algo_names_post[i]][\"semantische Fehler\"].mean())\n",
    "    \n",
    "    task_error = task_errors_syntax_post + task_errors_semantik_post\n",
    "    \n",
    "    #print(\"P\" + str(i+3), task_errors_syntax_post, task_errors_semantik_post, task_error)\n",
    "\n",
    "    if i == 0:\n",
    "        p3_sy.extend(df_post.loc[df_post[\"Algorithmus\"] == algo_names_post[0]][\"syntaktische Fehler\"])\n",
    "        p3_se.extend(df_post.loc[df_post[\"Algorithmus\"]==algo_names_post[0]][\"semantische Fehler\"])\n",
    "        \n",
    "    if i == 1:\n",
    "        p4_sy.extend(df_post.loc[df_post[\"Algorithmus\"] == algo_names_post[1]][\"syntaktische Fehler\"])\n",
    "        p4_se.extend(df_post.loc[df_post[\"Algorithmus\"]== algo_names_post[1]][\"semantische Fehler\"])\n",
    "        \n",
    "    \n",
    "    tasks_errors_syntax_post += task_errors_syntax_post\n",
    "    tasks_errors_semantik_post += task_errors_semantik_post\n",
    "    tasks_errors_post += task_error\n",
    "    \n",
    "    \n",
    "    bar_df = bar_df.append(pd.DataFrame([[\"P\" + str(i+3), task_errors_syntax_post, task_errors_semantik_post, task_error]], columns=[\"Programmieraufgaben\", \"Fehler-syntaktisch\", \n",
    "                                                                                      \"Fehler-semantisch\", \"Fehler-insgesamt\"]))\n",
    "\n",
    "p3_error = [sum(x) for x in zip(p3_sy, p3_se)]\n",
    "p4_error = [sum(x) for x in zip(p4_sy, p4_se)]\n",
    "\n",
    "\n",
    "print(\"P3\", statistics.stdev(p3_error))\n",
    "print(\"P4\", statistics.stdev(p4_error))\n",
    "\n",
    "post_error = [sum(x) for x in zip(p3_error, p4_error)]\n",
    "print(\"Post\" ,statistics.stdev(post_error))\n",
    "\n",
    "    \n",
    "bar_df = bar_df.append(pd.DataFrame([[\"Pretest\", tasks_errors_syntax_pre/2, tasks_errors_semantik_pre/2, tasks_errors_pre/2]], columns=[\"Programmieraufgaben\", \"Fehler-syntaktisch\", \"Fehler-semantisch\", \"Fehler-insgesamt\"]))\n",
    "bar_df = bar_df.append(pd.DataFrame([[\"Posttest\", tasks_errors_syntax_post/2, tasks_errors_semantik_post/2, tasks_errors_post/2]], columns=[\"Programmieraufgaben\", \"Fehler-syntaktisch\", \"Fehler-semantisch\", \"Fehler-insgesamt\"]))\n",
    "\n",
    "print(\"PRE\", tasks_errors_syntax_pre, tasks_errors_semantik_pre, tasks_errors_pre)\n",
    "print(\"POST\", tasks_errors_syntax_post, tasks_errors_semantik_post, tasks_errors_post)\n",
    "\n",
    "print(tasks_errors_syntax_pre + tasks_errors_semantik_pre)\n",
    "fehler = \"Aufgabe falsch verstanden\"\n",
    "liste = []\n",
    "\n",
    "                       \n",
    "bar_df = bar_df.set_index('Programmieraufgaben')\n",
    "ax = bar_df.plot.bar(ylabel='Fehler', rot=0)\n",
    "plt.tight_layout()\n",
    "ax.yaxis.set_ticks(np.arange(0, 2.0, 0.25))\n",
    "ax.legend(loc=\"center left\", bbox_to_anchor=(1.0, 0.5))\n",
    "plt.savefig(\"results/behavioral/programmieraufgaben_fehler.pdf\", bbox_inches='tight', pad_inches=0.01)"
   ]
  },
  {
   "cell_type": "code",
   "execution_count": 64,
   "id": "802f1fff-9c73-46c1-9dcf-93fd2660c6f6",
   "metadata": {},
   "outputs": [
    {
     "name": "stdout",
     "output_type": "stream",
     "text": [
      "Pre 48.0 17.190476190476147\n",
      "Post 18.0 36.71428571428578\n"
     ]
    },
    {
     "ename": "AttributeError",
     "evalue": "'AxesSubplot' object has no attribute 'setx_label'",
     "output_type": "error",
     "traceback": [
      "\u001b[1;31m---------------------------------------------------------------------------\u001b[0m",
      "\u001b[1;31mAttributeError\u001b[0m                            Traceback (most recent call last)",
      "\u001b[1;32m<ipython-input-64-8df6817d915e>\u001b[0m in \u001b[0;36m<module>\u001b[1;34m\u001b[0m\n\u001b[0;32m     16\u001b[0m \u001b[0max\u001b[0m \u001b[1;33m=\u001b[0m \u001b[0mbar_df\u001b[0m\u001b[1;33m.\u001b[0m\u001b[0mplot\u001b[0m\u001b[1;33m.\u001b[0m\u001b[0mbar\u001b[0m\u001b[1;33m(\u001b[0m\u001b[0mylabel\u001b[0m\u001b[1;33m=\u001b[0m\u001b[1;34m'Minuten'\u001b[0m\u001b[1;33m,\u001b[0m \u001b[0mrot\u001b[0m\u001b[1;33m=\u001b[0m\u001b[1;36m0\u001b[0m\u001b[1;33m)\u001b[0m\u001b[1;33m\u001b[0m\u001b[1;33m\u001b[0m\u001b[0m\n\u001b[0;32m     17\u001b[0m \u001b[0mplt\u001b[0m\u001b[1;33m.\u001b[0m\u001b[0mtight_layout\u001b[0m\u001b[1;33m(\u001b[0m\u001b[1;33m)\u001b[0m\u001b[1;33m\u001b[0m\u001b[1;33m\u001b[0m\u001b[0m\n\u001b[1;32m---> 18\u001b[1;33m \u001b[0max\u001b[0m\u001b[1;33m.\u001b[0m\u001b[0msetx_label\u001b[0m\u001b[1;33m(\u001b[0m\u001b[1;34m\"\"\u001b[0m\u001b[1;33m)\u001b[0m\u001b[1;33m\u001b[0m\u001b[1;33m\u001b[0m\u001b[0m\n\u001b[0m\u001b[0;32m     19\u001b[0m \u001b[0max\u001b[0m\u001b[1;33m.\u001b[0m\u001b[0mlegend\u001b[0m\u001b[1;33m(\u001b[0m\u001b[0mloc\u001b[0m\u001b[1;33m=\u001b[0m\u001b[1;34m\"center left\"\u001b[0m\u001b[1;33m,\u001b[0m \u001b[0mbbox_to_anchor\u001b[0m\u001b[1;33m=\u001b[0m\u001b[1;33m(\u001b[0m\u001b[1;36m1.0\u001b[0m\u001b[1;33m,\u001b[0m \u001b[1;36m0.5\u001b[0m\u001b[1;33m)\u001b[0m\u001b[1;33m)\u001b[0m\u001b[1;33m\u001b[0m\u001b[1;33m\u001b[0m\u001b[0m\n\u001b[0;32m     20\u001b[0m \u001b[0mplt\u001b[0m\u001b[1;33m.\u001b[0m\u001b[0msavefig\u001b[0m\u001b[1;33m(\u001b[0m\u001b[1;34m\"results/behavioral/programmieraufgaben_zeit.pdf\"\u001b[0m\u001b[1;33m,\u001b[0m \u001b[0mbbox_inches\u001b[0m\u001b[1;33m=\u001b[0m\u001b[1;34m'tight'\u001b[0m\u001b[1;33m,\u001b[0m \u001b[0mpad_inches\u001b[0m\u001b[1;33m=\u001b[0m\u001b[1;36m0.01\u001b[0m\u001b[1;33m)\u001b[0m\u001b[1;33m\u001b[0m\u001b[1;33m\u001b[0m\u001b[0m\n",
      "\u001b[1;31mAttributeError\u001b[0m: 'AxesSubplot' object has no attribute 'setx_label'"
     ]
    },
    {
     "data": {
      "image/png": "[encoded data removed]",
      "text/plain": [
       "<Figure size 432x288 with 1 Axes>"
      ]
     },
     "metadata": {
      "needs_background": "light"
     },
     "output_type": "display_data"
    }
   ],
   "source": [
    "bar_df = pd.DataFrame([],columns=[\"Test\", \"Zeit\"])\n",
    "\n",
    "print(\"Pre\", m_pre, s_pre)\n",
    "print(\"Post\", m_post, s_post)\n",
    "\n",
    "\n",
    "time_pre = m_pre + (s_pre/60)\n",
    "time_post = m_post + (s_post/60)\n",
    "\n",
    "bar_df = bar_df.append(pd.DataFrame([[\"Pretest\", m_pre]], columns=[\"Test\", \"Zeit\"]))\n",
    "bar_df = bar_df.append(pd.DataFrame([[\"Posttest\", m_post]], columns=[\"Test\", \"Zeit\"]))\n",
    "\n",
    "\n",
    "                       \n",
    "bar_df = bar_df.set_index('Test')\n",
    "ax = bar_df.plot.bar(ylabel='Minuten', rot=0)\n",
    "plt.tight_layout()\n",
    "ax.setx_label(\"\")\n",
    "ax.legend(loc=\"center left\", bbox_to_anchor=(1.0, 0.5))\n",
    "plt.savefig(\"results/behavioral/programmieraufgaben_zeit.pdf\", bbox_inches='tight', pad_inches=0.01)"
   ]
  },
  {
   "cell_type": "code",
   "execution_count": null,
   "id": "90cb4db7-c45d-4607-b968-92ef9593a16a",
   "metadata": {},
   "outputs": [],
   "source": [
    "programming_tasks_pre = df_pre[\"Algorithmus\"].unique()\n",
    "programming_tasks_post = df_post[\"Algorithmus\"].unique()\n",
    "\n",
    "programming_tasks_pre_time = df_pre[df_pre[\"Algorithmus\"]==\"Kürzestes Wort\"][\"Zeit\"]\n",
    "programming_tasks_post_time = df_post[df_post[\"Algorithmus\"]==\"Maximales Produkt\"][\"Zeit\"]\n",
    "\n",
    "programming_tasks_pre_error_1_syntax = df_pre[df_pre[\"Algorithmus\"]==\"Kürzestes Wort\"][\"syntaktische Fehler\"]\n",
    "programming_tasks_pre_error_1_syntax = df_pre[df_pre[\"Algorithmus\"]==\"Kürzestes Wort\"][\"syntaktische Fehler\"]\n",
    "\n",
    "programming_tasks_pre_error_2_syntax = df_pre[df_pre[\"Algorithmus\"]==\"Ungerade Anzahl\"][\"syntaktische Fehler\"]\n",
    "\n",
    "programming_tasks_post_error_1 = df_post[df_post[\"Algorithmus\"]==\"Maximales Produkt\"][\"syntaktische Fehler\"]\n",
    "programming_tasks_post_error_2 = df_post[df_post[\"Algorithmus\"]==\"String Wiederholung\"][\"syntaktische Fehler\"]\n",
    "\n",
    "programming_tasks_pre_error = programming_tasks_pre_error_1.append(programming_tasks_pre_error_2)\n",
    "programming_tasks_post_error = programming_tasks_post_error_1.append(programming_tasks_post_error_2)\n",
    "\n",
    "#print(programming_tasks_time)\n",
    "#shapiro <.05 - Ablehnung\n",
    "\n",
    "wilcoxon_time = wilcoxon(programming_tasks_pre_time, programming_tasks_post_time)\n",
    "\n",
    "wilcoxon_correctness_1 = wilcoxon(programming_tasks_pre_error_1, programming_tasks_post_error_2)\n",
    "wilcoxon_correctness_2 = wilcoxon(programming_tasks_pre_error_2, programming_tasks_post_error_1)\n",
    "wilcoxon_correctness_all = wilcoxon(programming_tasks_pre_error, programming_tasks_post_error)\n",
    "\n",
    "cliffs_delta_time = cliffs_delta(programming_tasks_pre_time, programming_tasks_post_time)\n",
    "\n",
    "cliffs_delta_correctness_1 = cliffs_delta(programming_tasks_pre_error_1, programming_tasks_post_error_2)\n",
    "cliffs_delta_correctness_2 = cliffs_delta(programming_tasks_pre_error_2, programming_tasks_post_error_1)\n",
    "cliffs_delta_correctness_all = cliffs_delta(programming_tasks_pre_error, programming_tasks_post_error)\n"
   ]
  },
  {
   "cell_type": "code",
   "execution_count": null,
   "id": "e2f4d7ce-b52d-4c8f-aec3-02de484dc24e",
   "metadata": {},
   "outputs": [],
   "source": [
    "from pingouin import wilcoxon\n",
    "from cliffs_delta import cliffs_delta\n",
    "import scipy.stats as stats\n",
    "\n",
    "#display(df_pre)\n",
    "\n",
    "\n",
    "response_time_pre = df_pre[\"Zeit\"].dropna().tolist()\n",
    "response_time_post = df_post[\"Zeit\"].dropna().tolist()\n",
    "\n",
    "syntax_pre = df_pre[\"syntaktische Fehler\"].dropna().tolist()\n",
    "semantik_pre = df_pre[\"semantische Fehler\"].dropna().tolist()\n",
    "\n",
    "\n",
    "syntax_post = df_post[\"syntaktische Fehler\"].dropna().tolist()\n",
    "semantik_post = df_post[\"semantische Fehler\"].dropna().tolist()\n",
    "\n",
    "\n",
    "error_pre = [a + b for a, b in zip(syntax_pre, semantik_pre)]\n",
    "error_post = [a + b for a, b in zip(syntax_post, semantik_post)]\n",
    "\n",
    "print(error_pre)\n",
    "\n",
    "\n",
    "print(error_pre)\n",
    "\n",
    "print(stats.shapiro(response_time_pre))\n",
    "print(stats.shapiro(response_time_post))\n",
    "\n",
    "\n",
    "\n",
    "print(\"ZEIT\")\n",
    "print(cliffs_delta(response_time_pre, response_time_post))\n",
    "print(wilcoxon(response_time_pre, response_time_post))\n",
    "\n",
    "\n",
    "print(\"FEHLER\")\n",
    "print(cliffs_delta(error_pre, error_post))\n",
    "print(wilcoxon(error_pre, error_post))\n",
    "\n",
    "#for i in range(len(post_list_same)):\n",
    "#    tmp_pre_response_time = df_pre[df_pre[\"Algorithm\"]==pre_list_different[i]][\"ResponseTime\"]\n",
    "#    tmp_post_response_time = df_post[df_post[\"Algorithm\"]==][\"ResponseTime\"]\n",
    "#    \n",
    "#    cliffs_delta_correctness_different.append([post_list_different[i], cliffs_delta(tmp_pre_correctness, tmp_post_correctness)[0]])\n",
    "#    cliffs_delta_response_time_different.append([post_list_different[i], cliffs_delta(tmp_pre_response_time, tmp_post_response_time)[0]])\n"
   ]
  },
  {
   "cell_type": "code",
   "execution_count": 7,
   "id": "a0493bae-8961-4aaf-a15a-b3a38639ee24",
   "metadata": {},
   "outputs": [
    {
     "ename": "NameError",
     "evalue": "name 'cliffs_delta' is not defined",
     "output_type": "error",
     "traceback": [
      "\u001b[1;31m---------------------------------------------------------------------------\u001b[0m",
      "\u001b[1;31mNameError\u001b[0m                                 Traceback (most recent call last)",
      "\u001b[1;32m<ipython-input-7-20af1719779e>\u001b[0m in \u001b[0;36m<module>\u001b[1;34m\u001b[0m\n\u001b[1;32m----> 1\u001b[1;33m \u001b[0mcorrectness_cliffs\u001b[0m \u001b[1;33m=\u001b[0m \u001b[0mcliffs_delta\u001b[0m\u001b[1;33m(\u001b[0m\u001b[0merror_pre\u001b[0m\u001b[1;33m,\u001b[0m \u001b[0merror_post\u001b[0m\u001b[1;33m)\u001b[0m\u001b[1;33m\u001b[0m\u001b[1;33m\u001b[0m\u001b[0m\n\u001b[0m\u001b[0;32m      2\u001b[0m \u001b[0mcorrectness_wilco\u001b[0m \u001b[1;33m=\u001b[0m \u001b[0mwilcoxon\u001b[0m\u001b[1;33m(\u001b[0m\u001b[0merror_pre\u001b[0m\u001b[1;33m,\u001b[0m \u001b[0merror_post\u001b[0m\u001b[1;33m)\u001b[0m\u001b[1;33m\u001b[0m\u001b[1;33m\u001b[0m\u001b[0m\n\u001b[0;32m      3\u001b[0m \u001b[1;33m\u001b[0m\u001b[0m\n\u001b[0;32m      4\u001b[0m \u001b[1;33m\u001b[0m\u001b[0m\n\u001b[0;32m      5\u001b[0m \u001b[1;32mdef\u001b[0m \u001b[0mAverage\u001b[0m\u001b[1;33m(\u001b[0m\u001b[0mlst\u001b[0m\u001b[1;33m)\u001b[0m\u001b[1;33m:\u001b[0m\u001b[1;33m\u001b[0m\u001b[1;33m\u001b[0m\u001b[0m\n",
      "\u001b[1;31mNameError\u001b[0m: name 'cliffs_delta' is not defined"
     ]
    }
   ],
   "source": [
    "correctness_cliffs = cliffs_delta(error_pre, error_post)\n",
    "correctness_wilco = wilcoxon(error_pre, error_post)\n",
    "\n",
    "\n",
    "def Average(lst):\n",
    "    return sum(lst) / (len(lst)/2)\n",
    "  \n",
    "# Driver Code\n",
    "error_pre_average = Average(error_pre)\n",
    "error_post_average = Average(error_post)\n",
    "\n",
    "print(error_post_average)\n",
    "print(error_pre_average)\n",
    "\n",
    "print(error_pre_average)\n",
    "\n",
    "print(correctness_cliffs[0])\n",
    "\n",
    "programming_tasks_correctness_df = pd.DataFrame([\n",
    "                          [\"P1-P2/P3-P4\", round(error_pre_average, 2), round(error_post_average, 2),\n",
    "                           (round(correctness_wilco[\"p-val\"][0], 2)), round(correctness_cliffs[0], 2)]],\n",
    "                        columns=['Programmieraufgabe', 'Pretest', 'Posttest' , 'Wilcoxon', 'Cliffs-Delta'])\n",
    "\n",
    "\n",
    "display(programming_tasks_correctness_df)\n",
    "\n",
    "import os\n",
    "\n",
    "with open(\n",
    "    os.path.join(os.getcwd(),\"programming_tasks_correctness.tex\"), \"w\"\n",
    ") as tf:\n",
    "    tf.write(programming_tasks_correctness_df\n",
    "             .to_latex(\n",
    "             index=False,\n",
    "             caption=\"Programmieraufgaben: Korrrektheit\",\n",
    "                 label=\"tab:table_label\",\n",
    "                 escape=False,\n",
    "                 column_format=\"cccccc\",\n",
    "             ))"
   ]
  },
  {
   "cell_type": "code",
   "execution_count": 6,
   "id": "20e6330c-8535-47e0-a51e-c4e8e07e67d2",
   "metadata": {},
   "outputs": [
    {
     "ename": "NameError",
     "evalue": "name 'programming_tasks_pre_error_1' is not defined",
     "output_type": "error",
     "traceback": [
      "\u001b[1;31m---------------------------------------------------------------------------\u001b[0m",
      "\u001b[1;31mNameError\u001b[0m                                 Traceback (most recent call last)",
      "\u001b[1;32m<ipython-input-6-365248d6501b>\u001b[0m in \u001b[0;36m<module>\u001b[1;34m\u001b[0m\n\u001b[1;32m----> 1\u001b[1;33m \u001b[0mprint\u001b[0m\u001b[1;33m(\u001b[0m\u001b[0mprogramming_tasks_pre_error_1\u001b[0m\u001b[1;33m)\u001b[0m\u001b[1;33m\u001b[0m\u001b[1;33m\u001b[0m\u001b[0m\n\u001b[0m",
      "\u001b[1;31mNameError\u001b[0m: name 'programming_tasks_pre_error_1' is not defined"
     ]
    }
   ],
   "source": []
  },
  {
   "cell_type": "code",
   "execution_count": 90,
   "id": "595dfc82-ef23-40d0-b5e8-b2b660754c9d",
   "metadata": {},
   "outputs": [
    {
     "name": "stdout",
     "output_type": "stream",
     "text": [
      "[0, 1, 1, 0, 1, 1, 1, 0, 0, 0, 1, 1, 1, 0, 0, 0, 0, 3, 1, 1, 0]\n",
      "[1, 2, 0, 0, 1, 5, 0, 0, 1, 1, 0, 1, 0, 0, 0, 0, 0, 1, 2, 3, 1]\n",
      "[0, 0, 0, 0, 0, 1, 0, 0, 0, 0, 0, 2, 0, 0, 0, 0, 0, 2, 0, 1, 0]\n",
      "[5, 5, 0, 1, 0, 4, 1, 0, 2, 1, 0, 0, 1, 5, 1, 0, 1, 1, 0, 2, 1]\n",
      "[148.0, 7.0, 49.0, 53.0, 12.0, 37.0, 162.0, 66.0, 73.0, 54.0, 28.0, 40.0, 40.0, 66.0, 62.0, 2.0, 35.0, 1.0, 25.0, 13.0, 41.0]\n",
      "40.0\n",
      "17.0\n",
      "2\n",
      "1\n"
     ]
    }
   ],
   "source": [
    "programming_tasks_pre_error_1_syntax = df_pre[df_pre[\"Algorithmus\"]==\"Kürzestes Wort\"][\"syntaktische Fehler\"]\n",
    "programming_tasks_pre_error_1_semantic = df_pre[df_pre[\"Algorithmus\"]==\"Kürzestes Wort\"][\"semantische Fehler\"]\n",
    "\n",
    "programming_tasks_pre_error_2_syntax = df_pre[df_pre[\"Algorithmus\"]==\"Ungerade Anzahl\"][\"syntaktische Fehler\"]\n",
    "programming_tasks_pre_error_2_semantic = df_pre[df_pre[\"Algorithmus\"]==\"Ungerade Anzahl\"][\"semantische Fehler\"]\n",
    "\n",
    "\n",
    "p3_syntax = df_post[df_post[\"Algorithmus\"]==\"Maximales Produkt\"][\"syntaktische Fehler\"]\n",
    "p3_semantic = df_post[df_post[\"Algorithmus\"]==\"Maximales Produkt\"][\"semantische Fehler\"]\n",
    "\n",
    "p4_syntax = df_post[df_post[\"Algorithmus\"]==\"String Wiederholung\"][\"syntaktische Fehler\"]\n",
    "p4_semantic = df_post[df_post[\"Algorithmus\"]==\"String Wiederholung\"][\"semantische Fehler\"]\n",
    "\n",
    "\n",
    "pre_time = df_pre[df_pre[\"Algorithmus\"]==\"Kürzestes Wort\"][\"Zeit\"]\n",
    "post_time = df_post[df_post[\"Algorithmus\"]==\"Maximales Produkt\"][\"Zeit\"]\n",
    "\n",
    "pre_time = pre_time.tolist()\n",
    "post_time = post_time.tolist()\n",
    "\n",
    "\n",
    "\n",
    "\n",
    "list1_sy = programming_tasks_pre_error_1_syntax.tolist()\n",
    "list1_se = programming_tasks_pre_error_1_semantic.tolist()\n",
    "\n",
    "list2_sy = programming_tasks_pre_error_2_syntax.tolist()\n",
    "list2_se = programming_tasks_pre_error_2_semantic.tolist()\n",
    "\n",
    "p3_sy = p3_syntax.tolist()\n",
    "p3_se = p3_semantic.tolist()\n",
    "\n",
    "p4_sy = p4_syntax.tolist()\n",
    "p4_se = p4_semantic.tolist()\n",
    "\n",
    "print(list1_sy)\n",
    "print(list1_se)\n",
    "print(list2_sy)\n",
    "print(list2_se)\n",
    "\n",
    "pre_error = [sum(x) for x in zip(list1_sy, list1_se, list2_sy, list2_se)]\n",
    "post_error = [sum(x) for x in zip(p3_sy, p3_se, p4_sy, p4_se)]\n",
    "    \n",
    "\n",
    "pre_box = pd.DataFrame(pre_error, columns=[\"Fehler\"])\n",
    "pre_box[\"Test\"] = \"Pretest\"\n",
    "\n",
    "\n",
    "post_box = pd.DataFrame(post_error, columns=[\"Fehler\"])\n",
    "post_box[\"Test\"] = \"Posttest\"\n",
    "\n",
    "\n",
    "error = [pre_box, post_box]\n",
    "\n",
    "pre_time_1 = []\n",
    "post_time_1 = []\n",
    "\n",
    "for p in pre_time:\n",
    "    m_pre, s_pre = divmod(p, 60)\n",
    "    \n",
    "    if s_pre >= 30:\n",
    "        m_pre += 1\n",
    "    pre_time_1.append(m_pre)\n",
    "    \n",
    "    \n",
    "for p in post_time: \n",
    "    m_post, s_post = divmod(p, 60)\n",
    "    \n",
    "    if s_post >= 30:\n",
    "        m_post += 1\n",
    "    post_time_1.append(m_post)\n",
    "    \n",
    "#m_post, s_post = divmod(time_post, 60)\n",
    "\n",
    "pre_time_box = pd.DataFrame(pre_time_1, columns=[\"Beantwortungszeit\"])\n",
    "post_time_box = pd.DataFrame(post_time_1, columns=[\"Beantwortungszeit\"])\n",
    "\n",
    "\n",
    "print(pre_time_1)\n",
    "print(statistics.median(pre_time_1))\n",
    "print(statistics.median(post_time_1))\n",
    "print(statistics.median(pre_error))\n",
    "\n",
    "print(statistics.median(post_error))\n",
    "\n",
    "pre_time_box[\"Test\"] = \"Pretest\"\n",
    "post_time_box[\"Test\"] = \"Posttest\"\n",
    "\n",
    "time = [pre_time_box, post_time_box]\n",
    "\n",
    "programming_tasks_error_plot = pd.concat(error)\n",
    "programming_tasks_time_plot = pd.concat(time)"
   ]
  },
  {
   "cell_type": "code",
   "execution_count": 62,
   "id": "2fbf5743-f3fc-4f36-ad85-70462cb779b5",
   "metadata": {},
   "outputs": [
    {
     "data": {
      "image/png": "[encoded data removed]",
      "text/plain": [
       "<Figure size 432x288 with 1 Axes>"
      ]
     },
     "metadata": {
      "needs_background": "light"
     },
     "output_type": "display_data"
    }
   ],
   "source": [
    "ax = sns.boxplot(x=\"Test\", y=\"Fehler\", data=programming_tasks_error_plot)\n",
    "ax.set_xticklabels(ax.get_xticklabels())\n",
    "plt.ylim(0, 12)\n",
    "\n",
    "ax.set_xlabel(\"\")\n",
    "\n",
    "\n",
    "plt.tight_layout()\n",
    "plt.savefig(\"results/behavioral/p_fehler_boxplot.pdf\", bbox_inches='tight', pad_inches=0.01)"
   ]
  },
  {
   "cell_type": "code",
   "execution_count": 61,
   "id": "9d4fbd3d-ee78-43f3-886e-140c2aa5f7aa",
   "metadata": {},
   "outputs": [
    {
     "data": {
      "image/png": "[encoded data removed]",
      "text/plain": [
       "<Figure size 432x288 with 1 Axes>"
      ]
     },
     "metadata": {
      "needs_background": "light"
     },
     "output_type": "display_data"
    }
   ],
   "source": [
    "ax = sns.violinplot(x=\"Test\", y=\"Fehler\", data=programming_tasks_error_plot)\n",
    "ax.set_xticklabels(ax.get_xticklabels())\n",
    "plt.ylim(0, 12)\n",
    "\n",
    "ax.set_xlabel(\"\")\n",
    "\n",
    "plt.tight_layout()\n",
    "plt.savefig(\"results/behavioral/p_fehler_violinplot.pdf\", bbox_inches='tight', pad_inches=0.01)"
   ]
  },
  {
   "cell_type": "code",
   "execution_count": 60,
   "id": "b6fc26c0-a780-41d5-b3e7-5cf397b4d6b5",
   "metadata": {},
   "outputs": [
    {
     "data": {
      "image/png": "[encoded data removed]",
      "text/plain": [
       "<Figure size 432x288 with 1 Axes>"
      ]
     },
     "metadata": {
      "needs_background": "light"
     },
     "output_type": "display_data"
    }
   ],
   "source": [
    "ax = sns.boxplot(x=\"Test\", y=\"Beantwortungszeit\", data=programming_tasks_time_plot)\n",
    "ax.set_xticklabels(ax.get_xticklabels())\n",
    "\n",
    "ax.set_xlabel(\"\")\n",
    "\n",
    "plt.tight_layout()\n",
    "plt.savefig(\"results/behavioral/p_zeit_boxplot.pdf\", bbox_inches='tight', pad_inches=0.01)"
   ]
  },
  {
   "cell_type": "code",
   "execution_count": 59,
   "id": "8c4e2725-3621-4bbc-8255-4e2f83357237",
   "metadata": {},
   "outputs": [
    {
     "data": {
      "image/png": "[encoded data removed]",
      "text/plain": [
       "<Figure size 432x288 with 1 Axes>"
      ]
     },
     "metadata": {
      "needs_background": "light"
     },
     "output_type": "display_data"
    }
   ],
   "source": [
    "ax = sns.violinplot(x=\"Test\", y=\"Beantwortungszeit\", data=programming_tasks_time_plot)\n",
    "ax.set_xticklabels(ax.get_xticklabels())\n",
    "\n",
    "ax.set_xlabel(\"\")\n",
    "plt.tight_layout()\n",
    "plt.savefig(\"results/behavioral/p_zeit_violinplot.pdf\", bbox_inches='tight', pad_inches=0.01)"
   ]
  },
  {
   "cell_type": "code",
   "execution_count": 58,
   "id": "27bd07d4-6b28-466a-b7ab-9a7be2f6c9fa",
   "metadata": {},
   "outputs": [
    {
     "name": "stdout",
     "output_type": "stream",
     "text": [
      "[6, 8, 1, 1, 2, 11, 2, 0, 3, 2, 1, 4, 2, 5, 1, 0, 1, 7, 3, 7, 2]\n",
      "[3, 3, 0, 3, 1, 2, 0, 1, 1, 1, 0, 0, 2, 3, 0, 0, 1, 2, 0, 1, 0]\n",
      "MEDIAN 2.0\n",
      "MEDIAN 1.0\n",
      "  Wilcoxon signed-rank test    results\n",
      "0       Mean for Pretest =    3.285714\n",
      "1      Mean for Posttest =    1.142857\n",
      "2                W value =   12.500000\n",
      "3                Z value =   -3.179200\n",
      "4      Two sided p value =    0.001500\n",
      "5                      r =   -0.490600\n"
     ]
    },
    {
     "name": "stderr",
     "output_type": "stream",
     "text": [
      "C:\\Users\\Dominik\\anaconda3\\lib\\site-packages\\scipy\\stats\\morestats.py:2967: UserWarning: Exact p-value calculation does not work if there are ties. Switching to normal approximation.\n",
      "  warnings.warn(\"Exact p-value calculation does not work if there are \"\n"
     ]
    }
   ],
   "source": [
    "from researchpy import ttest\n",
    "\n",
    "print(pre_error)\n",
    "print(post_error)\n",
    "\n",
    "d = {'Pretest': pre_error, 'Posttest': post_error}\n",
    "\n",
    "#print(\"MEDIAN\", np.median(correctness_same_list_pre))\n",
    "#print(\"MEDIAN\", np.median(correctness_same_list_post))\n",
    "\n",
    "print(\"MEDIAN\", np.median(pre_error))\n",
    "print(\"MEDIAN\", np.median(post_error))\n",
    "test_df = pd.DataFrame(data=d)\n",
    "\n",
    "\n",
    "\n",
    "tmp_tt = ttest(test_df[\"Pretest\"], test_df[\"Posttest\"], equal_variances=False, paired=True)\n",
    "\n",
    "print(tmp_tt)"
   ]
  },
  {
   "cell_type": "code",
   "execution_count": null,
   "id": "0ba972e7-5d81-4a8a-b2ad-dc8486840d8b",
   "metadata": {},
   "outputs": [],
   "source": []
  }
 ],
 "metadata": {
  "kernelspec": {
   "display_name": "Python 3",
   "language": "python",
   "name": "python3"
  },
  "language_info": {
   "codemirror_mode": {
    "name": "ipython",
    "version": 3
   },
   "file_extension": ".py",
   "mimetype": "text/x-python",
   "name": "python",
   "nbconvert_exporter": "python",
   "pygments_lexer": "ipython3",
   "version": "3.8.8"
  }
 },
 "nbformat": 4,
 "nbformat_minor": 5
}
