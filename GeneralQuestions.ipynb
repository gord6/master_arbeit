{
 "cells": [
  {
   "cell_type": "code",
   "execution_count": 2,
   "metadata": {},
   "outputs": [],
   "source": [
    "import pandas as pd\n",
    "import numpy as np\n",
    "import re"
   ]
  },
  {
   "cell_type": "code",
   "execution_count": 63,
   "metadata": {},
   "outputs": [],
   "source": [
    "config_profession = \"GQ01\"\n",
    "\n",
    "config_unique_code_variable = \"PD14_01\"\n",
    "\n",
    "config_learning_years = \"GQ03_03\"\n",
    "\n",
    "config_answer_variables = ['PT03_01', 'PT08_01', 'PT13_01', 'PT18_01', 'PT23_01','PT28_01', 'PT33_01', 'PT38_01', 'PT43_01', 'PT48_01']\n",
    "\n",
    "config_difficulty_variables = ['PT04', 'PT09', 'PT14', 'PT19', 'PT24', 'PT30', 'PT34', 'PT39', 'PT44', 'PT49']\n",
    "\n",
    "config_time_variables = ['TIME006','TIME008','TIME010','TIME012', 'TIME014','TIME016','TIME018','TIME020','TIME022', 'TIME024']\n",
    "\n",
    "config_click_variables = ['PT01_01', 'PT06_01', 'PT11_01', 'PT16_01', 'PT21_01','PT26_01', 'PT31_01', 'PT36_01', 'PT41_01', 'PT46_01']\n",
    "\n",
    "\n",
    "config_datasheet = r'./data/raw/pretest.xlsx'\n",
    "compare_datasheet = \"results/behavioral/compare/compare.xlsx\"\n",
    "pretest_datasheet = r'./results/preprocessed/preprocessed_pretest.xlsx'\n",
    "posttest_datasheet = r'./results/preprocessed/preprocessed_posttest.xlsx'"
   ]
  },
  {
   "cell_type": "code",
   "execution_count": 65,
   "metadata": {},
   "outputs": [
    {
     "data": {
      "text/plain": [
       "2     4\n",
       "3    11\n",
       "4     5\n",
       "5     1\n",
       "Name: C, dtype: int64"
      ]
     },
     "metadata": {},
     "output_type": "display_data"
    },
    {
     "name": "stdout",
     "output_type": "stream",
     "text": [
      "5.25\n"
     ]
    },
    {
     "data": {
      "text/plain": [
       "4.193248541803041"
      ]
     },
     "metadata": {},
     "output_type": "display_data"
    }
   ],
   "source": [
    "raw = pd.read_excel(config_datasheet)\n",
    "raw_compare = pd.read_excel(compare_datasheet)\n",
    "raw_pretest = pd.read_excel(pretest_datasheet)\n",
    "raw_posttest = pd.read_excel(posttest_datasheet)\n",
    "df = pd.DataFrame(raw)\n",
    "df_compare = pd.DataFrame(raw_compare)\n",
    "df_pretest = pd.DataFrame(raw_pretest)\n",
    "df_posttest = pd.DataFrame(raw_posttest)\n",
    "\n",
    "unique_codes = df_compare[\"Unique Code\"].unique()\n",
    "\n",
    "df = df[['PD14_01', 'PD07', 'PD08_01', 'GQ01','GQ03_01', 'GQ03_03', 'GQ05', 'GQ09', 'GQ10', 'GQ11', 'GQ06_01', 'GQ12_01', 'GQ13_01']]\n",
    "\n",
    "df = df.rename(columns={\"PD14_01\": \"Unique Code\", \"PD07\": \"Gender\", \"PD08_01\": \"Alter\", \"GQ01\":\"Beruf\", \n",
    "                        \"GQ03_01\": \"Programmieren lernen\", \"GQ03_03\" : \"Beruflich programmieren\", \"GQ05\": \"Java\",\n",
    "                        \"GQ09\" : \"C++\", \"GQ10\" : \"C\", \"GQ11\" : \"Python\", \"GQ06_01\" : \"Andere Sprache\", \"GQ12_01\" : \"Studiengang\", \"GQ13_01\" : \"Fachsemester\"})\n",
    "\n",
    "\n",
    "df['Studiengang'] = df['Studiengang'].replace({'Informatik für Geistes- und Socialwissenschaften': 'Informatik für Geistes- und Sozialwissenschaftler', \n",
    "                           'Master Informatik für Geistes- und Sozialwissenschaftler': 'Informatik für Geistes- und Sozialwissenschaftler', 'Bachelor Angewandte Informatik' : 'Angewandte Informatik'})\n",
    "df.loc[df['Gender'] == 1, 'Gender'] = 'männlich'\n",
    "df.loc[df['Gender'] == 2, 'Gender'] = 'weiblich'\n",
    "\n",
    "df.loc[df['Beruf'] == 1, 'Beruf'] = 'Bachelor'\n",
    "df.loc[df['Beruf'] == 2, 'Beruf'] = 'Master'\n",
    "df.loc[df['Beruf'] == 5, 'Beruf'] = 'Anderes'\n",
    "\n",
    "df.loc[df['Fachsemester'] == '2. Fachsemester', 'Fachsemester'] = 2\n",
    "df.loc[df['Fachsemester'] == '2. Fachsemester/ 4. Semester', 'Fachsemester'] = 2\n",
    "\n",
    "\n",
    "df = df[df['Unique Code'].isin(unique_codes)]\n",
    "\n",
    "course = df['Studiengang'].value_counts().sort_index()\n",
    "gender = df['Gender'].value_counts().sort_index()\n",
    "profession = df['Beruf'].value_counts().sort_index()\n",
    "learning_experience = df['Programmieren lernen'].value_counts().sort_index()\n",
    "professional_experience = df['Beruflich programmieren'].value_counts().sort_index()\n",
    "semester = df['Fachsemester'].value_counts()\n",
    "java_experience = df['Java'].value_counts().sort_index()\n",
    "cpp_experience = df['C++'].value_counts().sort_index()\n",
    "c_experience = df['C'].value_counts().sort_index()\n",
    "python_experience = df['Python'].value_counts().sort_index()\n",
    "\n",
    "display(c_experience)\n",
    "print(c_experience.mean(axis = 0))\n",
    "\n",
    "display(c_experience.std())\n",
    "\n",
    "\n",
    "tmp = [course, gender, profession, learning_experience, \n",
    "       professional_experience, semester, java_experience,\n",
    "      cpp_experience, c_experience, python_experience]\n",
    "\n",
    "\n",
    "\n",
    "tmp_df = pd.DataFrame(tmp)\n",
    "tmp_df.to_excel(\"results/test.xlsx\")\n",
    "\n",
    "from scipy.stats import ttest_ind\n",
    "\n",
    "df.to_excel(\"results/teilnehmer.xlsx\")\n",
    "\n",
    "mean_learning = float(df[\"Programmieren lernen\"].mean())\n",
    "stddev_learning = float(df[\"Programmieren lernen\"].std())\n",
    "\n",
    "mean_age = float(df[\"Alter\"].mean())\n",
    "\n",
    "mean_java = float(df[\"Java\"].mean())\n",
    "stddev_java = float(df[\"Java\"].std())\n",
    "\n",
    "mean_professional = float(df[\"Beruflich programmieren\"].mean())\n",
    "stddev_professional = float(df[\"Beruflich programmieren\"].std())"
   ]
  },
  {
   "cell_type": "code",
   "execution_count": 27,
   "metadata": {},
   "outputs": [],
   "source": [
    "#import sidetable\n",
    "import matplotlib.pyplot as plt\n",
    "from matplotlib.backends.backend_pdf import PdfPages\n",
    "\n",
    "\n",
    "gender_table = df.stb.freq(['Gender'])\n",
    "\n",
    "del gender_table['percent']\n",
    "del gender_table['cumulative_count']\n",
    "del gender_table['cumulative_percent']"
   ]
  },
  {
   "cell_type": "markdown",
   "metadata": {},
   "source": [
    "## "
   ]
  },
  {
   "cell_type": "code",
   "execution_count": 28,
   "metadata": {},
   "outputs": [],
   "source": [
    "study_table = df.stb.freq(['Studiengang'])\n",
    "\n",
    "del study_table['percent']\n",
    "del study_table['cumulative_count']\n",
    "del study_table['cumulative_percent']\n",
    "\n",
    "study_table = study_table.rename(columns={'count': 'Anzahl'})"
   ]
  },
  {
   "cell_type": "code",
   "execution_count": 20,
   "metadata": {},
   "outputs": [],
   "source": [
    "test = pd.DataFrame([[gender_table.columns[0], gender_table.values[0][0], gender_table.values[0][1]],\n",
    "                     ['', gender_table.values[1][0], gender_table.values[1][1]],\n",
    "                     [study_table.columns[0], study_table.values[0][0], study_table.values[0][1]],\n",
    "                     ['', study_table.values[1][0], study_table.values[1][1]],\n",
    "                     ['', study_table.values[2][0], study_table.values[2][1]],\n",
    "                     ['', study_table.values[3][0], study_table.values[3][1]],\n",
    "                     ['', study_table.values[4][0], study_table.values[4][1]],\n",
    "                     ['', study_table.values[5][0], study_table.values[5][1]],\n",
    "                    \n",
    "                    ], columns=['Variable', 'Level', 'Anzahl'])"
   ]
  },
  {
   "cell_type": "markdown",
   "metadata": {},
   "source": [
    "Latex Tabelle erzeugen"
   ]
  },
  {
   "cell_type": "code",
   "execution_count": 24,
   "metadata": {},
   "outputs": [],
   "source": [
    "import os \n",
    "\n",
    "programming_experience_education = df[\"Programmieren lernen\"]\n",
    "programming_experience_professional = df[\"Beruflich programmieren\"]\n",
    "age = df[\"Alter\"]\n",
    "semester = df[\"Fachsemester\"].astype(str).astype(int)\n",
    "\n",
    "\n",
    "metric_df = pd.DataFrame([[programming_experience_education.name, programming_experience_education.describe()['count'], programming_experience_professional.describe()['min'],\n",
    "                           programming_experience_education.describe()['max'], programming_experience_education.describe()['mean'], programming_experience_education.describe()['std']],\n",
    "                         [programming_experience_professional.name, programming_experience_professional.describe()['count'], programming_experience_professional.describe()['min'],\n",
    "                          programming_experience_professional.describe()['max'], programming_experience_professional.describe()['mean'], programming_experience_professional.describe()['std']],\n",
    "                         [age.name, age.describe()['count'], age.describe()['min'],\n",
    "                          age.describe()['max'], age.describe()['mean'], age.describe()['std']],\n",
    "                         [semester.name, semester.describe()['count'], semester.describe()['min'],\n",
    "                          semester.describe()['max'], semester.describe()['mean'], semester.describe()['std']],\n",
    "                         ],\n",
    "                        columns=['Variable', 'Anzahl', 'Min', 'Max', 'Mean', 'Std'])\n",
    "\n",
    "\n",
    "#display(metric_df)\n",
    "with open(\n",
    "    os.path.join(os.getcwd(),\"metric.tex\"), \"w\"\n",
    ") as tf:\n",
    "    tf.write(metric_df\n",
    "             .round(2)\n",
    "             .to_latex(\n",
    "             index=False,\n",
    "             caption=\"This is the caption\",\n",
    "                 label=\"tab:table_label\",\n",
    "                 escape=False,\n",
    "                 column_format=\"cccccc\",\n",
    "             ))"
   ]
  },
  {
   "cell_type": "code",
   "execution_count": 26,
   "metadata": {},
   "outputs": [],
   "source": [
    "with open(\n",
    "    os.path.join(os.getcwd(),\"test.tex\"), \"w\"\n",
    ") as tf:\n",
    "    tf.write(test\n",
    "             .to_latex(\n",
    "             index=False,\n",
    "             caption=\"This is the caption\",\n",
    "                 label=\"tab:table_label\",\n",
    "                 escape=False,\n",
    "                 column_format=\"ccc\",\n",
    "             ))"
   ]
  },
  {
   "cell_type": "code",
   "execution_count": 124,
   "metadata": {},
   "outputs": [
    {
     "name": "stdout",
     "output_type": "stream",
     "text": [
      "CommonChars 32.81932700571761\n",
      "IsPalindrome 233.09864975902482\n",
      "ReverseString 21.377912702486913\n",
      "ReverseArray 37.831364252589694\n",
      "BinarySearchStrings 81.38648376886509\n",
      "Multiples 45.70988885781652\n",
      "Power 31.424478285213194\n",
      "GetMiddle 96.31560000952496\n",
      "InsertionSort 151.87893903109844\n",
      "SquareRoot 34.65988112079093\n"
     ]
    }
   ],
   "source": [
    "click_log_pre = df_pretest[\"ClickData\"].unique()\n",
    "click_log_post = df_posttest[\"ClickData\"].unique()\n",
    "\n",
    "algo_names_pre = df_pretest[\"Algorithm\"].unique()\n",
    "algo_names_post = df_posttest[\"Algorithm\"].unique()\n",
    "\n",
    "list_of_average_lists_pre = []\n",
    "list_of_average_lists_post = []\n",
    "\n",
    "for algo in algo_names_pre:\n",
    "    clicks = []\n",
    "    tmp_df = df_pretest.loc[df_pretest[\"Algorithm\"] == algo][\"ClickData\"]\n",
    "    tmp_list = []\n",
    "    \n",
    "    for tmp in tmp_df:\n",
    "        tmp = str(tmp)\n",
    "        tmp = tmp.split()\n",
    "        tmp_list.append(len(tmp))\n",
    "    list_of_average_lists_pre.append(tmp_list)\n",
    "\n",
    "\n",
    "for algo in algo_names_post:\n",
    "    clicks = []\n",
    "    tmp_df = df_posttest.loc[df_posttest[\"Algorithm\"] == algo][\"ClickData\"]\n",
    "    tmp_list = []\n",
    "    \n",
    "    for tmp in tmp_df:\n",
    "        tmp = str(tmp)\n",
    "        tmp = tmp.split()\n",
    "        tmp_list.append(len(tmp))\n",
    "    list_of_average_lists_post.append(tmp_list)\n",
    "    \n",
    "    \n",
    "average_list_pre = []\n",
    "average_list_post = []\n",
    "\n",
    "std_dev_pre = {}\n",
    "std_dev_post = {}\n",
    "\n",
    "\n",
    "for algo in algo_names_pre:\n",
    "    #d['mynewkey'] = 'mynewvalue'\n",
    "    std_dev_pre[algo] = df_pretest.loc[df_pretest[\"Algorithm\"]==algo][\"ResponseTime\"].std()\n",
    "    #std_dev_pre.append(algo: df_pretest.loc[df_pretest[\"Algorithm\"]==algo][\"ResponseTime\"].std())\n",
    "    \n",
    "for algo in algo_names_post:\n",
    "    std_dev_post[algo] = df_posttest.loc[df_posttest[\"Algorithm\"]==algo][\"ResponseTime\"].std()\n",
    "\n",
    "for i in range(len(list_of_average_lists_pre)):\n",
    "    average_list_pre.append(round(sum(list_of_average_lists_pre[i]) / len(list_of_average_lists_pre[i])))\n",
    "    \n",
    "for i in range(len(list_of_average_lists_post)):\n",
    "    average_list_post.append(round(sum(list_of_average_lists_post[i]) / len(list_of_average_lists_post[i])))\n",
    "    \n",
    "    \n",
    "for i in range(len(algo_names_pre)):\n",
    "    if algo_names_pre[i] != algo_names_post[i]:\n",
    "        algo_names_pre[i] += \"/\" + algo_names_post[i]\n",
    "\n",
    "fixation = {'Algorithmus':algo_names_pre, 'Pretest':average_list_pre, 'Posttest':average_list_post}\n",
    "\n",
    "\n",
    "for k, v in std_dev_post.items():\n",
    "    print(k, v)\n",
    "    \n",
    "\n",
    "    \n",
    "#Swap 56\n",
    "#ReverseString\n",
    "\n",
    "fixation_df = pd.DataFrame(fixation)\n",
    "\n",
    "with open(\n",
    "    os.path.join(os.getcwd(),\"FixationCount.tex\"), \"w\"\n",
    ") as tf:\n",
    "    tf.write(fixation_df\n",
    "            .to_latex(\n",
    "            index=False,\n",
    "            escape=False,\n",
    "            column_format=\"lll\",\n",
    "             ))"
   ]
  },
  {
   "cell_type": "code",
   "execution_count": 12,
   "metadata": {},
   "outputs": [
    {
     "name": "stderr",
     "output_type": "stream",
     "text": [
      "C:\\Users\\Dominik\\anaconda3\\lib\\site-packages\\seaborn\\distributions.py:2557: FutureWarning: `distplot` is a deprecated function and will be removed in a future version. Please adapt your code to use either `displot` (a figure-level function with similar flexibility) or `histplot` (an axes-level function for histograms).\n",
      "  warnings.warn(msg, FutureWarning)\n"
     ]
    },
    {
     "data": {
      "image/png": "[encoded data removed]",
      "text/plain": [
       "<Figure size 432x288 with 1 Axes>"
      ]
     },
     "metadata": {
      "needs_background": "light"
     },
     "output_type": "display_data"
    }
   ],
   "source": [
    "mu = df[\"Java\"].mean()\n",
    "sigma = df[\"Java\"].std()\n",
    "\n",
    "\n",
    "# Plot the histogram.\n",
    "plt.hist(gym, bins=5)\n",
    "\n",
    "sns.distplot(x, kde=True, bins=20, hist=True)\n",
    "\n",
    "plt.plot(x, p, 'k', linewidth=2)\n",
    "  \n",
    "plt.show()"
   ]
  },
  {
   "cell_type": "code",
   "execution_count": 358,
   "metadata": {},
   "outputs": [
    {
     "data": {
      "text/html": [
       "<div>\n",
       "<style scoped>\n",
       "    .dataframe tbody tr th:only-of-type {\n",
       "        vertical-align: middle;\n",
       "    }\n",
       "\n",
       "    .dataframe tbody tr th {\n",
       "        vertical-align: top;\n",
       "    }\n",
       "\n",
       "    .dataframe thead th {\n",
       "        text-align: right;\n",
       "    }\n",
       "</style>\n",
       "<table border=\"1\" class=\"dataframe\">\n",
       "  <thead>\n",
       "    <tr style=\"text-align: right;\">\n",
       "      <th></th>\n",
       "      <th>C</th>\n",
       "      <th>C++</th>\n",
       "      <th>Java</th>\n",
       "      <th>Python</th>\n",
       "    </tr>\n",
       "  </thead>\n",
       "  <tbody>\n",
       "    <tr>\n",
       "      <th>0</th>\n",
       "      <td>3</td>\n",
       "      <td>3</td>\n",
       "      <td>4</td>\n",
       "      <td>3</td>\n",
       "    </tr>\n",
       "    <tr>\n",
       "      <th>4</th>\n",
       "      <td>4</td>\n",
       "      <td>1</td>\n",
       "      <td>4</td>\n",
       "      <td>4</td>\n",
       "    </tr>\n",
       "    <tr>\n",
       "      <th>5</th>\n",
       "      <td>3</td>\n",
       "      <td>4</td>\n",
       "      <td>2</td>\n",
       "      <td>3</td>\n",
       "    </tr>\n",
       "    <tr>\n",
       "      <th>9</th>\n",
       "      <td>4</td>\n",
       "      <td>4</td>\n",
       "      <td>3</td>\n",
       "      <td>4</td>\n",
       "    </tr>\n",
       "    <tr>\n",
       "      <th>12</th>\n",
       "      <td>3</td>\n",
       "      <td>1</td>\n",
       "      <td>3</td>\n",
       "      <td>3</td>\n",
       "    </tr>\n",
       "    <tr>\n",
       "      <th>13</th>\n",
       "      <td>3</td>\n",
       "      <td>2</td>\n",
       "      <td>2</td>\n",
       "      <td>4</td>\n",
       "    </tr>\n",
       "    <tr>\n",
       "      <th>16</th>\n",
       "      <td>4</td>\n",
       "      <td>2</td>\n",
       "      <td>2</td>\n",
       "      <td>3</td>\n",
       "    </tr>\n",
       "    <tr>\n",
       "      <th>17</th>\n",
       "      <td>4</td>\n",
       "      <td>1</td>\n",
       "      <td>2</td>\n",
       "      <td>2</td>\n",
       "    </tr>\n",
       "    <tr>\n",
       "      <th>18</th>\n",
       "      <td>3</td>\n",
       "      <td>1</td>\n",
       "      <td>1</td>\n",
       "      <td>3</td>\n",
       "    </tr>\n",
       "    <tr>\n",
       "      <th>28</th>\n",
       "      <td>3</td>\n",
       "      <td>3</td>\n",
       "      <td>2</td>\n",
       "      <td>2</td>\n",
       "    </tr>\n",
       "    <tr>\n",
       "      <th>31</th>\n",
       "      <td>3</td>\n",
       "      <td>3</td>\n",
       "      <td>4</td>\n",
       "      <td>3</td>\n",
       "    </tr>\n",
       "    <tr>\n",
       "      <th>32</th>\n",
       "      <td>5</td>\n",
       "      <td>2</td>\n",
       "      <td>2</td>\n",
       "      <td>5</td>\n",
       "    </tr>\n",
       "    <tr>\n",
       "      <th>34</th>\n",
       "      <td>2</td>\n",
       "      <td>1</td>\n",
       "      <td>4</td>\n",
       "      <td>3</td>\n",
       "    </tr>\n",
       "    <tr>\n",
       "      <th>36</th>\n",
       "      <td>2</td>\n",
       "      <td>2</td>\n",
       "      <td>1</td>\n",
       "      <td>3</td>\n",
       "    </tr>\n",
       "    <tr>\n",
       "      <th>38</th>\n",
       "      <td>3</td>\n",
       "      <td>4</td>\n",
       "      <td>2</td>\n",
       "      <td>3</td>\n",
       "    </tr>\n",
       "    <tr>\n",
       "      <th>41</th>\n",
       "      <td>2</td>\n",
       "      <td>3</td>\n",
       "      <td>1</td>\n",
       "      <td>4</td>\n",
       "    </tr>\n",
       "    <tr>\n",
       "      <th>42</th>\n",
       "      <td>3</td>\n",
       "      <td>2</td>\n",
       "      <td>4</td>\n",
       "      <td>4</td>\n",
       "    </tr>\n",
       "    <tr>\n",
       "      <th>44</th>\n",
       "      <td>3</td>\n",
       "      <td>1</td>\n",
       "      <td>5</td>\n",
       "      <td>4</td>\n",
       "    </tr>\n",
       "    <tr>\n",
       "      <th>47</th>\n",
       "      <td>3</td>\n",
       "      <td>3</td>\n",
       "      <td>4</td>\n",
       "      <td>2</td>\n",
       "    </tr>\n",
       "    <tr>\n",
       "      <th>48</th>\n",
       "      <td>4</td>\n",
       "      <td>2</td>\n",
       "      <td>4</td>\n",
       "      <td>2</td>\n",
       "    </tr>\n",
       "    <tr>\n",
       "      <th>50</th>\n",
       "      <td>2</td>\n",
       "      <td>2</td>\n",
       "      <td>2</td>\n",
       "      <td>2</td>\n",
       "    </tr>\n",
       "  </tbody>\n",
       "</table>\n",
       "</div>"
      ],
      "text/plain": [
       "    C  C++  Java  Python\n",
       "0   3    3     4       3\n",
       "4   4    1     4       4\n",
       "5   3    4     2       3\n",
       "9   4    4     3       4\n",
       "12  3    1     3       3\n",
       "13  3    2     2       4\n",
       "16  4    2     2       3\n",
       "17  4    1     2       2\n",
       "18  3    1     1       3\n",
       "28  3    3     2       2\n",
       "31  3    3     4       3\n",
       "32  5    2     2       5\n",
       "34  2    1     4       3\n",
       "36  2    2     1       3\n",
       "38  3    4     2       3\n",
       "41  2    3     1       4\n",
       "42  3    2     4       4\n",
       "44  3    1     5       4\n",
       "47  3    3     4       2\n",
       "48  4    2     4       2\n",
       "50  2    2     2       2"
      ]
     },
     "metadata": {},
     "output_type": "display_data"
    },
    {
     "name": "stdout",
     "output_type": "stream",
     "text": [
      "count    21.000000\n",
      "mean      3.142857\n",
      "std       0.853564\n",
      "min       2.000000\n",
      "25%       3.000000\n",
      "50%       3.000000\n",
      "75%       4.000000\n",
      "max       5.000000\n",
      "Name: Python, dtype: float64\n"
     ]
    },
    {
     "data": {
      "image/png": "[encoded data removed]",
      "text/plain": [
       "<Figure size 430.5x360 with 1 Axes>"
      ]
     },
     "metadata": {
      "needs_background": "light"
     },
     "output_type": "display_data"
    }
   ],
   "source": [
    "import pandas as pd\n",
    "import matplotlib.pyplot as plt\n",
    "import seaborn as sns\n",
    "import numpy as np\n",
    "\n",
    "\n",
    "\n",
    "display(tmp)\n",
    "print(tmp['Python'].describe())\n",
    "g = sns.displot(tmp, kde=True)\n",
    "g.set(xticks=np.arange(1,6,1))\n",
    "g.set(yticks=np.arange(0,14,2))\n",
    "g.set_xticklabels(['1','2','3','4','5'])\n",
    "#x.set_xlim(1,2)\n",
    "g.set(xlabel='Anzahl der Jahre', ylabel='Anzahl der Studierenden', title='Programmier-Erfahrung in verschiedenen Programmiersprachen\\n')\n",
    "plt.savefig('Programmiererfahrung_Programmiersprachen.pdf', bbox_inches='tight')\n",
    "plt.show()"
   ]
  },
  {
   "cell_type": "code",
   "execution_count": 20,
   "metadata": {},
   "outputs": [
    {
     "data": {
      "image/png": "[encoded data removed]",
      "text/plain": [
       "<Figure size 360x360 with 1 Axes>"
      ]
     },
     "metadata": {
      "needs_background": "light"
     },
     "output_type": "display_data"
    }
   ],
   "source": [
    "age = df[['Alter']]\n",
    "\n",
    "g = sns.displot(age, x='Alter', kde=True)\n",
    "#g.set(xticks=np.arange(1,6,1))\n",
    "#g.set(yticks=np.arange(0,14,2))\n",
    "#g.set_xticklabels(['1','2','3','4','5'])\n",
    "#x.set_xlim(1,2)\n",
    "g.set(yticks=np.arange(0,16,2))\n",
    "g.set(xlabel='Alter', ylabel='Anzahl der Studierenden', title = \"Alter der Probanden\", aspect=0.95)\n",
    "plt.savefig('Alter_der_Probanden.pdf', bbox_inches='tight')\n",
    "plt.show()"
   ]
  },
  {
   "cell_type": "code",
   "execution_count": 24,
   "metadata": {},
   "outputs": [
    {
     "data": {
      "text/plain": [
       "array(['6aOGho', '8aRHui', '1aMLsa', '5nDFhi', '9aBWha', '1eASaa',\n",
       "       '8lHHsu', '4aRGür', '2eTGer', '1nCWte', '4iMVha'], dtype=object)"
      ]
     },
     "metadata": {},
     "output_type": "display_data"
    },
    {
     "data": {
      "text/plain": [
       "array(['1nUSüa', '2nGAhe', '1aTGsa', '6aJGhh', '6vEHhi', '9oMWun',\n",
       "       '3rCHei', '4uCGer', '5uHJei', '5nFKho'], dtype=object)"
      ]
     },
     "metadata": {},
     "output_type": "display_data"
    }
   ],
   "source": [
    "df_java_advanced, df_java_beginner = [x for _, x in df.groupby(df['Java'] < 3)]\n",
    "\n",
    "unique_codes_beginner = df_java_beginner[\"Unique Code\"].unique()\n",
    "unique_codes_advanced = df_java_advanced[\"Unique Code\"].unique()\n",
    "\n",
    "display(unique_codes_beginner)\n",
    "display(unique_codes_advanced)\n",
    "#df_beginner = df[\"Programmieren\"]\n",
    "#df[\"Programmieren beruflich\"].sort_values()"
   ]
  },
  {
   "cell_type": "code",
   "execution_count": null,
   "metadata": {},
   "outputs": [],
   "source": []
  }
 ],
 "metadata": {
  "kernelspec": {
   "display_name": "Python 3",
   "language": "python",
   "name": "python3"
  },
  "language_info": {
   "codemirror_mode": {
    "name": "ipython",
    "version": 3
   },
   "file_extension": ".py",
   "mimetype": "text/x-python",
   "name": "python",
   "nbconvert_exporter": "python",
   "pygments_lexer": "ipython3",
   "version": "3.8.8"
  }
 },
 "nbformat": 4,
 "nbformat_minor": 4
}
