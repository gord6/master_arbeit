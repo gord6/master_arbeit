{
 "cells": [
  {
   "cell_type": "code",
   "execution_count": 2,
   "id": "7386ee05-948b-450d-8d25-518d8b04930a",
   "metadata": {},
   "outputs": [],
   "source": [
    "import pandas as pd\n",
    "import seaborn as sns\n",
    "import collections"
   ]
  },
  {
   "cell_type": "code",
   "execution_count": 3,
   "id": "9da48a8b-d482-4434-84c9-2091703416b9",
   "metadata": {},
   "outputs": [],
   "source": [
    "config_datasheet = 'Vokabeltraining.xlsx'"
   ]
  },
  {
   "cell_type": "code",
   "execution_count": 5,
   "id": "8d6a8907-0a98-4368-86e3-4e6dbaded6ae",
   "metadata": {},
   "outputs": [],
   "source": [
    "raw_if = pd.read_excel(config_datasheet, sheet_name =\"if-else\")\n",
    "raw_for = pd.read_excel(config_datasheet, sheet_name= \"for\")\n",
    "raw_while = pd.read_excel(config_datasheet, sheet_name=\"while\")\n",
    "raw_do_while = pd.read_excel(config_datasheet, sheet_name=\"do-while\")\n",
    "\n",
    "df_if = pd.DataFrame(raw_if)\n",
    "df_for = pd.DataFrame(raw_for)\n",
    "df_while = pd.DataFrame(raw_while)\n",
    "df_do_while = pd.DataFrame(raw_do_while)\n",
    "\n",
    "df_if = df_if.sort_values(by=['Unique Code'])\n",
    "df_for = df_for.sort_values(by=['Unique Code'])\n",
    "df_while = df_while.sort_values(by=['Unique Code'])\n",
    "df_do_while = df_do_while.sort_values(by=['Unique Code'])\n",
    "\n",
    "with pd.ExcelWriter(\"./results/Vokabeltraining.xlsx\") as writer:\n",
    "    df_if.to_excel(writer, sheet_name='If')\n",
    "    df_for.to_excel(writer, sheet_name='For')\n",
    "    df_while.to_excel(writer, sheet_name='While')\n",
    "    df_do_while.to_excel(writer, sheet_name='Do-While')"
   ]
  },
  {
   "cell_type": "code",
   "execution_count": 45,
   "id": "fadc7ea3-6604-4fa6-972b-d18ce25587da",
   "metadata": {},
   "outputs": [
    {
     "name": "stdout",
     "output_type": "stream",
     "text": [
      "0ekgpi 22\n",
      "0tJPhi 19\n",
      "1aMLsa 23\n",
      "1eASaa 20\n",
      "1nCWte 21\n",
      "1nTGsa 20\n",
      "1nUSüa 21\n",
      "1sPSaa 18\n",
      "2aJAeo 19\n",
      "2aRCei 21\n",
      "2eTGer 23\n",
      "2iEGül 20\n",
      "2nGAhe 22\n",
      "2rRLeh 23\n",
      "3aKBhr 23\n",
      "3aUGho 21\n",
      "3lRKia 21\n",
      "3rCHei 22\n",
      "3tHGno 23\n",
      "4aRGür 22\n",
      "4iMVha 19\n",
      "4iTGho 22\n",
      "4oMOaa 21\n",
      "4tMMeu 19\n",
      "4uCGer 21\n",
      "4yMAta 23\n",
      "5dHSfo 22\n",
      "5hSLoa 23\n",
      "5iMMei 19\n",
      "5iOPrl 13\n",
      "5nDFhi 20\n",
      "5nFKho 20\n",
      "5uHJei 22\n",
      "6aJGhh 21\n",
      "6aOGho 23\n",
      "6aRJhu 23\n",
      "6armes 22\n",
      "6eHBoh 19\n",
      "6nKMha 19\n",
      "6vEHhi 22\n",
      "6vTGlo 21\n",
      "7nKTra 22\n",
      "8aBMue 21\n",
      "8aRHui 21\n",
      "8lHHsu 22\n",
      "9aBWha 21\n",
      "9iKGhl 20\n",
      "9oJGwa 23\n",
      "9oMWun 22\n",
      "9rTFia 20\n"
     ]
    }
   ],
   "source": [
    "codes = df_if[\"Unique Code\"]\n",
    "\n",
    "\n",
    "test =df_if[['Unique Code','Punkte']]\n",
    "\n",
    "\n",
    "for a, b in test.iterrows():\n",
    "    print(b[\"Unique Code\"], b[\"Punkte\"])\n"
   ]
  },
  {
   "cell_type": "code",
   "execution_count": null,
   "id": "c0aa2c38-2524-47bb-b722-6caf9b23be46",
   "metadata": {},
   "outputs": [],
   "source": []
  }
 ],
 "metadata": {
  "kernelspec": {
   "display_name": "Python 3",
   "language": "python",
   "name": "python3"
  },
  "language_info": {
   "codemirror_mode": {
    "name": "ipython",
    "version": 3
   },
   "file_extension": ".py",
   "mimetype": "text/x-python",
   "name": "python",
   "nbconvert_exporter": "python",
   "pygments_lexer": "ipython3",
   "version": "3.8.8"
  }
 },
 "nbformat": 4,
 "nbformat_minor": 5
}
